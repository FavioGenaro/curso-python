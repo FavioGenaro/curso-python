{
  "cells": [
    {
      "cell_type": "markdown",
      "metadata": {
        "id": "ukeX6tp_JoXo"
      },
      "source": [
        "# Errores y excepciones"
      ]
    },
    {
      "cell_type": "markdown",
      "metadata": {
        "id": "sKlg1lPdJsCO"
      },
      "source": [
        "A lo largo de este tema vamos a aprender sobre los diferentes tipos de errores y excepciones que existen en `Python`. Tanto los errores como las excepciones saltan cuando el intérprete de `Python` encuentra algún error.\n",
        "\n",
        "Es completamente normal cometer ciertos errores mientras se escribe un programa. Estos fallos conducen a errores cuando tratamos de ejecutar dicho programa. La ejecución termina al instante de encontrar alguno de esos fallos, que pueden ser de dos tipos:\n",
        "\n",
        "1. Error de sintaxis\n",
        "2. Excepción (error de lógica)"
      ]
    },
    {
      "cell_type": "markdown",
      "metadata": {
        "id": "a90lR8YaKeYS"
      },
      "source": [
        "## Errores de sintaxis\n",
        "\n",
        "**Error de sintaxis.** Ocurre cuando no se sigue la sintaxis correcta del lenguaje.\n",
        "\n",
        "Un error de sintaxis ocurre cuando nos dejamos un paréntesis sin cerrar, los dos puntos tras la condición de un operador de decisión o iteración..."
      ]
    },
    {
      "cell_type": "code",
      "execution_count": null,
      "metadata": {
        "colab": {
          "base_uri": "https://localhost:8080/",
          "height": 131
        },
        "id": "b1P7O_6cI31b",
        "outputId": "427925db-ec8f-4ec9-fed7-d4ea390c9582"
      },
      "outputs": [
        {
          "ename": "SyntaxError",
          "evalue": "ignored",
          "output_type": "error",
          "traceback": [
            "\u001b[0;36m  File \u001b[0;32m\"<ipython-input-1-539906e83b82>\"\u001b[0;36m, line \u001b[0;32m2\u001b[0m\n\u001b[0;31m    if (a > 3 :\u001b[0m\n\u001b[0m              ^\u001b[0m\n\u001b[0;31mSyntaxError\u001b[0m\u001b[0;31m:\u001b[0m invalid syntax\n"
          ]
        }
      ],
      "source": [
        "a = 2\n",
        "if (a > 3 :\n",
        "    print(a)"
      ]
    },
    {
      "cell_type": "markdown",
      "metadata": {
        "id": "1N5GRmOXLMpw"
      },
      "source": [
        "Como podemos observar, ha saltado un error de sintaxis, `SintaxError`, debido a que nos hemos olvidado del paréntesis de cierre. Además, el propio error nos indica a qué es debido y dónde tenemos que modificar el código para corregir el fallo."
      ]
    },
    {
      "cell_type": "markdown",
      "metadata": {
        "id": "AS6Vd1RTLiKp"
      },
      "source": [
        "## Excepciones\n",
        "\n",
        "**Excepción.** Una vez superado el test de sintaxis, si la ejecución del programa es interrumpida, entonces estamos ante una excepción o error de lógica.\n",
        "\n",
        "Una excepción puede deberse a intentar llamar a una variable que no ha sido declarada (`NameError`), intentar abrir un archivo que no se encuentra en la dirección indicada (`FileNotFoundError`), intentar dividir un número entre cero (`ZeroDivisionError`)... Siempre que se da alguna de estas situaciones, `Python` crea un objeto excepción. Si no es manejado correctamente, imprime un rastreo del error junto a algunos detalles sobre qué ha causado dicho error."
      ]
    },
    {
      "cell_type": "code",
      "execution_count": null,
      "metadata": {
        "colab": {
          "base_uri": "https://localhost:8080/",
          "height": 201
        },
        "id": "40_Es241LJSF",
        "outputId": "5d19f355-70a1-4e98-accc-0dc6fb47c25e"
      },
      "outputs": [
        {
          "ename": "NameError",
          "evalue": "ignored",
          "output_type": "error",
          "traceback": [
            "\u001b[0;31m---------------------------------------------------------------------------\u001b[0m",
            "\u001b[0;31mNameError\u001b[0m                                 Traceback (most recent call last)",
            "\u001b[0;32m<ipython-input-2-85a72f55ae65>\u001b[0m in \u001b[0;36m<module>\u001b[0;34m()\u001b[0m\n\u001b[1;32m      1\u001b[0m \u001b[0ma\u001b[0m \u001b[0;34m=\u001b[0m \u001b[0;36m2\u001b[0m\u001b[0;34m\u001b[0m\u001b[0;34m\u001b[0m\u001b[0m\n\u001b[0;32m----> 2\u001b[0;31m \u001b[0;32mif\u001b[0m \u001b[0;34m(\u001b[0m\u001b[0mb\u001b[0m \u001b[0;34m>\u001b[0m \u001b[0;36m3\u001b[0m\u001b[0;34m)\u001b[0m \u001b[0;34m:\u001b[0m\u001b[0;34m\u001b[0m\u001b[0;34m\u001b[0m\u001b[0m\n\u001b[0m\u001b[1;32m      3\u001b[0m     \u001b[0mprint\u001b[0m\u001b[0;34m(\u001b[0m\u001b[0mb\u001b[0m\u001b[0;34m)\u001b[0m\u001b[0;34m\u001b[0m\u001b[0;34m\u001b[0m\u001b[0m\n",
            "\u001b[0;31mNameError\u001b[0m: name 'b' is not defined"
          ]
        }
      ],
      "source": [
        "a = 2\n",
        "if (b > 3) :\n",
        "    print(b)"
      ]
    },
    {
      "cell_type": "markdown",
      "metadata": {
        "id": "B88PCh4-M5wr"
      },
      "source": [
        "Como podemos observar, ha saltado una excepción, `NameError`, debido a que nos hemos llamado a una variable que no existe. Además, el propio error nos indica a qué es debido y dónde tenemos que modificar el código para corregir el fallo."
      ]
    },
    {
      "cell_type": "markdown",
      "metadata": {
        "id": "n4t4g7_rNHYh"
      },
      "source": [
        "### Excepciones de `Python`\n",
        "\n",
        "Existen múltiples excepciones en `Python` que se nos muestran cuando se dan los errores correspondientes. Podemos mostrar por pantalla todas las excepciones de `Python` usando la función `locals()` tal y como se muestra a continuación"
      ]
    },
    {
      "cell_type": "code",
      "execution_count": null,
      "metadata": {
        "colab": {
          "base_uri": "https://localhost:8080/"
        },
        "id": "C8a5IDhjM3GR",
        "outputId": "413b0457-abf1-4188-adce-f54ce5af2b65"
      },
      "outputs": [
        {
          "name": "stdout",
          "output_type": "stream",
          "text": [
            "ArithmeticError\n",
            "AssertionError\n",
            "AttributeError\n",
            "BaseException\n",
            "BlockingIOError\n",
            "BrokenPipeError\n",
            "BufferError\n",
            "BytesWarning\n",
            "ChildProcessError\n",
            "ConnectionAbortedError\n",
            "ConnectionError\n",
            "ConnectionRefusedError\n",
            "ConnectionResetError\n",
            "DeprecationWarning\n",
            "EOFError\n",
            "Ellipsis\n",
            "EnvironmentError\n",
            "Exception\n",
            "False\n",
            "FileExistsError\n",
            "FileNotFoundError\n",
            "FloatingPointError\n",
            "FutureWarning\n",
            "GeneratorExit\n",
            "IOError\n",
            "ImportError\n",
            "ImportWarning\n",
            "IndentationError\n",
            "IndexError\n",
            "InterruptedError\n",
            "IsADirectoryError\n",
            "KeyError\n",
            "KeyboardInterrupt\n",
            "LookupError\n",
            "MemoryError\n",
            "ModuleNotFoundError\n",
            "NameError\n",
            "None\n",
            "NotADirectoryError\n",
            "NotImplemented\n",
            "NotImplementedError\n",
            "OSError\n",
            "OverflowError\n",
            "PendingDeprecationWarning\n",
            "PermissionError\n",
            "ProcessLookupError\n",
            "RecursionError\n",
            "ReferenceError\n",
            "ResourceWarning\n",
            "RuntimeError\n",
            "RuntimeWarning\n",
            "StopAsyncIteration\n",
            "StopIteration\n",
            "SyntaxError\n",
            "SyntaxWarning\n",
            "SystemError\n",
            "SystemExit\n",
            "TabError\n",
            "TimeoutError\n",
            "True\n",
            "TypeError\n",
            "UnboundLocalError\n",
            "UnicodeDecodeError\n",
            "UnicodeEncodeError\n",
            "UnicodeError\n",
            "UnicodeTranslateError\n",
            "UnicodeWarning\n",
            "UserWarning\n",
            "ValueError\n",
            "Warning\n",
            "ZeroDivisionError\n",
            "__IPYTHON__\n",
            "__build_class__\n",
            "__debug__\n",
            "__doc__\n",
            "__import__\n",
            "__loader__\n",
            "__name__\n",
            "__package__\n",
            "__spec__\n",
            "abs\n",
            "all\n",
            "any\n",
            "ascii\n",
            "bin\n",
            "bool\n",
            "bytearray\n",
            "bytes\n",
            "callable\n",
            "chr\n",
            "classmethod\n",
            "compile\n",
            "complex\n",
            "copyright\n",
            "credits\n",
            "delattr\n",
            "dict\n",
            "dir\n",
            "display\n",
            "divmod\n",
            "dreload\n",
            "enumerate\n",
            "eval\n",
            "exec\n",
            "filter\n",
            "float\n",
            "format\n",
            "frozenset\n",
            "get_ipython\n",
            "getattr\n",
            "globals\n",
            "hasattr\n",
            "hash\n",
            "help\n",
            "hex\n",
            "id\n",
            "input\n",
            "int\n",
            "isinstance\n",
            "issubclass\n",
            "iter\n",
            "len\n",
            "license\n",
            "list\n",
            "locals\n",
            "map\n",
            "max\n",
            "memoryview\n",
            "min\n",
            "next\n",
            "object\n",
            "oct\n",
            "open\n",
            "ord\n",
            "pow\n",
            "print\n",
            "property\n",
            "range\n",
            "repr\n",
            "reversed\n",
            "round\n",
            "set\n",
            "setattr\n",
            "slice\n",
            "sorted\n",
            "staticmethod\n",
            "str\n",
            "sum\n",
            "super\n",
            "tuple\n",
            "type\n",
            "vars\n",
            "zip\n"
          ]
        }
      ],
      "source": [
        "# obtenemos todos los nombres en el espacio de nombres incorporado\n",
        "for i in dir(locals()['__builtins__']):\n",
        "  print(i)"
      ]
    },
    {
      "cell_type": "markdown",
      "metadata": {
        "id": "68tXszg4NwXL"
      },
      "source": [
        "`locals[\"__builtins__\"]` nos devuelve el módulo con las excepciones, funciones y atributos de `Python`. La función `dir()` nos permite listar todos esos elementos como strings.\n",
        "\n",
        "Algunas de las excepciones de `Python` más comunes al programar son:\n",
        "\n",
        "| Excepción | Causa |\n",
        "| :---: | :--- |\n",
        "| `ArithmeticError` | Cuando falla una operación numérica |\n",
        "| `AssertionError` | Cuando falla una declaración `assert` |\n",
        "| `AtributeError` | Cuando falla una asignación de atributo o referencia |\n",
        "| `EOFError` | Cuando la función `input()` llega a la condición fin de archivo (end-of-file). Cuando se acaban la lineas de un fichero que estamos leyendo. |\n",
        "| `FloatingPointError` | Cuando falla una operación en coma flotante |\n",
        "| `ImportError` | Cuando un módulo importando no es encontrado |\n",
        "| `IndentationError` | Cuando la indentación no es correcta |\n",
        "| `IndexError` | Cuando el índice de una secuencia se sale del rango |\n",
        "| `KeyError` | Cuando una clave de un diccionario no es encontrada |\n",
        "| `KeyboardInterrupt` | Cuando el usuario pulsa la tecla de interrupción |\n",
        "| `LookupError` | Cuando el error no puede ser encontrado |\n",
        "| `MemoryError` | Cuando una operación se queda sin memoria |\n",
        "| `NameError` | Cuando se llama a una variable que no se encuentra a nivel global ni local |\n",
        "| `NotImplementedError` | Cuando un método abstracto requiere de una clase heredada para sobreescribir el método |\n",
        "| `OverflowError` | Cuando el resultado de una operación aritmética es demasiado grande para ser representado |\n",
        "| `RuntimeError` | Cuando un error no entra dentro de ninguna categoría |\n",
        "| `TabError` | Cuando la indentación consiste de tabulaciones y espacios en blanco inconsistentes |\n",
        "| `TypeError` | Cuando a una función u operación se le suministra un objeto de tipo incorrecto |\n",
        "| `ValueError` | Cuando una función obtiene un argumento del tipo correcto pero de valor incorrecto |\n",
        "| `ZeroDivisionError` | Cuando el divisor de una división es 0 |"
      ]
    },
    {
      "cell_type": "markdown",
      "metadata": {
        "id": "r3Z3jQpARUTD"
      },
      "source": [
        "### Manejo de excepciones\n",
        "\n",
        "Como programadores, necesitamos ser lo más específicos posible. Esto implica ser conscientes de los errores que podrían ocurrir. Por suerte, `Python` permite a los programadores tratar con errores de forma eficiente.\n",
        "\n",
        "Podemos manejar excepciones usando 5 sentencias:\n",
        "\n",
        "1. `try / except`\n",
        "2. `try / finally`\n",
        "3. `assert`\n",
        "4. `raise`\n",
        "5. `with / as`\n"
      ]
    },
    {
      "cell_type": "markdown",
      "metadata": {
        "id": "6wKPuigWTrns"
      },
      "source": [
        "#### 1. `try / except`\n",
        "\n",
        "* El bloque `try` permite comprobar si hay errores de código.\n",
        "* El bloque `except` permite manejar el error.\n",
        "\n",
        "En el siguiente chunk, en caso de que ocurra el error, imprimimos un mensaje por pantalla:"
      ]
    },
    {
      "cell_type": "code",
      "execution_count": null,
      "metadata": {
        "colab": {
          "base_uri": "https://localhost:8080/"
        },
        "id": "nF0S2g29NfIN",
        "outputId": "67367795-5946-4148-c472-b99a1a3a9580"
      },
      "outputs": [
        {
          "name": "stdout",
          "output_type": "stream",
          "text": [
            "¡Has querido dividir entre 0!\n"
          ]
        }
      ],
      "source": [
        "a, b = 5, 0\n",
        "\n",
        "try:\n",
        "  print(a / b)\n",
        "except ZeroDivisionError:\n",
        "  print(\"¡Has querido dividir entre 0!\")"
      ]
    },
    {
      "cell_type": "markdown",
      "metadata": {
        "id": "hnlfw_CuaRHX"
      },
      "source": [
        "En el siguiente chunk, en caso de que ocurra el error, imprimimos el mensaje de la excepción correspondiente por pantalla:"
      ]
    },
    {
      "cell_type": "code",
      "execution_count": null,
      "metadata": {
        "colab": {
          "base_uri": "https://localhost:8080/"
        },
        "id": "Ndx1275gUAOy",
        "outputId": "f1a7f908-9be7-4d22-92c3-f82c78ac6662"
      },
      "outputs": [
        {
          "name": "stdout",
          "output_type": "stream",
          "text": [
            "division by zero\n"
          ]
        }
      ],
      "source": [
        "a, b = 5, 0\n",
        "\n",
        "try:\n",
        "  print(a / b)\n",
        "except ZeroDivisionError as message: # message es el objeto de la excepción que contiene información sobre el error\n",
        "  print(message)"
      ]
    },
    {
      "cell_type": "markdown",
      "metadata": {
        "id": "OXu9RFwQah22"
      },
      "source": [
        "Sin `try /except`, hubiéramos obtenido"
      ]
    },
    {
      "cell_type": "code",
      "execution_count": 4,
      "metadata": {
        "colab": {
          "base_uri": "https://localhost:8080/",
          "height": 184
        },
        "id": "4d8QwNHKabab",
        "outputId": "be3a95d2-f733-4e56-f043-8d0a988671de"
      },
      "outputs": [
        {
          "ename": "ZeroDivisionError",
          "evalue": "division by zero",
          "output_type": "error",
          "traceback": [
            "\u001b[31m---------------------------------------------------------------------------\u001b[39m",
            "\u001b[31mZeroDivisionError\u001b[39m                         Traceback (most recent call last)",
            "\u001b[36mCell\u001b[39m\u001b[36m \u001b[39m\u001b[32mIn[4]\u001b[39m\u001b[32m, line 2\u001b[39m\n\u001b[32m      1\u001b[39m a, b = \u001b[32m5\u001b[39m, \u001b[32m0\u001b[39m\n\u001b[32m----> \u001b[39m\u001b[32m2\u001b[39m \u001b[38;5;28mprint\u001b[39m(\u001b[43ma\u001b[49m\u001b[43m \u001b[49m\u001b[43m/\u001b[49m\u001b[43m \u001b[49m\u001b[43mb\u001b[49m)\n",
            "\u001b[31mZeroDivisionError\u001b[39m: division by zero"
          ]
        }
      ],
      "source": [
        "a, b = 5, 0\n",
        "print(a / b)"
      ]
    },
    {
      "cell_type": "markdown",
      "metadata": {
        "id": "CCmyhNBjbIIS"
      },
      "source": [
        "Podríamos poner más de un bloque `except`"
      ]
    },
    {
      "cell_type": "code",
      "execution_count": null,
      "metadata": {
        "colab": {
          "base_uri": "https://localhost:8080/"
        },
        "id": "wVl_1LkAbNZK",
        "outputId": "6c83dd84-0ddc-49f2-9936-5897df4841cd"
      },
      "outputs": [
        {
          "name": "stdout",
          "output_type": "stream",
          "text": [
            "Algo más ha salido mal\n"
          ]
        }
      ],
      "source": [
        "a, b = \"a\", 0\n",
        "\n",
        "try:\n",
        "  print(a / b)\n",
        "except ZeroDivisionError: # captura el error de división por cero\n",
        "  print(\"¡Has querido dividir entre 0!\")\n",
        "except: # captura cualquier otro error que no sea de división por cero\n",
        "  print(\"Algo más ha salido mal\")"
      ]
    },
    {
      "cell_type": "markdown",
      "metadata": {
        "id": "IyyeNwfbbcTd"
      },
      "source": [
        "En el chunk anterior hemos intentado dividir un string entre 0. Por tanto, la execpción ya no se debe a intentar dividir entre 0, sino a otro motivo: que un string no puede ser el dividendo de la división.\n",
        "\n",
        "También podemos combinar `try / except` con `else`:"
      ]
    },
    {
      "cell_type": "code",
      "execution_count": null,
      "metadata": {
        "colab": {
          "base_uri": "https://localhost:8080/"
        },
        "id": "irtyJa16kC8o",
        "outputId": "1c3b4f5c-2fd3-4411-936a-ed5d33de6f2c"
      },
      "outputs": [
        {
          "name": "stdout",
          "output_type": "stream",
          "text": [
            "2.5\n",
            "Nada ha salido mal\n"
          ]
        }
      ],
      "source": [
        "a, b = 5, 2\n",
        "\n",
        "try:\n",
        "  print(a / b)\n",
        "except ZeroDivisionError:\n",
        "  print(\"¡Has querido dividir entre 0!\")\n",
        "else: # se ejecuta si no se ha producido ninguna excepción\n",
        "  print(\"Nada ha salido mal\")"
      ]
    },
    {
      "cell_type": "markdown",
      "metadata": {
        "id": "xHZcoeitkCX8"
      },
      "source": [
        "El bloque `else` se ejecutará siempre y cuando no haya excepciones, junto al bloque `try`, tal cual ocurre en el ejemplo anterior."
      ]
    },
    {
      "cell_type": "markdown",
      "metadata": {
        "id": "8BRyLExNawBK"
      },
      "source": [
        "#### 2. `try / finally`\n",
        "\n",
        "* El bloque `try` permite comprobar si hay errores de código.\n",
        "* El bloque `finally` permite ejecutar el código a pesar del resultado de los bloques `try` y `except`."
      ]
    },
    {
      "cell_type": "code",
      "execution_count": null,
      "metadata": {
        "colab": {
          "base_uri": "https://localhost:8080/"
        },
        "id": "2M-DO6p3aoxH",
        "outputId": "409a53d1-d218-412d-e6c4-becf6852e2be"
      },
      "outputs": [
        {
          "name": "stdout",
          "output_type": "stream",
          "text": [
            "Algo ha salido mal\n",
            "El proceso try / except ha finalizado\n"
          ]
        }
      ],
      "source": [
        "a, b = 5, 0\n",
        "\n",
        "try:\n",
        "  print(a / b)\n",
        "except:\n",
        "  print(\"Algo ha salido mal\")\n",
        "finally: # se ejecuta siempre, haya o no excepción\n",
        "  print(\"El proceso try / except ha finalizado\")"
      ]
    },
    {
      "cell_type": "code",
      "execution_count": null,
      "metadata": {
        "colab": {
          "base_uri": "https://localhost:8080/"
        },
        "id": "61hdKj0jkkHI",
        "outputId": "2334c0f3-771e-4dec-e66b-011062795c51"
      },
      "outputs": [
        {
          "name": "stdout",
          "output_type": "stream",
          "text": [
            "2.5\n",
            "El proceso try / except ha finalizado\n"
          ]
        }
      ],
      "source": [
        "a, b = 5, 2\n",
        "\n",
        "try:\n",
        "  print(a / b)\n",
        "except:\n",
        "  print(\"Algo ha salido mal\")\n",
        "finally:\n",
        "  print(\"El proceso try / except ha finalizado\")"
      ]
    },
    {
      "cell_type": "markdown",
      "metadata": {
        "id": "hvmEEv96kp4F"
      },
      "source": [
        "Sea cual sea el caso, el bloque `finally` siempre se ejecuta.\n",
        "\n",
        "El bloque `finally` puede ser útil para cerrar objetos y limpiar recursos."
      ]
    },
    {
      "cell_type": "markdown",
      "metadata": {
        "id": "qIg2D8D1leqc"
      },
      "source": [
        "#### 3. `assert`\n",
        "\n",
        "La palabra reservada `assert` se utiliza para debuguear el código. Nos permite comprobar si una condición en nuestro código devuelve `True`. De lo contrario, el programa nos devolverá un `AssertionError`\n"
      ]
    },
    {
      "cell_type": "code",
      "execution_count": 5,
      "metadata": {
        "id": "oEOI3QiZoHlC"
      },
      "outputs": [],
      "source": [
        "x = \"Hola\"\n",
        "\n",
        "# Si la condición devuelve True, no ocurre nada\n",
        "assert x == \"Hola\""
      ]
    },
    {
      "cell_type": "code",
      "execution_count": null,
      "metadata": {
        "colab": {
          "base_uri": "https://localhost:8080/",
          "height": 184
        },
        "id": "Pa4XJmrPoUmg",
        "outputId": "14b3328e-7672-48bd-a452-b8ae2689cd9b"
      },
      "outputs": [
        {
          "ename": "AssertionError",
          "evalue": "ignored",
          "output_type": "error",
          "traceback": [
            "\u001b[0;31m---------------------------------------------------------------------------\u001b[0m",
            "\u001b[0;31mAssertionError\u001b[0m                            Traceback (most recent call last)",
            "\u001b[0;32m<ipython-input-19-7c43999c077d>\u001b[0m in \u001b[0;36m<module>\u001b[0;34m()\u001b[0m\n\u001b[1;32m      1\u001b[0m \u001b[0;31m# Si la condición devuelve False, salta un AssertionError\u001b[0m\u001b[0;34m\u001b[0m\u001b[0;34m\u001b[0m\u001b[0;34m\u001b[0m\u001b[0m\n\u001b[0;32m----> 2\u001b[0;31m \u001b[0;32massert\u001b[0m \u001b[0mx\u001b[0m \u001b[0;34m==\u001b[0m \u001b[0;34m\"Adiós\"\u001b[0m\u001b[0;34m\u001b[0m\u001b[0;34m\u001b[0m\u001b[0m\n\u001b[0m",
            "\u001b[0;31mAssertionError\u001b[0m: "
          ]
        }
      ],
      "source": [
        "# Si la condición devuelve False, salta un AssertionError\n",
        "# de esta forma, se detiene la ejecución del programa\n",
        "assert x == \"Adiós\""
      ]
    },
    {
      "cell_type": "markdown",
      "metadata": {
        "id": "M7Lc_TCYoUB-"
      },
      "source": [
        "En el caso de que la condición devuelva `False`, podríamos indicar un mensaje del siguiente modo:"
      ]
    },
    {
      "cell_type": "code",
      "execution_count": null,
      "metadata": {
        "colab": {
          "base_uri": "https://localhost:8080/",
          "height": 184
        },
        "id": "LE3YMIAAoiPp",
        "outputId": "5591e741-c207-4342-8d2b-de456aa2fdb2"
      },
      "outputs": [
        {
          "ename": "AssertionError",
          "evalue": "ignored",
          "output_type": "error",
          "traceback": [
            "\u001b[0;31m---------------------------------------------------------------------------\u001b[0m",
            "\u001b[0;31mAssertionError\u001b[0m                            Traceback (most recent call last)",
            "\u001b[0;32m<ipython-input-20-c080a268a731>\u001b[0m in \u001b[0;36m<module>\u001b[0;34m()\u001b[0m\n\u001b[1;32m      1\u001b[0m \u001b[0;31m# Si la condición devuelve False, salta un AssertionError\u001b[0m\u001b[0;34m\u001b[0m\u001b[0;34m\u001b[0m\u001b[0;34m\u001b[0m\u001b[0m\n\u001b[0;32m----> 2\u001b[0;31m \u001b[0;32massert\u001b[0m \u001b[0mx\u001b[0m \u001b[0;34m==\u001b[0m \u001b[0;34m\"Adiós\"\u001b[0m\u001b[0;34m,\u001b[0m \u001b[0;34m\"x debería de contener 'Hola'\"\u001b[0m\u001b[0;34m\u001b[0m\u001b[0;34m\u001b[0m\u001b[0m\n\u001b[0m",
            "\u001b[0;31mAssertionError\u001b[0m: x debería de contener 'Hola'"
          ]
        }
      ],
      "source": [
        "# Si la condición devuelve False, salta un AssertionError\n",
        "assert x == \"Adiós\", \"x debería de contener 'Hola'\""
      ]
    },
    {
      "cell_type": "code",
      "execution_count": null,
      "metadata": {
        "colab": {
          "base_uri": "https://localhost:8080/"
        },
        "id": "EGrIj57SccDk",
        "outputId": "5a4cbd2a-222e-40c0-e020-5c453fbff2d8"
      },
      "outputs": [
        {
          "data": {
            "text/plain": [
              "2.0149030205422647"
            ]
          },
          "execution_count": 25,
          "metadata": {
            "tags": []
          },
          "output_type": "execute_result"
        }
      ],
      "source": [
        "import math\n",
        "x = 7.5\n",
        "assert x > 0, \"El valor de x debe ser positivo para calcular un logaritmo\"\n",
        "math.log(x)"
      ]
    },
    {
      "cell_type": "markdown",
      "metadata": {
        "id": "clsssFjyliMl"
      },
      "source": [
        "#### 4. `raise`\n",
        "\n",
        "Como programadores, podemos elegir cuando mostrar una excepción dada una condición. Para mostrar excepciones, usamos la palabra reservada `raise`\n"
      ]
    },
    {
      "cell_type": "code",
      "execution_count": null,
      "metadata": {
        "colab": {
          "base_uri": "https://localhost:8080/",
          "height": 201
        },
        "id": "_I5x5jY-mCtV",
        "outputId": "a57b1039-8048-4fee-a5e8-cb4f690e6217"
      },
      "outputs": [
        {
          "ename": "Exception",
          "evalue": "ignored",
          "output_type": "error",
          "traceback": [
            "\u001b[0;31m---------------------------------------------------------------------------\u001b[0m",
            "\u001b[0;31mException\u001b[0m                                 Traceback (most recent call last)",
            "\u001b[0;32m<ipython-input-26-cc0e3501a0d7>\u001b[0m in \u001b[0;36m<module>\u001b[0;34m()\u001b[0m\n\u001b[1;32m      1\u001b[0m \u001b[0mradius\u001b[0m \u001b[0;34m=\u001b[0m \u001b[0;34m-\u001b[0m\u001b[0;36m7\u001b[0m\u001b[0;34m\u001b[0m\u001b[0;34m\u001b[0m\u001b[0m\n\u001b[1;32m      2\u001b[0m \u001b[0;32mif\u001b[0m \u001b[0mradius\u001b[0m \u001b[0;34m<\u001b[0m \u001b[0;36m0\u001b[0m\u001b[0;34m:\u001b[0m\u001b[0;34m\u001b[0m\u001b[0;34m\u001b[0m\u001b[0m\n\u001b[0;32m----> 3\u001b[0;31m   \u001b[0;32mraise\u001b[0m \u001b[0mException\u001b[0m\u001b[0;34m(\u001b[0m\u001b[0;34m\"El radio no puede tomar valores menores a 0\"\u001b[0m\u001b[0;34m)\u001b[0m\u001b[0;34m\u001b[0m\u001b[0;34m\u001b[0m\u001b[0m\n\u001b[0m",
            "\u001b[0;31mException\u001b[0m: El radio no puede tomar valores menores a 0"
          ]
        }
      ],
      "source": [
        "# El semejante de la instrucción raise de Python en JavaScript es la instrucción throw. Ambas son palabras reservadas que permiten generar un error o una excepción de forma manual en el punto deseado\n",
        "radius = -7\n",
        "if radius < 0:\n",
        "  raise Exception(\"El radio no puede tomar valores menores a 0\")"
      ]
    },
    {
      "cell_type": "markdown",
      "metadata": {
        "id": "YvxGWK-HmQDx"
      },
      "source": [
        "En el chunk anterior hemos usado `raise` para mostrar una excepción. No obstante, podemos elegir qué tipo de excepción mostrar y el texto que imprimir al usuario:"
      ]
    },
    {
      "cell_type": "code",
      "execution_count": null,
      "metadata": {
        "colab": {
          "base_uri": "https://localhost:8080/",
          "height": 236
        },
        "id": "5mzBJ3D7mcfy",
        "outputId": "9e6a974e-82b2-4259-f686-ab3b7ad507d5"
      },
      "outputs": [
        {
          "ename": "TypeError",
          "evalue": "ignored",
          "output_type": "error",
          "traceback": [
            "\u001b[0;31m---------------------------------------------------------------------------\u001b[0m",
            "\u001b[0;31mTypeError\u001b[0m                                 Traceback (most recent call last)",
            "\u001b[0;32m<ipython-input-48-98967b628ed7>\u001b[0m in \u001b[0;36m<module>\u001b[0;34m()\u001b[0m\n\u001b[1;32m      2\u001b[0m \u001b[0;34m\u001b[0m\u001b[0m\n\u001b[1;32m      3\u001b[0m \u001b[0;32mif\u001b[0m \u001b[0;32mnot\u001b[0m \u001b[0mtype\u001b[0m\u001b[0;34m(\u001b[0m\u001b[0mradius\u001b[0m\u001b[0;34m)\u001b[0m \u001b[0;32mis\u001b[0m \u001b[0mint\u001b[0m \u001b[0;32mand\u001b[0m \u001b[0;32mnot\u001b[0m \u001b[0mtype\u001b[0m\u001b[0;34m(\u001b[0m\u001b[0mradius\u001b[0m\u001b[0;34m)\u001b[0m \u001b[0;32mis\u001b[0m \u001b[0mfloat\u001b[0m\u001b[0;34m:\u001b[0m\u001b[0;34m\u001b[0m\u001b[0;34m\u001b[0m\u001b[0m\n\u001b[0;32m----> 4\u001b[0;31m   \u001b[0;32mraise\u001b[0m \u001b[0mTypeError\u001b[0m\u001b[0;34m(\u001b[0m\u001b[0;34m\"El radio debe ser de tipo numérico (int o float)\"\u001b[0m\u001b[0;34m)\u001b[0m\u001b[0;34m\u001b[0m\u001b[0;34m\u001b[0m\u001b[0m\n\u001b[0m\u001b[1;32m      5\u001b[0m \u001b[0;32melif\u001b[0m \u001b[0mradius\u001b[0m \u001b[0;34m<\u001b[0m \u001b[0;36m0\u001b[0m\u001b[0;34m:\u001b[0m\u001b[0;34m\u001b[0m\u001b[0;34m\u001b[0m\u001b[0m\n\u001b[1;32m      6\u001b[0m   \u001b[0;32mraise\u001b[0m \u001b[0mException\u001b[0m\u001b[0;34m(\u001b[0m\u001b[0;34m\"El radio no puede tomar valores menores a 0\"\u001b[0m\u001b[0;34m)\u001b[0m\u001b[0;34m\u001b[0m\u001b[0;34m\u001b[0m\u001b[0m\n",
            "\u001b[0;31mTypeError\u001b[0m: El radio debe ser de tipo numérico (int o float)"
          ]
        }
      ],
      "source": [
        "radius = \"-5\"\n",
        "\n",
        "if not type(radius) is int and not type(radius) is float:\n",
        "  # podemos lanzar cualquier tipo de excepción, en este caso lanzamos una TypeError\n",
        "  raise TypeError(\"El radio debe ser de tipo numérico (int o float)\")\n",
        "elif radius < 0:\n",
        "  # Exception es un error generico\n",
        "  raise Exception(\"El radio no puede tomar valores menores a 0\")"
      ]
    },
    {
      "cell_type": "markdown",
      "metadata": {
        "id": "DNDAQ__Aln7C"
      },
      "source": [
        "#### 5. `with / as`\n",
        "\n",
        "La palabra reservada `with` se utiliza para manejar excepciones y conseguir así un código más limpio y legible. Simplifica el manejo de recursos comunes tales como flujos de archivos.\n",
        "\n",
        "En el siguiente chunk  no utilizamos la palabra reservada `with`"
      ]
    },
    {
      "cell_type": "code",
      "execution_count": null,
      "metadata": {
        "id": "c78k4VOYlJSs"
      },
      "outputs": [],
      "source": [
        "file = open(\"path_del_archivo\", \"w\")\n",
        "try:\n",
        "    file.write(\"¡Hola, caracola!\")\n",
        "finally:\n",
        "    file.close()"
      ]
    },
    {
      "cell_type": "markdown",
      "metadata": {
        "id": "TWDtSKxVrV6c"
      },
      "source": [
        "Mientras que en el siguiente sí que utilizamos `with / as` y observamos que el código queda mucho más limpio y legible."
      ]
    },
    {
      "cell_type": "code",
      "execution_count": null,
      "metadata": {
        "id": "nFH7CE-brJWT"
      },
      "outputs": [],
      "source": [
        "# with cierra el archivo automáticamente al finalizar el bloque\n",
        "# en caso de error, también lo cierra y no lanza una excepción\n",
        "with open(\"path_del_archivo\", \"w\") as file:\n",
        "    file.write(\"¡Hola, caracola!\")"
      ]
    },
    {
      "cell_type": "markdown",
      "metadata": {
        "id": "Bj0tsBPBrrWJ"
      },
      "source": [
        "Ambos chunks de código darían el mismo resultado. No obstante, el segundo tiene menos líneas de código, pues entre otras cosas no le hace falta la línea `file.close()`, tal cual vimos en el tema anterior.\n",
        "\n",
        "La palabra reservada `with` se asegura la adquisición y liberación adecuadas de recursos."
      ]
    }
  ],
  "metadata": {
    "colab": {
      "collapsed_sections": [
        "6wKPuigWTrns",
        "8BRyLExNawBK",
        "qIg2D8D1leqc",
        "clsssFjyliMl",
        "DNDAQ__Aln7C"
      ],
      "provenance": []
    },
    "kernelspec": {
      "display_name": "Python 3",
      "name": "python3"
    },
    "language_info": {
      "codemirror_mode": {
        "name": "ipython",
        "version": 3
      },
      "file_extension": ".py",
      "mimetype": "text/x-python",
      "name": "python",
      "nbconvert_exporter": "python",
      "pygments_lexer": "ipython3",
      "version": "3.13.3"
    }
  },
  "nbformat": 4,
  "nbformat_minor": 0
}
