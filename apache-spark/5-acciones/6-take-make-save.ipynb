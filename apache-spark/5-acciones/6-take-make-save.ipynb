{
 "cells": [
  {
   "cell_type": "code",
   "execution_count": null,
   "id": "9244aa80",
   "metadata": {},
   "outputs": [],
   "source": [
    "# Acciones: funciones take, max y saveAsTextFile\n",
    "\n",
    "import findspark\n",
    "findspark.init()\n",
    "from pyspark.sql import SparkSession\n",
    "\n",
    "import os\n",
    "import sys\n",
    "\n",
    "os.environ['PYSPARK_PYTHON'] = sys.executable\n",
    "os.environ['PYSPARK_DRIVER_PYTHON'] = sys.executable\n",
    "\n",
    "spark = SparkSession.builder.getOrCreate()\n",
    "sc = spark.sparkContext"
   ]
  },
  {
   "cell_type": "code",
   "execution_count": null,
   "id": "d9e3f4bb",
   "metadata": {},
   "outputs": [
    {
     "data": {
      "text/plain": [
       "['La', 'programación']"
      ]
     },
     "execution_count": 2,
     "metadata": {},
     "output_type": "execute_result"
    }
   ],
   "source": [
    "# take\n",
    "\n",
    "rdd = sc.parallelize('La programación es bella'.split(' '))\n",
    "\n",
    "rdd.take(2) # toma los n primeros elementos, en este caso los dos primeros"
   ]
  },
  {
   "cell_type": "code",
   "execution_count": 3,
   "id": "b231cb04",
   "metadata": {},
   "outputs": [
    {
     "data": {
      "text/plain": [
       "['La', 'programación', 'es', 'bella']"
      ]
     },
     "execution_count": 3,
     "metadata": {},
     "output_type": "execute_result"
    }
   ],
   "source": [
    "rdd.take(4)"
   ]
  },
  {
   "cell_type": "code",
   "execution_count": 4,
   "id": "764878ba",
   "metadata": {},
   "outputs": [
    {
     "data": {
      "text/plain": [
       "0.9"
      ]
     },
     "execution_count": 4,
     "metadata": {},
     "output_type": "execute_result"
    }
   ],
   "source": [
    "# max\n",
    "\n",
    "rdd1 = sc.parallelize([item/(item + 1) for item in range(10)])\n",
    "\n",
    "rdd1.max() # para las listas de números toma el valor mayor"
   ]
  },
  {
   "cell_type": "code",
   "execution_count": 5,
   "id": "79884da1",
   "metadata": {},
   "outputs": [
    {
     "data": {
      "text/plain": [
       "[0.0,\n",
       " 0.5,\n",
       " 0.6666666666666666,\n",
       " 0.75,\n",
       " 0.8,\n",
       " 0.8333333333333334,\n",
       " 0.8571428571428571,\n",
       " 0.875,\n",
       " 0.8888888888888888,\n",
       " 0.9]"
      ]
     },
     "execution_count": 5,
     "metadata": {},
     "output_type": "execute_result"
    }
   ],
   "source": [
    "rdd1.collect()"
   ]
  },
  {
   "cell_type": "code",
   "execution_count": 6,
   "id": "b3fcdc76",
   "metadata": {},
   "outputs": [
    {
     "data": {
      "text/plain": [
       "['La', 'programación', 'es', 'bella']"
      ]
     },
     "execution_count": 6,
     "metadata": {},
     "output_type": "execute_result"
    }
   ],
   "source": [
    "# saveAsTextFile\n",
    "\n",
    "rdd.collect()"
   ]
  },
  {
   "cell_type": "code",
   "execution_count": null,
   "id": "f643bab3",
   "metadata": {},
   "outputs": [],
   "source": [
    "# Guarda todos los valores de las particiones en archivos independientes, son muchos archivo (20 particiones por defecto)\n",
    "# recibe el path de la carpeta, no el nombre del archio\n",
    "rdd.saveAsTextFile('./rdd') # guarda los valores del rdd en un archivo de texto"
   ]
  },
  {
   "cell_type": "code",
   "execution_count": 8,
   "id": "fd68ab8b",
   "metadata": {},
   "outputs": [],
   "source": [
    "# juntamos todo en una sola particion y guarda en la carpeta rdd1\n",
    "rdd.coalesce(1).saveAsTextFile('./rdd1')"
   ]
  }
 ],
 "metadata": {
  "kernelspec": {
   "display_name": "Python 3",
   "language": "python",
   "name": "python3"
  },
  "language_info": {
   "codemirror_mode": {
    "name": "ipython",
    "version": 3
   },
   "file_extension": ".py",
   "mimetype": "text/x-python",
   "name": "python",
   "nbconvert_exporter": "python",
   "pygments_lexer": "ipython3",
   "version": "3.11.9"
  }
 },
 "nbformat": 4,
 "nbformat_minor": 5
}
