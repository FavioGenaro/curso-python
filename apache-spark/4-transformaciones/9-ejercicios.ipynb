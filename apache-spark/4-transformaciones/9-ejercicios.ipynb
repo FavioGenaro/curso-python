{
 "cells": [
  {
   "cell_type": "markdown",
   "id": "a0d4415b",
   "metadata": {},
   "source": [
    "<div class=\"article-asset-container\">\n",
    "<ol>\n",
    "<li><p>Cree un RDD llamado lenguajes que contenga los siguientes lenguajes de programación: Python, R, C, Scala, Rugby y SQL.</p><p></p><ol><li><p>Obtenga un nuevo RDD a partir del RDD lenguajes donde todos los lenguajes de programación estén en mayúsculas.</p><p></p></li><li><p>Obtenga un nuevo RDD a partir del RDD lenguajes donde todos los lenguajes de programación estén en minúsculas.</p><p></p></li><li><p>Cree un nuevo RDD que solo contenga aquellos lenguajes de programación que comiencen con la letra R.</p><p></p></li></ol></li><li><p>Cree un RDD llamado pares que contenga los números pares existentes en el intervalo [20;30].</p><p></p><ol><li><p>Cree el RDD llamado sqrt, este debe contener la raíz cuadrada de los elementos que componen el RDD pares.</p><p></p></li><li><p>Obtenga una lista compuesta por los números pares en el intervalo [20;30] y sus respectivas raíces cuadradas. Un ejemplo del resultado deseado para el intervalo [50;60] sería la lista [50, 7.0710678118654755, 52, 7.211102550927978, 54, 7.3484692283495345, 56, 7.483314773547883, 58, 7.615773105863909, 60, 7.745966692414834].</p><p></p></li><li><p>Eleve el número de particiones del RDD sqrt a 20.</p><p></p></li><li><p>Si tuviera que disminuir el número de particiones luego de haberlo establecido en 20, ¿qué función utilizaría para hacer más eficiente su código?</p><p></p></li></ol></li><li><p>Cree un RDD del tipo clave valor a partir de los datos adjuntos como recurso a esta lección. Tenga en cuenta que deberá procesar el RDD leído para obtener el resultado solicitado. Supongamos que el RDD resultante de tipo clave valor refleja las transacciones realizadas por número de cuentas. Obtenga el monto total por cada cuenta.</p></li></ol><p></p><p>Tip: Cree su propia función para procesar el RDD leído.</p><p></p><p></p></div>"
   ]
  },
  {
   "cell_type": "code",
   "execution_count": 2,
   "id": "4569ae88",
   "metadata": {},
   "outputs": [],
   "source": [
    "# Transformaciones: función reduceByKey\n",
    "\n",
    "import findspark\n",
    "findspark.init()\n",
    "from pyspark.sql import SparkSession\n",
    "\n",
    "import os\n",
    "import sys\n",
    "\n",
    "os.environ['PYSPARK_PYTHON'] = sys.executable\n",
    "os.environ['PYSPARK_DRIVER_PYTHON'] = sys.executable\n",
    "\n",
    "spark = SparkSession.builder.getOrCreate()\n",
    "sc = spark.sparkContext"
   ]
  },
  {
   "cell_type": "code",
   "execution_count": 5,
   "id": "24adb84a",
   "metadata": {},
   "outputs": [
    {
     "data": {
      "text/plain": [
       "['Python', 'R', 'C', 'Scala', 'Rugby', 'SQL']"
      ]
     },
     "execution_count": 5,
     "metadata": {},
     "output_type": "execute_result"
    }
   ],
   "source": [
    "lenguajes = sc.parallelize(['Python', 'R', 'C', 'Scala', 'Rugby', 'SQL'])\n",
    "lenguajes.collect()"
   ]
  },
  {
   "cell_type": "code",
   "execution_count": 7,
   "id": "498965a5",
   "metadata": {},
   "outputs": [
    {
     "data": {
      "text/plain": [
       "['PYTHON', 'R', 'C', 'SCALA', 'RUGBY', 'SQL']"
      ]
     },
     "execution_count": 7,
     "metadata": {},
     "output_type": "execute_result"
    }
   ],
   "source": [
    "rdd_may = lenguajes.map(lambda x: x.upper())\n",
    "rdd_may.collect()"
   ]
  },
  {
   "cell_type": "code",
   "execution_count": 9,
   "id": "c5666597",
   "metadata": {},
   "outputs": [
    {
     "data": {
      "text/plain": [
       "['python', 'r', 'c', 'scala', 'rugby', 'sql']"
      ]
     },
     "execution_count": 9,
     "metadata": {},
     "output_type": "execute_result"
    }
   ],
   "source": [
    "rdd_min = lenguajes.map(lambda x: x.lower())\n",
    "rdd_min.collect()"
   ]
  },
  {
   "cell_type": "code",
   "execution_count": 12,
   "id": "c3429469",
   "metadata": {},
   "outputs": [
    {
     "data": {
      "text/plain": [
       "['R', 'Rugby']"
      ]
     },
     "execution_count": 12,
     "metadata": {},
     "output_type": "execute_result"
    }
   ],
   "source": [
    "rdd_r = lenguajes.filter(lambda x: x.startswith('R'))\n",
    "rdd_r.collect()"
   ]
  },
  {
   "cell_type": "code",
   "execution_count": 13,
   "id": "02bc275d",
   "metadata": {},
   "outputs": [
    {
     "data": {
      "text/plain": [
       "[20, 22, 24, 26, 28, 30]"
      ]
     },
     "execution_count": 13,
     "metadata": {},
     "output_type": "execute_result"
    }
   ],
   "source": [
    "pares = sc.parallelize([20,22,24,26,28,30])\n",
    "pares.collect()"
   ]
  },
  {
   "cell_type": "code",
   "execution_count": 14,
   "id": "3e5b1ea5",
   "metadata": {},
   "outputs": [
    {
     "data": {
      "text/plain": [
       "[4.47213595499958,\n",
       " 4.69041575982343,\n",
       " 4.898979485566356,\n",
       " 5.0990195135927845,\n",
       " 5.291502622129181,\n",
       " 5.477225575051661]"
      ]
     },
     "execution_count": 14,
     "metadata": {},
     "output_type": "execute_result"
    }
   ],
   "source": [
    "import math\n",
    "\n",
    "sqrt = pares.map(lambda x: math.sqrt(x))\n",
    "sqrt.collect()"
   ]
  },
  {
   "cell_type": "code",
   "execution_count": 15,
   "id": "e9b63bf0",
   "metadata": {},
   "outputs": [
    {
     "data": {
      "text/plain": [
       "[20,\n",
       " 4.47213595499958,\n",
       " 22,\n",
       " 4.69041575982343,\n",
       " 24,\n",
       " 4.898979485566356,\n",
       " 26,\n",
       " 5.0990195135927845,\n",
       " 28,\n",
       " 5.291502622129181,\n",
       " 30,\n",
       " 5.477225575051661]"
      ]
     },
     "execution_count": 15,
     "metadata": {},
     "output_type": "execute_result"
    }
   ],
   "source": [
    "lista = pares.flatMap(lambda x: (x, math.sqrt(x)))\n",
    "lista.collect()"
   ]
  },
  {
   "cell_type": "code",
   "execution_count": 16,
   "id": "7c344cef",
   "metadata": {},
   "outputs": [
    {
     "data": {
      "text/plain": [
       "20"
      ]
     },
     "execution_count": 16,
     "metadata": {},
     "output_type": "execute_result"
    }
   ],
   "source": [
    "sqrt_20 = sqrt.repartition(20)\n",
    "sqrt_20.getNumPartitions()"
   ]
  },
  {
   "cell_type": "code",
   "execution_count": 17,
   "id": "ec8f7a88",
   "metadata": {},
   "outputs": [
    {
     "data": {
      "text/plain": [
       "5"
      ]
     },
     "execution_count": 17,
     "metadata": {},
     "output_type": "execute_result"
    }
   ],
   "source": [
    "sqrt_5 = sqrt_20.coalesce(5)\n",
    "sqrt_5.getNumPartitions()"
   ]
  },
  {
   "cell_type": "code",
   "execution_count": null,
   "id": "305e87c9",
   "metadata": {},
   "outputs": [
    {
     "data": {
      "text/plain": [
       "['(1001, 52.3)',\n",
       " '(1005, 20.8)',\n",
       " '(1001, 10.1)',\n",
       " '(1004, 52.7)',\n",
       " '(1005, 20.7)',\n",
       " '(1002, 85.3)',\n",
       " '(1004, 20.9)']"
      ]
     },
     "execution_count": 18,
     "metadata": {},
     "output_type": "execute_result"
    }
   ],
   "source": [
    "rdd = sc.textFile('./transacciones')\n",
    "rdd.collect()\n",
    "# todo es texto, cada valor del rdd"
   ]
  },
  {
   "cell_type": "code",
   "execution_count": 19,
   "id": "b8d55520",
   "metadata": {},
   "outputs": [],
   "source": [
    "def proceso(s):\n",
    "    return (tuple(s.replace('(', '').replace(')', '').split(', ')))"
   ]
  },
  {
   "cell_type": "code",
   "execution_count": 20,
   "id": "b71873d1",
   "metadata": {},
   "outputs": [
    {
     "data": {
      "text/plain": [
       "[('1001', '52.3'),\n",
       " ('1005', '20.8'),\n",
       " ('1001', '10.1'),\n",
       " ('1004', '52.7'),\n",
       " ('1005', '20.7'),\n",
       " ('1002', '85.3'),\n",
       " ('1004', '20.9')]"
      ]
     },
     "execution_count": 20,
     "metadata": {},
     "output_type": "execute_result"
    }
   ],
   "source": [
    "rdd_llave_valor = rdd.map(proceso)\n",
    "rdd_llave_valor.collect()"
   ]
  },
  {
   "cell_type": "code",
   "execution_count": 21,
   "id": "d31eb2a8",
   "metadata": {},
   "outputs": [
    {
     "data": {
      "text/plain": [
       "[('1002', '85.3'), ('1001', 62.4), ('1005', 41.5), ('1004', 73.6)]"
      ]
     },
     "execution_count": 21,
     "metadata": {},
     "output_type": "execute_result"
    }
   ],
   "source": [
    "rdd_reduce = rdd_llave_valor.reduceByKey(lambda x,y: float(x) + float(y))\n",
    "rdd_reduce.collect()"
   ]
  }
 ],
 "metadata": {
  "kernelspec": {
   "display_name": "Python 3",
   "language": "python",
   "name": "python3"
  },
  "language_info": {
   "codemirror_mode": {
    "name": "ipython",
    "version": 3
   },
   "file_extension": ".py",
   "mimetype": "text/x-python",
   "name": "python",
   "nbconvert_exporter": "python",
   "pygments_lexer": "ipython3",
   "version": "3.11.9"
  }
 },
 "nbformat": 4,
 "nbformat_minor": 5
}
