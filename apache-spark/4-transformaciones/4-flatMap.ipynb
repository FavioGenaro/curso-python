{
 "cells": [
  {
   "cell_type": "code",
   "execution_count": null,
   "id": "487124ab",
   "metadata": {},
   "outputs": [
    {
     "data": {
      "text/plain": [
       "[(1, 1), (2, 4), (3, 9), (4, 16), (5, 25)]"
      ]
     },
     "execution_count": 1,
     "metadata": {},
     "output_type": "execute_result"
    }
   ],
   "source": [
    "# Transformaciones: función flatMap\n",
    "import findspark\n",
    "findspark.init()\n",
    "from pyspark.sql import SparkSession\n",
    "\n",
    "import os\n",
    "import sys\n",
    "\n",
    "os.environ['PYSPARK_PYTHON'] = sys.executable\n",
    "os.environ['PYSPARK_DRIVER_PYTHON'] = sys.executable\n",
    "\n",
    "spark = SparkSession.builder.getOrCreate()\n",
    "\n",
    "sc = spark.sparkContext\n",
    "\n",
    "rdd = sc.parallelize([1,2,3,4,5])\n",
    "\n",
    "rdd_cuadrado = rdd.map(lambda x: (x, x ** 2)) # retorna una tupla con el valor de x y el cuadrado de x\n",
    "rdd_cuadrado.collect()\n",
    "# queremos aplanar la lista y que no lo retorne en tuplas sino en valores independientes"
   ]
  },
  {
   "cell_type": "code",
   "execution_count": null,
   "id": "4e5c0cc6",
   "metadata": {},
   "outputs": [
    {
     "data": {
      "text/plain": [
       "[1, 1, 2, 4, 3, 9, 4, 16, 5, 25]"
      ]
     },
     "execution_count": 2,
     "metadata": {},
     "output_type": "execute_result"
    }
   ],
   "source": [
    "# flatMap aplana o hace un flaten de cualquier colección del rdd de entrada\n",
    "rdd_cuadrado_flat = rdd.flatMap(lambda x: (x, x ** 2))\n",
    "\n",
    "# vemos que no retorna un arreglo de tuplas, sino directamente\n",
    "rdd_cuadrado_flat.collect()"
   ]
  },
  {
   "cell_type": "code",
   "execution_count": 3,
   "id": "21d557db",
   "metadata": {},
   "outputs": [
    {
     "data": {
      "text/plain": [
       "['jose', 'JOSE', 'juan', 'JUAN', 'lucia', 'LUCIA']"
      ]
     },
     "execution_count": 3,
     "metadata": {},
     "output_type": "execute_result"
    }
   ],
   "source": [
    "rdd_texto = sc.parallelize(['jose', 'juan', 'lucia'])\n",
    "\n",
    "rdd_mayuscula = rdd_texto.flatMap(lambda x: (x, x.upper()))\n",
    "\n",
    "rdd_mayuscula.collect()"
   ]
  },
  {
   "cell_type": "code",
   "execution_count": null,
   "id": "ae718e22",
   "metadata": {},
   "outputs": [],
   "source": []
  }
 ],
 "metadata": {
  "kernelspec": {
   "display_name": "Python 3",
   "language": "python",
   "name": "python3"
  },
  "language_info": {
   "codemirror_mode": {
    "name": "ipython",
    "version": 3
   },
   "file_extension": ".py",
   "mimetype": "text/x-python",
   "name": "python",
   "nbconvert_exporter": "python",
   "pygments_lexer": "ipython3",
   "version": "3.11.9"
  }
 },
 "nbformat": 4,
 "nbformat_minor": 5
}
