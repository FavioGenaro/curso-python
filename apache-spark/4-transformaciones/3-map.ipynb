{
 "cells": [
  {
   "cell_type": "code",
   "execution_count": 1,
   "id": "0ce776cc",
   "metadata": {},
   "outputs": [
    {
     "data": {
      "text/plain": [
       "[0, 1, 2, 3, 4]"
      ]
     },
     "execution_count": 1,
     "metadata": {},
     "output_type": "execute_result"
    }
   ],
   "source": [
    "import findspark\n",
    "findspark.init()\n",
    "from pyspark.sql import SparkSession\n",
    "\n",
    "import os\n",
    "import sys\n",
    "\n",
    "os.environ['PYSPARK_PYTHON'] = sys.executable\n",
    "os.environ['PYSPARK_DRIVER_PYTHON'] = sys.executable\n",
    "\n",
    "spark = SparkSession.builder.getOrCreate()\n",
    "\n",
    "sc = spark.sparkContext\n",
    "\n",
    "rdd = sc.parallelize([1,2,3,4,5])\n",
    "\n",
    "# ejecutamos la funcion lambda para cada uno de los elementos\n",
    "rdd_resta = rdd.map(lambda x: x - 1)\n",
    "rdd_resta.collect()"
   ]
  },
  {
   "cell_type": "code",
   "execution_count": null,
   "id": "f8622029",
   "metadata": {},
   "outputs": [
    {
     "data": {
      "text/plain": [
       "[False, True, False, True, False]"
      ]
     },
     "execution_count": 2,
     "metadata": {},
     "output_type": "execute_result"
    }
   ],
   "source": [
    "rdd_par = rdd.map(lambda x: x % 2 == 0) # arreglo de booleanos\n",
    "\n",
    "rdd_par.collect()"
   ]
  },
  {
   "cell_type": "code",
   "execution_count": 3,
   "id": "f40ac926",
   "metadata": {},
   "outputs": [
    {
     "data": {
      "text/plain": [
       "['JOSE', 'JUAN', 'LUCIA']"
      ]
     },
     "execution_count": 3,
     "metadata": {},
     "output_type": "execute_result"
    }
   ],
   "source": [
    "rdd_texto = sc.parallelize(['jose', 'juan', 'lucia'])\n",
    "\n",
    "rdd_mayuscula = rdd_texto.map(lambda x: x.upper())\n",
    "\n",
    "rdd_mayuscula.collect()"
   ]
  },
  {
   "cell_type": "code",
   "execution_count": 4,
   "id": "373ddae3",
   "metadata": {},
   "outputs": [
    {
     "data": {
      "text/plain": [
       "['Hola jose', 'Hola juan', 'Hola lucia']"
      ]
     },
     "execution_count": 4,
     "metadata": {},
     "output_type": "execute_result"
    }
   ],
   "source": [
    "rdd_hola = rdd_texto.map(lambda x: 'Hola ' + x)\n",
    "\n",
    "rdd_hola.collect()"
   ]
  }
 ],
 "metadata": {
  "kernelspec": {
   "display_name": "Python 3",
   "language": "python",
   "name": "python3"
  },
  "language_info": {
   "codemirror_mode": {
    "name": "ipython",
    "version": 3
   },
   "file_extension": ".py",
   "mimetype": "text/x-python",
   "name": "python",
   "nbconvert_exporter": "python",
   "pygments_lexer": "ipython3",
   "version": "3.11.9"
  }
 },
 "nbformat": 4,
 "nbformat_minor": 5
}
