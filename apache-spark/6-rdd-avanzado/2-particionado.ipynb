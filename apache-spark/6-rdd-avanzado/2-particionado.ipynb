{
 "cells": [
  {
   "cell_type": "code",
   "execution_count": 1,
   "id": "477d498c",
   "metadata": {},
   "outputs": [],
   "source": [
    "# HashPartitioner\n",
    "\n",
    "import findspark\n",
    "findspark.init()\n",
    "from pyspark.sql import SparkSession\n",
    "\n",
    "import os\n",
    "import sys\n",
    "\n",
    "os.environ['PYSPARK_PYTHON'] = sys.executable\n",
    "os.environ['PYSPARK_DRIVER_PYTHON'] = sys.executable\n",
    "\n",
    "spark = SparkSession.builder.getOrCreate()\n",
    "sc = spark.sparkContext"
   ]
  },
  {
   "cell_type": "code",
   "execution_count": 2,
   "id": "736d51b8",
   "metadata": {},
   "outputs": [
    {
     "data": {
      "text/plain": [
       "8989129382021381358"
      ]
     },
     "execution_count": 2,
     "metadata": {},
     "output_type": "execute_result"
    }
   ],
   "source": [
    "rdd = sc.parallelize(['x', 'y', 'z'])\n",
    "\n",
    "hola = 'Hola'\n",
    "\n",
    "hash(hola) # obtenemos el hash, que viene en python"
   ]
  },
  {
   "cell_type": "code",
   "execution_count": 3,
   "id": "bfca4160",
   "metadata": {},
   "outputs": [],
   "source": [
    "num_particiones = 6"
   ]
  },
  {
   "cell_type": "code",
   "execution_count": null,
   "id": "6e0fc412",
   "metadata": {},
   "outputs": [
    {
     "data": {
      "text/plain": [
       "2"
      ]
     },
     "execution_count": 4,
     "metadata": {},
     "output_type": "execute_result"
    }
   ],
   "source": [
    "# indice = hash(item) % num_particiones\n",
    "\n",
    "# con esto obtenemos el indice del valor x\n",
    "# % retorna el resto de la división\n",
    "hash('x') % num_particiones"
   ]
  },
  {
   "cell_type": "code",
   "execution_count": 5,
   "id": "b278868d",
   "metadata": {},
   "outputs": [
    {
     "data": {
      "text/plain": [
       "3"
      ]
     },
     "execution_count": 5,
     "metadata": {},
     "output_type": "execute_result"
    }
   ],
   "source": [
    "hash('y') % num_particiones"
   ]
  },
  {
   "cell_type": "code",
   "execution_count": 6,
   "id": "b506f0ab",
   "metadata": {},
   "outputs": [
    {
     "data": {
      "text/plain": [
       "5"
      ]
     },
     "execution_count": 6,
     "metadata": {},
     "output_type": "execute_result"
    }
   ],
   "source": [
    "hash('z') % num_particiones"
   ]
  }
 ],
 "metadata": {
  "kernelspec": {
   "display_name": "Python 3",
   "language": "python",
   "name": "python3"
  },
  "language_info": {
   "codemirror_mode": {
    "name": "ipython",
    "version": 3
   },
   "file_extension": ".py",
   "mimetype": "text/x-python",
   "name": "python",
   "nbconvert_exporter": "python",
   "pygments_lexer": "ipython3",
   "version": "3.11.9"
  }
 },
 "nbformat": 4,
 "nbformat_minor": 5
}
