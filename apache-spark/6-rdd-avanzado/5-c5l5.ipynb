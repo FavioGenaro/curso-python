{
 "cells": [
  {
   "cell_type": "code",
   "execution_count": 1,
   "id": "1b869503",
   "metadata": {},
   "outputs": [],
   "source": [
    "# Acumuladores\n",
    "\n",
    "import findspark\n",
    "findspark.init()\n",
    "from pyspark.sql import SparkSession\n",
    "\n",
    "import os\n",
    "import sys\n",
    "\n",
    "os.environ['PYSPARK_PYTHON'] = sys.executable\n",
    "os.environ['PYSPARK_DRIVER_PYTHON'] = sys.executable\n",
    "\n",
    "spark = SparkSession.builder.getOrCreate()\n",
    "sc = spark.sparkContext"
   ]
  },
  {
   "cell_type": "code",
   "execution_count": null,
   "id": "d89d98fa",
   "metadata": {},
   "outputs": [
    {
     "name": "stdout",
     "output_type": "stream",
     "text": [
      "30\n"
     ]
    }
   ],
   "source": [
    "acumulador = sc.accumulator(0) # creamos el contador con valor inicial igual a 0\n",
    "\n",
    "rdd = sc.parallelize([2,4,6,8,10])\n",
    "\n",
    "rdd.foreach(lambda x: acumulador.add(x)) # usamos el acumulador para obtener la suma de todos los elementos\n",
    "\n",
    "print(acumulador.value) # valor acumulado de la suma de los elementos"
   ]
  },
  {
   "cell_type": "code",
   "execution_count": null,
   "id": "94e4b26c",
   "metadata": {},
   "outputs": [
    {
     "name": "stdout",
     "output_type": "stream",
     "text": [
      "9\n"
     ]
    }
   ],
   "source": [
    "rdd1 = sc.parallelize('Mi nombre es Jose Miguel y me siento genial'.split(' '))\n",
    "\n",
    "acumulador1 = sc.accumulator(0)\n",
    "\n",
    "rdd1.foreach(lambda x: acumulador1.add(1)) # con esto obtenemos la cantidad de elementos del rdd (palabras)\n",
    "\n",
    "print(acumulador1.value)"
   ]
  }
 ],
 "metadata": {
  "kernelspec": {
   "display_name": "Python 3",
   "language": "python",
   "name": "python3"
  },
  "language_info": {
   "codemirror_mode": {
    "name": "ipython",
    "version": 3
   },
   "file_extension": ".py",
   "mimetype": "text/x-python",
   "name": "python",
   "nbconvert_exporter": "python",
   "pygments_lexer": "ipython3",
   "version": "3.11.9"
  }
 },
 "nbformat": 4,
 "nbformat_minor": 5
}
