{
 "cells": [
  {
   "cell_type": "markdown",
   "id": "d8d7a361",
   "metadata": {},
   "source": [
    "<div class=\"article-asset-container\"><p>Los datos adjuntos como recurso a esta lección contienen los importes de ventas en un día en un supermercado.</p><p></p><ol><li><p>Cree un RDD importes a partir de los datos adjuntos a esta lección como recurso. Emplee acumuladores para obtener el total de ventas realizadas y el importe total de las ventas.</p><p></p></li><li><p>Si se conoce que a cada venta hay que restarle un importe fijo igual a 10 pesos por temas de impuestos.</p><p></p><ol><li><p>¿Cómo restaría este impuesto de cada venta utilizando una variable broadcast para acelerar el proceso?</p><p></p></li><li><p>Cree un RDD llamado ventas_sin_impuestos a partir de la propuesta del inciso a que contenga las ventas sin impuestos.</p><p></p></li><li><p>Destruya la variable broadcast creada luego de emplearla para crear el RDD del inciso b.</p><p></p></li></ol></li><li><p>Persista el RDD ventas_sin_impuestos en los siguientes niveles de persistencia.</p><p></p><ol><li><p>Memoria.</p><p></p></li><li><p>Disco solamente</p><p></p></li><li><p>Memoria y disco.</p></li></ol></li></ol></div>"
   ]
  },
  {
   "cell_type": "code",
   "execution_count": 1,
   "id": "05df6787",
   "metadata": {},
   "outputs": [],
   "source": [
    "# Acumuladores\n",
    "\n",
    "import findspark\n",
    "findspark.init()\n",
    "from pyspark.sql import SparkSession\n",
    "\n",
    "import os\n",
    "import sys\n",
    "\n",
    "os.environ['PYSPARK_PYTHON'] = sys.executable\n",
    "os.environ['PYSPARK_DRIVER_PYTHON'] = sys.executable\n",
    "\n",
    "spark = SparkSession.builder.getOrCreate()\n",
    "sc = spark.sparkContext"
   ]
  },
  {
   "cell_type": "code",
   "execution_count": 2,
   "id": "b67de720",
   "metadata": {},
   "outputs": [
    {
     "data": {
      "text/plain": [
       "['527', '386', '701', '240', '941']"
      ]
     },
     "execution_count": 2,
     "metadata": {},
     "output_type": "execute_result"
    }
   ],
   "source": [
    "importes = sc.textFile('./rdd.txt')\n",
    "importes.take(5)"
   ]
  },
  {
   "cell_type": "code",
   "execution_count": 3,
   "id": "4d727931",
   "metadata": {},
   "outputs": [],
   "source": [
    "totalVentas = sc.accumulator(0)\n",
    "importeTotal = sc.accumulator(0)"
   ]
  },
  {
   "cell_type": "code",
   "execution_count": 4,
   "id": "ba486726",
   "metadata": {},
   "outputs": [],
   "source": [
    "importes.foreach(lambda x: totalVentas.add(1))\n",
    "importes.foreach(lambda x: importeTotal.add(float(x)))"
   ]
  },
  {
   "cell_type": "code",
   "execution_count": 5,
   "id": "9af3580a",
   "metadata": {},
   "outputs": [
    {
     "data": {
      "text/plain": [
       "10000"
      ]
     },
     "execution_count": 5,
     "metadata": {},
     "output_type": "execute_result"
    }
   ],
   "source": [
    "totalVentas.value"
   ]
  },
  {
   "cell_type": "code",
   "execution_count": 6,
   "id": "18d609da",
   "metadata": {},
   "outputs": [
    {
     "data": {
      "text/plain": [
       "5042335.0"
      ]
     },
     "execution_count": 6,
     "metadata": {},
     "output_type": "execute_result"
    }
   ],
   "source": [
    "importeTotal.value"
   ]
  },
  {
   "cell_type": "code",
   "execution_count": 7,
   "id": "30173895",
   "metadata": {},
   "outputs": [
    {
     "data": {
      "text/plain": [
       "10000"
      ]
     },
     "execution_count": 7,
     "metadata": {},
     "output_type": "execute_result"
    }
   ],
   "source": [
    "importes.count()"
   ]
  },
  {
   "cell_type": "code",
   "execution_count": 8,
   "id": "53ba5399",
   "metadata": {},
   "outputs": [
    {
     "data": {
      "text/plain": [
       "[517.0, 376.0, 691.0, 230.0, 931.0]"
      ]
     },
     "execution_count": 8,
     "metadata": {},
     "output_type": "execute_result"
    }
   ],
   "source": [
    "impuesto = sc.broadcast(10)\n",
    "ventasSinImpuestos = importes.map(lambda x: float(x) - impuesto.value)\n",
    "ventasSinImpuestos.take(5)"
   ]
  },
  {
   "cell_type": "code",
   "execution_count": 9,
   "id": "e1366c29",
   "metadata": {},
   "outputs": [],
   "source": [
    "impuesto.destroy()"
   ]
  },
  {
   "cell_type": "code",
   "execution_count": 10,
   "id": "2afe69e4",
   "metadata": {},
   "outputs": [
    {
     "data": {
      "text/plain": [
       "PythonRDD[7] at RDD at PythonRDD.scala:53"
      ]
     },
     "execution_count": 10,
     "metadata": {},
     "output_type": "execute_result"
    }
   ],
   "source": [
    "from pyspark.storagelevel import StorageLevel\n",
    "ventasSinImpuestos.cache()"
   ]
  },
  {
   "cell_type": "code",
   "execution_count": 11,
   "id": "d8b3bee2",
   "metadata": {},
   "outputs": [
    {
     "data": {
      "text/plain": [
       "PythonRDD[7] at RDD at PythonRDD.scala:53"
      ]
     },
     "execution_count": 11,
     "metadata": {},
     "output_type": "execute_result"
    }
   ],
   "source": [
    "ventasSinImpuestos.unpersist()\n",
    "ventasSinImpuestos.persist(StorageLevel.DISK_ONLY)"
   ]
  },
  {
   "cell_type": "code",
   "execution_count": 12,
   "id": "d47b450f",
   "metadata": {},
   "outputs": [
    {
     "data": {
      "text/plain": [
       "PythonRDD[7] at RDD at PythonRDD.scala:53"
      ]
     },
     "execution_count": 12,
     "metadata": {},
     "output_type": "execute_result"
    }
   ],
   "source": [
    "ventasSinImpuestos.unpersist()\n",
    "ventasSinImpuestos.persist(StorageLevel.MEMORY_AND_DISK)"
   ]
  }
 ],
 "metadata": {
  "kernelspec": {
   "display_name": "Python 3",
   "language": "python",
   "name": "python3"
  },
  "language_info": {
   "codemirror_mode": {
    "name": "ipython",
    "version": 3
   },
   "file_extension": ".py",
   "mimetype": "text/x-python",
   "name": "python",
   "nbconvert_exporter": "python",
   "pygments_lexer": "ipython3",
   "version": "3.11.9"
  }
 },
 "nbformat": 4,
 "nbformat_minor": 5
}
