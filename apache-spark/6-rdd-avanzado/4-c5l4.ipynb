{
 "cells": [
  {
   "cell_type": "code",
   "execution_count": 1,
   "id": "b6cfa2b0",
   "metadata": {},
   "outputs": [],
   "source": [
    "# Broadcast variables\n",
    "\n",
    "import findspark\n",
    "findspark.init()\n",
    "from pyspark.sql import SparkSession\n",
    "\n",
    "import os\n",
    "import sys\n",
    "\n",
    "os.environ['PYSPARK_PYTHON'] = sys.executable\n",
    "os.environ['PYSPARK_DRIVER_PYTHON'] = sys.executable\n",
    "\n",
    "spark = SparkSession.builder.getOrCreate()\n",
    "sc = spark.sparkContext"
   ]
  },
  {
   "cell_type": "code",
   "execution_count": 2,
   "id": "2517f412",
   "metadata": {},
   "outputs": [
    {
     "data": {
      "text/plain": [
       "[1, 2, 3, 4, 5, 6, 7, 8, 9, 10]"
      ]
     },
     "execution_count": 2,
     "metadata": {},
     "output_type": "execute_result"
    }
   ],
   "source": [
    "rdd = sc.parallelize([item for item in range(10)])\n",
    "uno = 1\n",
    "\n",
    "br_uno = sc.broadcast(uno) # creamos la variable broadcast, con esto se pone a disposición esta variable.\n",
    "\n",
    "rdd1 = rdd.map(lambda x: x + br_uno.value) # a cada elemento le sumamos la variable broadcast\n",
    "\n",
    "rdd1.collect()"
   ]
  },
  {
   "cell_type": "code",
   "execution_count": null,
   "id": "c3b03604",
   "metadata": {},
   "outputs": [
    {
     "data": {
      "text/plain": [
       "[1, 2, 3, 4, 5, 6, 7, 8, 9, 10]"
      ]
     },
     "execution_count": 3,
     "metadata": {},
     "output_type": "execute_result"
    }
   ],
   "source": [
    "br_uno.unpersist() # elimina los datos de la variable broadcast de los ejecutores. Liberá pero no la elimina del caché\n",
    "\n",
    "rdd1  = rdd.map(lambda x: x + br_uno.value) # la variable broadcast sigue existiendo, es nuevamente tomada por los ejecutores\n",
    "\n",
    "rdd1.collect()"
   ]
  },
  {
   "cell_type": "code",
   "execution_count": null,
   "id": "226d313c",
   "metadata": {},
   "outputs": [],
   "source": [
    "br_uno.destroy() # elimina la variable broadcast\n",
    "\n",
    "rdd1  = rdd.map(lambda x: x + br_uno.value) # error, porque la variable broadcast no existe\n",
    "\n",
    "rdd1.take(5) # toma las 5 primeras"
   ]
  }
 ],
 "metadata": {
  "kernelspec": {
   "display_name": "Python 3",
   "language": "python",
   "name": "python3"
  },
  "language_info": {
   "codemirror_mode": {
    "name": "ipython",
    "version": 3
   },
   "file_extension": ".py",
   "mimetype": "text/x-python",
   "name": "python",
   "nbconvert_exporter": "python",
   "pygments_lexer": "ipython3",
   "version": "3.11.9"
  }
 },
 "nbformat": 4,
 "nbformat_minor": 5
}
