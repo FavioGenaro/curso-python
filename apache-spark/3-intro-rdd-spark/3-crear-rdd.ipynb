{
 "cells": [
  {
   "cell_type": "code",
   "execution_count": 2,
   "id": "b38d1a6d",
   "metadata": {},
   "outputs": [],
   "source": [
    "# Diferentes formas de crear un RDD\n",
    "\n",
    "# import findspark\n",
    "\n",
    "# findspark.init()\n",
    "\n",
    "# la sesión crea internamente un sparkContext\n",
    "from pyspark.sql import SparkSession\n",
    "\n",
    "spark = SparkSession.builder.getOrCreate()\n",
    "\n",
    "sc = spark.sparkContext # tenemos el contexto, es el punto de entrada para crear los RDDs"
   ]
  },
  {
   "cell_type": "code",
   "execution_count": 1,
   "id": "f0002ec3",
   "metadata": {},
   "outputs": [],
   "source": [
    "import os\n",
    "import sys\n",
    "\n",
    "os.environ[\"PYSPARK_PYTHON\"] = r\"C:\\Users\\favio\\AppData\\Local\\Programs\\Python\\Python311\\python.exe\"\n",
    "os.environ[\"PYSPARK_DRIVER_PYTHON\"] = r\"C:\\Users\\favio\\AppData\\Local\\Programs\\Python\\Python311\\python.exe\"\n",
    "\n",
    "\n",
    "# os.environ['PYSPARK_PYTHON'] = sys.executable\n",
    "# os.environ['PYSPARK_DRIVER_PYTHON'] = sys.executable"
   ]
  },
  {
   "cell_type": "code",
   "execution_count": 3,
   "id": "f7a596bf",
   "metadata": {},
   "outputs": [
    {
     "data": {
      "text/plain": [
       "<bound method SparkContext.emptyRDD of <SparkContext master=local[*] appName=pyspark-shell>>"
      ]
     },
     "execution_count": 3,
     "metadata": {},
     "output_type": "execute_result"
    }
   ],
   "source": [
    "# Crear un RDD vacío\n",
    "rdd_vacio = sc.emptyRDD\n",
    "\n",
    "rdd_vacio"
   ]
  },
  {
   "cell_type": "code",
   "execution_count": 3,
   "id": "625e4f48",
   "metadata": {},
   "outputs": [
    {
     "data": {
      "text/plain": [
       "3"
      ]
     },
     "execution_count": 3,
     "metadata": {},
     "output_type": "execute_result"
    }
   ],
   "source": [
    "# Crear un RDD con la función parallelize\n",
    "rdd_vacio3 = sc.parallelize([], 3) # vacio con 3 particiones\n",
    "\n",
    "rdd_vacio3.getNumPartitions() # 3 particiones"
   ]
  },
  {
   "cell_type": "code",
   "execution_count": 4,
   "id": "333f5dae",
   "metadata": {},
   "outputs": [
    {
     "data": {
      "text/plain": [
       "[1, 2, 3, 4, 5]"
      ]
     },
     "execution_count": 4,
     "metadata": {},
     "output_type": "execute_result"
    }
   ],
   "source": [
    "# con 5 valores\n",
    "rdd = sc.parallelize([1,2,3,4,5])\n",
    "\n",
    "rdd.collect() # con esto podemos ver el contenido del RDD"
   ]
  },
  {
   "cell_type": "code",
   "execution_count": 6,
   "id": "654ad586",
   "metadata": {},
   "outputs": [
    {
     "data": {
      "text/plain": [
       "20"
      ]
     },
     "execution_count": 6,
     "metadata": {},
     "output_type": "execute_result"
    }
   ],
   "source": [
    "rdd.getNumPartitions() # por defecto toma cierta cantidad de particiones"
   ]
  },
  {
   "cell_type": "code",
   "execution_count": 5,
   "id": "afb10abb",
   "metadata": {},
   "outputs": [
    {
     "data": {
      "text/plain": [
       "['Así podemos crear', 'un RDD desde un', 'archivo de texto!!!']"
      ]
     },
     "execution_count": 5,
     "metadata": {},
     "output_type": "execute_result"
    }
   ],
   "source": [
    "# Crear un RDD desde un archivo de texto\n",
    "rdd_texto = sc.textFile('./rdd-source.txt') # toma los valores del archivo\n",
    "\n",
    "# vemos que separa los valores por línea\n",
    "rdd_texto.collect()"
   ]
  },
  {
   "cell_type": "code",
   "execution_count": 6,
   "id": "71c0e357",
   "metadata": {},
   "outputs": [
    {
     "data": {
      "text/plain": [
       "[('file:/c:/Users/favio/OneDrive/Escritorio/Cursos/curso-python/apache-spark/3-intro-rdd-spark/rdd-source.txt',\n",
       "  'Así podemos crear\\nun RDD desde un\\narchivo de texto!!!')]"
      ]
     },
     "execution_count": 6,
     "metadata": {},
     "output_type": "execute_result"
    }
   ],
   "source": [
    "rdd_texto_completo = sc.wholeTextFiles('./rdd-source.txt') # toma todo el contenido en un solo valor\n",
    "\n",
    "rdd_texto_completo.collect()"
   ]
  },
  {
   "cell_type": "code",
   "execution_count": null,
   "id": "9d090485",
   "metadata": {},
   "outputs": [
    {
     "data": {
      "text/plain": [
       "[2, 3, 4, 5, 6]"
      ]
     },
     "execution_count": 7,
     "metadata": {},
     "output_type": "execute_result"
    }
   ],
   "source": [
    "# abrir vscode en modo administrador\n",
    "rdd_suma = rdd.map(lambda x: x + 1) # tomamos el rrd que tiene los valores del 1 al 5 y les suma 1\n",
    "\n",
    "rdd_suma.collect()"
   ]
  },
  {
   "cell_type": "code",
   "execution_count": 8,
   "id": "b06ca6e4",
   "metadata": {},
   "outputs": [
    {
     "name": "stdout",
     "output_type": "stream",
     "text": [
      "+---+------+\n",
      "| id|nombre|\n",
      "+---+------+\n",
      "|  1|  jose|\n",
      "|  2|  juan|\n",
      "+---+------+\n",
      "\n"
     ]
    }
   ],
   "source": [
    "# creamos un dataframe\n",
    "df = spark.createDataFrame([(1, 'jose'), (2, 'juan')], ['id', 'nombre'])\n",
    "\n",
    "df.show()"
   ]
  },
  {
   "cell_type": "code",
   "execution_count": 9,
   "id": "988c83b5",
   "metadata": {},
   "outputs": [
    {
     "data": {
      "text/plain": [
       "[Row(id=1, nombre='jose'), Row(id=2, nombre='juan')]"
      ]
     },
     "execution_count": 9,
     "metadata": {},
     "output_type": "execute_result"
    }
   ],
   "source": [
    "rdd_df = df.rdd # creamos un rdd\n",
    "\n",
    "rdd_df.collect() # vemos que las filas las coloca en objetos de tipo row."
   ]
  }
 ],
 "metadata": {
  "kernelspec": {
   "display_name": "Python 3",
   "language": "python",
   "name": "python3"
  },
  "language_info": {
   "codemirror_mode": {
    "name": "ipython",
    "version": 3
   },
   "file_extension": ".py",
   "mimetype": "text/x-python",
   "name": "python",
   "nbconvert_exporter": "python",
   "pygments_lexer": "ipython3",
   "version": "3.11.9"
  }
 },
 "nbformat": 4,
 "nbformat_minor": 5
}
