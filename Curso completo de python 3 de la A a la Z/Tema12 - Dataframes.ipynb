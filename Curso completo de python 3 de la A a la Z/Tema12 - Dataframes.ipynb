{
 "cells": [
  {
   "cell_type": "markdown",
   "metadata": {
    "id": "jRr0Ik-m0vG2"
   },
   "source": [
    "# Dataframes con el módulo `pandas`"
   ]
  },
  {
   "cell_type": "markdown",
   "metadata": {
    "id": "oRm92QuMzLgP"
   },
   "source": [
    "## Introducción\n",
    "\n",
    "**Dataframe.** Es una estructura bidimensional mutable de datos con los ejes etiquetados donde\n",
    "\n",
    "- cada fila representa una observación diferente\n",
    "- cada columna representa una variable diferente\n",
    "\n",
    "En `Python`, para definir un dataframe, en primer lugar necesitamos importar el módulo `pandas`."
   ]
  },
  {
   "cell_type": "code",
   "execution_count": 1,
   "metadata": {
    "id": "vkv8i5UWzObk"
   },
   "outputs": [],
   "source": [
    "import pandas as pd"
   ]
  },
  {
   "cell_type": "markdown",
   "metadata": {
    "id": "CzE9DYo1z7as"
   },
   "source": [
    "A continuación, si queremos un dataframe de 5 filas y 2 columnas, podemos hacerlo a partir de un diccionario, una lista de listas, una lista de diccionarios, etc.\n",
    "\n"
   ]
  },
  {
   "cell_type": "markdown",
   "metadata": {
    "id": "AvNvzjXMFvZj"
   },
   "source": [
    "---\n",
    "\n",
    "#### Ejemplo 1\n",
    "\n",
    "Vamos a crear un dataframe de 5 filas y 2 columnas a partir de un diccionario.\n",
    "\n",
    "Para ello, primero creamos un diccionario donde las claves serán los nombres de las columnas y los valores serán listas, con tantos elementos como número de filas queramos.\n",
    "\n",
    "Finalmente, convertimos ese diccionario a dataframe con la función `DataFrame()` de `pandas`:"
   ]
  },
  {
   "cell_type": "code",
   "execution_count": 3,
   "metadata": {
    "colab": {
     "base_uri": "https://localhost:8080/"
    },
    "executionInfo": {
     "elapsed": 728,
     "status": "ok",
     "timestamp": 1611848787104,
     "user": {
      "displayName": "Juan Gabriel Gomila Salas",
      "photoUrl": "https://lh3.googleusercontent.com/a-/AOh14GjdBM44CAiZlDiF-IkE0NJQH-LHKt1b0A22wmma_w=s64",
      "userId": "03106941341701838274"
     },
     "user_tz": -60
    },
    "id": "m_EKIBvn0VJY",
    "outputId": "0792d451-1cf2-485f-bb8c-2593db1ec78d"
   },
   "outputs": [
    {
     "name": "stdout",
     "output_type": "stream",
     "text": [
      "   x   y\n",
      "0  1   2\n",
      "1  2   4\n",
      "2  3   6\n",
      "3  4   8\n",
      "4  5  10\n"
     ]
    }
   ],
   "source": [
    "data = {\"x\": [1, 2, 3, 4, 5], \"y\": [2, 4, 6, 8, 10]} #ambos valores deben tener la misma cantidad de elementos en su arreglo o lista\n",
    "df1 = pd.DataFrame(data = data)\n",
    "print(df1)"
   ]
  },
  {
   "cell_type": "markdown",
   "metadata": {
    "id": "vDgNHv-x0v_f"
   },
   "source": [
    "Como habíamos dicho, hemos creado un dataframe de 5 filas y dos columnas, llamadas `x` e `y` respectivamente.\n",
    "\n",
    "**Observación.** Como resultado del `print()`, no solamente hemos obtenido las 5 filas y 2 columnas, sino que hay una columna adicional de 5 números ordenados verticalmete del 0 al 4. Se trata simplemente del nombre de cada fila, que por defecto es el índice de cada fila. El 0 indica la primera fila; el 1, la segunda; y así, sucesivamente."
   ]
  },
  {
   "cell_type": "markdown",
   "metadata": {
    "id": "krL33ISC7E6X"
   },
   "source": [
    "---\n",
    "\n",
    "#### Ejemplo 2\n",
    "\n",
    "Vamos a crear el mismo dataframe de 5 filas y 2 columnas, pero esta vez a partir de una lista de listas.\n",
    "\n",
    "En este caso, podemos hacerlo directamente con la función `DataFrame()` de `pandas`, usando los parámetros `data` y `columns`"
   ]
  },
  {
   "cell_type": "code",
   "execution_count": null,
   "metadata": {
    "colab": {
     "base_uri": "https://localhost:8080/"
    },
    "executionInfo": {
     "elapsed": 718,
     "status": "ok",
     "timestamp": 1611830967687,
     "user": {
      "displayName": "Juan Gabriel Gomila Salas",
      "photoUrl": "https://lh3.googleusercontent.com/a-/AOh14GjdBM44CAiZlDiF-IkE0NJQH-LHKt1b0A22wmma_w=s64",
      "userId": "03106941341701838274"
     },
     "user_tz": -60
    },
    "id": "ABwFzslm8SZz",
    "outputId": "026607cf-612b-422e-cbf7-0bec602144ed"
   },
   "outputs": [
    {
     "name": "stdout",
     "output_type": "stream",
     "text": [
      "   x   y\n",
      "0  1   2\n",
      "1  2   4\n",
      "2  3   6\n",
      "3  4   8\n",
      "4  5  10\n"
     ]
    }
   ],
   "source": [
    "# lista de listas\n",
    "df2 = pd.DataFrame(data = [[1, 2], [2, 4], [3, 6], [4, 8], [5, 10]], # son los valores de cada fila\n",
    "                   columns = [\"x\", \"y\"])\n",
    "print(df2)"
   ]
  },
  {
   "cell_type": "markdown",
   "metadata": {
    "id": "Yeh47W6X88em"
   },
   "source": [
    "Al parámetro `data` le hemos proporcionado una lista de 5 listas, donde cada una de las sublistas tiene 2 elementos: el perteneciente a la primera columna en la posición 0, y el perteneciente a la segunda columna en la posición 1.\n",
    "\n",
    "Al parámetro `columns` le hemos proporcionado el nombre de las 2 columnas.\n",
    "\n"
   ]
  },
  {
   "cell_type": "markdown",
   "metadata": {
    "id": "HybHvVmgFyqR"
   },
   "source": [
    "---\n",
    "\n",
    "#### Ejemplo 3\n",
    "\n",
    "Vamos a crear el mismo dataframe de 5 filas y 2 columnas, con la diferencia de que vamos a modificar el nombre de las filas.\n",
    "\n",
    "Lo haremos a partir del diccionario `data` y utilizaremos el parámetro `index` de la función `DataFrame()` de `pandas`"
   ]
  },
  {
   "cell_type": "code",
   "execution_count": 4,
   "metadata": {
    "colab": {
     "base_uri": "https://localhost:8080/"
    },
    "executionInfo": {
     "elapsed": 959,
     "status": "ok",
     "timestamp": 1611833146365,
     "user": {
      "displayName": "Juan Gabriel Gomila Salas",
      "photoUrl": "https://lh3.googleusercontent.com/a-/AOh14GjdBM44CAiZlDiF-IkE0NJQH-LHKt1b0A22wmma_w=s64",
      "userId": "03106941341701838274"
     },
     "user_tz": -60
    },
    "id": "I3oxHYOYGlrp",
    "outputId": "9b50acb3-e41a-41af-ea76-0a9b35f748df"
   },
   "outputs": [
    {
     "name": "stdout",
     "output_type": "stream",
     "text": [
      "      x   y\n",
      "obs1  1   2\n",
      "obs2  2   4\n",
      "obs3  3   6\n",
      "obs4  4   8\n",
      "obs5  5  10\n"
     ]
    }
   ],
   "source": [
    "# añadimos un parámetros adicional(index) que es una lista que serán los indices de las filas\n",
    "df3 = pd.DataFrame(data = data, index = [\"obs1\", \"obs2\", \"obs3\", \"obs4\", \"obs5\"])\n",
    "print(df3)"
   ]
  },
  {
   "cell_type": "markdown",
   "metadata": {
    "id": "d9xyInznHI1z"
   },
   "source": [
    "En este caso, al parámetro `index` le hemos pasado una lista con 5 strings.\n",
    "\n",
    "**¡Cuidado!.** Al construir un dataframe a partir de un diccionario (o cualquier objeto de `Python` que contenga algún diccionario), los nombres de las columnas son las claves del diccionario. Si quisiésemos cambiarlos con el parámetro `columns` directamente, nos pasaría lo siguiente:"
   ]
  },
  {
   "cell_type": "code",
   "execution_count": 5,
   "metadata": {
    "colab": {
     "base_uri": "https://localhost:8080/"
    },
    "executionInfo": {
     "elapsed": 714,
     "status": "ok",
     "timestamp": 1611833230464,
     "user": {
      "displayName": "Juan Gabriel Gomila Salas",
      "photoUrl": "https://lh3.googleusercontent.com/a-/AOh14GjdBM44CAiZlDiF-IkE0NJQH-LHKt1b0A22wmma_w=s64",
      "userId": "03106941341701838274"
     },
     "user_tz": -60
    },
    "id": "6R5KdedOhKl7",
    "outputId": "59205ac8-e56b-4755-96a3-0f447c3c1378"
   },
   "outputs": [
    {
     "name": "stdout",
     "output_type": "stream",
     "text": [
      "   a  b    c\n",
      "0  1  4  NaN\n",
      "1  2  5  NaN\n",
      "2  3  6  NaN\n"
     ]
    }
   ],
   "source": [
    "d = {\"a\": [1, 2, 3],\n",
    "     \"b\": [4, 5, 6],\n",
    "     \"b1\": [7, 8, 9]} # las columnas son a,b y b1\n",
    "\n",
    "# es incompatible tener un diccionario como datos e intentar cambiar el nombre de algunas de las columnas\n",
    "# este nombre ya viene en diccionario, no podemos cambiarlo\n",
    "# asi que vamos a crear un df a partir de un diccionario no podremos cambiar el nombre de la columna inicialmente\n",
    "df = pd.DataFrame(d, columns = [\"a\", \"b\", \"c\"]) \n",
    "print(df)"
   ]
  },
  {
   "cell_type": "markdown",
   "metadata": {
    "id": "lVjW7VwvdK74"
   },
   "source": [
    "**Observación.** Si queremos crear un dataframe a partir de un diccionario, pero queremos menos columnas que total de claves que tiene el diccionario, no hay problema, siempre y cuando los nombres de las columnas indicados coincidan con las claves del diccionario"
   ]
  },
  {
   "cell_type": "code",
   "execution_count": null,
   "metadata": {
    "colab": {
     "base_uri": "https://localhost:8080/"
    },
    "executionInfo": {
     "elapsed": 985,
     "status": "ok",
     "timestamp": 1611833320832,
     "user": {
      "displayName": "Juan Gabriel Gomila Salas",
      "photoUrl": "https://lh3.googleusercontent.com/a-/AOh14GjdBM44CAiZlDiF-IkE0NJQH-LHKt1b0A22wmma_w=s64",
      "userId": "03106941341701838274"
     },
     "user_tz": -60
    },
    "id": "Dn3BDqaydb49",
    "outputId": "69664a42-489b-4404-a42c-866f9aea8682"
   },
   "outputs": [
    {
     "name": "stdout",
     "output_type": "stream",
     "text": [
      "   a  b\n",
      "0  1  4\n",
      "1  2  5\n",
      "2  3  6\n"
     ]
    }
   ],
   "source": [
    "# Construimos un dataframe solo con las columnas a y b del diccionario d\n",
    "# con columns podemos indicar que columnas queremos que se almacenen en el dataframe\n",
    "df = pd.DataFrame(d, columns = [\"a\", \"b\"]) \n",
    "print(df)"
   ]
  },
  {
   "cell_type": "markdown",
   "metadata": {
    "id": "GJQ0IW1IHlnY"
   },
   "source": [
    "---\n",
    "\n",
    "#### Ejemplo 4\n",
    "\n",
    "Vamos a crear el mismo dataframe de 5 filas y 2 columnas, esta vez a partir de una lista de diccionarios."
   ]
  },
  {
   "cell_type": "code",
   "execution_count": null,
   "metadata": {
    "colab": {
     "base_uri": "https://localhost:8080/"
    },
    "executionInfo": {
     "elapsed": 709,
     "status": "ok",
     "timestamp": 1611836774965,
     "user": {
      "displayName": "Juan Gabriel Gomila Salas",
      "photoUrl": "https://lh3.googleusercontent.com/a-/AOh14GjdBM44CAiZlDiF-IkE0NJQH-LHKt1b0A22wmma_w=s64",
      "userId": "03106941341701838274"
     },
     "user_tz": -60
    },
    "id": "ysI7SD72HrtT",
    "outputId": "90cd3f01-c62a-4f8a-ba5c-d8469f84aff3"
   },
   "outputs": [
    {
     "name": "stdout",
     "output_type": "stream",
     "text": [
      "   x   y\n",
      "0  1   2\n",
      "1  2   4\n",
      "2  3   6\n",
      "3  4   8\n",
      "4  5  10\n"
     ]
    }
   ],
   "source": [
    "# lista de diccionario, cada diccionario tiene dos valores con las misma claves y cantidad de elmentos, \n",
    "# para que puedan estructurarse de forma correcta\n",
    "data = [{\"x\": 1, \"y\": 2},\n",
    "        {\"x\": 2, \"y\": 4},\n",
    "        {\"x\": 3, \"y\": 6},\n",
    "        {\"x\": 4, \"y\": 8},\n",
    "        {\"x\": 5, \"y\": 10}]\n",
    "df4 = pd.DataFrame(data = data)\n",
    "print(df4)"
   ]
  },
  {
   "cell_type": "markdown",
   "metadata": {
    "id": "NTFXFO9rJAX9"
   },
   "source": [
    "---\n",
    "\n",
    "#### Ejemplo 5\n",
    "\n",
    "Incluso podemos crear un dataframe haciendo uso de la función `zip()`.\n",
    "\n",
    "Para ello, a partir de dos listas, creamos una lista de tuplas, que es la que proporcionamos al parámetro `data` de la función `DataFrame()` para construir el dataframe."
   ]
  },
  {
   "cell_type": "code",
   "execution_count": 7,
   "metadata": {
    "colab": {
     "base_uri": "https://localhost:8080/"
    },
    "executionInfo": {
     "elapsed": 1477,
     "status": "ok",
     "timestamp": 1611837539534,
     "user": {
      "displayName": "Juan Gabriel Gomila Salas",
      "photoUrl": "https://lh3.googleusercontent.com/a-/AOh14GjdBM44CAiZlDiF-IkE0NJQH-LHKt1b0A22wmma_w=s64",
      "userId": "03106941341701838274"
     },
     "user_tz": -60
    },
    "id": "jL_afP7TJRC9",
    "outputId": "3a3e25b9-3b59-480b-b0ee-c82e3c8351e1"
   },
   "outputs": [
    {
     "name": "stdout",
     "output_type": "stream",
     "text": [
      "[(1, 2), (2, 4), (3, 6), (4, 8), (5, 10)]\n"
     ]
    }
   ],
   "source": [
    "x = [1, 2, 3, 4, 5]\n",
    "y = [2, 4, 6, 8, 10]\n",
    "\n",
    "data = list(zip(x, y)) # con zip convertimos a tuplas y envolvemos todo como una lista\n",
    "print(data) # lista de tuplas"
   ]
  },
  {
   "cell_type": "code",
   "execution_count": 9,
   "metadata": {
    "colab": {
     "base_uri": "https://localhost:8080/"
    },
    "executionInfo": {
     "elapsed": 826,
     "status": "ok",
     "timestamp": 1611837613151,
     "user": {
      "displayName": "Juan Gabriel Gomila Salas",
      "photoUrl": "https://lh3.googleusercontent.com/a-/AOh14GjdBM44CAiZlDiF-IkE0NJQH-LHKt1b0A22wmma_w=s64",
      "userId": "03106941341701838274"
     },
     "user_tz": -60
    },
    "id": "91QYVOZka3mH",
    "outputId": "4a21852f-8d3e-441e-e725-37b3554453bb"
   },
   "outputs": [
    {
     "name": "stdout",
     "output_type": "stream",
     "text": [
      "   0   1\n",
      "0  1   2\n",
      "1  2   4\n",
      "2  3   6\n",
      "3  4   8\n",
      "4  5  10\n"
     ]
    }
   ],
   "source": [
    "# convertimos la lista de tuplas, le asignamos un nombre para las columnas, \n",
    "# sino colocamos el nombre por defecto serán 0 y 1\n",
    "df5 = pd.DataFrame(data, columns = [\"x\", \"y\"])\n",
    "print(df5)"
   ]
  },
  {
   "cell_type": "markdown",
   "metadata": {
    "id": "QamdL4IdbiKe"
   },
   "source": [
    "---\n",
    "\n",
    "### Creando dataframes con `.from_dict()`\n",
    "\n",
    "Para construir dataframes a partir de un diccionario, existe el método `.from_dict()`\n",
    "\n"
   ]
  },
  {
   "cell_type": "code",
   "execution_count": null,
   "metadata": {
    "colab": {
     "base_uri": "https://localhost:8080/"
    },
    "executionInfo": {
     "elapsed": 722,
     "status": "ok",
     "timestamp": 1611837876421,
     "user": {
      "displayName": "Juan Gabriel Gomila Salas",
      "photoUrl": "https://lh3.googleusercontent.com/a-/AOh14GjdBM44CAiZlDiF-IkE0NJQH-LHKt1b0A22wmma_w=s64",
      "userId": "03106941341701838274"
     },
     "user_tz": -60
    },
    "id": "tu2DZI3Oes1T",
    "outputId": "cf69c355-0e80-43c2-ef49-4d11a9a6b1cc"
   },
   "outputs": [
    {
     "name": "stdout",
     "output_type": "stream",
     "text": [
      "   a  b  b1\n",
      "0  1  4   7\n",
      "1  2  5   8\n",
      "2  3  6   9\n"
     ]
    }
   ],
   "source": [
    "d = {\"a\": [1, 2, 3],\n",
    "     \"b\": [4, 5, 6],\n",
    "     \"b1\": [7, 8, 9]}\n",
    "# hasta aquí no hay difencias con hacerlo sin from_dict\n",
    "df = pd.DataFrame.from_dict(d)\n",
    "print(df)"
   ]
  },
  {
   "cell_type": "markdown",
   "metadata": {
    "id": "oYMvrpFYewHo"
   },
   "source": [
    "Lo interesante de este método es que podemos crear un dataframe a partir de un diccionario donde cada clave represente una fila (observación) diferente, gracias al parámetro `orient`"
   ]
  },
  {
   "cell_type": "code",
   "execution_count": null,
   "metadata": {
    "colab": {
     "base_uri": "https://localhost:8080/"
    },
    "executionInfo": {
     "elapsed": 1193,
     "status": "ok",
     "timestamp": 1611848585147,
     "user": {
      "displayName": "Juan Gabriel Gomila Salas",
      "photoUrl": "https://lh3.googleusercontent.com/a-/AOh14GjdBM44CAiZlDiF-IkE0NJQH-LHKt1b0A22wmma_w=s64",
      "userId": "03106941341701838274"
     },
     "user_tz": -60
    },
    "id": "GU19b_zVe1pH",
    "outputId": "42d23a11-95f9-433c-871c-4b4ef3920654"
   },
   "outputs": [
    {
     "name": "stdout",
     "output_type": "stream",
     "text": [
      "       A  B  C\n",
      "fila1  1  4  7\n",
      "fila2  2  5  8\n",
      "fila3  3  6  9\n"
     ]
    }
   ],
   "source": [
    "d = {\"fila1\": [1, 4, 7],\n",
    "     \"fila2\": [2, 5, 8],\n",
    "     \"fila3\": [3, 6, 9]}\n",
    "# podemos añadir el parametro orient, que puede ser 'index'(por defecto es 'column') \n",
    "# para indicar que las claves ahora son indices(filas).\n",
    "df = pd.DataFrame.from_dict(d, orient = \"index\", columns = [\"A\", \"B\", \"C\"])\n",
    "print(df)"
   ]
  },
  {
   "cell_type": "markdown",
   "metadata": {
    "id": "YO01wR1kf5KR"
   },
   "source": [
    "**¡Cuidado!** Para poder usar el parámetro `columns` del método `.from_dict()`, necesitamos que el parámetro `orient` valga `\"index\"`.\n",
    "\n",
    "**Observación.** Si no indicásemos el parámetro `orient`, por defecto vale `\"columns\"`, con lo cual el diccionario suministrado a `data` sería interpretado del siguiente modo: cada clave representaría una columna diferente, tal cual ocurría cuando no usábamos el método `.from_dict()`. Si por el contrario indicamos que `orient = \"index\"`, lo que estamos haciendo es decirle a `Python` que cada clave del diccionario representa una fila (observación) diferente."
   ]
  },
  {
   "cell_type": "markdown",
   "metadata": {
    "id": "3xiB1bfy7D9S"
   },
   "source": [
    "### Dimensiones del dataframe\n",
    "\n",
    "Con el método `.shape` podemos calcular las dimensiones (número de filas y columnas) del dataframe."
   ]
  },
  {
   "cell_type": "code",
   "execution_count": null,
   "metadata": {
    "colab": {
     "base_uri": "https://localhost:8080/"
    },
    "executionInfo": {
     "elapsed": 842,
     "status": "ok",
     "timestamp": 1611848808146,
     "user": {
      "displayName": "Juan Gabriel Gomila Salas",
      "photoUrl": "https://lh3.googleusercontent.com/a-/AOh14GjdBM44CAiZlDiF-IkE0NJQH-LHKt1b0A22wmma_w=s64",
      "userId": "03106941341701838274"
     },
     "user_tz": -60
    },
    "id": "bwhQk0cg0tcc",
    "outputId": "cd9fc467-f954-4d29-c906-bb3ae2307d14"
   },
   "outputs": [
    {
     "data": {
      "text/plain": [
       "(3, 3)"
      ]
     },
     "execution_count": 22,
     "metadata": {
      "tags": []
     },
     "output_type": "execute_result"
    }
   ],
   "source": [
    "df.shape # shape o forma"
   ]
  },
  {
   "cell_type": "markdown",
   "metadata": {
    "id": "pFVM6qtl5Kny"
   },
   "source": [
    "Como resultado obtenemos una tupla donde el primer elemento es el número de filas, que en nuestro caso es 3, mientras que el segundo elemento es el número de columnas, que en nuestro ejemplo era 3."
   ]
  },
  {
   "cell_type": "code",
   "execution_count": null,
   "metadata": {
    "colab": {
     "base_uri": "https://localhost:8080/"
    },
    "executionInfo": {
     "elapsed": 700,
     "status": "ok",
     "timestamp": 1611848868494,
     "user": {
      "displayName": "Juan Gabriel Gomila Salas",
      "photoUrl": "https://lh3.googleusercontent.com/a-/AOh14GjdBM44CAiZlDiF-IkE0NJQH-LHKt1b0A22wmma_w=s64",
      "userId": "03106941341701838274"
     },
     "user_tz": -60
    },
    "id": "XhPq7Rhh5Fa0",
    "outputId": "a2e47c42-8222-45de-a8d4-f36f49798e7c"
   },
   "outputs": [
    {
     "name": "stdout",
     "output_type": "stream",
     "text": [
      "El número de filas de df es 3\n",
      "El número de columnas de df es 3\n"
     ]
    }
   ],
   "source": [
    "# al ser una tupla podemos acceder a sus elementos\n",
    "nrows = df.shape[0] # filas\n",
    "ncols = df.shape[1] # columnas\n",
    "print(\"El número de filas de df es\", nrows)\n",
    "print(\"El número de columnas de df es\", ncols)"
   ]
  },
  {
   "cell_type": "markdown",
   "metadata": {
    "id": "0f6xlsMwoRI7"
   },
   "source": [
    "Con el método `.size` calculamos el número total de valores que tienes el dataframe (número de filas por número de columnas)"
   ]
  },
  {
   "cell_type": "code",
   "execution_count": null,
   "metadata": {
    "colab": {
     "base_uri": "https://localhost:8080/"
    },
    "executionInfo": {
     "elapsed": 750,
     "status": "ok",
     "timestamp": 1611848891711,
     "user": {
      "displayName": "Juan Gabriel Gomila Salas",
      "photoUrl": "https://lh3.googleusercontent.com/a-/AOh14GjdBM44CAiZlDiF-IkE0NJQH-LHKt1b0A22wmma_w=s64",
      "userId": "03106941341701838274"
     },
     "user_tz": -60
    },
    "id": "rRU9BaF3oXWt",
    "outputId": "6bfa7267-dd26-4760-80a5-a5f6edafdb9c"
   },
   "outputs": [
    {
     "data": {
      "text/plain": [
       "9"
      ]
     },
     "execution_count": 24,
     "metadata": {
      "tags": []
     },
     "output_type": "execute_result"
    }
   ],
   "source": [
    "df.size # seria filas x columnas"
   ]
  },
  {
   "cell_type": "code",
   "execution_count": null,
   "metadata": {
    "colab": {
     "base_uri": "https://localhost:8080/"
    },
    "executionInfo": {
     "elapsed": 709,
     "status": "ok",
     "timestamp": 1611848908496,
     "user": {
      "displayName": "Juan Gabriel Gomila Salas",
      "photoUrl": "https://lh3.googleusercontent.com/a-/AOh14GjdBM44CAiZlDiF-IkE0NJQH-LHKt1b0A22wmma_w=s64",
      "userId": "03106941341701838274"
     },
     "user_tz": -60
    },
    "id": "JYXYrdSbocIM",
    "outputId": "6fc9bdfc-502b-45ea-9709-46f5deb9f454"
   },
   "outputs": [
    {
     "data": {
      "text/plain": [
       "True"
      ]
     },
     "execution_count": 25,
     "metadata": {
      "tags": []
     },
     "output_type": "execute_result"
    }
   ],
   "source": [
    "df.shape[0] * df.shape[1] == df.size # comparación"
   ]
  },
  {
   "cell_type": "markdown",
   "metadata": {
    "id": "qkBbRgoboq1H"
   },
   "source": [
    "Finalmente, con el método `.ndim` calculamos el número de dimensiones que tiene el dataframe. Éste siempre valdrá 2, pues consta de filas y columnas."
   ]
  },
  {
   "cell_type": "code",
   "execution_count": null,
   "metadata": {
    "colab": {
     "base_uri": "https://localhost:8080/"
    },
    "executionInfo": {
     "elapsed": 779,
     "status": "ok",
     "timestamp": 1611848935992,
     "user": {
      "displayName": "Juan Gabriel Gomila Salas",
      "photoUrl": "https://lh3.googleusercontent.com/a-/AOh14GjdBM44CAiZlDiF-IkE0NJQH-LHKt1b0A22wmma_w=s64",
      "userId": "03106941341701838274"
     },
     "user_tz": -60
    },
    "id": "fcHRVmduoz5f",
    "outputId": "cc47beeb-e21d-4bf3-bef0-12b0be05a9c3"
   },
   "outputs": [
    {
     "data": {
      "text/plain": [
       "2"
      ]
     },
     "execution_count": 26,
     "metadata": {
      "tags": []
     },
     "output_type": "execute_result"
    }
   ],
   "source": [
    "df.ndim # siempre valdrá 2, porque esta compuesta de filas y columnas(2 dimensiones).\n",
    "# Existen otro tipo de estructuras con más dimensiones"
   ]
  },
  {
   "cell_type": "markdown",
   "metadata": {
    "id": "6DnwlUzv_A_W"
   },
   "source": [
    "## Subdataframes\n",
    "\n",
    "**Subdataframe.** Dado un dataframe, un subdataframe no es más que la selección de unas filas y columnas en particular, es decir, un subconjunto del dataframe.\n",
    "\n",
    "\n"
   ]
  },
  {
   "cell_type": "markdown",
   "metadata": {
    "id": "IpLxwABND5ck"
   },
   "source": [
    "### Columnas\n",
    "\n",
    "Dado un dataframe, podemos seleccionar una columna en particular de diversas formas:\n",
    "\n",
    "- Indicando el nombre de la columna entre claudators, `[]`\n",
    "- Con el método `.columns[]`\n",
    "- Con el método `.loc[]` (por nombre o etiqueta)\n",
    "- Con el método `.iloc[]` (por posición) (iloc es index location)"
   ]
  },
  {
   "cell_type": "code",
   "execution_count": 10,
   "metadata": {
    "id": "pAbva67f5l8x"
   },
   "outputs": [],
   "source": [
    "fdata = {\"Name\": [\"Alicia\", \"Bill\", \"Carlos\", \"Diana\"], # dicionario de listas, cada lista con 4 valores\n",
    "        \"Age\": [22, 28, 19, 34],\n",
    "        \"Pet\": [True, False, False, True],\n",
    "        \"Height\": [157, 190, 175, 164],\n",
    "        \"Birthday\": [\"Mayo\", \"Junio\", \"Agosto\", \"Diciembre\"]}\n",
    "df = pd.DataFrame(data = fdata, index = [\"obs1\", \"obs2\", \"obs3\", \"obs4\"]) # colocamos un indice o nombre a las filas"
   ]
  },
  {
   "cell_type": "code",
   "execution_count": 11,
   "metadata": {
    "colab": {
     "base_uri": "https://localhost:8080/",
     "height": 173
    },
    "executionInfo": {
     "elapsed": 855,
     "status": "ok",
     "timestamp": 1611849460215,
     "user": {
      "displayName": "Juan Gabriel Gomila Salas",
      "photoUrl": "https://lh3.googleusercontent.com/a-/AOh14GjdBM44CAiZlDiF-IkE0NJQH-LHKt1b0A22wmma_w=s64",
      "userId": "03106941341701838274"
     },
     "user_tz": -60
    },
    "id": "JcS8AClbttzJ",
    "outputId": "b8ce28bd-4d3b-4f34-b6aa-780ceae2b3ff"
   },
   "outputs": [
    {
     "data": {
      "text/html": [
       "<div>\n",
       "<style scoped>\n",
       "    .dataframe tbody tr th:only-of-type {\n",
       "        vertical-align: middle;\n",
       "    }\n",
       "\n",
       "    .dataframe tbody tr th {\n",
       "        vertical-align: top;\n",
       "    }\n",
       "\n",
       "    .dataframe thead th {\n",
       "        text-align: right;\n",
       "    }\n",
       "</style>\n",
       "<table border=\"1\" class=\"dataframe\">\n",
       "  <thead>\n",
       "    <tr style=\"text-align: right;\">\n",
       "      <th></th>\n",
       "      <th>Name</th>\n",
       "      <th>Age</th>\n",
       "      <th>Pet</th>\n",
       "      <th>Height</th>\n",
       "      <th>Birthday</th>\n",
       "    </tr>\n",
       "  </thead>\n",
       "  <tbody>\n",
       "    <tr>\n",
       "      <th>obs1</th>\n",
       "      <td>Alicia</td>\n",
       "      <td>22</td>\n",
       "      <td>True</td>\n",
       "      <td>157</td>\n",
       "      <td>Mayo</td>\n",
       "    </tr>\n",
       "    <tr>\n",
       "      <th>obs2</th>\n",
       "      <td>Bill</td>\n",
       "      <td>28</td>\n",
       "      <td>False</td>\n",
       "      <td>190</td>\n",
       "      <td>Junio</td>\n",
       "    </tr>\n",
       "    <tr>\n",
       "      <th>obs3</th>\n",
       "      <td>Carlos</td>\n",
       "      <td>19</td>\n",
       "      <td>False</td>\n",
       "      <td>175</td>\n",
       "      <td>Agosto</td>\n",
       "    </tr>\n",
       "    <tr>\n",
       "      <th>obs4</th>\n",
       "      <td>Diana</td>\n",
       "      <td>34</td>\n",
       "      <td>True</td>\n",
       "      <td>164</td>\n",
       "      <td>Diciembre</td>\n",
       "    </tr>\n",
       "  </tbody>\n",
       "</table>\n",
       "</div>"
      ],
      "text/plain": [
       "        Name  Age    Pet  Height   Birthday\n",
       "obs1  Alicia   22   True     157       Mayo\n",
       "obs2    Bill   28  False     190      Junio\n",
       "obs3  Carlos   19  False     175     Agosto\n",
       "obs4   Diana   34   True     164  Diciembre"
      ]
     },
     "execution_count": 11,
     "metadata": {},
     "output_type": "execute_result"
    }
   ],
   "source": [
    "df"
   ]
  },
  {
   "cell_type": "code",
   "execution_count": 12,
   "metadata": {},
   "outputs": [
    {
     "name": "stdout",
     "output_type": "stream",
     "text": [
      "        Name  Age    Pet  Height   Birthday\n",
      "obs1  Alicia   22   True     157       Mayo\n",
      "obs2    Bill   28  False     190      Junio\n",
      "obs3  Carlos   19  False     175     Agosto\n",
      "obs4   Diana   34   True     164  Diciembre\n"
     ]
    }
   ],
   "source": [
    "print(df)"
   ]
  },
  {
   "cell_type": "code",
   "execution_count": null,
   "metadata": {
    "colab": {
     "base_uri": "https://localhost:8080/"
    },
    "executionInfo": {
     "elapsed": 831,
     "status": "ok",
     "timestamp": 1611849498354,
     "user": {
      "displayName": "Juan Gabriel Gomila Salas",
      "photoUrl": "https://lh3.googleusercontent.com/a-/AOh14GjdBM44CAiZlDiF-IkE0NJQH-LHKt1b0A22wmma_w=s64",
      "userId": "03106941341701838274"
     },
     "user_tz": -60
    },
    "id": "Qr9shpSqBnwl",
    "outputId": "ffe81104-9a59-4807-d2ec-88e6e713b8c3"
   },
   "outputs": [
    {
     "name": "stdout",
     "output_type": "stream",
     "text": [
      "obs1         Mayo\n",
      "obs2        Junio\n",
      "obs3       Agosto\n",
      "obs4    Diciembre\n",
      "Name: Birthday, dtype: object\n"
     ]
    }
   ],
   "source": [
    "# Seleccionamos la columna Birthday por nombre\n",
    "print(df[\"Birthday\"])"
   ]
  },
  {
   "cell_type": "code",
   "execution_count": 13,
   "metadata": {
    "colab": {
     "base_uri": "https://localhost:8080/"
    },
    "executionInfo": {
     "elapsed": 849,
     "status": "ok",
     "timestamp": 1611849652439,
     "user": {
      "displayName": "Juan Gabriel Gomila Salas",
      "photoUrl": "https://lh3.googleusercontent.com/a-/AOh14GjdBM44CAiZlDiF-IkE0NJQH-LHKt1b0A22wmma_w=s64",
      "userId": "03106941341701838274"
     },
     "user_tz": -60
    },
    "id": "V5MuhltaiUhI",
    "outputId": "e7d05db4-3eb0-4b84-f1ae-6c479b447250"
   },
   "outputs": [
    {
     "name": "stdout",
     "output_type": "stream",
     "text": [
      "Birthday\n",
      "obs1         Mayo\n",
      "obs2        Junio\n",
      "obs3       Agosto\n",
      "obs4    Diciembre\n",
      "Name: Birthday, dtype: object\n"
     ]
    }
   ],
   "source": [
    "# Seleccionamos la columna Birthday con el método .columns[], dentro del df\n",
    "# esto usado normalmente para iterar las columnas del dataframe\n",
    "print(df.columns[4]) # imprime el titulo de la columna\n",
    "print(df[df.columns[4]])"
   ]
  },
  {
   "cell_type": "code",
   "execution_count": null,
   "metadata": {
    "colab": {
     "base_uri": "https://localhost:8080/"
    },
    "executionInfo": {
     "elapsed": 1100,
     "status": "ok",
     "timestamp": 1611849731836,
     "user": {
      "displayName": "Juan Gabriel Gomila Salas",
      "photoUrl": "https://lh3.googleusercontent.com/a-/AOh14GjdBM44CAiZlDiF-IkE0NJQH-LHKt1b0A22wmma_w=s64",
      "userId": "03106941341701838274"
     },
     "user_tz": -60
    },
    "id": "kdxXwOdhin38",
    "outputId": "e6b6fce2-22dd-43dc-c77b-8f6cfdd865f2"
   },
   "outputs": [
    {
     "name": "stdout",
     "output_type": "stream",
     "text": [
      "obs1         Mayo\n",
      "obs2        Junio\n",
      "obs3       Agosto\n",
      "obs4    Diciembre\n",
      "Name: Birthday, dtype: object\n"
     ]
    }
   ],
   "source": [
    "# Seleccionamos la columna Birthday con el método .loc[]\n",
    "# loc, para localizar la columna, entre corchetes se indica el indice(s) de las filas y\n",
    "# el indice de las columnas que queremos seleccionar\n",
    "# : significa todas las filas y se selecciona la columna \"Birthday\"\n",
    "print(df.loc[:, \"Birthday\"])"
   ]
  },
  {
   "cell_type": "markdown",
   "metadata": {
    "id": "kVE4Fzt6i0tc"
   },
   "source": [
    "**Observación.** Al método `.loc[]` le hemos indicado que tome todas las filas con `:` en la primera posición y la columna `\"Birthday\"` directamente indicando su nommbre en la segunda posición. "
   ]
  },
  {
   "cell_type": "code",
   "execution_count": null,
   "metadata": {
    "colab": {
     "base_uri": "https://localhost:8080/"
    },
    "executionInfo": {
     "elapsed": 697,
     "status": "ok",
     "timestamp": 1607591987067,
     "user": {
      "displayName": "María Santos Fernandez",
      "photoUrl": "",
      "userId": "05118399518218051952"
     },
     "user_tz": -60
    },
    "id": "b_eJaoFTjcLe",
    "outputId": "5337c42f-e380-443d-8dc9-730c766477f3"
   },
   "outputs": [
    {
     "name": "stdout",
     "output_type": "stream",
     "text": [
      "0         Mayo\n",
      "1        Junio\n",
      "2       Agosto\n",
      "3    Diciembre\n",
      "Name: Birthday, dtype: object\n"
     ]
    }
   ],
   "source": [
    "# Seleccionamos la columna Birthday con el método .iloc[]\n",
    "# con iloc se hace lo mismo que .loc, pero aquí indicamos el indice en vez del nombre\n",
    "print(df.iloc[:, 4])"
   ]
  },
  {
   "cell_type": "markdown",
   "metadata": {
    "id": "2zwhzm14juKv"
   },
   "source": [
    "**Observación.** Al método `.iloc[]` le hemos indicado que tome todas las filas con `:` en la primera posición y la columna `\"Birthday\"` indicando el índice que ocupa como columna."
   ]
  },
  {
   "cell_type": "markdown",
   "metadata": {},
   "source": [
    "### Seleccionamos varias columnas"
   ]
  },
  {
   "cell_type": "markdown",
   "metadata": {
    "id": "W3lMDNFZCjJp"
   },
   "source": [
    "Si quisiésemos seleccionar más de una columna, podríamos hacerlo con todas las opciones enumeradas anteriormente, con ligeras modificaciones en algunos casos:\n",
    "\n",
    "Lo hacemos mediante una lista de string con los nombres o un lista de los indices númericos o usar los : para indicar rango númerico"
   ]
  },
  {
   "cell_type": "code",
   "execution_count": null,
   "metadata": {
    "colab": {
     "base_uri": "https://localhost:8080/"
    },
    "executionInfo": {
     "elapsed": 1163,
     "status": "ok",
     "timestamp": 1611849864835,
     "user": {
      "displayName": "Juan Gabriel Gomila Salas",
      "photoUrl": "https://lh3.googleusercontent.com/a-/AOh14GjdBM44CAiZlDiF-IkE0NJQH-LHKt1b0A22wmma_w=s64",
      "userId": "03106941341701838274"
     },
     "user_tz": -60
    },
    "id": "-9TEHYAb__2L",
    "outputId": "99c9d6d6-f525-4281-b615-1a68ecaaa7b7"
   },
   "outputs": [
    {
     "name": "stdout",
     "output_type": "stream",
     "text": [
      "        Name  Age\n",
      "obs1  Alicia   22\n",
      "obs2    Bill   28\n",
      "obs3  Carlos   19\n",
      "obs4   Diana   34\n"
     ]
    }
   ],
   "source": [
    "# Seleccionamos las columnas Name y Age por nombre\n",
    "print(df[[\"Name\", \"Age\"]])"
   ]
  },
  {
   "cell_type": "code",
   "execution_count": 14,
   "metadata": {
    "colab": {
     "base_uri": "https://localhost:8080/"
    },
    "executionInfo": {
     "elapsed": 761,
     "status": "ok",
     "timestamp": 1611849903916,
     "user": {
      "displayName": "Juan Gabriel Gomila Salas",
      "photoUrl": "https://lh3.googleusercontent.com/a-/AOh14GjdBM44CAiZlDiF-IkE0NJQH-LHKt1b0A22wmma_w=s64",
      "userId": "03106941341701838274"
     },
     "user_tz": -60
    },
    "id": "ySYYe4Q1kq_c",
    "outputId": "726b24ab-cf13-4481-81f0-2434a68639a4"
   },
   "outputs": [
    {
     "name": "stdout",
     "output_type": "stream",
     "text": [
      "Index(['Name', 'Age'], dtype='object')\n",
      "        Name  Age\n",
      "obs1  Alicia   22\n",
      "obs2    Bill   28\n",
      "obs3  Carlos   19\n",
      "obs4   Diana   34\n"
     ]
    }
   ],
   "source": [
    "# Seleccionamos las columnas Name y Age con el método .columns[]\n",
    "print(df.columns[[0, 1]]) # restorna una lista con el nombre de las columnas seleccionadas\n",
    "print(df[df.columns[[0, 1]]])"
   ]
  },
  {
   "cell_type": "markdown",
   "metadata": {
    "id": "Cgh2YNKx8S86"
   },
   "source": [
    "**Observación.** Además, como estas dos columnas están seguidas en nuestro dataframe, podríamos también usar la sintaxis siguiente no solo en esta opción, sino también en el resto de opciones que hemos visto."
   ]
  },
  {
   "cell_type": "code",
   "execution_count": null,
   "metadata": {
    "colab": {
     "base_uri": "https://localhost:8080/"
    },
    "executionInfo": {
     "elapsed": 722,
     "status": "ok",
     "timestamp": 1611849951777,
     "user": {
      "displayName": "Juan Gabriel Gomila Salas",
      "photoUrl": "https://lh3.googleusercontent.com/a-/AOh14GjdBM44CAiZlDiF-IkE0NJQH-LHKt1b0A22wmma_w=s64",
      "userId": "03106941341701838274"
     },
     "user_tz": -60
    },
    "id": "WyTEhpVD87UC",
    "outputId": "43644168-88b8-48bf-b402-e0155e20e6a6"
   },
   "outputs": [
    {
     "name": "stdout",
     "output_type": "stream",
     "text": [
      "        Name  Age\n",
      "obs1  Alicia   22\n",
      "obs2    Bill   28\n",
      "obs3  Carlos   19\n",
      "obs4   Diana   34\n"
     ]
    }
   ],
   "source": [
    "print(df[df.columns[0:2]]) # rango de 0 a 1, no incluye el 2"
   ]
  },
  {
   "cell_type": "code",
   "execution_count": null,
   "metadata": {
    "colab": {
     "base_uri": "https://localhost:8080/"
    },
    "executionInfo": {
     "elapsed": 1160,
     "status": "ok",
     "timestamp": 1611849972216,
     "user": {
      "displayName": "Juan Gabriel Gomila Salas",
      "photoUrl": "https://lh3.googleusercontent.com/a-/AOh14GjdBM44CAiZlDiF-IkE0NJQH-LHKt1b0A22wmma_w=s64",
      "userId": "03106941341701838274"
     },
     "user_tz": -60
    },
    "id": "HNgNTg3xk3Dm",
    "outputId": "183d23c6-bcdd-4d8a-e37f-8ce1ffe557c4"
   },
   "outputs": [
    {
     "name": "stdout",
     "output_type": "stream",
     "text": [
      "        Name  Age\n",
      "obs1  Alicia   22\n",
      "obs2    Bill   28\n",
      "obs3  Carlos   19\n",
      "obs4   Diana   34\n"
     ]
    }
   ],
   "source": [
    "# Seleccionamos las columnas Name y Age con el método .loc[]\n",
    "print(df.loc[:, [\"Name\", \"Age\"]])"
   ]
  },
  {
   "cell_type": "code",
   "execution_count": null,
   "metadata": {
    "colab": {
     "base_uri": "https://localhost:8080/"
    },
    "executionInfo": {
     "elapsed": 718,
     "status": "ok",
     "timestamp": 1611850009955,
     "user": {
      "displayName": "Juan Gabriel Gomila Salas",
      "photoUrl": "https://lh3.googleusercontent.com/a-/AOh14GjdBM44CAiZlDiF-IkE0NJQH-LHKt1b0A22wmma_w=s64",
      "userId": "03106941341701838274"
     },
     "user_tz": -60
    },
    "id": "avF57fxC9Eow",
    "outputId": "69b5a4b1-3d30-4924-a001-34d3327752c6"
   },
   "outputs": [
    {
     "name": "stdout",
     "output_type": "stream",
     "text": [
      "        Name  Age\n",
      "obs1  Alicia   22\n",
      "obs2    Bill   28\n",
      "obs3  Carlos   19\n",
      "obs4   Diana   34\n"
     ]
    }
   ],
   "source": [
    "print(df.loc[:, \"Name\":\"Age\"])# tambien se puede indicar rango, este si incluye ambos extremos, esto por ser string\n",
    "# para rango númerico no se incluye el último valor"
   ]
  },
  {
   "cell_type": "markdown",
   "metadata": {
    "id": "WCb8qdq29Ro0"
   },
   "source": [
    "**¡Cuidado!** Como podemos ver, al usar `:` con strings, el indicado a la derecha sí que es incluido."
   ]
  },
  {
   "cell_type": "code",
   "execution_count": null,
   "metadata": {
    "colab": {
     "base_uri": "https://localhost:8080/"
    },
    "executionInfo": {
     "elapsed": 730,
     "status": "ok",
     "timestamp": 1611850029777,
     "user": {
      "displayName": "Juan Gabriel Gomila Salas",
      "photoUrl": "https://lh3.googleusercontent.com/a-/AOh14GjdBM44CAiZlDiF-IkE0NJQH-LHKt1b0A22wmma_w=s64",
      "userId": "03106941341701838274"
     },
     "user_tz": -60
    },
    "id": "GZVT0OVJk7oh",
    "outputId": "6f4b5ef9-2968-44d1-c6de-ee7c372f7b86"
   },
   "outputs": [
    {
     "name": "stdout",
     "output_type": "stream",
     "text": [
      "        Name  Age\n",
      "obs1  Alicia   22\n",
      "obs2    Bill   28\n",
      "obs3  Carlos   19\n",
      "obs4   Diana   34\n"
     ]
    }
   ],
   "source": [
    "# Seleccionamos las columnas Name y Age con el método .iloc[]\n",
    "print(df.iloc[:, [0, 1]])"
   ]
  },
  {
   "cell_type": "code",
   "execution_count": null,
   "metadata": {
    "colab": {
     "base_uri": "https://localhost:8080/"
    },
    "executionInfo": {
     "elapsed": 787,
     "status": "ok",
     "timestamp": 1611850047395,
     "user": {
      "displayName": "Juan Gabriel Gomila Salas",
      "photoUrl": "https://lh3.googleusercontent.com/a-/AOh14GjdBM44CAiZlDiF-IkE0NJQH-LHKt1b0A22wmma_w=s64",
      "userId": "03106941341701838274"
     },
     "user_tz": -60
    },
    "id": "PzzCldja9Lem",
    "outputId": "76d6c4ac-f350-4e7b-9858-3397a73f805d"
   },
   "outputs": [
    {
     "name": "stdout",
     "output_type": "stream",
     "text": [
      "        Name  Age\n",
      "obs1  Alicia   22\n",
      "obs2    Bill   28\n",
      "obs3  Carlos   19\n",
      "obs4   Diana   34\n"
     ]
    }
   ],
   "source": [
    "print(df.iloc[:, 0:2]) # los rango para números, de 0 a 1, no se incluye el 2"
   ]
  },
  {
   "cell_type": "markdown",
   "metadata": {
    "id": "pMs1hrzkAZDy"
   },
   "source": [
    "## Filas\n",
    "\n",
    "Dado un dataframe, podemos seleccionar una fila en particular de diversas formas:\n",
    "\n",
    "Como vimos, podemos seleccionar filas desde .loc y .iloc, como primer parámetro ambos reciben las filas\n",
    "\n",
    "- Con el método `.loc[]` (por nombre o etiqueta)\n",
    "- Con el método `.iloc[]` (por posición)\n"
   ]
  },
  {
   "cell_type": "code",
   "execution_count": 15,
   "metadata": {
    "colab": {
     "base_uri": "https://localhost:8080/"
    },
    "executionInfo": {
     "elapsed": 720,
     "status": "ok",
     "timestamp": 1611850899092,
     "user": {
      "displayName": "Juan Gabriel Gomila Salas",
      "photoUrl": "https://lh3.googleusercontent.com/a-/AOh14GjdBM44CAiZlDiF-IkE0NJQH-LHKt1b0A22wmma_w=s64",
      "userId": "03106941341701838274"
     },
     "user_tz": -60
    },
    "id": "fiF6cG_YANvS",
    "outputId": "03cffb7b-ce35-431f-b294-8c3def6bcad1"
   },
   "outputs": [
    {
     "name": "stdout",
     "output_type": "stream",
     "text": [
      "Name        Alicia\n",
      "Age             22\n",
      "Pet           True\n",
      "Height         157\n",
      "Birthday      Mayo\n",
      "Name: obs1, dtype: object\n"
     ]
    }
   ],
   "source": [
    "# Seleccionamos la primera observación (obs1) con el método .loc[]\n",
    "print(df.loc[\"obs1\"])\n",
    "# retorna un valor tipo object, parecido a un diccionario, por alamacenar valores de distinto tipom pero sin llegar a serlo"
   ]
  },
  {
   "cell_type": "code",
   "execution_count": null,
   "metadata": {
    "colab": {
     "base_uri": "https://localhost:8080/"
    },
    "executionInfo": {
     "elapsed": 1297,
     "status": "ok",
     "timestamp": 1611850943296,
     "user": {
      "displayName": "Juan Gabriel Gomila Salas",
      "photoUrl": "https://lh3.googleusercontent.com/a-/AOh14GjdBM44CAiZlDiF-IkE0NJQH-LHKt1b0A22wmma_w=s64",
      "userId": "03106941341701838274"
     },
     "user_tz": -60
    },
    "id": "y7bMo_h4zXUv",
    "outputId": "03ca39a1-19f9-46f6-cabb-5a7ace98772b"
   },
   "outputs": [
    {
     "data": {
      "text/plain": [
       "pandas.core.series.Series"
      ]
     },
     "execution_count": 45,
     "metadata": {
      "tags": []
     },
     "output_type": "execute_result"
    }
   ],
   "source": [
    "type(df.loc[\"obs1\"]) # tipo de objeto Series"
   ]
  },
  {
   "cell_type": "code",
   "execution_count": null,
   "metadata": {
    "colab": {
     "base_uri": "https://localhost:8080/"
    },
    "executionInfo": {
     "elapsed": 709,
     "status": "ok",
     "timestamp": 1611851006375,
     "user": {
      "displayName": "Juan Gabriel Gomila Salas",
      "photoUrl": "https://lh3.googleusercontent.com/a-/AOh14GjdBM44CAiZlDiF-IkE0NJQH-LHKt1b0A22wmma_w=s64",
      "userId": "03106941341701838274"
     },
     "user_tz": -60
    },
    "id": "03TdxNIMCjSy",
    "outputId": "7901a303-a783-4827-a7be-532ba11a1941"
   },
   "outputs": [
    {
     "name": "stdout",
     "output_type": "stream",
     "text": [
      "Name            Diana\n",
      "Age                34\n",
      "Pet              True\n",
      "Height            164\n",
      "Birthday    Diciembre\n",
      "Name: obs4, dtype: object\n"
     ]
    }
   ],
   "source": [
    "# Seleccionamos la última observación con el método .iloc[]\n",
    "# -1 es la ultima fila\n",
    "print(df.iloc[-1])"
   ]
  },
  {
   "cell_type": "markdown",
   "metadata": {},
   "source": [
    "### Seleccionamos varias filas"
   ]
  },
  {
   "cell_type": "markdown",
   "metadata": {
    "id": "V5r_-BGvDPON"
   },
   "source": [
    "Si quisiésemos seleccionar más de una fila, podríamos hacerlo con todas las opciones enumeradas anteriormente, con ligeras modificaciones en algunos casos:"
   ]
  },
  {
   "cell_type": "code",
   "execution_count": null,
   "metadata": {
    "colab": {
     "base_uri": "https://localhost:8080/"
    },
    "executionInfo": {
     "elapsed": 726,
     "status": "ok",
     "timestamp": 1611851079470,
     "user": {
      "displayName": "Juan Gabriel Gomila Salas",
      "photoUrl": "https://lh3.googleusercontent.com/a-/AOh14GjdBM44CAiZlDiF-IkE0NJQH-LHKt1b0A22wmma_w=s64",
      "userId": "03106941341701838274"
     },
     "user_tz": -60
    },
    "id": "F1QV_QGOApNp",
    "outputId": "009b5e67-c3a3-4751-af41-16cdf3621fdf"
   },
   "outputs": [
    {
     "name": "stdout",
     "output_type": "stream",
     "text": [
      "        Name  Age    Pet  Height Birthday\n",
      "obs2    Bill   28  False     190    Junio\n",
      "obs3  Carlos   19  False     175   Agosto\n"
     ]
    }
   ],
   "source": [
    "# Seleccionamos la segunda y tercera observación con el método .loc[]\n",
    "print(df.loc[[\"obs2\",\"obs3\"]]) # pasamos una lista de indices de fila"
   ]
  },
  {
   "cell_type": "markdown",
   "metadata": {
    "id": "YGkfAP8dGDm6"
   },
   "source": [
    "**Observación.** Además, como estas dos filas están seguidas en nuestro dataframe, podríamos también usar la sintaxis siguiente no solo en esta opción, sino también en el resto de opciones que hemos visto."
   ]
  },
  {
   "cell_type": "code",
   "execution_count": null,
   "metadata": {
    "colab": {
     "base_uri": "https://localhost:8080/"
    },
    "executionInfo": {
     "elapsed": 749,
     "status": "ok",
     "timestamp": 1611851168302,
     "user": {
      "displayName": "Juan Gabriel Gomila Salas",
      "photoUrl": "https://lh3.googleusercontent.com/a-/AOh14GjdBM44CAiZlDiF-IkE0NJQH-LHKt1b0A22wmma_w=s64",
      "userId": "03106941341701838274"
     },
     "user_tz": -60
    },
    "id": "R5RuVXu0DJdv",
    "outputId": "3a679ae9-aacd-45d8-9dfe-c6bcd38c5428"
   },
   "outputs": [
    {
     "name": "stdout",
     "output_type": "stream",
     "text": [
      "        Name  Age    Pet  Height Birthday\n",
      "obs2    Bill   28  False     190    Junio\n",
      "obs3  Carlos   19  False     175   Agosto\n"
     ]
    }
   ],
   "source": [
    "print(df.loc[\"obs2\":\"obs3\"]) # tambien se puede hacer por rango"
   ]
  },
  {
   "cell_type": "code",
   "execution_count": null,
   "metadata": {
    "colab": {
     "base_uri": "https://localhost:8080/"
    },
    "executionInfo": {
     "elapsed": 742,
     "status": "ok",
     "timestamp": 1611851189529,
     "user": {
      "displayName": "Juan Gabriel Gomila Salas",
      "photoUrl": "https://lh3.googleusercontent.com/a-/AOh14GjdBM44CAiZlDiF-IkE0NJQH-LHKt1b0A22wmma_w=s64",
      "userId": "03106941341701838274"
     },
     "user_tz": -60
    },
    "id": "cO2e2wthGHih",
    "outputId": "6ed19c6a-fba4-4662-b21a-dadba4445a2f"
   },
   "outputs": [
    {
     "name": "stdout",
     "output_type": "stream",
     "text": [
      "        Name  Age    Pet  Height Birthday\n",
      "obs2    Bill   28  False     190    Junio\n",
      "obs3  Carlos   19  False     175   Agosto\n"
     ]
    }
   ],
   "source": [
    "# Seleccionamos la segunda y tercera observación con el método .iloc[]\n",
    "print(df.iloc[[1, 2]]) # lista de números"
   ]
  },
  {
   "cell_type": "code",
   "execution_count": null,
   "metadata": {
    "colab": {
     "base_uri": "https://localhost:8080/"
    },
    "executionInfo": {
     "elapsed": 544,
     "status": "ok",
     "timestamp": 1607594535962,
     "user": {
      "displayName": "María Santos Fernandez",
      "photoUrl": "",
      "userId": "05118399518218051952"
     },
     "user_tz": -60
    },
    "id": "kHYKLgPtGbZ0",
    "outputId": "d5212e14-c853-4998-f644-25611d9c152d"
   },
   "outputs": [
    {
     "name": "stdout",
     "output_type": "stream",
     "text": [
      "        Name  Age    Pet  Height Birthday\n",
      "obs2    Bill   28  False     190    Junio\n",
      "obs3  Carlos   19  False     175   Agosto\n"
     ]
    }
   ],
   "source": [
    "print(df.iloc[1:3]) # en rango número, el 3 no se incluye (el último)"
   ]
  },
  {
   "cell_type": "markdown",
   "metadata": {
    "id": "WZUgKnO2GouS"
   },
   "source": [
    "## Filas y columnas\n",
    "\n",
    "Para seleccionar un elemento en concreto, hay que indicar la fila y la columna y lo podemos hacer de dos formas:\n",
    "\n",
    "- Con el método `.loc[]` (por nombre o etiqueta)\n",
    "- Con el método `.iloc[]` (por índice) númerico"
   ]
  },
  {
   "cell_type": "code",
   "execution_count": null,
   "metadata": {
    "colab": {
     "base_uri": "https://localhost:8080/"
    },
    "executionInfo": {
     "elapsed": 1092,
     "status": "ok",
     "timestamp": 1611851868716,
     "user": {
      "displayName": "Juan Gabriel Gomila Salas",
      "photoUrl": "https://lh3.googleusercontent.com/a-/AOh14GjdBM44CAiZlDiF-IkE0NJQH-LHKt1b0A22wmma_w=s64",
      "userId": "03106941341701838274"
     },
     "user_tz": -60
    },
    "id": "9fyuXkNqG7q1",
    "outputId": "f87e29a7-55f5-4f81-b23e-0641dea1776a"
   },
   "outputs": [
    {
     "name": "stdout",
     "output_type": "stream",
     "text": [
      "28\n"
     ]
    }
   ],
   "source": [
    "# Seleccionamos la edad de la segunda observación con el método .loc[]\n",
    "# primero se indica la fila, luego la columna\n",
    "print(df.loc[\"obs2\", \"Age\"])"
   ]
  },
  {
   "cell_type": "code",
   "execution_count": null,
   "metadata": {
    "colab": {
     "base_uri": "https://localhost:8080/"
    },
    "executionInfo": {
     "elapsed": 822,
     "status": "ok",
     "timestamp": 1611851890078,
     "user": {
      "displayName": "Juan Gabriel Gomila Salas",
      "photoUrl": "https://lh3.googleusercontent.com/a-/AOh14GjdBM44CAiZlDiF-IkE0NJQH-LHKt1b0A22wmma_w=s64",
      "userId": "03106941341701838274"
     },
     "user_tz": -60
    },
    "id": "ygBCSbl8HGXR",
    "outputId": "c95388a2-2563-4b43-e931-90f1cd5f03ba"
   },
   "outputs": [
    {
     "name": "stdout",
     "output_type": "stream",
     "text": [
      "28\n"
     ]
    }
   ],
   "source": [
    "# Seleccionamos la edad de la segunda observación con el método .iloc[]\n",
    "print(df.iloc[1, 1])"
   ]
  },
  {
   "cell_type": "markdown",
   "metadata": {
    "id": "H0r-SDLNHQEp"
   },
   "source": [
    "Si queremos seleccionar un subconjunto de filas y columnas, podemos utilizar los dos métodos anteriores"
   ]
  },
  {
   "cell_type": "code",
   "execution_count": null,
   "metadata": {
    "colab": {
     "base_uri": "https://localhost:8080/"
    },
    "executionInfo": {
     "elapsed": 814,
     "status": "ok",
     "timestamp": 1611851948872,
     "user": {
      "displayName": "Juan Gabriel Gomila Salas",
      "photoUrl": "https://lh3.googleusercontent.com/a-/AOh14GjdBM44CAiZlDiF-IkE0NJQH-LHKt1b0A22wmma_w=s64",
      "userId": "03106941341701838274"
     },
     "user_tz": -60
    },
    "id": "XMhhTmUBHV7N",
    "outputId": "e9f9000d-6aff-4a08-c547-cceacc5d12b7"
   },
   "outputs": [
    {
     "name": "stdout",
     "output_type": "stream",
     "text": [
      "        Name Birthday\n",
      "obs2    Bill    Junio\n",
      "obs3  Carlos   Agosto\n"
     ]
    }
   ],
   "source": [
    "# Seleccionamos la segunda y tercera fila y las columnas nombre y cumpleaños\n",
    "# Con el método .loc[]\n",
    "# rango de filas y lista de columnas\n",
    "print(df.loc[\"obs2\":\"obs3\", [\"Name\", \"Birthday\"]])"
   ]
  },
  {
   "cell_type": "code",
   "execution_count": null,
   "metadata": {
    "colab": {
     "base_uri": "https://localhost:8080/"
    },
    "executionInfo": {
     "elapsed": 711,
     "status": "ok",
     "timestamp": 1611851993092,
     "user": {
      "displayName": "Juan Gabriel Gomila Salas",
      "photoUrl": "https://lh3.googleusercontent.com/a-/AOh14GjdBM44CAiZlDiF-IkE0NJQH-LHKt1b0A22wmma_w=s64",
      "userId": "03106941341701838274"
     },
     "user_tz": -60
    },
    "id": "BWnsPa3dHxYE",
    "outputId": "bec59956-a041-4669-99da-f563798b3d8a"
   },
   "outputs": [
    {
     "name": "stdout",
     "output_type": "stream",
     "text": [
      "        Name Birthday\n",
      "obs2    Bill    Junio\n",
      "obs3  Carlos   Agosto\n"
     ]
    }
   ],
   "source": [
    "# Con el método .iloc[]\n",
    "# con indices númericos\n",
    "print(df.iloc[1:3, [0, 4]])"
   ]
  },
  {
   "cell_type": "markdown",
   "metadata": {
    "id": "TTihV0RoiDGe"
   },
   "source": [
    "## Métodos de dataframes\n",
    "\n",
    "El método `.head()` sirve para visualizar las primeras filas del dataframe. Por defecto, se nos mostrarán las 5 primeras\n",
    "\n"
   ]
  },
  {
   "cell_type": "code",
   "execution_count": 16,
   "metadata": {
    "id": "HOX3_zoya1Ns"
   },
   "outputs": [],
   "source": [
    "import pandas as pd"
   ]
  },
  {
   "cell_type": "code",
   "execution_count": 25,
   "metadata": {
    "id": "j-OlV-37uOq2"
   },
   "outputs": [],
   "source": [
    "# cantidad de frutas\n",
    "d = {\"fruit\": [\"sandía\", \"melón\", \"manzana\", \"cerezas\", \"plátano\", \"pera\", \"melocotón\", \"fresas\"],\n",
    "     \"count\": [1, 1, 6, 10, 3, 6, 4, 10]}\n",
    "\n",
    "df = pd.DataFrame(d)"
   ]
  },
  {
   "cell_type": "code",
   "execution_count": 26,
   "metadata": {
    "colab": {
     "base_uri": "https://localhost:8080/",
     "height": 204
    },
    "executionInfo": {
     "elapsed": 761,
     "status": "ok",
     "timestamp": 1611911650218,
     "user": {
      "displayName": "Juan Gabriel Gomila Salas",
      "photoUrl": "https://lh3.googleusercontent.com/a-/AOh14GjdBM44CAiZlDiF-IkE0NJQH-LHKt1b0A22wmma_w=s64",
      "userId": "03106941341701838274"
     },
     "user_tz": -60
    },
    "id": "FyLoCSgmuRR2",
    "outputId": "07363696-8931-48ee-b839-eb3b346202b2"
   },
   "outputs": [
    {
     "data": {
      "text/html": [
       "<div>\n",
       "<style scoped>\n",
       "    .dataframe tbody tr th:only-of-type {\n",
       "        vertical-align: middle;\n",
       "    }\n",
       "\n",
       "    .dataframe tbody tr th {\n",
       "        vertical-align: top;\n",
       "    }\n",
       "\n",
       "    .dataframe thead th {\n",
       "        text-align: right;\n",
       "    }\n",
       "</style>\n",
       "<table border=\"1\" class=\"dataframe\">\n",
       "  <thead>\n",
       "    <tr style=\"text-align: right;\">\n",
       "      <th></th>\n",
       "      <th>fruit</th>\n",
       "      <th>count</th>\n",
       "    </tr>\n",
       "  </thead>\n",
       "  <tbody>\n",
       "    <tr>\n",
       "      <th>0</th>\n",
       "      <td>sandía</td>\n",
       "      <td>1</td>\n",
       "    </tr>\n",
       "    <tr>\n",
       "      <th>1</th>\n",
       "      <td>melón</td>\n",
       "      <td>1</td>\n",
       "    </tr>\n",
       "    <tr>\n",
       "      <th>2</th>\n",
       "      <td>manzana</td>\n",
       "      <td>6</td>\n",
       "    </tr>\n",
       "    <tr>\n",
       "      <th>3</th>\n",
       "      <td>cerezas</td>\n",
       "      <td>10</td>\n",
       "    </tr>\n",
       "    <tr>\n",
       "      <th>4</th>\n",
       "      <td>plátano</td>\n",
       "      <td>3</td>\n",
       "    </tr>\n",
       "  </tbody>\n",
       "</table>\n",
       "</div>"
      ],
      "text/plain": [
       "     fruit  count\n",
       "0   sandía      1\n",
       "1    melón      1\n",
       "2  manzana      6\n",
       "3  cerezas     10\n",
       "4  plátano      3"
      ]
     },
     "execution_count": 26,
     "metadata": {},
     "output_type": "execute_result"
    }
   ],
   "source": [
    "df.head() # vemos los 1ros 5 elementos por defecto"
   ]
  },
  {
   "cell_type": "markdown",
   "metadata": {
    "id": "_ASYV8dcuakX"
   },
   "source": [
    "Si queremos que se nos muestre un número determinado de filas, tenemos que indicarlo por parámetro:"
   ]
  },
  {
   "cell_type": "code",
   "execution_count": null,
   "metadata": {
    "colab": {
     "base_uri": "https://localhost:8080/",
     "height": 142
    },
    "executionInfo": {
     "elapsed": 917,
     "status": "ok",
     "timestamp": 1611911673737,
     "user": {
      "displayName": "Juan Gabriel Gomila Salas",
      "photoUrl": "https://lh3.googleusercontent.com/a-/AOh14GjdBM44CAiZlDiF-IkE0NJQH-LHKt1b0A22wmma_w=s64",
      "userId": "03106941341701838274"
     },
     "user_tz": -60
    },
    "id": "4UQXfyUXufvw",
    "outputId": "ba781c4f-bbb5-4d62-ed75-7338cf713f7c"
   },
   "outputs": [
    {
     "data": {
      "text/html": [
       "<div>\n",
       "<style scoped>\n",
       "    .dataframe tbody tr th:only-of-type {\n",
       "        vertical-align: middle;\n",
       "    }\n",
       "\n",
       "    .dataframe tbody tr th {\n",
       "        vertical-align: top;\n",
       "    }\n",
       "\n",
       "    .dataframe thead th {\n",
       "        text-align: right;\n",
       "    }\n",
       "</style>\n",
       "<table border=\"1\" class=\"dataframe\">\n",
       "  <thead>\n",
       "    <tr style=\"text-align: right;\">\n",
       "      <th></th>\n",
       "      <th>fruit</th>\n",
       "      <th>count</th>\n",
       "    </tr>\n",
       "  </thead>\n",
       "  <tbody>\n",
       "    <tr>\n",
       "      <th>0</th>\n",
       "      <td>sandía</td>\n",
       "      <td>1</td>\n",
       "    </tr>\n",
       "    <tr>\n",
       "      <th>1</th>\n",
       "      <td>melón</td>\n",
       "      <td>1</td>\n",
       "    </tr>\n",
       "    <tr>\n",
       "      <th>2</th>\n",
       "      <td>manzana</td>\n",
       "      <td>6</td>\n",
       "    </tr>\n",
       "  </tbody>\n",
       "</table>\n",
       "</div>"
      ],
      "text/plain": [
       "     fruit  count\n",
       "0   sandía      1\n",
       "1    melón      1\n",
       "2  manzana      6"
      ]
     },
     "execution_count": 5,
     "metadata": {
      "tags": []
     },
     "output_type": "execute_result"
    }
   ],
   "source": [
    "df.head(3)"
   ]
  },
  {
   "cell_type": "code",
   "execution_count": null,
   "metadata": {
    "colab": {
     "base_uri": "https://localhost:8080/",
     "height": 235
    },
    "executionInfo": {
     "elapsed": 745,
     "status": "ok",
     "timestamp": 1611911677457,
     "user": {
      "displayName": "Juan Gabriel Gomila Salas",
      "photoUrl": "https://lh3.googleusercontent.com/a-/AOh14GjdBM44CAiZlDiF-IkE0NJQH-LHKt1b0A22wmma_w=s64",
      "userId": "03106941341701838274"
     },
     "user_tz": -60
    },
    "id": "LHZTZuZ2vNlf",
    "outputId": "053a14b5-a810-4b97-9b0a-5734f6880cf3"
   },
   "outputs": [
    {
     "data": {
      "text/html": [
       "<div>\n",
       "<style scoped>\n",
       "    .dataframe tbody tr th:only-of-type {\n",
       "        vertical-align: middle;\n",
       "    }\n",
       "\n",
       "    .dataframe tbody tr th {\n",
       "        vertical-align: top;\n",
       "    }\n",
       "\n",
       "    .dataframe thead th {\n",
       "        text-align: right;\n",
       "    }\n",
       "</style>\n",
       "<table border=\"1\" class=\"dataframe\">\n",
       "  <thead>\n",
       "    <tr style=\"text-align: right;\">\n",
       "      <th></th>\n",
       "      <th>fruit</th>\n",
       "      <th>count</th>\n",
       "    </tr>\n",
       "  </thead>\n",
       "  <tbody>\n",
       "    <tr>\n",
       "      <th>0</th>\n",
       "      <td>sandía</td>\n",
       "      <td>1</td>\n",
       "    </tr>\n",
       "    <tr>\n",
       "      <th>1</th>\n",
       "      <td>melón</td>\n",
       "      <td>1</td>\n",
       "    </tr>\n",
       "    <tr>\n",
       "      <th>2</th>\n",
       "      <td>manzana</td>\n",
       "      <td>6</td>\n",
       "    </tr>\n",
       "    <tr>\n",
       "      <th>3</th>\n",
       "      <td>cerezas</td>\n",
       "      <td>10</td>\n",
       "    </tr>\n",
       "    <tr>\n",
       "      <th>4</th>\n",
       "      <td>plátano</td>\n",
       "      <td>3</td>\n",
       "    </tr>\n",
       "    <tr>\n",
       "      <th>5</th>\n",
       "      <td>pera</td>\n",
       "      <td>6</td>\n",
       "    </tr>\n",
       "  </tbody>\n",
       "</table>\n",
       "</div>"
      ],
      "text/plain": [
       "     fruit  count\n",
       "0   sandía      1\n",
       "1    melón      1\n",
       "2  manzana      6\n",
       "3  cerezas     10\n",
       "4  plátano      3\n",
       "5     pera      6"
      ]
     },
     "execution_count": 6,
     "metadata": {
      "tags": []
     },
     "output_type": "execute_result"
    }
   ],
   "source": [
    "df.head(6)"
   ]
  },
  {
   "cell_type": "markdown",
   "metadata": {
    "id": "QEVTf0ODvam9"
   },
   "source": [
    "El método `.tail()` sirve para visualizar las últimas filas del dataframe. Por defecto, se nos mostrarán las 5 últimas"
   ]
  },
  {
   "cell_type": "code",
   "execution_count": null,
   "metadata": {
    "colab": {
     "base_uri": "https://localhost:8080/",
     "height": 204
    },
    "executionInfo": {
     "elapsed": 774,
     "status": "ok",
     "timestamp": 1611911698054,
     "user": {
      "displayName": "Juan Gabriel Gomila Salas",
      "photoUrl": "https://lh3.googleusercontent.com/a-/AOh14GjdBM44CAiZlDiF-IkE0NJQH-LHKt1b0A22wmma_w=s64",
      "userId": "03106941341701838274"
     },
     "user_tz": -60
    },
    "id": "jp2Hit--vePy",
    "outputId": "3a56733b-4eae-48fb-dd0c-0e35129127a9"
   },
   "outputs": [
    {
     "data": {
      "text/html": [
       "<div>\n",
       "<style scoped>\n",
       "    .dataframe tbody tr th:only-of-type {\n",
       "        vertical-align: middle;\n",
       "    }\n",
       "\n",
       "    .dataframe tbody tr th {\n",
       "        vertical-align: top;\n",
       "    }\n",
       "\n",
       "    .dataframe thead th {\n",
       "        text-align: right;\n",
       "    }\n",
       "</style>\n",
       "<table border=\"1\" class=\"dataframe\">\n",
       "  <thead>\n",
       "    <tr style=\"text-align: right;\">\n",
       "      <th></th>\n",
       "      <th>fruit</th>\n",
       "      <th>count</th>\n",
       "    </tr>\n",
       "  </thead>\n",
       "  <tbody>\n",
       "    <tr>\n",
       "      <th>3</th>\n",
       "      <td>cerezas</td>\n",
       "      <td>10</td>\n",
       "    </tr>\n",
       "    <tr>\n",
       "      <th>4</th>\n",
       "      <td>plátano</td>\n",
       "      <td>3</td>\n",
       "    </tr>\n",
       "    <tr>\n",
       "      <th>5</th>\n",
       "      <td>pera</td>\n",
       "      <td>6</td>\n",
       "    </tr>\n",
       "    <tr>\n",
       "      <th>6</th>\n",
       "      <td>melocotón</td>\n",
       "      <td>4</td>\n",
       "    </tr>\n",
       "    <tr>\n",
       "      <th>7</th>\n",
       "      <td>fresas</td>\n",
       "      <td>10</td>\n",
       "    </tr>\n",
       "  </tbody>\n",
       "</table>\n",
       "</div>"
      ],
      "text/plain": [
       "       fruit  count\n",
       "3    cerezas     10\n",
       "4    plátano      3\n",
       "5       pera      6\n",
       "6  melocotón      4\n",
       "7     fresas     10"
      ]
     },
     "execution_count": 7,
     "metadata": {
      "tags": []
     },
     "output_type": "execute_result"
    }
   ],
   "source": [
    "df.tail() # por defecto muestra las 5 ultimas"
   ]
  },
  {
   "cell_type": "markdown",
   "metadata": {
    "id": "agV-B6bOvfjY"
   },
   "source": [
    "Si queremos que se nos muestre un número determinado de filas, tenemos que indicarlo por parámetro:"
   ]
  },
  {
   "cell_type": "code",
   "execution_count": null,
   "metadata": {
    "colab": {
     "base_uri": "https://localhost:8080/",
     "height": 142
    },
    "executionInfo": {
     "elapsed": 858,
     "status": "ok",
     "timestamp": 1611911717247,
     "user": {
      "displayName": "Juan Gabriel Gomila Salas",
      "photoUrl": "https://lh3.googleusercontent.com/a-/AOh14GjdBM44CAiZlDiF-IkE0NJQH-LHKt1b0A22wmma_w=s64",
      "userId": "03106941341701838274"
     },
     "user_tz": -60
    },
    "id": "gW5hK9RyvjQv",
    "outputId": "d73ce7cc-3c92-4477-a7d3-4587d5171606"
   },
   "outputs": [
    {
     "data": {
      "text/html": [
       "<div>\n",
       "<style scoped>\n",
       "    .dataframe tbody tr th:only-of-type {\n",
       "        vertical-align: middle;\n",
       "    }\n",
       "\n",
       "    .dataframe tbody tr th {\n",
       "        vertical-align: top;\n",
       "    }\n",
       "\n",
       "    .dataframe thead th {\n",
       "        text-align: right;\n",
       "    }\n",
       "</style>\n",
       "<table border=\"1\" class=\"dataframe\">\n",
       "  <thead>\n",
       "    <tr style=\"text-align: right;\">\n",
       "      <th></th>\n",
       "      <th>fruit</th>\n",
       "      <th>count</th>\n",
       "    </tr>\n",
       "  </thead>\n",
       "  <tbody>\n",
       "    <tr>\n",
       "      <th>5</th>\n",
       "      <td>pera</td>\n",
       "      <td>6</td>\n",
       "    </tr>\n",
       "    <tr>\n",
       "      <th>6</th>\n",
       "      <td>melocotón</td>\n",
       "      <td>4</td>\n",
       "    </tr>\n",
       "    <tr>\n",
       "      <th>7</th>\n",
       "      <td>fresas</td>\n",
       "      <td>10</td>\n",
       "    </tr>\n",
       "  </tbody>\n",
       "</table>\n",
       "</div>"
      ],
      "text/plain": [
       "       fruit  count\n",
       "5       pera      6\n",
       "6  melocotón      4\n",
       "7     fresas     10"
      ]
     },
     "execution_count": 8,
     "metadata": {
      "tags": []
     },
     "output_type": "execute_result"
    }
   ],
   "source": [
    "df.tail(3)"
   ]
  },
  {
   "cell_type": "code",
   "execution_count": null,
   "metadata": {
    "colab": {
     "base_uri": "https://localhost:8080/",
     "height": 235
    },
    "executionInfo": {
     "elapsed": 764,
     "status": "ok",
     "timestamp": 1611911727554,
     "user": {
      "displayName": "Juan Gabriel Gomila Salas",
      "photoUrl": "https://lh3.googleusercontent.com/a-/AOh14GjdBM44CAiZlDiF-IkE0NJQH-LHKt1b0A22wmma_w=s64",
      "userId": "03106941341701838274"
     },
     "user_tz": -60
    },
    "id": "35TWHRKWvkzJ",
    "outputId": "e2ae56ad-8205-4a17-e2b2-13b968bb1770"
   },
   "outputs": [
    {
     "data": {
      "text/html": [
       "<div>\n",
       "<style scoped>\n",
       "    .dataframe tbody tr th:only-of-type {\n",
       "        vertical-align: middle;\n",
       "    }\n",
       "\n",
       "    .dataframe tbody tr th {\n",
       "        vertical-align: top;\n",
       "    }\n",
       "\n",
       "    .dataframe thead th {\n",
       "        text-align: right;\n",
       "    }\n",
       "</style>\n",
       "<table border=\"1\" class=\"dataframe\">\n",
       "  <thead>\n",
       "    <tr style=\"text-align: right;\">\n",
       "      <th></th>\n",
       "      <th>fruit</th>\n",
       "      <th>count</th>\n",
       "    </tr>\n",
       "  </thead>\n",
       "  <tbody>\n",
       "    <tr>\n",
       "      <th>2</th>\n",
       "      <td>manzana</td>\n",
       "      <td>6</td>\n",
       "    </tr>\n",
       "    <tr>\n",
       "      <th>3</th>\n",
       "      <td>cerezas</td>\n",
       "      <td>10</td>\n",
       "    </tr>\n",
       "    <tr>\n",
       "      <th>4</th>\n",
       "      <td>plátano</td>\n",
       "      <td>3</td>\n",
       "    </tr>\n",
       "    <tr>\n",
       "      <th>5</th>\n",
       "      <td>pera</td>\n",
       "      <td>6</td>\n",
       "    </tr>\n",
       "    <tr>\n",
       "      <th>6</th>\n",
       "      <td>melocotón</td>\n",
       "      <td>4</td>\n",
       "    </tr>\n",
       "    <tr>\n",
       "      <th>7</th>\n",
       "      <td>fresas</td>\n",
       "      <td>10</td>\n",
       "    </tr>\n",
       "  </tbody>\n",
       "</table>\n",
       "</div>"
      ],
      "text/plain": [
       "       fruit  count\n",
       "2    manzana      6\n",
       "3    cerezas     10\n",
       "4    plátano      3\n",
       "5       pera      6\n",
       "6  melocotón      4\n",
       "7     fresas     10"
      ]
     },
     "execution_count": 9,
     "metadata": {
      "tags": []
     },
     "output_type": "execute_result"
    }
   ],
   "source": [
    "df.tail(6)"
   ]
  },
  {
   "cell_type": "markdown",
   "metadata": {
    "id": "2OuoALJbtMvd"
   },
   "source": [
    "El método `.copy()` nos sirve para realizar una copia de un dataframe.\n",
    "\n",
    "Si simplemente realizamos"
   ]
  },
  {
   "cell_type": "code",
   "execution_count": 27,
   "metadata": {
    "id": "a6Y_G7IstSsp"
   },
   "outputs": [],
   "source": [
    "fruits = df # esto no genera una copia, solo una referencia al mismo df\n",
    "# si realizamos una modificación en cualquiera, se verá reflejado en el otro"
   ]
  },
  {
   "cell_type": "markdown",
   "metadata": {
    "id": "zE7fCRcptWcg"
   },
   "source": [
    "El dataframe llamado `fruits` es solo una referencia del dataframe original `df` pues si realizamos algún cambio en `fruits`, se realiza también en `df`"
   ]
  },
  {
   "cell_type": "code",
   "execution_count": 28,
   "metadata": {
    "colab": {
     "base_uri": "https://localhost:8080/",
     "height": 297
    },
    "executionInfo": {
     "elapsed": 763,
     "status": "ok",
     "timestamp": 1611911802931,
     "user": {
      "displayName": "Juan Gabriel Gomila Salas",
      "photoUrl": "https://lh3.googleusercontent.com/a-/AOh14GjdBM44CAiZlDiF-IkE0NJQH-LHKt1b0A22wmma_w=s64",
      "userId": "03106941341701838274"
     },
     "user_tz": -60
    },
    "id": "1sjIssb9tVzk",
    "outputId": "22d0681c-9a5a-4581-9896-e333e2386b8c"
   },
   "outputs": [
    {
     "data": {
      "text/html": [
       "<div>\n",
       "<style scoped>\n",
       "    .dataframe tbody tr th:only-of-type {\n",
       "        vertical-align: middle;\n",
       "    }\n",
       "\n",
       "    .dataframe tbody tr th {\n",
       "        vertical-align: top;\n",
       "    }\n",
       "\n",
       "    .dataframe thead th {\n",
       "        text-align: right;\n",
       "    }\n",
       "</style>\n",
       "<table border=\"1\" class=\"dataframe\">\n",
       "  <thead>\n",
       "    <tr style=\"text-align: right;\">\n",
       "      <th></th>\n",
       "      <th>fruit</th>\n",
       "      <th>count</th>\n",
       "    </tr>\n",
       "  </thead>\n",
       "  <tbody>\n",
       "    <tr>\n",
       "      <th>0</th>\n",
       "      <td>sandía</td>\n",
       "      <td>1</td>\n",
       "    </tr>\n",
       "    <tr>\n",
       "      <th>1</th>\n",
       "      <td>melón</td>\n",
       "      <td>1</td>\n",
       "    </tr>\n",
       "    <tr>\n",
       "      <th>2</th>\n",
       "      <td>manzana</td>\n",
       "      <td>6</td>\n",
       "    </tr>\n",
       "    <tr>\n",
       "      <th>3</th>\n",
       "      <td>cerezas</td>\n",
       "      <td>10</td>\n",
       "    </tr>\n",
       "    <tr>\n",
       "      <th>4</th>\n",
       "      <td>plátano</td>\n",
       "      <td>3</td>\n",
       "    </tr>\n",
       "    <tr>\n",
       "      <th>5</th>\n",
       "      <td>pera</td>\n",
       "      <td>6</td>\n",
       "    </tr>\n",
       "    <tr>\n",
       "      <th>6</th>\n",
       "      <td>naranja</td>\n",
       "      <td>4</td>\n",
       "    </tr>\n",
       "    <tr>\n",
       "      <th>7</th>\n",
       "      <td>fresas</td>\n",
       "      <td>10</td>\n",
       "    </tr>\n",
       "  </tbody>\n",
       "</table>\n",
       "</div>"
      ],
      "text/plain": [
       "     fruit  count\n",
       "0   sandía      1\n",
       "1    melón      1\n",
       "2  manzana      6\n",
       "3  cerezas     10\n",
       "4  plátano      3\n",
       "5     pera      6\n",
       "6  naranja      4\n",
       "7   fresas     10"
      ]
     },
     "execution_count": 28,
     "metadata": {},
     "output_type": "execute_result"
    }
   ],
   "source": [
    "fruits.iloc[6, 0] = \"naranja\"\n",
    "fruits"
   ]
  },
  {
   "cell_type": "code",
   "execution_count": 29,
   "metadata": {
    "colab": {
     "base_uri": "https://localhost:8080/",
     "height": 297
    },
    "executionInfo": {
     "elapsed": 760,
     "status": "ok",
     "timestamp": 1611911822660,
     "user": {
      "displayName": "Juan Gabriel Gomila Salas",
      "photoUrl": "https://lh3.googleusercontent.com/a-/AOh14GjdBM44CAiZlDiF-IkE0NJQH-LHKt1b0A22wmma_w=s64",
      "userId": "03106941341701838274"
     },
     "user_tz": -60
    },
    "id": "qWhG8llytu7U",
    "outputId": "713f9f3b-2939-4417-cf04-d2f032ba65cd"
   },
   "outputs": [
    {
     "data": {
      "text/html": [
       "<div>\n",
       "<style scoped>\n",
       "    .dataframe tbody tr th:only-of-type {\n",
       "        vertical-align: middle;\n",
       "    }\n",
       "\n",
       "    .dataframe tbody tr th {\n",
       "        vertical-align: top;\n",
       "    }\n",
       "\n",
       "    .dataframe thead th {\n",
       "        text-align: right;\n",
       "    }\n",
       "</style>\n",
       "<table border=\"1\" class=\"dataframe\">\n",
       "  <thead>\n",
       "    <tr style=\"text-align: right;\">\n",
       "      <th></th>\n",
       "      <th>fruit</th>\n",
       "      <th>count</th>\n",
       "    </tr>\n",
       "  </thead>\n",
       "  <tbody>\n",
       "    <tr>\n",
       "      <th>0</th>\n",
       "      <td>sandía</td>\n",
       "      <td>1</td>\n",
       "    </tr>\n",
       "    <tr>\n",
       "      <th>1</th>\n",
       "      <td>melón</td>\n",
       "      <td>1</td>\n",
       "    </tr>\n",
       "    <tr>\n",
       "      <th>2</th>\n",
       "      <td>manzana</td>\n",
       "      <td>6</td>\n",
       "    </tr>\n",
       "    <tr>\n",
       "      <th>3</th>\n",
       "      <td>cerezas</td>\n",
       "      <td>10</td>\n",
       "    </tr>\n",
       "    <tr>\n",
       "      <th>4</th>\n",
       "      <td>plátano</td>\n",
       "      <td>3</td>\n",
       "    </tr>\n",
       "    <tr>\n",
       "      <th>5</th>\n",
       "      <td>pera</td>\n",
       "      <td>6</td>\n",
       "    </tr>\n",
       "    <tr>\n",
       "      <th>6</th>\n",
       "      <td>naranja</td>\n",
       "      <td>4</td>\n",
       "    </tr>\n",
       "    <tr>\n",
       "      <th>7</th>\n",
       "      <td>fresas</td>\n",
       "      <td>10</td>\n",
       "    </tr>\n",
       "  </tbody>\n",
       "</table>\n",
       "</div>"
      ],
      "text/plain": [
       "     fruit  count\n",
       "0   sandía      1\n",
       "1    melón      1\n",
       "2  manzana      6\n",
       "3  cerezas     10\n",
       "4  plátano      3\n",
       "5     pera      6\n",
       "6  naranja      4\n",
       "7   fresas     10"
      ]
     },
     "execution_count": 29,
     "metadata": {},
     "output_type": "execute_result"
    }
   ],
   "source": [
    "df"
   ]
  },
  {
   "cell_type": "markdown",
   "metadata": {
    "id": "pupjqFbTt4JP"
   },
   "source": [
    "En cambio, si `fruits` es definido como"
   ]
  },
  {
   "cell_type": "code",
   "execution_count": 30,
   "metadata": {
    "id": "kTCMd_C3t3Ay"
   },
   "outputs": [],
   "source": [
    "fruits = df.copy() # copy si realiza una copia como tal"
   ]
  },
  {
   "cell_type": "markdown",
   "metadata": {
    "id": "cFzqXBlHt_94"
   },
   "source": [
    "entonces ahora sí es una copia independiente del dataframe original y por muchos cambios que hagamos sobre dicha copia, el original se mantiene intacto"
   ]
  },
  {
   "cell_type": "code",
   "execution_count": 31,
   "metadata": {
    "colab": {
     "base_uri": "https://localhost:8080/",
     "height": 297
    },
    "executionInfo": {
     "elapsed": 871,
     "status": "ok",
     "timestamp": 1611911919214,
     "user": {
      "displayName": "Juan Gabriel Gomila Salas",
      "photoUrl": "https://lh3.googleusercontent.com/a-/AOh14GjdBM44CAiZlDiF-IkE0NJQH-LHKt1b0A22wmma_w=s64",
      "userId": "03106941341701838274"
     },
     "user_tz": -60
    },
    "id": "r-PR_s-QuHOz",
    "outputId": "008f9737-e9f2-46f3-ed15-a773b9e531fe"
   },
   "outputs": [
    {
     "data": {
      "text/html": [
       "<div>\n",
       "<style scoped>\n",
       "    .dataframe tbody tr th:only-of-type {\n",
       "        vertical-align: middle;\n",
       "    }\n",
       "\n",
       "    .dataframe tbody tr th {\n",
       "        vertical-align: top;\n",
       "    }\n",
       "\n",
       "    .dataframe thead th {\n",
       "        text-align: right;\n",
       "    }\n",
       "</style>\n",
       "<table border=\"1\" class=\"dataframe\">\n",
       "  <thead>\n",
       "    <tr style=\"text-align: right;\">\n",
       "      <th></th>\n",
       "      <th>fruit</th>\n",
       "      <th>count</th>\n",
       "    </tr>\n",
       "  </thead>\n",
       "  <tbody>\n",
       "    <tr>\n",
       "      <th>0</th>\n",
       "      <td>sandía</td>\n",
       "      <td>1</td>\n",
       "    </tr>\n",
       "    <tr>\n",
       "      <th>1</th>\n",
       "      <td>melón</td>\n",
       "      <td>1</td>\n",
       "    </tr>\n",
       "    <tr>\n",
       "      <th>2</th>\n",
       "      <td>manzana</td>\n",
       "      <td>6</td>\n",
       "    </tr>\n",
       "    <tr>\n",
       "      <th>3</th>\n",
       "      <td>cerezas</td>\n",
       "      <td>10</td>\n",
       "    </tr>\n",
       "    <tr>\n",
       "      <th>4</th>\n",
       "      <td>plátano</td>\n",
       "      <td>3</td>\n",
       "    </tr>\n",
       "    <tr>\n",
       "      <th>5</th>\n",
       "      <td>pera</td>\n",
       "      <td>6</td>\n",
       "    </tr>\n",
       "    <tr>\n",
       "      <th>6</th>\n",
       "      <td>nectarina</td>\n",
       "      <td>4</td>\n",
       "    </tr>\n",
       "    <tr>\n",
       "      <th>7</th>\n",
       "      <td>fresas</td>\n",
       "      <td>10</td>\n",
       "    </tr>\n",
       "  </tbody>\n",
       "</table>\n",
       "</div>"
      ],
      "text/plain": [
       "       fruit  count\n",
       "0     sandía      1\n",
       "1      melón      1\n",
       "2    manzana      6\n",
       "3    cerezas     10\n",
       "4    plátano      3\n",
       "5       pera      6\n",
       "6  nectarina      4\n",
       "7     fresas     10"
      ]
     },
     "execution_count": 31,
     "metadata": {},
     "output_type": "execute_result"
    }
   ],
   "source": [
    "fruits.iloc[6, 0] = \"nectarina\"\n",
    "fruits"
   ]
  },
  {
   "cell_type": "code",
   "execution_count": null,
   "metadata": {
    "colab": {
     "base_uri": "https://localhost:8080/",
     "height": 297
    },
    "executionInfo": {
     "elapsed": 803,
     "status": "ok",
     "timestamp": 1611911929757,
     "user": {
      "displayName": "Juan Gabriel Gomila Salas",
      "photoUrl": "https://lh3.googleusercontent.com/a-/AOh14GjdBM44CAiZlDiF-IkE0NJQH-LHKt1b0A22wmma_w=s64",
      "userId": "03106941341701838274"
     },
     "user_tz": -60
    },
    "id": "QfYAVXznuLfn",
    "outputId": "5c5cee9d-36e3-4a93-e8e0-79a40a8ea4a1"
   },
   "outputs": [
    {
     "data": {
      "text/html": [
       "<div>\n",
       "<style scoped>\n",
       "    .dataframe tbody tr th:only-of-type {\n",
       "        vertical-align: middle;\n",
       "    }\n",
       "\n",
       "    .dataframe tbody tr th {\n",
       "        vertical-align: top;\n",
       "    }\n",
       "\n",
       "    .dataframe thead th {\n",
       "        text-align: right;\n",
       "    }\n",
       "</style>\n",
       "<table border=\"1\" class=\"dataframe\">\n",
       "  <thead>\n",
       "    <tr style=\"text-align: right;\">\n",
       "      <th></th>\n",
       "      <th>fruit</th>\n",
       "      <th>count</th>\n",
       "    </tr>\n",
       "  </thead>\n",
       "  <tbody>\n",
       "    <tr>\n",
       "      <th>0</th>\n",
       "      <td>sandía</td>\n",
       "      <td>1</td>\n",
       "    </tr>\n",
       "    <tr>\n",
       "      <th>1</th>\n",
       "      <td>melón</td>\n",
       "      <td>1</td>\n",
       "    </tr>\n",
       "    <tr>\n",
       "      <th>2</th>\n",
       "      <td>manzana</td>\n",
       "      <td>6</td>\n",
       "    </tr>\n",
       "    <tr>\n",
       "      <th>3</th>\n",
       "      <td>cerezas</td>\n",
       "      <td>10</td>\n",
       "    </tr>\n",
       "    <tr>\n",
       "      <th>4</th>\n",
       "      <td>plátano</td>\n",
       "      <td>3</td>\n",
       "    </tr>\n",
       "    <tr>\n",
       "      <th>5</th>\n",
       "      <td>pera</td>\n",
       "      <td>6</td>\n",
       "    </tr>\n",
       "    <tr>\n",
       "      <th>6</th>\n",
       "      <td>naranja</td>\n",
       "      <td>4</td>\n",
       "    </tr>\n",
       "    <tr>\n",
       "      <th>7</th>\n",
       "      <td>fresas</td>\n",
       "      <td>10</td>\n",
       "    </tr>\n",
       "  </tbody>\n",
       "</table>\n",
       "</div>"
      ],
      "text/plain": [
       "     fruit  count\n",
       "0   sandía      1\n",
       "1    melón      1\n",
       "2  manzana      6\n",
       "3  cerezas     10\n",
       "4  plátano      3\n",
       "5     pera      6\n",
       "6  naranja      4\n",
       "7   fresas     10"
      ]
     },
     "execution_count": 15,
     "metadata": {
      "tags": []
     },
     "output_type": "execute_result"
    }
   ],
   "source": [
    "df"
   ]
  },
  {
   "cell_type": "markdown",
   "metadata": {
    "id": "stf4jgh1f4iq"
   },
   "source": [
    "El método `.rename()` se puede utilizar tanto para cambiar las etiquetas de las filas como los nombres de las columnas. \n",
    "\n",
    "**¡Cuidado!** Para que los cambios se guarden en el dataframe original, necesitamos indicar `inplace = True`, de lo contrario, lo único que estamos haciendo es duplicar el dataframe, cambiando el nombre de las filas o columnas"
   ]
  },
  {
   "cell_type": "code",
   "execution_count": 32,
   "metadata": {
    "colab": {
     "base_uri": "https://localhost:8080/",
     "height": 297
    },
    "executionInfo": {
     "elapsed": 859,
     "status": "ok",
     "timestamp": 1611912030719,
     "user": {
      "displayName": "Juan Gabriel Gomila Salas",
      "photoUrl": "https://lh3.googleusercontent.com/a-/AOh14GjdBM44CAiZlDiF-IkE0NJQH-LHKt1b0A22wmma_w=s64",
      "userId": "03106941341701838274"
     },
     "user_tz": -60
    },
    "id": "ZV8KNFZhfj3S",
    "outputId": "8e0810b3-a786-4fb4-98dc-7af74e83be23"
   },
   "outputs": [
    {
     "data": {
      "text/html": [
       "<div>\n",
       "<style scoped>\n",
       "    .dataframe tbody tr th:only-of-type {\n",
       "        vertical-align: middle;\n",
       "    }\n",
       "\n",
       "    .dataframe tbody tr th {\n",
       "        vertical-align: top;\n",
       "    }\n",
       "\n",
       "    .dataframe thead th {\n",
       "        text-align: right;\n",
       "    }\n",
       "</style>\n",
       "<table border=\"1\" class=\"dataframe\">\n",
       "  <thead>\n",
       "    <tr style=\"text-align: right;\">\n",
       "      <th></th>\n",
       "      <th>fruit</th>\n",
       "      <th>count</th>\n",
       "    </tr>\n",
       "  </thead>\n",
       "  <tbody>\n",
       "    <tr>\n",
       "      <th>0</th>\n",
       "      <td>sandía</td>\n",
       "      <td>1</td>\n",
       "    </tr>\n",
       "    <tr>\n",
       "      <th>1</th>\n",
       "      <td>melón</td>\n",
       "      <td>1</td>\n",
       "    </tr>\n",
       "    <tr>\n",
       "      <th>2</th>\n",
       "      <td>manzana</td>\n",
       "      <td>6</td>\n",
       "    </tr>\n",
       "    <tr>\n",
       "      <th>3</th>\n",
       "      <td>cerezas</td>\n",
       "      <td>10</td>\n",
       "    </tr>\n",
       "    <tr>\n",
       "      <th>4</th>\n",
       "      <td>plátano</td>\n",
       "      <td>3</td>\n",
       "    </tr>\n",
       "    <tr>\n",
       "      <th>5</th>\n",
       "      <td>pera</td>\n",
       "      <td>6</td>\n",
       "    </tr>\n",
       "    <tr>\n",
       "      <th>6</th>\n",
       "      <td>naranja</td>\n",
       "      <td>4</td>\n",
       "    </tr>\n",
       "    <tr>\n",
       "      <th>7</th>\n",
       "      <td>fresas</td>\n",
       "      <td>10</td>\n",
       "    </tr>\n",
       "  </tbody>\n",
       "</table>\n",
       "</div>"
      ],
      "text/plain": [
       "     fruit  count\n",
       "0   sandía      1\n",
       "1    melón      1\n",
       "2  manzana      6\n",
       "3  cerezas     10\n",
       "4  plátano      3\n",
       "5     pera      6\n",
       "6  naranja      4\n",
       "7   fresas     10"
      ]
     },
     "execution_count": 32,
     "metadata": {},
     "output_type": "execute_result"
    }
   ],
   "source": [
    "# cambiamos el nombre de las columnas, pero como no colocamos inplace = True no se guarda en el df original\n",
    "df.rename(columns = {\"fruit\": \"fruta\",\n",
    "                     \"count\": \"cantidad\"})\n",
    "df # vemos que no se cambia el nombre, no se guarda en el original"
   ]
  },
  {
   "cell_type": "code",
   "execution_count": null,
   "metadata": {},
   "outputs": [],
   "source": [
    "# Esto seria una solución si no usamos inplace = True\n",
    "# df = df.rename(columns = {\"fruit\": \"fruta\", \"count\": \"cantidad\"}) "
   ]
  },
  {
   "cell_type": "code",
   "execution_count": 33,
   "metadata": {
    "colab": {
     "base_uri": "https://localhost:8080/",
     "height": 297
    },
    "executionInfo": {
     "elapsed": 754,
     "status": "ok",
     "timestamp": 1611912099371,
     "user": {
      "displayName": "Juan Gabriel Gomila Salas",
      "photoUrl": "https://lh3.googleusercontent.com/a-/AOh14GjdBM44CAiZlDiF-IkE0NJQH-LHKt1b0A22wmma_w=s64",
      "userId": "03106941341701838274"
     },
     "user_tz": -60
    },
    "id": "NviVtPewhDPk",
    "outputId": "9c4a4ae7-19f1-413b-a320-95026092cb0b"
   },
   "outputs": [
    {
     "data": {
      "text/html": [
       "<div>\n",
       "<style scoped>\n",
       "    .dataframe tbody tr th:only-of-type {\n",
       "        vertical-align: middle;\n",
       "    }\n",
       "\n",
       "    .dataframe tbody tr th {\n",
       "        vertical-align: top;\n",
       "    }\n",
       "\n",
       "    .dataframe thead th {\n",
       "        text-align: right;\n",
       "    }\n",
       "</style>\n",
       "<table border=\"1\" class=\"dataframe\">\n",
       "  <thead>\n",
       "    <tr style=\"text-align: right;\">\n",
       "      <th></th>\n",
       "      <th>fruta</th>\n",
       "      <th>cantidad</th>\n",
       "    </tr>\n",
       "  </thead>\n",
       "  <tbody>\n",
       "    <tr>\n",
       "      <th>0</th>\n",
       "      <td>sandía</td>\n",
       "      <td>1</td>\n",
       "    </tr>\n",
       "    <tr>\n",
       "      <th>1</th>\n",
       "      <td>melón</td>\n",
       "      <td>1</td>\n",
       "    </tr>\n",
       "    <tr>\n",
       "      <th>2</th>\n",
       "      <td>manzana</td>\n",
       "      <td>6</td>\n",
       "    </tr>\n",
       "    <tr>\n",
       "      <th>3</th>\n",
       "      <td>cerezas</td>\n",
       "      <td>10</td>\n",
       "    </tr>\n",
       "    <tr>\n",
       "      <th>4</th>\n",
       "      <td>plátano</td>\n",
       "      <td>3</td>\n",
       "    </tr>\n",
       "    <tr>\n",
       "      <th>5</th>\n",
       "      <td>pera</td>\n",
       "      <td>6</td>\n",
       "    </tr>\n",
       "    <tr>\n",
       "      <th>6</th>\n",
       "      <td>naranja</td>\n",
       "      <td>4</td>\n",
       "    </tr>\n",
       "    <tr>\n",
       "      <th>7</th>\n",
       "      <td>fresas</td>\n",
       "      <td>10</td>\n",
       "    </tr>\n",
       "  </tbody>\n",
       "</table>\n",
       "</div>"
      ],
      "text/plain": [
       "     fruta  cantidad\n",
       "0   sandía         1\n",
       "1    melón         1\n",
       "2  manzana         6\n",
       "3  cerezas        10\n",
       "4  plátano         3\n",
       "5     pera         6\n",
       "6  naranja         4\n",
       "7   fresas        10"
      ]
     },
     "execution_count": 33,
     "metadata": {},
     "output_type": "execute_result"
    }
   ],
   "source": [
    "# Cambiamos el nombre de las columnas al dataframe original\n",
    "df.rename(columns = {\"fruit\": \"fruta\",\n",
    "                     \"count\": \"cantidad\"},\n",
    "          inplace = True) # se guardará en el original\n",
    "df"
   ]
  },
  {
   "cell_type": "code",
   "execution_count": 34,
   "metadata": {
    "colab": {
     "base_uri": "https://localhost:8080/",
     "height": 297
    },
    "executionInfo": {
     "elapsed": 889,
     "status": "ok",
     "timestamp": 1611912176456,
     "user": {
      "displayName": "Juan Gabriel Gomila Salas",
      "photoUrl": "https://lh3.googleusercontent.com/a-/AOh14GjdBM44CAiZlDiF-IkE0NJQH-LHKt1b0A22wmma_w=s64",
      "userId": "03106941341701838274"
     },
     "user_tz": -60
    },
    "id": "TVLRAKLrhS7y",
    "outputId": "b9a14005-c5c8-4c2b-83aa-d438d2f2fbc2"
   },
   "outputs": [
    {
     "data": {
      "text/html": [
       "<div>\n",
       "<style scoped>\n",
       "    .dataframe tbody tr th:only-of-type {\n",
       "        vertical-align: middle;\n",
       "    }\n",
       "\n",
       "    .dataframe tbody tr th {\n",
       "        vertical-align: top;\n",
       "    }\n",
       "\n",
       "    .dataframe thead th {\n",
       "        text-align: right;\n",
       "    }\n",
       "</style>\n",
       "<table border=\"1\" class=\"dataframe\">\n",
       "  <thead>\n",
       "    <tr style=\"text-align: right;\">\n",
       "      <th></th>\n",
       "      <th>fruta</th>\n",
       "      <th>cantidad</th>\n",
       "    </tr>\n",
       "  </thead>\n",
       "  <tbody>\n",
       "    <tr>\n",
       "      <th>0</th>\n",
       "      <td>sandía</td>\n",
       "      <td>1</td>\n",
       "    </tr>\n",
       "    <tr>\n",
       "      <th>1</th>\n",
       "      <td>melón</td>\n",
       "      <td>1</td>\n",
       "    </tr>\n",
       "    <tr>\n",
       "      <th>2</th>\n",
       "      <td>manzana</td>\n",
       "      <td>6</td>\n",
       "    </tr>\n",
       "    <tr>\n",
       "      <th>3</th>\n",
       "      <td>cerezas</td>\n",
       "      <td>10</td>\n",
       "    </tr>\n",
       "    <tr>\n",
       "      <th>4</th>\n",
       "      <td>plátano</td>\n",
       "      <td>3</td>\n",
       "    </tr>\n",
       "    <tr>\n",
       "      <th>5</th>\n",
       "      <td>pera</td>\n",
       "      <td>6</td>\n",
       "    </tr>\n",
       "    <tr>\n",
       "      <th>6</th>\n",
       "      <td>naranja</td>\n",
       "      <td>4</td>\n",
       "    </tr>\n",
       "    <tr>\n",
       "      <th>7</th>\n",
       "      <td>fresas</td>\n",
       "      <td>10</td>\n",
       "    </tr>\n",
       "  </tbody>\n",
       "</table>\n",
       "</div>"
      ],
      "text/plain": [
       "     fruta  cantidad\n",
       "0   sandía         1\n",
       "1    melón         1\n",
       "2  manzana         6\n",
       "3  cerezas        10\n",
       "4  plátano         3\n",
       "5     pera         6\n",
       "6  naranja         4\n",
       "7   fresas        10"
      ]
     },
     "execution_count": 34,
     "metadata": {},
     "output_type": "execute_result"
    }
   ],
   "source": [
    "# renombramos las filas, de igual forma sino colocamos inplace = True nose guardan los cambios en el original\n",
    "df.rename(index = {0: \"obs1\",\n",
    "                   1: \"obs2\",\n",
    "                   7: \"obs8\"})\n",
    "df"
   ]
  },
  {
   "cell_type": "code",
   "execution_count": 35,
   "metadata": {
    "colab": {
     "base_uri": "https://localhost:8080/",
     "height": 297
    },
    "executionInfo": {
     "elapsed": 761,
     "status": "ok",
     "timestamp": 1611912185460,
     "user": {
      "displayName": "Juan Gabriel Gomila Salas",
      "photoUrl": "https://lh3.googleusercontent.com/a-/AOh14GjdBM44CAiZlDiF-IkE0NJQH-LHKt1b0A22wmma_w=s64",
      "userId": "03106941341701838274"
     },
     "user_tz": -60
    },
    "id": "KfhHzUdVhgnV",
    "outputId": "0f7d59cd-dcb2-47b4-9136-38bdda3da92b"
   },
   "outputs": [
    {
     "data": {
      "text/html": [
       "<div>\n",
       "<style scoped>\n",
       "    .dataframe tbody tr th:only-of-type {\n",
       "        vertical-align: middle;\n",
       "    }\n",
       "\n",
       "    .dataframe tbody tr th {\n",
       "        vertical-align: top;\n",
       "    }\n",
       "\n",
       "    .dataframe thead th {\n",
       "        text-align: right;\n",
       "    }\n",
       "</style>\n",
       "<table border=\"1\" class=\"dataframe\">\n",
       "  <thead>\n",
       "    <tr style=\"text-align: right;\">\n",
       "      <th></th>\n",
       "      <th>fruta</th>\n",
       "      <th>cantidad</th>\n",
       "    </tr>\n",
       "  </thead>\n",
       "  <tbody>\n",
       "    <tr>\n",
       "      <th>obs1</th>\n",
       "      <td>sandía</td>\n",
       "      <td>1</td>\n",
       "    </tr>\n",
       "    <tr>\n",
       "      <th>obs2</th>\n",
       "      <td>melón</td>\n",
       "      <td>1</td>\n",
       "    </tr>\n",
       "    <tr>\n",
       "      <th>2</th>\n",
       "      <td>manzana</td>\n",
       "      <td>6</td>\n",
       "    </tr>\n",
       "    <tr>\n",
       "      <th>3</th>\n",
       "      <td>cerezas</td>\n",
       "      <td>10</td>\n",
       "    </tr>\n",
       "    <tr>\n",
       "      <th>4</th>\n",
       "      <td>plátano</td>\n",
       "      <td>3</td>\n",
       "    </tr>\n",
       "    <tr>\n",
       "      <th>5</th>\n",
       "      <td>pera</td>\n",
       "      <td>6</td>\n",
       "    </tr>\n",
       "    <tr>\n",
       "      <th>6</th>\n",
       "      <td>naranja</td>\n",
       "      <td>4</td>\n",
       "    </tr>\n",
       "    <tr>\n",
       "      <th>obs8</th>\n",
       "      <td>fresas</td>\n",
       "      <td>10</td>\n",
       "    </tr>\n",
       "  </tbody>\n",
       "</table>\n",
       "</div>"
      ],
      "text/plain": [
       "        fruta  cantidad\n",
       "obs1   sandía         1\n",
       "obs2    melón         1\n",
       "2     manzana         6\n",
       "3     cerezas        10\n",
       "4     plátano         3\n",
       "5        pera         6\n",
       "6     naranja         4\n",
       "obs8   fresas        10"
      ]
     },
     "execution_count": 35,
     "metadata": {},
     "output_type": "execute_result"
    }
   ],
   "source": [
    "# Cambiamos el nombre de las filas al dataframe original\n",
    "df.rename(index = {0: \"obs1\",\n",
    "                   1: \"obs2\",\n",
    "                   7: \"obs8\"},\n",
    "          inplace = True)\n",
    "df"
   ]
  },
  {
   "cell_type": "markdown",
   "metadata": {
    "id": "cpTQqgEhhv0O"
   },
   "source": [
    "Con el método `.columns` también podemos cambiar el nombre de las columnas:"
   ]
  },
  {
   "cell_type": "code",
   "execution_count": null,
   "metadata": {
    "colab": {
     "base_uri": "https://localhost:8080/"
    },
    "executionInfo": {
     "elapsed": 1041,
     "status": "ok",
     "timestamp": 1611912230521,
     "user": {
      "displayName": "Juan Gabriel Gomila Salas",
      "photoUrl": "https://lh3.googleusercontent.com/a-/AOh14GjdBM44CAiZlDiF-IkE0NJQH-LHKt1b0A22wmma_w=s64",
      "userId": "03106941341701838274"
     },
     "user_tz": -60
    },
    "id": "vqnMuDXUdKuX",
    "outputId": "08acafd3-ae04-4ad7-e87a-03a904e9ca37"
   },
   "outputs": [
    {
     "data": {
      "text/plain": [
       "Index(['fruta', 'cantidad'], dtype='object')"
      ]
     },
     "execution_count": 20,
     "metadata": {
      "tags": []
     },
     "output_type": "execute_result"
    }
   ],
   "source": [
    "df.columns"
   ]
  },
  {
   "cell_type": "code",
   "execution_count": 36,
   "metadata": {
    "colab": {
     "base_uri": "https://localhost:8080/",
     "height": 297
    },
    "executionInfo": {
     "elapsed": 745,
     "status": "ok",
     "timestamp": 1611912249780,
     "user": {
      "displayName": "Juan Gabriel Gomila Salas",
      "photoUrl": "https://lh3.googleusercontent.com/a-/AOh14GjdBM44CAiZlDiF-IkE0NJQH-LHKt1b0A22wmma_w=s64",
      "userId": "03106941341701838274"
     },
     "user_tz": -60
    },
    "id": "Y1qyF18Ph0t8",
    "outputId": "f4b85470-a1a4-4fc8-d22f-aca0acc66c8e"
   },
   "outputs": [
    {
     "data": {
      "text/html": [
       "<div>\n",
       "<style scoped>\n",
       "    .dataframe tbody tr th:only-of-type {\n",
       "        vertical-align: middle;\n",
       "    }\n",
       "\n",
       "    .dataframe tbody tr th {\n",
       "        vertical-align: top;\n",
       "    }\n",
       "\n",
       "    .dataframe thead th {\n",
       "        text-align: right;\n",
       "    }\n",
       "</style>\n",
       "<table border=\"1\" class=\"dataframe\">\n",
       "  <thead>\n",
       "    <tr style=\"text-align: right;\">\n",
       "      <th></th>\n",
       "      <th>FRUTA</th>\n",
       "      <th>CANTIDAD</th>\n",
       "    </tr>\n",
       "  </thead>\n",
       "  <tbody>\n",
       "    <tr>\n",
       "      <th>obs1</th>\n",
       "      <td>sandía</td>\n",
       "      <td>1</td>\n",
       "    </tr>\n",
       "    <tr>\n",
       "      <th>obs2</th>\n",
       "      <td>melón</td>\n",
       "      <td>1</td>\n",
       "    </tr>\n",
       "    <tr>\n",
       "      <th>2</th>\n",
       "      <td>manzana</td>\n",
       "      <td>6</td>\n",
       "    </tr>\n",
       "    <tr>\n",
       "      <th>3</th>\n",
       "      <td>cerezas</td>\n",
       "      <td>10</td>\n",
       "    </tr>\n",
       "    <tr>\n",
       "      <th>4</th>\n",
       "      <td>plátano</td>\n",
       "      <td>3</td>\n",
       "    </tr>\n",
       "    <tr>\n",
       "      <th>5</th>\n",
       "      <td>pera</td>\n",
       "      <td>6</td>\n",
       "    </tr>\n",
       "    <tr>\n",
       "      <th>6</th>\n",
       "      <td>naranja</td>\n",
       "      <td>4</td>\n",
       "    </tr>\n",
       "    <tr>\n",
       "      <th>obs8</th>\n",
       "      <td>fresas</td>\n",
       "      <td>10</td>\n",
       "    </tr>\n",
       "  </tbody>\n",
       "</table>\n",
       "</div>"
      ],
      "text/plain": [
       "        FRUTA  CANTIDAD\n",
       "obs1   sandía         1\n",
       "obs2    melón         1\n",
       "2     manzana         6\n",
       "3     cerezas        10\n",
       "4     plátano         3\n",
       "5        pera         6\n",
       "6     naranja         4\n",
       "obs8   fresas        10"
      ]
     },
     "execution_count": 36,
     "metadata": {},
     "output_type": "execute_result"
    }
   ],
   "source": [
    "# podemos cambiar el nombre de las columnas más facilmente\n",
    "# cambia el nombre de acuerdo a su posición\n",
    "df.columns = [\"FRUTA\", \"CANTIDAD\"]\n",
    "df"
   ]
  },
  {
   "cell_type": "markdown",
   "metadata": {
    "id": "_wSzo6necHGd"
   },
   "source": [
    "El método `.insert()` inserta una nueva columna a un dataframe existente"
   ]
  },
  {
   "cell_type": "code",
   "execution_count": 37,
   "metadata": {
    "colab": {
     "base_uri": "https://localhost:8080/",
     "height": 297
    },
    "executionInfo": {
     "elapsed": 841,
     "status": "ok",
     "timestamp": 1611912323949,
     "user": {
      "displayName": "Juan Gabriel Gomila Salas",
      "photoUrl": "https://lh3.googleusercontent.com/a-/AOh14GjdBM44CAiZlDiF-IkE0NJQH-LHKt1b0A22wmma_w=s64",
      "userId": "03106941341701838274"
     },
     "user_tz": -60
    },
    "id": "a45FeQOjcVYH",
    "outputId": "a2593985-b08f-46a1-aec2-39d9caece312"
   },
   "outputs": [
    {
     "data": {
      "text/html": [
       "<div>\n",
       "<style scoped>\n",
       "    .dataframe tbody tr th:only-of-type {\n",
       "        vertical-align: middle;\n",
       "    }\n",
       "\n",
       "    .dataframe tbody tr th {\n",
       "        vertical-align: top;\n",
       "    }\n",
       "\n",
       "    .dataframe thead th {\n",
       "        text-align: right;\n",
       "    }\n",
       "</style>\n",
       "<table border=\"1\" class=\"dataframe\">\n",
       "  <thead>\n",
       "    <tr style=\"text-align: right;\">\n",
       "      <th></th>\n",
       "      <th>FRUTA</th>\n",
       "      <th>CANTIDAD</th>\n",
       "      <th>PRECIO</th>\n",
       "    </tr>\n",
       "  </thead>\n",
       "  <tbody>\n",
       "    <tr>\n",
       "      <th>obs1</th>\n",
       "      <td>sandía</td>\n",
       "      <td>1</td>\n",
       "      <td>2.50</td>\n",
       "    </tr>\n",
       "    <tr>\n",
       "      <th>obs2</th>\n",
       "      <td>melón</td>\n",
       "      <td>1</td>\n",
       "      <td>2.00</td>\n",
       "    </tr>\n",
       "    <tr>\n",
       "      <th>2</th>\n",
       "      <td>manzana</td>\n",
       "      <td>6</td>\n",
       "      <td>0.35</td>\n",
       "    </tr>\n",
       "    <tr>\n",
       "      <th>3</th>\n",
       "      <td>cerezas</td>\n",
       "      <td>10</td>\n",
       "      <td>0.10</td>\n",
       "    </tr>\n",
       "    <tr>\n",
       "      <th>4</th>\n",
       "      <td>plátano</td>\n",
       "      <td>3</td>\n",
       "      <td>0.35</td>\n",
       "    </tr>\n",
       "    <tr>\n",
       "      <th>5</th>\n",
       "      <td>pera</td>\n",
       "      <td>6</td>\n",
       "      <td>0.20</td>\n",
       "    </tr>\n",
       "    <tr>\n",
       "      <th>6</th>\n",
       "      <td>naranja</td>\n",
       "      <td>4</td>\n",
       "      <td>0.15</td>\n",
       "    </tr>\n",
       "    <tr>\n",
       "      <th>obs8</th>\n",
       "      <td>fresas</td>\n",
       "      <td>10</td>\n",
       "      <td>0.05</td>\n",
       "    </tr>\n",
       "  </tbody>\n",
       "</table>\n",
       "</div>"
      ],
      "text/plain": [
       "        FRUTA  CANTIDAD  PRECIO\n",
       "obs1   sandía         1    2.50\n",
       "obs2    melón         1    2.00\n",
       "2     manzana         6    0.35\n",
       "3     cerezas        10    0.10\n",
       "4     plátano         3    0.35\n",
       "5        pera         6    0.20\n",
       "6     naranja         4    0.15\n",
       "obs8   fresas        10    0.05"
      ]
     },
     "execution_count": 37,
     "metadata": {},
     "output_type": "execute_result"
    }
   ],
   "source": [
    "# loc: es el indice o posición donde se insertar, en este caso lo insertamos al ultimos, pero podemos ponerla en cualquier otra posición\n",
    "# column: Nombre de la columna\n",
    "# value: valores de la nueva columna\n",
    "df.insert(loc = 2, column = \"PRECIO\", value = [2.50, 2.00, 0.35, 0.10, 0.35, 0.20, 0.15, 0.05])\n",
    "df"
   ]
  },
  {
   "cell_type": "markdown",
   "metadata": {
    "id": "beeiQaxdcutS"
   },
   "source": [
    "Al parámetro `loc` le indicamos el índice que ocupará la nueva columna; al parámetro `column` le pasamos el nombre de la nueva columna; y al parámetro `value`, los valores para cada una de las filas.\n",
    "\n",
    "**Observación.** Si al parámetro `loc` le pasamos un índice ya ocupado por otra columna, se desplazan la columna existente y las de índices superiores un índice a la derecha.\n",
    "\n",
    "**Observación.** Si al parámetro `value` solo le pasamos un valor, éste será el mismo para todas las filas\n"
   ]
  },
  {
   "cell_type": "code",
   "execution_count": 38,
   "metadata": {
    "colab": {
     "base_uri": "https://localhost:8080/",
     "height": 297
    },
    "executionInfo": {
     "elapsed": 753,
     "status": "ok",
     "timestamp": 1611912406255,
     "user": {
      "displayName": "Juan Gabriel Gomila Salas",
      "photoUrl": "https://lh3.googleusercontent.com/a-/AOh14GjdBM44CAiZlDiF-IkE0NJQH-LHKt1b0A22wmma_w=s64",
      "userId": "03106941341701838274"
     },
     "user_tz": -60
    },
    "id": "p6J3DPxEdBXx",
    "outputId": "18cc1ba3-ef5a-4e56-b827-808fd6a0217f"
   },
   "outputs": [
    {
     "data": {
      "text/html": [
       "<div>\n",
       "<style scoped>\n",
       "    .dataframe tbody tr th:only-of-type {\n",
       "        vertical-align: middle;\n",
       "    }\n",
       "\n",
       "    .dataframe tbody tr th {\n",
       "        vertical-align: top;\n",
       "    }\n",
       "\n",
       "    .dataframe thead th {\n",
       "        text-align: right;\n",
       "    }\n",
       "</style>\n",
       "<table border=\"1\" class=\"dataframe\">\n",
       "  <thead>\n",
       "    <tr style=\"text-align: right;\">\n",
       "      <th></th>\n",
       "      <th>FRUTA</th>\n",
       "      <th>COLOR</th>\n",
       "      <th>CANTIDAD</th>\n",
       "      <th>PRECIO</th>\n",
       "    </tr>\n",
       "  </thead>\n",
       "  <tbody>\n",
       "    <tr>\n",
       "      <th>obs1</th>\n",
       "      <td>sandía</td>\n",
       "      <td>rojo</td>\n",
       "      <td>1</td>\n",
       "      <td>2.50</td>\n",
       "    </tr>\n",
       "    <tr>\n",
       "      <th>obs2</th>\n",
       "      <td>melón</td>\n",
       "      <td>rojo</td>\n",
       "      <td>1</td>\n",
       "      <td>2.00</td>\n",
       "    </tr>\n",
       "    <tr>\n",
       "      <th>2</th>\n",
       "      <td>manzana</td>\n",
       "      <td>rojo</td>\n",
       "      <td>6</td>\n",
       "      <td>0.35</td>\n",
       "    </tr>\n",
       "    <tr>\n",
       "      <th>3</th>\n",
       "      <td>cerezas</td>\n",
       "      <td>rojo</td>\n",
       "      <td>10</td>\n",
       "      <td>0.10</td>\n",
       "    </tr>\n",
       "    <tr>\n",
       "      <th>4</th>\n",
       "      <td>plátano</td>\n",
       "      <td>rojo</td>\n",
       "      <td>3</td>\n",
       "      <td>0.35</td>\n",
       "    </tr>\n",
       "    <tr>\n",
       "      <th>5</th>\n",
       "      <td>pera</td>\n",
       "      <td>rojo</td>\n",
       "      <td>6</td>\n",
       "      <td>0.20</td>\n",
       "    </tr>\n",
       "    <tr>\n",
       "      <th>6</th>\n",
       "      <td>naranja</td>\n",
       "      <td>rojo</td>\n",
       "      <td>4</td>\n",
       "      <td>0.15</td>\n",
       "    </tr>\n",
       "    <tr>\n",
       "      <th>obs8</th>\n",
       "      <td>fresas</td>\n",
       "      <td>rojo</td>\n",
       "      <td>10</td>\n",
       "      <td>0.05</td>\n",
       "    </tr>\n",
       "  </tbody>\n",
       "</table>\n",
       "</div>"
      ],
      "text/plain": [
       "        FRUTA COLOR  CANTIDAD  PRECIO\n",
       "obs1   sandía  rojo         1    2.50\n",
       "obs2    melón  rojo         1    2.00\n",
       "2     manzana  rojo         6    0.35\n",
       "3     cerezas  rojo        10    0.10\n",
       "4     plátano  rojo         3    0.35\n",
       "5        pera  rojo         6    0.20\n",
       "6     naranja  rojo         4    0.15\n",
       "obs8   fresas  rojo        10    0.05"
      ]
     },
     "execution_count": 38,
     "metadata": {},
     "output_type": "execute_result"
    }
   ],
   "source": [
    "# podemos colocar los parametros sin asignarlos\n",
    "# como insertamos un solo valor, estos se repiten en todos las filas\n",
    "df.insert(1, \"COLOR\", \"rojo\")\n",
    "df"
   ]
  },
  {
   "cell_type": "markdown",
   "metadata": {
    "id": "qyii6EaOi5L2"
   },
   "source": [
    "El método `.drop()` nos permite borrar las filas o columnas que indiquemos\n",
    "\n",
    "**¡Cuidado!** De nuevo, si queremos aplicar directamente los cambios al dataframe original, necesitamos indicar `inplace = True`"
   ]
  },
  {
   "cell_type": "code",
   "execution_count": 39,
   "metadata": {
    "colab": {
     "base_uri": "https://localhost:8080/",
     "height": 235
    },
    "executionInfo": {
     "elapsed": 773,
     "status": "ok",
     "timestamp": 1611912511479,
     "user": {
      "displayName": "Juan Gabriel Gomila Salas",
      "photoUrl": "https://lh3.googleusercontent.com/a-/AOh14GjdBM44CAiZlDiF-IkE0NJQH-LHKt1b0A22wmma_w=s64",
      "userId": "03106941341701838274"
     },
     "user_tz": -60
    },
    "id": "Sqc3fqrEjCdb",
    "outputId": "752f04c2-34fe-45b7-f0f4-c36e2cbeaccf"
   },
   "outputs": [
    {
     "data": {
      "text/html": [
       "<div>\n",
       "<style scoped>\n",
       "    .dataframe tbody tr th:only-of-type {\n",
       "        vertical-align: middle;\n",
       "    }\n",
       "\n",
       "    .dataframe tbody tr th {\n",
       "        vertical-align: top;\n",
       "    }\n",
       "\n",
       "    .dataframe thead th {\n",
       "        text-align: right;\n",
       "    }\n",
       "</style>\n",
       "<table border=\"1\" class=\"dataframe\">\n",
       "  <thead>\n",
       "    <tr style=\"text-align: right;\">\n",
       "      <th></th>\n",
       "      <th>FRUTA</th>\n",
       "      <th>COLOR</th>\n",
       "      <th>CANTIDAD</th>\n",
       "      <th>PRECIO</th>\n",
       "    </tr>\n",
       "  </thead>\n",
       "  <tbody>\n",
       "    <tr>\n",
       "      <th>obs2</th>\n",
       "      <td>melón</td>\n",
       "      <td>rojo</td>\n",
       "      <td>1</td>\n",
       "      <td>2.00</td>\n",
       "    </tr>\n",
       "    <tr>\n",
       "      <th>2</th>\n",
       "      <td>manzana</td>\n",
       "      <td>rojo</td>\n",
       "      <td>6</td>\n",
       "      <td>0.35</td>\n",
       "    </tr>\n",
       "    <tr>\n",
       "      <th>3</th>\n",
       "      <td>cerezas</td>\n",
       "      <td>rojo</td>\n",
       "      <td>10</td>\n",
       "      <td>0.10</td>\n",
       "    </tr>\n",
       "    <tr>\n",
       "      <th>5</th>\n",
       "      <td>pera</td>\n",
       "      <td>rojo</td>\n",
       "      <td>6</td>\n",
       "      <td>0.20</td>\n",
       "    </tr>\n",
       "    <tr>\n",
       "      <th>6</th>\n",
       "      <td>naranja</td>\n",
       "      <td>rojo</td>\n",
       "      <td>4</td>\n",
       "      <td>0.15</td>\n",
       "    </tr>\n",
       "    <tr>\n",
       "      <th>obs8</th>\n",
       "      <td>fresas</td>\n",
       "      <td>rojo</td>\n",
       "      <td>10</td>\n",
       "      <td>0.05</td>\n",
       "    </tr>\n",
       "  </tbody>\n",
       "</table>\n",
       "</div>"
      ],
      "text/plain": [
       "        FRUTA COLOR  CANTIDAD  PRECIO\n",
       "obs2    melón  rojo         1    2.00\n",
       "2     manzana  rojo         6    0.35\n",
       "3     cerezas  rojo        10    0.10\n",
       "5        pera  rojo         6    0.20\n",
       "6     naranja  rojo         4    0.15\n",
       "obs8   fresas  rojo        10    0.05"
      ]
     },
     "execution_count": 39,
     "metadata": {},
     "output_type": "execute_result"
    }
   ],
   "source": [
    "# Eliminamos filas (axis = 0) por etiqueta\n",
    "# podemos asignar el df a otra variable para no eliminar los datos que tenemos\n",
    "# labels son la lista de filas, será la fila llamada \"obs1\" y 4\n",
    "# axis = 1 son las columnas y = 0 son las filas\n",
    "df_dropped = df.drop(labels = [\"obs1\", 4], axis = 0)\n",
    "df_dropped"
   ]
  },
  {
   "cell_type": "code",
   "execution_count": 40,
   "metadata": {
    "colab": {
     "base_uri": "https://localhost:8080/",
     "height": 297
    },
    "executionInfo": {
     "elapsed": 782,
     "status": "ok",
     "timestamp": 1611912536736,
     "user": {
      "displayName": "Juan Gabriel Gomila Salas",
      "photoUrl": "https://lh3.googleusercontent.com/a-/AOh14GjdBM44CAiZlDiF-IkE0NJQH-LHKt1b0A22wmma_w=s64",
      "userId": "03106941341701838274"
     },
     "user_tz": -60
    },
    "id": "_QRk4b9Nj50v",
    "outputId": "43bee636-9a53-4a81-eecf-b3847d8be76f"
   },
   "outputs": [
    {
     "data": {
      "text/html": [
       "<div>\n",
       "<style scoped>\n",
       "    .dataframe tbody tr th:only-of-type {\n",
       "        vertical-align: middle;\n",
       "    }\n",
       "\n",
       "    .dataframe tbody tr th {\n",
       "        vertical-align: top;\n",
       "    }\n",
       "\n",
       "    .dataframe thead th {\n",
       "        text-align: right;\n",
       "    }\n",
       "</style>\n",
       "<table border=\"1\" class=\"dataframe\">\n",
       "  <thead>\n",
       "    <tr style=\"text-align: right;\">\n",
       "      <th></th>\n",
       "      <th>FRUTA</th>\n",
       "      <th>CANTIDAD</th>\n",
       "    </tr>\n",
       "  </thead>\n",
       "  <tbody>\n",
       "    <tr>\n",
       "      <th>obs1</th>\n",
       "      <td>sandía</td>\n",
       "      <td>1</td>\n",
       "    </tr>\n",
       "    <tr>\n",
       "      <th>obs2</th>\n",
       "      <td>melón</td>\n",
       "      <td>1</td>\n",
       "    </tr>\n",
       "    <tr>\n",
       "      <th>2</th>\n",
       "      <td>manzana</td>\n",
       "      <td>6</td>\n",
       "    </tr>\n",
       "    <tr>\n",
       "      <th>3</th>\n",
       "      <td>cerezas</td>\n",
       "      <td>10</td>\n",
       "    </tr>\n",
       "    <tr>\n",
       "      <th>4</th>\n",
       "      <td>plátano</td>\n",
       "      <td>3</td>\n",
       "    </tr>\n",
       "    <tr>\n",
       "      <th>5</th>\n",
       "      <td>pera</td>\n",
       "      <td>6</td>\n",
       "    </tr>\n",
       "    <tr>\n",
       "      <th>6</th>\n",
       "      <td>naranja</td>\n",
       "      <td>4</td>\n",
       "    </tr>\n",
       "    <tr>\n",
       "      <th>obs8</th>\n",
       "      <td>fresas</td>\n",
       "      <td>10</td>\n",
       "    </tr>\n",
       "  </tbody>\n",
       "</table>\n",
       "</div>"
      ],
      "text/plain": [
       "        FRUTA  CANTIDAD\n",
       "obs1   sandía         1\n",
       "obs2    melón         1\n",
       "2     manzana         6\n",
       "3     cerezas        10\n",
       "4     plátano         3\n",
       "5        pera         6\n",
       "6     naranja         4\n",
       "obs8   fresas        10"
      ]
     },
     "execution_count": 40,
     "metadata": {},
     "output_type": "execute_result"
    }
   ],
   "source": [
    "# Eliminamos columnas (axis = 1) por etiqueta\n",
    "# axis=1 son las columnas\n",
    "# labels, es la lista con las columnas a borrar\n",
    "df_dropped = df.drop(labels = [\"COLOR\", \"PRECIO\"], axis = 1)\n",
    "df_dropped"
   ]
  },
  {
   "cell_type": "markdown",
   "metadata": {
    "id": "N0Ml5Wp4k9Up"
   },
   "source": [
    "El método `.pop()` elimina la columna que indiquemos por parámetro"
   ]
  },
  {
   "cell_type": "code",
   "execution_count": 41,
   "metadata": {
    "colab": {
     "base_uri": "https://localhost:8080/",
     "height": 297
    },
    "executionInfo": {
     "elapsed": 772,
     "status": "ok",
     "timestamp": 1611912602137,
     "user": {
      "displayName": "Juan Gabriel Gomila Salas",
      "photoUrl": "https://lh3.googleusercontent.com/a-/AOh14GjdBM44CAiZlDiF-IkE0NJQH-LHKt1b0A22wmma_w=s64",
      "userId": "03106941341701838274"
     },
     "user_tz": -60
    },
    "id": "78bRr9kdk8q9",
    "outputId": "3b57b5b3-6af3-4158-88b6-cf84920887e4"
   },
   "outputs": [
    {
     "data": {
      "text/html": [
       "<div>\n",
       "<style scoped>\n",
       "    .dataframe tbody tr th:only-of-type {\n",
       "        vertical-align: middle;\n",
       "    }\n",
       "\n",
       "    .dataframe tbody tr th {\n",
       "        vertical-align: top;\n",
       "    }\n",
       "\n",
       "    .dataframe thead th {\n",
       "        text-align: right;\n",
       "    }\n",
       "</style>\n",
       "<table border=\"1\" class=\"dataframe\">\n",
       "  <thead>\n",
       "    <tr style=\"text-align: right;\">\n",
       "      <th></th>\n",
       "      <th>FRUTA</th>\n",
       "      <th>CANTIDAD</th>\n",
       "      <th>PRECIO</th>\n",
       "    </tr>\n",
       "  </thead>\n",
       "  <tbody>\n",
       "    <tr>\n",
       "      <th>obs1</th>\n",
       "      <td>sandía</td>\n",
       "      <td>1</td>\n",
       "      <td>2.50</td>\n",
       "    </tr>\n",
       "    <tr>\n",
       "      <th>obs2</th>\n",
       "      <td>melón</td>\n",
       "      <td>1</td>\n",
       "      <td>2.00</td>\n",
       "    </tr>\n",
       "    <tr>\n",
       "      <th>2</th>\n",
       "      <td>manzana</td>\n",
       "      <td>6</td>\n",
       "      <td>0.35</td>\n",
       "    </tr>\n",
       "    <tr>\n",
       "      <th>3</th>\n",
       "      <td>cerezas</td>\n",
       "      <td>10</td>\n",
       "      <td>0.10</td>\n",
       "    </tr>\n",
       "    <tr>\n",
       "      <th>4</th>\n",
       "      <td>plátano</td>\n",
       "      <td>3</td>\n",
       "      <td>0.35</td>\n",
       "    </tr>\n",
       "    <tr>\n",
       "      <th>5</th>\n",
       "      <td>pera</td>\n",
       "      <td>6</td>\n",
       "      <td>0.20</td>\n",
       "    </tr>\n",
       "    <tr>\n",
       "      <th>6</th>\n",
       "      <td>naranja</td>\n",
       "      <td>4</td>\n",
       "      <td>0.15</td>\n",
       "    </tr>\n",
       "    <tr>\n",
       "      <th>obs8</th>\n",
       "      <td>fresas</td>\n",
       "      <td>10</td>\n",
       "      <td>0.05</td>\n",
       "    </tr>\n",
       "  </tbody>\n",
       "</table>\n",
       "</div>"
      ],
      "text/plain": [
       "        FRUTA  CANTIDAD  PRECIO\n",
       "obs1   sandía         1    2.50\n",
       "obs2    melón         1    2.00\n",
       "2     manzana         6    0.35\n",
       "3     cerezas        10    0.10\n",
       "4     plátano         3    0.35\n",
       "5        pera         6    0.20\n",
       "6     naranja         4    0.15\n",
       "obs8   fresas        10    0.05"
      ]
     },
     "execution_count": 41,
     "metadata": {},
     "output_type": "execute_result"
    }
   ],
   "source": [
    "column_popped = df.pop(\"COLOR\") # column_popped guarda los valores de la columna borrada\n",
    "df # se elimina la columna del df original"
   ]
  },
  {
   "cell_type": "code",
   "execution_count": null,
   "metadata": {
    "colab": {
     "base_uri": "https://localhost:8080/"
    },
    "executionInfo": {
     "elapsed": 1026,
     "status": "ok",
     "timestamp": 1611912611180,
     "user": {
      "displayName": "Juan Gabriel Gomila Salas",
      "photoUrl": "https://lh3.googleusercontent.com/a-/AOh14GjdBM44CAiZlDiF-IkE0NJQH-LHKt1b0A22wmma_w=s64",
      "userId": "03106941341701838274"
     },
     "user_tz": -60
    },
    "id": "6UhYBnb5enHN",
    "outputId": "dd461fec-7ea4-45a3-e343-8df5e569a4e9"
   },
   "outputs": [
    {
     "data": {
      "text/plain": [
       "obs1    rojo\n",
       "obs2    rojo\n",
       "2       rojo\n",
       "3       rojo\n",
       "4       rojo\n",
       "5       rojo\n",
       "6       rojo\n",
       "obs8    rojo\n",
       "Name: COLOR, dtype: object"
      ]
     },
     "execution_count": 27,
     "metadata": {
      "tags": []
     },
     "output_type": "execute_result"
    }
   ],
   "source": [
    "column_popped"
   ]
  },
  {
   "cell_type": "code",
   "execution_count": 42,
   "metadata": {
    "colab": {
     "base_uri": "https://localhost:8080/",
     "height": 297
    },
    "executionInfo": {
     "elapsed": 1061,
     "status": "ok",
     "timestamp": 1611912673390,
     "user": {
      "displayName": "Juan Gabriel Gomila Salas",
      "photoUrl": "https://lh3.googleusercontent.com/a-/AOh14GjdBM44CAiZlDiF-IkE0NJQH-LHKt1b0A22wmma_w=s64",
      "userId": "03106941341701838274"
     },
     "user_tz": -60
    },
    "id": "eVdRUCYVlfrS",
    "outputId": "cb311e5a-5e33-4052-8619-c8f1f92f99b3"
   },
   "outputs": [
    {
     "data": {
      "text/html": [
       "<div>\n",
       "<style scoped>\n",
       "    .dataframe tbody tr th:only-of-type {\n",
       "        vertical-align: middle;\n",
       "    }\n",
       "\n",
       "    .dataframe tbody tr th {\n",
       "        vertical-align: top;\n",
       "    }\n",
       "\n",
       "    .dataframe thead th {\n",
       "        text-align: right;\n",
       "    }\n",
       "</style>\n",
       "<table border=\"1\" class=\"dataframe\">\n",
       "  <thead>\n",
       "    <tr style=\"text-align: right;\">\n",
       "      <th></th>\n",
       "      <th>FRUTA</th>\n",
       "      <th>CANTIDAD</th>\n",
       "      <th>PRECIO</th>\n",
       "      <th>COLOR</th>\n",
       "    </tr>\n",
       "  </thead>\n",
       "  <tbody>\n",
       "    <tr>\n",
       "      <th>obs1</th>\n",
       "      <td>sandía</td>\n",
       "      <td>1</td>\n",
       "      <td>2.50</td>\n",
       "      <td>rojo</td>\n",
       "    </tr>\n",
       "    <tr>\n",
       "      <th>obs2</th>\n",
       "      <td>melón</td>\n",
       "      <td>1</td>\n",
       "      <td>2.00</td>\n",
       "      <td>rojo</td>\n",
       "    </tr>\n",
       "    <tr>\n",
       "      <th>2</th>\n",
       "      <td>manzana</td>\n",
       "      <td>6</td>\n",
       "      <td>0.35</td>\n",
       "      <td>rojo</td>\n",
       "    </tr>\n",
       "    <tr>\n",
       "      <th>3</th>\n",
       "      <td>cerezas</td>\n",
       "      <td>10</td>\n",
       "      <td>0.10</td>\n",
       "      <td>rojo</td>\n",
       "    </tr>\n",
       "    <tr>\n",
       "      <th>4</th>\n",
       "      <td>plátano</td>\n",
       "      <td>3</td>\n",
       "      <td>0.35</td>\n",
       "      <td>rojo</td>\n",
       "    </tr>\n",
       "    <tr>\n",
       "      <th>5</th>\n",
       "      <td>pera</td>\n",
       "      <td>6</td>\n",
       "      <td>0.20</td>\n",
       "      <td>rojo</td>\n",
       "    </tr>\n",
       "    <tr>\n",
       "      <th>6</th>\n",
       "      <td>naranja</td>\n",
       "      <td>4</td>\n",
       "      <td>0.15</td>\n",
       "      <td>rojo</td>\n",
       "    </tr>\n",
       "    <tr>\n",
       "      <th>obs8</th>\n",
       "      <td>fresas</td>\n",
       "      <td>10</td>\n",
       "      <td>0.05</td>\n",
       "      <td>rojo</td>\n",
       "    </tr>\n",
       "  </tbody>\n",
       "</table>\n",
       "</div>"
      ],
      "text/plain": [
       "        FRUTA  CANTIDAD  PRECIO COLOR\n",
       "obs1   sandía         1    2.50  rojo\n",
       "obs2    melón         1    2.00  rojo\n",
       "2     manzana         6    0.35  rojo\n",
       "3     cerezas        10    0.10  rojo\n",
       "4     plátano         3    0.35  rojo\n",
       "5        pera         6    0.20  rojo\n",
       "6     naranja         4    0.15  rojo\n",
       "obs8   fresas        10    0.05  rojo"
      ]
     },
     "execution_count": 42,
     "metadata": {},
     "output_type": "execute_result"
    }
   ],
   "source": [
    "# Volvemos a añadir la columna recientemente eliminada al final del dataframe con una sintaxis que no habíamos visto todavía\n",
    "# COLOR no existe, por lo que, creamos esa columna con los valores eliminados\n",
    "df[\"COLOR\"] = column_popped\n",
    "df"
   ]
  },
  {
   "cell_type": "markdown",
   "metadata": {
    "id": "mXLRTOqcpHRw"
   },
   "source": [
    "El método `.rank()` devuelve un ranking.\n",
    "\n",
    "Si por ejemplo queremos un ranking por fruta, el método `.rank()` nos devolverá una columna de posiciones correspondientes a la posición que ocupa cada fruta si estas son ordenadas alfabéticamente\n",
    "\n",
    "**Observación.** El ranking empieza siempre en 1."
   ]
  },
  {
   "cell_type": "code",
   "execution_count": 43,
   "metadata": {
    "colab": {
     "base_uri": "https://localhost:8080/",
     "height": 297
    },
    "executionInfo": {
     "elapsed": 924,
     "status": "ok",
     "timestamp": 1611912745901,
     "user": {
      "displayName": "Juan Gabriel Gomila Salas",
      "photoUrl": "https://lh3.googleusercontent.com/a-/AOh14GjdBM44CAiZlDiF-IkE0NJQH-LHKt1b0A22wmma_w=s64",
      "userId": "03106941341701838274"
     },
     "user_tz": -60
    },
    "id": "VyBohYxEpc_0",
    "outputId": "c083034e-614a-4aff-d414-0afc1d3c80e1"
   },
   "outputs": [
    {
     "data": {
      "text/html": [
       "<div>\n",
       "<style scoped>\n",
       "    .dataframe tbody tr th:only-of-type {\n",
       "        vertical-align: middle;\n",
       "    }\n",
       "\n",
       "    .dataframe tbody tr th {\n",
       "        vertical-align: top;\n",
       "    }\n",
       "\n",
       "    .dataframe thead th {\n",
       "        text-align: right;\n",
       "    }\n",
       "</style>\n",
       "<table border=\"1\" class=\"dataframe\">\n",
       "  <thead>\n",
       "    <tr style=\"text-align: right;\">\n",
       "      <th></th>\n",
       "      <th>FRUTA</th>\n",
       "      <th>CANTIDAD</th>\n",
       "      <th>PRECIO</th>\n",
       "      <th>COLOR</th>\n",
       "      <th>RANKING_FRUTA</th>\n",
       "    </tr>\n",
       "  </thead>\n",
       "  <tbody>\n",
       "    <tr>\n",
       "      <th>obs1</th>\n",
       "      <td>sandía</td>\n",
       "      <td>1</td>\n",
       "      <td>2.50</td>\n",
       "      <td>rojo</td>\n",
       "      <td>8.0</td>\n",
       "    </tr>\n",
       "    <tr>\n",
       "      <th>obs2</th>\n",
       "      <td>melón</td>\n",
       "      <td>1</td>\n",
       "      <td>2.00</td>\n",
       "      <td>rojo</td>\n",
       "      <td>4.0</td>\n",
       "    </tr>\n",
       "    <tr>\n",
       "      <th>2</th>\n",
       "      <td>manzana</td>\n",
       "      <td>6</td>\n",
       "      <td>0.35</td>\n",
       "      <td>rojo</td>\n",
       "      <td>3.0</td>\n",
       "    </tr>\n",
       "    <tr>\n",
       "      <th>3</th>\n",
       "      <td>cerezas</td>\n",
       "      <td>10</td>\n",
       "      <td>0.10</td>\n",
       "      <td>rojo</td>\n",
       "      <td>1.0</td>\n",
       "    </tr>\n",
       "    <tr>\n",
       "      <th>4</th>\n",
       "      <td>plátano</td>\n",
       "      <td>3</td>\n",
       "      <td>0.35</td>\n",
       "      <td>rojo</td>\n",
       "      <td>7.0</td>\n",
       "    </tr>\n",
       "    <tr>\n",
       "      <th>5</th>\n",
       "      <td>pera</td>\n",
       "      <td>6</td>\n",
       "      <td>0.20</td>\n",
       "      <td>rojo</td>\n",
       "      <td>6.0</td>\n",
       "    </tr>\n",
       "    <tr>\n",
       "      <th>6</th>\n",
       "      <td>naranja</td>\n",
       "      <td>4</td>\n",
       "      <td>0.15</td>\n",
       "      <td>rojo</td>\n",
       "      <td>5.0</td>\n",
       "    </tr>\n",
       "    <tr>\n",
       "      <th>obs8</th>\n",
       "      <td>fresas</td>\n",
       "      <td>10</td>\n",
       "      <td>0.05</td>\n",
       "      <td>rojo</td>\n",
       "      <td>2.0</td>\n",
       "    </tr>\n",
       "  </tbody>\n",
       "</table>\n",
       "</div>"
      ],
      "text/plain": [
       "        FRUTA  CANTIDAD  PRECIO COLOR  RANKING_FRUTA\n",
       "obs1   sandía         1    2.50  rojo            8.0\n",
       "obs2    melón         1    2.00  rojo            4.0\n",
       "2     manzana         6    0.35  rojo            3.0\n",
       "3     cerezas        10    0.10  rojo            1.0\n",
       "4     plátano         3    0.35  rojo            7.0\n",
       "5        pera         6    0.20  rojo            6.0\n",
       "6     naranja         4    0.15  rojo            5.0\n",
       "obs8   fresas        10    0.05  rojo            2.0"
      ]
     },
     "execution_count": 43,
     "metadata": {},
     "output_type": "execute_result"
    }
   ],
   "source": [
    "df[\"RANKING_FRUTA\"] = df[\"FRUTA\"].rank() # posición de cada fruta ordenada alfabeticamente\n",
    "df"
   ]
  },
  {
   "cell_type": "markdown",
   "metadata": {
    "id": "pyZ1Ufj6pzak"
   },
   "source": [
    "Con el parámetro `ascending`, que por defecto vale `True`, podemos indicar si queremos que el ranking sea en orden ascendente o descendente."
   ]
  },
  {
   "cell_type": "code",
   "execution_count": 44,
   "metadata": {
    "colab": {
     "base_uri": "https://localhost:8080/",
     "height": 297
    },
    "executionInfo": {
     "elapsed": 749,
     "status": "ok",
     "timestamp": 1611912869011,
     "user": {
      "displayName": "Juan Gabriel Gomila Salas",
      "photoUrl": "https://lh3.googleusercontent.com/a-/AOh14GjdBM44CAiZlDiF-IkE0NJQH-LHKt1b0A22wmma_w=s64",
      "userId": "03106941341701838274"
     },
     "user_tz": -60
    },
    "id": "3PiJF7ODp8sb",
    "outputId": "6b86462b-6615-485d-fc15-1c67ea15df81"
   },
   "outputs": [
    {
     "data": {
      "text/html": [
       "<div>\n",
       "<style scoped>\n",
       "    .dataframe tbody tr th:only-of-type {\n",
       "        vertical-align: middle;\n",
       "    }\n",
       "\n",
       "    .dataframe tbody tr th {\n",
       "        vertical-align: top;\n",
       "    }\n",
       "\n",
       "    .dataframe thead th {\n",
       "        text-align: right;\n",
       "    }\n",
       "</style>\n",
       "<table border=\"1\" class=\"dataframe\">\n",
       "  <thead>\n",
       "    <tr style=\"text-align: right;\">\n",
       "      <th></th>\n",
       "      <th>FRUTA</th>\n",
       "      <th>CANTIDAD</th>\n",
       "      <th>PRECIO</th>\n",
       "      <th>COLOR</th>\n",
       "      <th>RANKING_FRUTA</th>\n",
       "      <th>RANKING_PRECIO</th>\n",
       "    </tr>\n",
       "  </thead>\n",
       "  <tbody>\n",
       "    <tr>\n",
       "      <th>obs1</th>\n",
       "      <td>sandía</td>\n",
       "      <td>1</td>\n",
       "      <td>2.50</td>\n",
       "      <td>rojo</td>\n",
       "      <td>8.0</td>\n",
       "      <td>1.0</td>\n",
       "    </tr>\n",
       "    <tr>\n",
       "      <th>obs2</th>\n",
       "      <td>melón</td>\n",
       "      <td>1</td>\n",
       "      <td>2.00</td>\n",
       "      <td>rojo</td>\n",
       "      <td>4.0</td>\n",
       "      <td>2.0</td>\n",
       "    </tr>\n",
       "    <tr>\n",
       "      <th>2</th>\n",
       "      <td>manzana</td>\n",
       "      <td>6</td>\n",
       "      <td>0.35</td>\n",
       "      <td>rojo</td>\n",
       "      <td>3.0</td>\n",
       "      <td>3.5</td>\n",
       "    </tr>\n",
       "    <tr>\n",
       "      <th>3</th>\n",
       "      <td>cerezas</td>\n",
       "      <td>10</td>\n",
       "      <td>0.10</td>\n",
       "      <td>rojo</td>\n",
       "      <td>1.0</td>\n",
       "      <td>7.0</td>\n",
       "    </tr>\n",
       "    <tr>\n",
       "      <th>4</th>\n",
       "      <td>plátano</td>\n",
       "      <td>3</td>\n",
       "      <td>0.35</td>\n",
       "      <td>rojo</td>\n",
       "      <td>7.0</td>\n",
       "      <td>3.5</td>\n",
       "    </tr>\n",
       "    <tr>\n",
       "      <th>5</th>\n",
       "      <td>pera</td>\n",
       "      <td>6</td>\n",
       "      <td>0.20</td>\n",
       "      <td>rojo</td>\n",
       "      <td>6.0</td>\n",
       "      <td>5.0</td>\n",
       "    </tr>\n",
       "    <tr>\n",
       "      <th>6</th>\n",
       "      <td>naranja</td>\n",
       "      <td>4</td>\n",
       "      <td>0.15</td>\n",
       "      <td>rojo</td>\n",
       "      <td>5.0</td>\n",
       "      <td>6.0</td>\n",
       "    </tr>\n",
       "    <tr>\n",
       "      <th>obs8</th>\n",
       "      <td>fresas</td>\n",
       "      <td>10</td>\n",
       "      <td>0.05</td>\n",
       "      <td>rojo</td>\n",
       "      <td>2.0</td>\n",
       "      <td>8.0</td>\n",
       "    </tr>\n",
       "  </tbody>\n",
       "</table>\n",
       "</div>"
      ],
      "text/plain": [
       "        FRUTA  CANTIDAD  PRECIO COLOR  RANKING_FRUTA  RANKING_PRECIO\n",
       "obs1   sandía         1    2.50  rojo            8.0             1.0\n",
       "obs2    melón         1    2.00  rojo            4.0             2.0\n",
       "2     manzana         6    0.35  rojo            3.0             3.5\n",
       "3     cerezas        10    0.10  rojo            1.0             7.0\n",
       "4     plátano         3    0.35  rojo            7.0             3.5\n",
       "5        pera         6    0.20  rojo            6.0             5.0\n",
       "6     naranja         4    0.15  rojo            5.0             6.0\n",
       "obs8   fresas        10    0.05  rojo            2.0             8.0"
      ]
     },
     "execution_count": 44,
     "metadata": {},
     "output_type": "execute_result"
    }
   ],
   "source": [
    "# orden descendente en el precio, el precio mayor = 1 y el menor = 8, \n",
    "# si tienen el mismo precio se coloca como decimal, como el 3.5 que esta entre 3 y 4\n",
    "df[\"RANKING_PRECIO\"] = df[\"PRECIO\"].rank(ascending = False)\n",
    "df"
   ]
  },
  {
   "cell_type": "markdown",
   "metadata": {
    "id": "5y9xuAJLdaty"
   },
   "source": [
    "El método `.nunique()` devuelve el conteo de cuántos valores únicos hay en cada columna"
   ]
  },
  {
   "cell_type": "code",
   "execution_count": null,
   "metadata": {
    "colab": {
     "base_uri": "https://localhost:8080/"
    },
    "executionInfo": {
     "elapsed": 757,
     "status": "ok",
     "timestamp": 1611912950189,
     "user": {
      "displayName": "Juan Gabriel Gomila Salas",
      "photoUrl": "https://lh3.googleusercontent.com/a-/AOh14GjdBM44CAiZlDiF-IkE0NJQH-LHKt1b0A22wmma_w=s64",
      "userId": "03106941341701838274"
     },
     "user_tz": -60
    },
    "id": "f-IkkjDcd5ua",
    "outputId": "110dfe15-e195-4c77-9fe4-67f780721964"
   },
   "outputs": [
    {
     "data": {
      "text/plain": [
       "FRUTA             8\n",
       "CANTIDAD          5\n",
       "PRECIO            7\n",
       "COLOR             1\n",
       "RANKING_FRUTA     8\n",
       "RANKING_PRECIO    7\n",
       "dtype: int64"
      ]
     },
     "execution_count": 31,
     "metadata": {
      "tags": []
     },
     "output_type": "execute_result"
    }
   ],
   "source": [
    "df.nunique()"
   ]
  },
  {
   "cell_type": "markdown",
   "metadata": {
    "id": "Xk4VRyileHiV"
   },
   "source": [
    "Dada una columna de un dataframe, el método `.unique()` devuelve un array(lista) con los valores únicos de dicha columna"
   ]
  },
  {
   "cell_type": "code",
   "execution_count": 45,
   "metadata": {
    "colab": {
     "base_uri": "https://localhost:8080/"
    },
    "executionInfo": {
     "elapsed": 844,
     "status": "ok",
     "timestamp": 1611913031909,
     "user": {
      "displayName": "Juan Gabriel Gomila Salas",
      "photoUrl": "https://lh3.googleusercontent.com/a-/AOh14GjdBM44CAiZlDiF-IkE0NJQH-LHKt1b0A22wmma_w=s64",
      "userId": "03106941341701838274"
     },
     "user_tz": -60
    },
    "id": "W1d_o9pyeKMf",
    "outputId": "dc88a896-bc56-4ab5-923a-df6493eaad5e"
   },
   "outputs": [
    {
     "name": "stdout",
     "output_type": "stream",
     "text": [
      "['rojo']\n"
     ]
    }
   ],
   "source": [
    "print(df[\"COLOR\"].unique())"
   ]
  },
  {
   "cell_type": "code",
   "execution_count": 46,
   "metadata": {
    "colab": {
     "base_uri": "https://localhost:8080/"
    },
    "executionInfo": {
     "elapsed": 754,
     "status": "ok",
     "timestamp": 1611913040911,
     "user": {
      "displayName": "Juan Gabriel Gomila Salas",
      "photoUrl": "https://lh3.googleusercontent.com/a-/AOh14GjdBM44CAiZlDiF-IkE0NJQH-LHKt1b0A22wmma_w=s64",
      "userId": "03106941341701838274"
     },
     "user_tz": -60
    },
    "id": "mS-a5lVyfd80",
    "outputId": "a0ef7ef6-39a7-4dca-d497-0e9a670aef9a"
   },
   "outputs": [
    {
     "name": "stdout",
     "output_type": "stream",
     "text": [
      "[2.5  2.   0.35 0.1  0.2  0.15 0.05]\n"
     ]
    }
   ],
   "source": [
    "print(df[\"PRECIO\"].unique())"
   ]
  },
  {
   "cell_type": "markdown",
   "metadata": {
    "id": "__YcIhX5uXvx"
   },
   "source": [
    "El método `.duplicated()` nos ayuda a analizar los valores duplicados. El parámetro `keep` sirve para controlar como proceder con los valores duplicados, los valores para `keep` son:\n",
    "\n",
    "  * `first`: considera la primera aparición del valor repetido como único y el resto como duplicados\n",
    "  * `last`: considera la última aparición del valor repetido como único y el resto como duplicados\n",
    "  * `False`: considera todos los repetidos iguales como duplicados"
   ]
  },
  {
   "cell_type": "code",
   "execution_count": 47,
   "metadata": {
    "colab": {
     "base_uri": "https://localhost:8080/",
     "height": 235
    },
    "executionInfo": {
     "elapsed": 869,
     "status": "ok",
     "timestamp": 1611913150360,
     "user": {
      "displayName": "Juan Gabriel Gomila Salas",
      "photoUrl": "https://lh3.googleusercontent.com/a-/AOh14GjdBM44CAiZlDiF-IkE0NJQH-LHKt1b0A22wmma_w=s64",
      "userId": "03106941341701838274"
     },
     "user_tz": -60
    },
    "id": "T-WmkAIYvViX",
    "outputId": "e1db7dab-1698-4382-eb39-76c86ba4fd7d"
   },
   "outputs": [
    {
     "data": {
      "text/html": [
       "<div>\n",
       "<style scoped>\n",
       "    .dataframe tbody tr th:only-of-type {\n",
       "        vertical-align: middle;\n",
       "    }\n",
       "\n",
       "    .dataframe tbody tr th {\n",
       "        vertical-align: top;\n",
       "    }\n",
       "\n",
       "    .dataframe thead th {\n",
       "        text-align: right;\n",
       "    }\n",
       "</style>\n",
       "<table border=\"1\" class=\"dataframe\">\n",
       "  <thead>\n",
       "    <tr style=\"text-align: right;\">\n",
       "      <th></th>\n",
       "      <th>FRUTA</th>\n",
       "      <th>CANTIDAD</th>\n",
       "      <th>PRECIO</th>\n",
       "      <th>COLOR</th>\n",
       "      <th>RANKING_FRUTA</th>\n",
       "      <th>RANKING_PRECIO</th>\n",
       "    </tr>\n",
       "  </thead>\n",
       "  <tbody>\n",
       "    <tr>\n",
       "      <th>obs1</th>\n",
       "      <td>sandía</td>\n",
       "      <td>1</td>\n",
       "      <td>2.50</td>\n",
       "      <td>rojo</td>\n",
       "      <td>8.0</td>\n",
       "      <td>1.0</td>\n",
       "    </tr>\n",
       "    <tr>\n",
       "      <th>obs2</th>\n",
       "      <td>melón</td>\n",
       "      <td>1</td>\n",
       "      <td>2.00</td>\n",
       "      <td>rojo</td>\n",
       "      <td>4.0</td>\n",
       "      <td>2.0</td>\n",
       "    </tr>\n",
       "    <tr>\n",
       "      <th>2</th>\n",
       "      <td>manzana</td>\n",
       "      <td>6</td>\n",
       "      <td>0.35</td>\n",
       "      <td>rojo</td>\n",
       "      <td>3.0</td>\n",
       "      <td>3.5</td>\n",
       "    </tr>\n",
       "    <tr>\n",
       "      <th>3</th>\n",
       "      <td>cerezas</td>\n",
       "      <td>10</td>\n",
       "      <td>0.10</td>\n",
       "      <td>rojo</td>\n",
       "      <td>1.0</td>\n",
       "      <td>7.0</td>\n",
       "    </tr>\n",
       "    <tr>\n",
       "      <th>5</th>\n",
       "      <td>pera</td>\n",
       "      <td>6</td>\n",
       "      <td>0.20</td>\n",
       "      <td>rojo</td>\n",
       "      <td>6.0</td>\n",
       "      <td>5.0</td>\n",
       "    </tr>\n",
       "    <tr>\n",
       "      <th>obs8</th>\n",
       "      <td>fresas</td>\n",
       "      <td>10</td>\n",
       "      <td>0.05</td>\n",
       "      <td>rojo</td>\n",
       "      <td>2.0</td>\n",
       "      <td>8.0</td>\n",
       "    </tr>\n",
       "  </tbody>\n",
       "</table>\n",
       "</div>"
      ],
      "text/plain": [
       "        FRUTA  CANTIDAD  PRECIO COLOR  RANKING_FRUTA  RANKING_PRECIO\n",
       "obs1   sandía         1    2.50  rojo            8.0             1.0\n",
       "obs2    melón         1    2.00  rojo            4.0             2.0\n",
       "2     manzana         6    0.35  rojo            3.0             3.5\n",
       "3     cerezas        10    0.10  rojo            1.0             7.0\n",
       "5        pera         6    0.20  rojo            6.0             5.0\n",
       "obs8   fresas        10    0.05  rojo            2.0             8.0"
      ]
     },
     "execution_count": 47,
     "metadata": {},
     "output_type": "execute_result"
    }
   ],
   "source": [
    "# keep = False, se quedara con todos los elementos repetidos en la columna Cantidad\n",
    "bool_duplicated = df[\"CANTIDAD\"].duplicated(keep = False)\n",
    "df[bool_duplicated] # mostramos el df solo los valores repetidos"
   ]
  },
  {
   "cell_type": "code",
   "execution_count": 48,
   "metadata": {},
   "outputs": [
    {
     "data": {
      "text/plain": [
       "obs1     True\n",
       "obs2     True\n",
       "2        True\n",
       "3        True\n",
       "4       False\n",
       "5        True\n",
       "6       False\n",
       "obs8     True\n",
       "Name: CANTIDAD, dtype: bool"
      ]
     },
     "execution_count": 48,
     "metadata": {},
     "output_type": "execute_result"
    }
   ],
   "source": [
    "bool_duplicated # 4 y 6 no son valores repetidos, ambos son únicos en cantidad"
   ]
  },
  {
   "cell_type": "markdown",
   "metadata": {
    "id": "bJjWs0JMwcmX"
   },
   "source": [
    "El método `.drop_duplicates()` elimina los duplicados del dataframe. De nuevo, volvemos a tener el parámetro `keep` y el parámetro `subset` sirve para indicar las columnas a las que queremos aplicar el método:\n",
    "\n",
    "**Observación.** Para que los cambios sean llevados a cabo en el dataframe original, habrá que indicar `inplace = True`"
   ]
  },
  {
   "cell_type": "code",
   "execution_count": null,
   "metadata": {
    "colab": {
     "base_uri": "https://localhost:8080/",
     "height": 204
    },
    "executionInfo": {
     "elapsed": 809,
     "status": "ok",
     "timestamp": 1611913259768,
     "user": {
      "displayName": "Juan Gabriel Gomila Salas",
      "photoUrl": "https://lh3.googleusercontent.com/a-/AOh14GjdBM44CAiZlDiF-IkE0NJQH-LHKt1b0A22wmma_w=s64",
      "userId": "03106941341701838274"
     },
     "user_tz": -60
    },
    "id": "IsSYk7uAwiyw",
    "outputId": "11a6c524-a826-4afc-c48d-e9bdfc2225ed"
   },
   "outputs": [
    {
     "data": {
      "text/html": [
       "<div>\n",
       "<style scoped>\n",
       "    .dataframe tbody tr th:only-of-type {\n",
       "        vertical-align: middle;\n",
       "    }\n",
       "\n",
       "    .dataframe tbody tr th {\n",
       "        vertical-align: top;\n",
       "    }\n",
       "\n",
       "    .dataframe thead th {\n",
       "        text-align: right;\n",
       "    }\n",
       "</style>\n",
       "<table border=\"1\" class=\"dataframe\">\n",
       "  <thead>\n",
       "    <tr style=\"text-align: right;\">\n",
       "      <th></th>\n",
       "      <th>FRUTA</th>\n",
       "      <th>CANTIDAD</th>\n",
       "      <th>PRECIO</th>\n",
       "      <th>COLOR</th>\n",
       "      <th>RANKING_FRUTA</th>\n",
       "      <th>RANKING_PRECIO</th>\n",
       "    </tr>\n",
       "  </thead>\n",
       "  <tbody>\n",
       "    <tr>\n",
       "      <th>obs1</th>\n",
       "      <td>sandía</td>\n",
       "      <td>1</td>\n",
       "      <td>2.50</td>\n",
       "      <td>rojo</td>\n",
       "      <td>8.0</td>\n",
       "      <td>1.0</td>\n",
       "    </tr>\n",
       "    <tr>\n",
       "      <th>2</th>\n",
       "      <td>manzana</td>\n",
       "      <td>6</td>\n",
       "      <td>0.35</td>\n",
       "      <td>rojo</td>\n",
       "      <td>3.0</td>\n",
       "      <td>3.5</td>\n",
       "    </tr>\n",
       "    <tr>\n",
       "      <th>3</th>\n",
       "      <td>cerezas</td>\n",
       "      <td>10</td>\n",
       "      <td>0.10</td>\n",
       "      <td>rojo</td>\n",
       "      <td>1.0</td>\n",
       "      <td>7.0</td>\n",
       "    </tr>\n",
       "    <tr>\n",
       "      <th>4</th>\n",
       "      <td>plátano</td>\n",
       "      <td>3</td>\n",
       "      <td>0.35</td>\n",
       "      <td>rojo</td>\n",
       "      <td>7.0</td>\n",
       "      <td>3.5</td>\n",
       "    </tr>\n",
       "    <tr>\n",
       "      <th>6</th>\n",
       "      <td>naranja</td>\n",
       "      <td>4</td>\n",
       "      <td>0.15</td>\n",
       "      <td>rojo</td>\n",
       "      <td>5.0</td>\n",
       "      <td>6.0</td>\n",
       "    </tr>\n",
       "  </tbody>\n",
       "</table>\n",
       "</div>"
      ],
      "text/plain": [
       "        FRUTA  CANTIDAD  PRECIO COLOR  RANKING_FRUTA  RANKING_PRECIO\n",
       "obs1   sandía         1    2.50  rojo            8.0             1.0\n",
       "2     manzana         6    0.35  rojo            3.0             3.5\n",
       "3     cerezas        10    0.10  rojo            1.0             7.0\n",
       "4     plátano         3    0.35  rojo            7.0             3.5\n",
       "6     naranja         4    0.15  rojo            5.0             6.0"
      ]
     },
     "execution_count": 35,
     "metadata": {
      "tags": []
     },
     "output_type": "execute_result"
    }
   ],
   "source": [
    "# subset se indica a que columna le eliminamos los duplicados\n",
    "# keep, tiene los mismos valores que con .duplicated\n",
    "# creamos un nuevo df para que guarde los valores con estos cambios\n",
    "df_without_duplicates = df.drop_duplicates(subset = \"CANTIDAD\",\n",
    "                                           keep = \"first\")\n",
    "df_without_duplicates\n",
    "# por el keep = \"first\" solo nos quedamos con el 1er elemento repetido en la columna CANTIDAD\n",
    "# Sandia y melo tenian la misma cantidad, pero como sandia iba primero, nos quedamos con ese"
   ]
  },
  {
   "cell_type": "markdown",
   "metadata": {
    "id": "-LzqOeGTngCu"
   },
   "source": [
    "El método `.nsmallest()` nos devuelve las $n$ filas con menor valor de la columna que indiquemos por parámetro"
   ]
  },
  {
   "cell_type": "code",
   "execution_count": 49,
   "metadata": {
    "colab": {
     "base_uri": "https://localhost:8080/",
     "height": 142
    },
    "executionInfo": {
     "elapsed": 764,
     "status": "ok",
     "timestamp": 1611913332439,
     "user": {
      "displayName": "Juan Gabriel Gomila Salas",
      "photoUrl": "https://lh3.googleusercontent.com/a-/AOh14GjdBM44CAiZlDiF-IkE0NJQH-LHKt1b0A22wmma_w=s64",
      "userId": "03106941341701838274"
     },
     "user_tz": -60
    },
    "id": "XMWCvgrSnoCZ",
    "outputId": "2bbfdeee-1b8d-42f7-a557-174402bda143"
   },
   "outputs": [
    {
     "data": {
      "text/html": [
       "<div>\n",
       "<style scoped>\n",
       "    .dataframe tbody tr th:only-of-type {\n",
       "        vertical-align: middle;\n",
       "    }\n",
       "\n",
       "    .dataframe tbody tr th {\n",
       "        vertical-align: top;\n",
       "    }\n",
       "\n",
       "    .dataframe thead th {\n",
       "        text-align: right;\n",
       "    }\n",
       "</style>\n",
       "<table border=\"1\" class=\"dataframe\">\n",
       "  <thead>\n",
       "    <tr style=\"text-align: right;\">\n",
       "      <th></th>\n",
       "      <th>FRUTA</th>\n",
       "      <th>CANTIDAD</th>\n",
       "      <th>PRECIO</th>\n",
       "      <th>COLOR</th>\n",
       "      <th>RANKING_FRUTA</th>\n",
       "      <th>RANKING_PRECIO</th>\n",
       "    </tr>\n",
       "  </thead>\n",
       "  <tbody>\n",
       "    <tr>\n",
       "      <th>obs8</th>\n",
       "      <td>fresas</td>\n",
       "      <td>10</td>\n",
       "      <td>0.05</td>\n",
       "      <td>rojo</td>\n",
       "      <td>2.0</td>\n",
       "      <td>8.0</td>\n",
       "    </tr>\n",
       "    <tr>\n",
       "      <th>3</th>\n",
       "      <td>cerezas</td>\n",
       "      <td>10</td>\n",
       "      <td>0.10</td>\n",
       "      <td>rojo</td>\n",
       "      <td>1.0</td>\n",
       "      <td>7.0</td>\n",
       "    </tr>\n",
       "    <tr>\n",
       "      <th>6</th>\n",
       "      <td>naranja</td>\n",
       "      <td>4</td>\n",
       "      <td>0.15</td>\n",
       "      <td>rojo</td>\n",
       "      <td>5.0</td>\n",
       "      <td>6.0</td>\n",
       "    </tr>\n",
       "  </tbody>\n",
       "</table>\n",
       "</div>"
      ],
      "text/plain": [
       "        FRUTA  CANTIDAD  PRECIO COLOR  RANKING_FRUTA  RANKING_PRECIO\n",
       "obs8   fresas        10    0.05  rojo            2.0             8.0\n",
       "3     cerezas        10    0.10  rojo            1.0             7.0\n",
       "6     naranja         4    0.15  rojo            5.0             6.0"
      ]
     },
     "execution_count": 49,
     "metadata": {},
     "output_type": "execute_result"
    }
   ],
   "source": [
    "# Queremos las 3 observaciones con menor precio\n",
    "# queremos los 3 menores valores de la columna PRECIO, en orden ascendente\n",
    "df.nsmallest(3, \"PRECIO\")"
   ]
  },
  {
   "cell_type": "markdown",
   "metadata": {
    "id": "bkhiv3i4nxyL"
   },
   "source": [
    "El método `.largest()` nos devuelve las $n$ filas con mayor valor de la columna que indiquemos por parámetro"
   ]
  },
  {
   "cell_type": "code",
   "execution_count": 50,
   "metadata": {
    "colab": {
     "base_uri": "https://localhost:8080/",
     "height": 204
    },
    "executionInfo": {
     "elapsed": 682,
     "status": "ok",
     "timestamp": 1607703988123,
     "user": {
      "displayName": "María Santos Fernandez",
      "photoUrl": "",
      "userId": "05118399518218051952"
     },
     "user_tz": -60
    },
    "id": "NSXFMBn7n5Oc",
    "outputId": "04c4a023-deb1-4da5-8aed-6f65e22870ea"
   },
   "outputs": [
    {
     "data": {
      "text/html": [
       "<div>\n",
       "<style scoped>\n",
       "    .dataframe tbody tr th:only-of-type {\n",
       "        vertical-align: middle;\n",
       "    }\n",
       "\n",
       "    .dataframe tbody tr th {\n",
       "        vertical-align: top;\n",
       "    }\n",
       "\n",
       "    .dataframe thead th {\n",
       "        text-align: right;\n",
       "    }\n",
       "</style>\n",
       "<table border=\"1\" class=\"dataframe\">\n",
       "  <thead>\n",
       "    <tr style=\"text-align: right;\">\n",
       "      <th></th>\n",
       "      <th>FRUTA</th>\n",
       "      <th>CANTIDAD</th>\n",
       "      <th>PRECIO</th>\n",
       "      <th>COLOR</th>\n",
       "      <th>RANKING_FRUTA</th>\n",
       "      <th>RANKING_PRECIO</th>\n",
       "    </tr>\n",
       "  </thead>\n",
       "  <tbody>\n",
       "    <tr>\n",
       "      <th>3</th>\n",
       "      <td>cerezas</td>\n",
       "      <td>10</td>\n",
       "      <td>0.10</td>\n",
       "      <td>rojo</td>\n",
       "      <td>1.0</td>\n",
       "      <td>7.0</td>\n",
       "    </tr>\n",
       "    <tr>\n",
       "      <th>obs8</th>\n",
       "      <td>fresas</td>\n",
       "      <td>10</td>\n",
       "      <td>0.05</td>\n",
       "      <td>rojo</td>\n",
       "      <td>2.0</td>\n",
       "      <td>8.0</td>\n",
       "    </tr>\n",
       "    <tr>\n",
       "      <th>2</th>\n",
       "      <td>manzana</td>\n",
       "      <td>6</td>\n",
       "      <td>0.35</td>\n",
       "      <td>rojo</td>\n",
       "      <td>3.0</td>\n",
       "      <td>3.5</td>\n",
       "    </tr>\n",
       "    <tr>\n",
       "      <th>5</th>\n",
       "      <td>pera</td>\n",
       "      <td>6</td>\n",
       "      <td>0.20</td>\n",
       "      <td>rojo</td>\n",
       "      <td>6.0</td>\n",
       "      <td>5.0</td>\n",
       "    </tr>\n",
       "    <tr>\n",
       "      <th>6</th>\n",
       "      <td>naranja</td>\n",
       "      <td>4</td>\n",
       "      <td>0.15</td>\n",
       "      <td>rojo</td>\n",
       "      <td>5.0</td>\n",
       "      <td>6.0</td>\n",
       "    </tr>\n",
       "  </tbody>\n",
       "</table>\n",
       "</div>"
      ],
      "text/plain": [
       "        FRUTA  CANTIDAD  PRECIO COLOR  RANKING_FRUTA  RANKING_PRECIO\n",
       "3     cerezas        10    0.10  rojo            1.0             7.0\n",
       "obs8   fresas        10    0.05  rojo            2.0             8.0\n",
       "2     manzana         6    0.35  rojo            3.0             3.5\n",
       "5        pera         6    0.20  rojo            6.0             5.0\n",
       "6     naranja         4    0.15  rojo            5.0             6.0"
      ]
     },
     "execution_count": 50,
     "metadata": {},
     "output_type": "execute_result"
    }
   ],
   "source": [
    "# Queremos las 5 observaciones con mayor cantidad\n",
    "df.nlargest(5, \"CANTIDAD\") "
   ]
  },
  {
   "cell_type": "markdown",
   "metadata": {
    "id": "LQvL59Puim0_"
   },
   "source": [
    "El método `.dtypes` nos indica de qué tipo es cada columna del dataframe"
   ]
  },
  {
   "cell_type": "code",
   "execution_count": 51,
   "metadata": {
    "colab": {
     "base_uri": "https://localhost:8080/"
    },
    "executionInfo": {
     "elapsed": 799,
     "status": "ok",
     "timestamp": 1611913393218,
     "user": {
      "displayName": "Juan Gabriel Gomila Salas",
      "photoUrl": "https://lh3.googleusercontent.com/a-/AOh14GjdBM44CAiZlDiF-IkE0NJQH-LHKt1b0A22wmma_w=s64",
      "userId": "03106941341701838274"
     },
     "user_tz": -60
    },
    "id": "wY6BPqm7igZT",
    "outputId": "03053ff4-292d-4142-a5c5-a1a9d0180871"
   },
   "outputs": [
    {
     "data": {
      "text/plain": [
       "FRUTA              object\n",
       "CANTIDAD            int64\n",
       "PRECIO            float64\n",
       "COLOR              object\n",
       "RANKING_FRUTA     float64\n",
       "RANKING_PRECIO    float64\n",
       "dtype: object"
      ]
     },
     "execution_count": 51,
     "metadata": {},
     "output_type": "execute_result"
    }
   ],
   "source": [
    "df.dtypes\n",
    "# object, para elementos que tienen hetegeneidad de los elementos que contiene, strings, ints, floats, etc.\n",
    "# RANKING es float porque en caso de empates genera valores decimales, si supieramos que no hay empates podemos convertirlo a int"
   ]
  },
  {
   "cell_type": "markdown",
   "metadata": {
    "id": "W_TMN3KkCx9K"
   },
   "source": [
    "## Bucles y dataframes\n",
    "\n",
    "Para iterar sobre las filas de un dataframe, podemos utilizar los métodos:\n",
    "\n",
    "- `.iterrows()`\n",
    "- `.itertuples()`"
   ]
  },
  {
   "cell_type": "code",
   "execution_count": null,
   "metadata": {
    "colab": {
     "base_uri": "https://localhost:8080/",
     "height": 142
    },
    "executionInfo": {
     "elapsed": 774,
     "status": "ok",
     "timestamp": 1611913767322,
     "user": {
      "displayName": "Juan Gabriel Gomila Salas",
      "photoUrl": "https://lh3.googleusercontent.com/a-/AOh14GjdBM44CAiZlDiF-IkE0NJQH-LHKt1b0A22wmma_w=s64",
      "userId": "03106941341701838274"
     },
     "user_tz": -60
    },
    "id": "cYWyadM8Awgu",
    "outputId": "18886993-6312-4996-c6b3-7f68a339d520"
   },
   "outputs": [
    {
     "data": {
      "text/html": [
       "<div>\n",
       "<style scoped>\n",
       "    .dataframe tbody tr th:only-of-type {\n",
       "        vertical-align: middle;\n",
       "    }\n",
       "\n",
       "    .dataframe tbody tr th {\n",
       "        vertical-align: top;\n",
       "    }\n",
       "\n",
       "    .dataframe thead th {\n",
       "        text-align: right;\n",
       "    }\n",
       "</style>\n",
       "<table border=\"1\" class=\"dataframe\">\n",
       "  <thead>\n",
       "    <tr style=\"text-align: right;\">\n",
       "      <th></th>\n",
       "      <th>name</th>\n",
       "      <th>surname</th>\n",
       "      <th>gender</th>\n",
       "    </tr>\n",
       "  </thead>\n",
       "  <tbody>\n",
       "    <tr>\n",
       "      <th>0</th>\n",
       "      <td>Juan Gabriel</td>\n",
       "      <td>Gomila</td>\n",
       "      <td>m</td>\n",
       "    </tr>\n",
       "    <tr>\n",
       "      <th>1</th>\n",
       "      <td>María</td>\n",
       "      <td>Santos</td>\n",
       "      <td>f</td>\n",
       "    </tr>\n",
       "    <tr>\n",
       "      <th>2</th>\n",
       "      <td>Ricardo</td>\n",
       "      <td>Alberich</td>\n",
       "      <td>m</td>\n",
       "    </tr>\n",
       "  </tbody>\n",
       "</table>\n",
       "</div>"
      ],
      "text/plain": [
       "           name   surname gender\n",
       "0  Juan Gabriel    Gomila      m\n",
       "1         María    Santos      f\n",
       "2       Ricardo  Alberich      m"
      ]
     },
     "execution_count": 44,
     "metadata": {
      "tags": []
     },
     "output_type": "execute_result"
    }
   ],
   "source": [
    "d = {\"name\": [\"Juan Gabriel\", \"María\", \"Ricardo\"],\n",
    "     \"surname\": [\"Gomila\", \"Santos\", \"Alberich\"],\n",
    "     \"gender\": [\"m\", \"f\", \"m\"]}\n",
    "\n",
    "df = pd.DataFrame(d)\n",
    "df # 3 filas"
   ]
  },
  {
   "cell_type": "markdown",
   "metadata": {
    "id": "9lxbougnwQrt"
   },
   "source": [
    "Usamos `.iterrows()` para obtener el índice de cada fila junto al contenido de cada una:"
   ]
  },
  {
   "cell_type": "code",
   "execution_count": null,
   "metadata": {
    "colab": {
     "base_uri": "https://localhost:8080/"
    },
    "executionInfo": {
     "elapsed": 795,
     "status": "ok",
     "timestamp": 1611913890786,
     "user": {
      "displayName": "Juan Gabriel Gomila Salas",
      "photoUrl": "https://lh3.googleusercontent.com/a-/AOh14GjdBM44CAiZlDiF-IkE0NJQH-LHKt1b0A22wmma_w=s64",
      "userId": "03106941341701838274"
     },
     "user_tz": -60
    },
    "id": "e7gxzJa1wYjx",
    "outputId": "437bc65e-faee-4ac5-fd12-e450c2314fed"
   },
   "outputs": [
    {
     "name": "stdout",
     "output_type": "stream",
     "text": [
      "Índice de la fila: 0,\n",
      "\n",
      "Contenido de la fila:\n",
      "name       Juan Gabriel\n",
      "surname          Gomila\n",
      "gender                m\n",
      "Name: 0, dtype: object\n",
      "\n",
      "\n",
      "Índice de la fila: 1,\n",
      "\n",
      "Contenido de la fila:\n",
      "name        María\n",
      "surname    Santos\n",
      "gender          f\n",
      "Name: 1, dtype: object\n",
      "\n",
      "\n",
      "Índice de la fila: 2,\n",
      "\n",
      "Contenido de la fila:\n",
      "name        Ricardo\n",
      "surname    Alberich\n",
      "gender            m\n",
      "Name: 2, dtype: object\n",
      "\n",
      "\n"
     ]
    }
   ],
   "source": [
    "# i, indice de la fila\n",
    "# j, contenido de la fila, clave valor para cada campo de la fila\n",
    "for i, j in df.iterrows():\n",
    "  print(\"Índice de la fila: {},\\n\\nContenido de la fila:\\n{}\".format(i, j), end = \"\\n\\n\\n\")\n",
    "# imprimimos cada fila"
   ]
  },
  {
   "cell_type": "markdown",
   "metadata": {
    "id": "-Bp6m13WyL3b"
   },
   "source": [
    "Usamos `.itertuples()` para obtener una tupla con toda la información de cada fila:"
   ]
  },
  {
   "cell_type": "code",
   "execution_count": null,
   "metadata": {
    "colab": {
     "base_uri": "https://localhost:8080/"
    },
    "executionInfo": {
     "elapsed": 771,
     "status": "ok",
     "timestamp": 1611913959629,
     "user": {
      "displayName": "Juan Gabriel Gomila Salas",
      "photoUrl": "https://lh3.googleusercontent.com/a-/AOh14GjdBM44CAiZlDiF-IkE0NJQH-LHKt1b0A22wmma_w=s64",
      "userId": "03106941341701838274"
     },
     "user_tz": -60
    },
    "id": "6Ex5HXBqyNpy",
    "outputId": "78e01375-86f0-4394-9a55-14e62dbb14c9"
   },
   "outputs": [
    {
     "name": "stdout",
     "output_type": "stream",
     "text": [
      "Contenido de la fila:\n",
      "Pandas(Index=0, name='Juan Gabriel', surname='Gomila', gender='m')\n",
      "\n",
      "Contenido de la fila:\n",
      "Pandas(Index=1, name='María', surname='Santos', gender='f')\n",
      "\n",
      "Contenido de la fila:\n",
      "Pandas(Index=2, name='Ricardo', surname='Alberich', gender='m')\n",
      "\n"
     ]
    }
   ],
   "source": [
    "# imprimimos en formato de tupla, i recorre cada fila\n",
    "for i in df.itertuples():\n",
    "  print(\"Contenido de la fila:\\n{}\".format(i), end = \"\\n\\n\")"
   ]
  },
  {
   "cell_type": "markdown",
   "metadata": {
    "id": "dZMKBALnyzGS"
   },
   "source": [
    "Para iterar sobre las columnas de un dataframe, \n",
    "\n",
    "- creamos una lista de las columnas del dataframe y luego iterarmos sobre esa lista para obtener la información de esas columnas\n",
    "- usamos el métood `.iteritems()`"
   ]
  },
  {
   "cell_type": "markdown",
   "metadata": {
    "id": "ZmEYFHAJbk0Q"
   },
   "source": [
    "Creamos la lista de columnas e iteramos sobre esta:"
   ]
  },
  {
   "cell_type": "code",
   "execution_count": 52,
   "metadata": {
    "colab": {
     "base_uri": "https://localhost:8080/"
    },
    "executionInfo": {
     "elapsed": 999,
     "status": "ok",
     "timestamp": 1611914036604,
     "user": {
      "displayName": "Juan Gabriel Gomila Salas",
      "photoUrl": "https://lh3.googleusercontent.com/a-/AOh14GjdBM44CAiZlDiF-IkE0NJQH-LHKt1b0A22wmma_w=s64",
      "userId": "03106941341701838274"
     },
     "user_tz": -60
    },
    "id": "ByqW1kRGy8nk",
    "outputId": "6a65d62b-4f88-4ad2-e8a9-6f3d2c04e43e"
   },
   "outputs": [
    {
     "name": "stdout",
     "output_type": "stream",
     "text": [
      "['FRUTA', 'CANTIDAD', 'PRECIO', 'COLOR', 'RANKING_FRUTA', 'RANKING_PRECIO']\n"
     ]
    }
   ],
   "source": [
    "# podemos usar esta forma para iterar las columnas. Se creo una lista\n",
    "columns = list(df)\n",
    "print(columns)"
   ]
  },
  {
   "cell_type": "code",
   "execution_count": null,
   "metadata": {
    "colab": {
     "base_uri": "https://localhost:8080/"
    },
    "executionInfo": {
     "elapsed": 1057,
     "status": "ok",
     "timestamp": 1611913660788,
     "user": {
      "displayName": "Juan Gabriel Gomila Salas",
      "photoUrl": "https://lh3.googleusercontent.com/a-/AOh14GjdBM44CAiZlDiF-IkE0NJQH-LHKt1b0A22wmma_w=s64",
      "userId": "03106941341701838274"
     },
     "user_tz": -60
    },
    "id": "Y3Lbe1I-zAp0",
    "outputId": "16e426d6-b1f8-4dc9-af4a-2ff78303db47"
   },
   "outputs": [
    {
     "name": "stdout",
     "output_type": "stream",
     "text": [
      "Columna name:\n",
      "0    Juan Gabriel\n",
      "1           María\n",
      "2         Ricardo\n",
      "Name: name, dtype: object\n",
      "\n",
      "Columna surname:\n",
      "0      Gomila\n",
      "1      Santos\n",
      "2    Alberich\n",
      "Name: surname, dtype: object\n",
      "\n",
      "Columna gender:\n",
      "0    m\n",
      "1    f\n",
      "2    m\n",
      "Name: gender, dtype: object\n",
      "\n"
     ]
    }
   ],
   "source": [
    "# iteramos la lista de columnas, esta es una forma más sencilla\n",
    "for c in columns:\n",
    "  print(\"Columna {}:\\n{}\".format(c, df[c]), end = \"\\n\\n\")"
   ]
  },
  {
   "cell_type": "markdown",
   "metadata": {
    "id": "xfS3zZC9bpaI"
   },
   "source": [
    "Podemos usar esta alternativa `.iteritems()` para obtener el nombre de cada columna junto al contenido de cada una:"
   ]
  },
  {
   "cell_type": "code",
   "execution_count": null,
   "metadata": {
    "colab": {
     "base_uri": "https://localhost:8080/"
    },
    "executionInfo": {
     "elapsed": 1052,
     "status": "ok",
     "timestamp": 1611913660788,
     "user": {
      "displayName": "Juan Gabriel Gomila Salas",
      "photoUrl": "https://lh3.googleusercontent.com/a-/AOh14GjdBM44CAiZlDiF-IkE0NJQH-LHKt1b0A22wmma_w=s64",
      "userId": "03106941341701838274"
     },
     "user_tz": -60
    },
    "id": "7OrFiaLExu51",
    "outputId": "ab7d7667-e884-44fb-f568-075cafefda13"
   },
   "outputs": [
    {
     "name": "stdout",
     "output_type": "stream",
     "text": [
      "Nombre de la columna: name,\n",
      "\n",
      "Contenido de la columna:\n",
      "0    Juan Gabriel\n",
      "1           María\n",
      "2         Ricardo\n",
      "Name: name, dtype: object\n",
      "\n",
      "\n",
      "Nombre de la columna: surname,\n",
      "\n",
      "Contenido de la columna:\n",
      "0      Gomila\n",
      "1      Santos\n",
      "2    Alberich\n",
      "Name: surname, dtype: object\n",
      "\n",
      "\n",
      "Nombre de la columna: gender,\n",
      "\n",
      "Contenido de la columna:\n",
      "0    m\n",
      "1    f\n",
      "2    m\n",
      "Name: gender, dtype: object\n",
      "\n",
      "\n"
     ]
    }
   ],
   "source": [
    "# se puede iterar con este método, aunque el anterior parece más sencillo\n",
    "# i seria el nombre de la columna y la j seria el contenido\n",
    "for i, j in df.iteritems():\n",
    "  print(\"Nombre de la columna: {},\\n\\nContenido de la columna:\\n{}\".format(i, j), end = \"\\n\\n\\n\")"
   ]
  },
  {
   "cell_type": "markdown",
   "metadata": {
    "id": "eKe_O_NCEBr1"
   },
   "source": [
    "## Dataframes a partir de archivos CSV\n",
    "\n",
    "Podemos guardar la información de un archivo csv en un dataframe usando la función `read_csv()`.\n",
    "\n",
    "El archivo puede\n",
    "\n",
    "- estar guardado en nuestro directorio de trabajo\n",
    "- proceder de una url\n",
    "\n"
   ]
  },
  {
   "cell_type": "markdown",
   "metadata": {
    "id": "FhhT25yyEOzP"
   },
   "source": [
    "### Desde directorio de trabajo (con Google Drive)\n",
    "\n",
    "Vamos a cargar el archivo llamado `characters-simpsons.csv` que tenemos guardado en la carpeta datasets de Google Drive.\n",
    "\n",
    "Para ello, lo primero que tenemos que hacer es conectar este notebook de Colab con Google Drive. Debemos darle acceso al colab a nuestro archivos de Google Drive, se explica en el video 019 minuto 2:20\n",
    "\n",
    "A continuación, navegamos por nuestro Google Drive hasta encontrar el archivo csv en cuestión. De sus opciones, seleccionamos copiar ruta. Esa ruta será la que pasemos por parámetro a la función `read_csv()`"
   ]
  },
  {
   "cell_type": "code",
   "execution_count": null,
   "metadata": {
    "colab": {
     "base_uri": "https://localhost:8080/"
    },
    "executionInfo": {
     "elapsed": 23523,
     "status": "ok",
     "timestamp": 1613329939716,
     "user": {
      "displayName": "Juan Gabriel Gomila Salas",
      "photoUrl": "https://lh3.googleusercontent.com/a-/AOh14GjdBM44CAiZlDiF-IkE0NJQH-LHKt1b0A22wmma_w=s64",
      "userId": "03106941341701838274"
     },
     "user_tz": -60
    },
    "id": "D4ARBy08nCeo",
    "outputId": "a173f4d2-445f-4fee-f4d3-8da4f8602ab0"
   },
   "outputs": [
    {
     "name": "stdout",
     "output_type": "stream",
     "text": [
      "Mounted at /content/drive\n"
     ]
    }
   ],
   "source": [
    "from google.colab import drive\n",
    "drive.mount('/content/drive')"
   ]
  },
  {
   "cell_type": "code",
   "execution_count": null,
   "metadata": {
    "colab": {
     "base_uri": "https://localhost:8080/",
     "height": 204
    },
    "executionInfo": {
     "elapsed": 1262,
     "status": "ok",
     "timestamp": 1611915362433,
     "user": {
      "displayName": "Juan Gabriel Gomila Salas",
      "photoUrl": "https://lh3.googleusercontent.com/a-/AOh14GjdBM44CAiZlDiF-IkE0NJQH-LHKt1b0A22wmma_w=s64",
      "userId": "03106941341701838274"
     },
     "user_tz": -60
    },
    "id": "loTznG-mNFvZ",
    "outputId": "f64f5918-2259-4286-b202-284818d7dc8d"
   },
   "outputs": [
    {
     "data": {
      "text/html": [
       "<div>\n",
       "<style scoped>\n",
       "    .dataframe tbody tr th:only-of-type {\n",
       "        vertical-align: middle;\n",
       "    }\n",
       "\n",
       "    .dataframe tbody tr th {\n",
       "        vertical-align: top;\n",
       "    }\n",
       "\n",
       "    .dataframe thead th {\n",
       "        text-align: right;\n",
       "    }\n",
       "</style>\n",
       "<table border=\"1\" class=\"dataframe\">\n",
       "  <thead>\n",
       "    <tr style=\"text-align: right;\">\n",
       "      <th></th>\n",
       "      <th>id</th>\n",
       "      <th>name</th>\n",
       "      <th>normalized_name</th>\n",
       "      <th>gender</th>\n",
       "    </tr>\n",
       "  </thead>\n",
       "  <tbody>\n",
       "    <tr>\n",
       "      <th>0</th>\n",
       "      <td>7</td>\n",
       "      <td>Children</td>\n",
       "      <td>children</td>\n",
       "      <td>NaN</td>\n",
       "    </tr>\n",
       "    <tr>\n",
       "      <th>1</th>\n",
       "      <td>12</td>\n",
       "      <td>Mechanical Santa</td>\n",
       "      <td>mechanical santa</td>\n",
       "      <td>NaN</td>\n",
       "    </tr>\n",
       "    <tr>\n",
       "      <th>2</th>\n",
       "      <td>13</td>\n",
       "      <td>Tattoo Man</td>\n",
       "      <td>tattoo man</td>\n",
       "      <td>NaN</td>\n",
       "    </tr>\n",
       "    <tr>\n",
       "      <th>3</th>\n",
       "      <td>16</td>\n",
       "      <td>DOCTOR ZITSOFSKY</td>\n",
       "      <td>doctor zitsofsky</td>\n",
       "      <td>NaN</td>\n",
       "    </tr>\n",
       "    <tr>\n",
       "      <th>4</th>\n",
       "      <td>20</td>\n",
       "      <td>Students</td>\n",
       "      <td>students</td>\n",
       "      <td>NaN</td>\n",
       "    </tr>\n",
       "  </tbody>\n",
       "</table>\n",
       "</div>"
      ],
      "text/plain": [
       "   id              name   normalized_name gender\n",
       "0   7          Children          children    NaN\n",
       "1  12  Mechanical Santa  mechanical santa    NaN\n",
       "2  13        Tattoo Man        tattoo man    NaN\n",
       "3  16  DOCTOR ZITSOFSKY  doctor zitsofsky    NaN\n",
       "4  20          Students          students    NaN"
      ]
     },
     "execution_count": 50,
     "metadata": {
      "tags": []
     },
     "output_type": "execute_result"
    }
   ],
   "source": [
    "simpsons_df = pd.read_csv(\"/content/drive/MyDrive/python-basico/datasets/characters-simpsons.csv\")\n",
    "simpsons_df.head()\n",
    "# valores NaN porque no tenemos esa data o el genero no se conoce"
   ]
  },
  {
   "cell_type": "code",
   "execution_count": null,
   "metadata": {
    "colab": {
     "base_uri": "https://localhost:8080/",
     "height": 204
    },
    "executionInfo": {
     "elapsed": 774,
     "status": "ok",
     "timestamp": 1611915405911,
     "user": {
      "displayName": "Juan Gabriel Gomila Salas",
      "photoUrl": "https://lh3.googleusercontent.com/a-/AOh14GjdBM44CAiZlDiF-IkE0NJQH-LHKt1b0A22wmma_w=s64",
      "userId": "03106941341701838274"
     },
     "user_tz": -60
    },
    "id": "8X4Lbhe0vwFo",
    "outputId": "85aa7cd1-99a5-4a8a-a5b2-bbcfcf6e5363"
   },
   "outputs": [
    {
     "data": {
      "text/html": [
       "<div>\n",
       "<style scoped>\n",
       "    .dataframe tbody tr th:only-of-type {\n",
       "        vertical-align: middle;\n",
       "    }\n",
       "\n",
       "    .dataframe tbody tr th {\n",
       "        vertical-align: top;\n",
       "    }\n",
       "\n",
       "    .dataframe thead th {\n",
       "        text-align: right;\n",
       "    }\n",
       "</style>\n",
       "<table border=\"1\" class=\"dataframe\">\n",
       "  <thead>\n",
       "    <tr style=\"text-align: right;\">\n",
       "      <th></th>\n",
       "      <th>id</th>\n",
       "      <th>name</th>\n",
       "      <th>normalized_name</th>\n",
       "      <th>gender</th>\n",
       "    </tr>\n",
       "  </thead>\n",
       "  <tbody>\n",
       "    <tr>\n",
       "      <th>6717</th>\n",
       "      <td>5222</td>\n",
       "      <td>Ron Rabinowitz</td>\n",
       "      <td>ron rabinowitz</td>\n",
       "      <td>m</td>\n",
       "    </tr>\n",
       "    <tr>\n",
       "      <th>6718</th>\n",
       "      <td>5728</td>\n",
       "      <td>Martha Stewart</td>\n",
       "      <td>martha stewart</td>\n",
       "      <td>f</td>\n",
       "    </tr>\n",
       "    <tr>\n",
       "      <th>6719</th>\n",
       "      <td>1770</td>\n",
       "      <td>Officer Goodman</td>\n",
       "      <td>officer goodman</td>\n",
       "      <td>m</td>\n",
       "    </tr>\n",
       "    <tr>\n",
       "      <th>6720</th>\n",
       "      <td>1634</td>\n",
       "      <td>Evan Conover</td>\n",
       "      <td>evan conover</td>\n",
       "      <td>m</td>\n",
       "    </tr>\n",
       "    <tr>\n",
       "      <th>6721</th>\n",
       "      <td>1868</td>\n",
       "      <td>Agent Johnson</td>\n",
       "      <td>agent johnson</td>\n",
       "      <td>m</td>\n",
       "    </tr>\n",
       "  </tbody>\n",
       "</table>\n",
       "</div>"
      ],
      "text/plain": [
       "        id             name  normalized_name gender\n",
       "6717  5222   Ron Rabinowitz   ron rabinowitz      m\n",
       "6718  5728   Martha Stewart   martha stewart      f\n",
       "6719  1770  Officer Goodman  officer goodman      m\n",
       "6720  1634     Evan Conover     evan conover      m\n",
       "6721  1868    Agent Johnson    agent johnson      m"
      ]
     },
     "execution_count": 51,
     "metadata": {
      "tags": []
     },
     "output_type": "execute_result"
    }
   ],
   "source": [
    "simpsons_df.tail()"
   ]
  },
  {
   "cell_type": "markdown",
   "metadata": {
    "id": "gZn1SRCnJsjD"
   },
   "source": [
    "### Desde url\n",
    "\n",
    "Vamos a cargar el archivo que contiene la frecuencia de aparición de las letras del alfabeto inglés. Este archivo se llama letter_frequency.csv procede de la siguiente [url](https://people.sc.fsu.edu/~jburkardt/data/csv/letter_frequency.csv)"
   ]
  },
  {
   "cell_type": "code",
   "execution_count": null,
   "metadata": {
    "colab": {
     "base_uri": "https://localhost:8080/",
     "height": 855
    },
    "executionInfo": {
     "elapsed": 1538,
     "status": "ok",
     "timestamp": 1611916509456,
     "user": {
      "displayName": "Juan Gabriel Gomila Salas",
      "photoUrl": "https://lh3.googleusercontent.com/a-/AOh14GjdBM44CAiZlDiF-IkE0NJQH-LHKt1b0A22wmma_w=s64",
      "userId": "03106941341701838274"
     },
     "user_tz": -60
    },
    "id": "vo2Na3e9EEWU",
    "outputId": "33f5af44-489b-482c-fe39-d41fa8403848"
   },
   "outputs": [
    {
     "data": {
      "text/html": [
       "<div>\n",
       "<style scoped>\n",
       "    .dataframe tbody tr th:only-of-type {\n",
       "        vertical-align: middle;\n",
       "    }\n",
       "\n",
       "    .dataframe tbody tr th {\n",
       "        vertical-align: top;\n",
       "    }\n",
       "\n",
       "    .dataframe thead th {\n",
       "        text-align: right;\n",
       "    }\n",
       "</style>\n",
       "<table border=\"1\" class=\"dataframe\">\n",
       "  <thead>\n",
       "    <tr style=\"text-align: right;\">\n",
       "      <th></th>\n",
       "      <th>Letra</th>\n",
       "      <th>Frecuencia</th>\n",
       "      <th>Porcentaje</th>\n",
       "    </tr>\n",
       "  </thead>\n",
       "  <tbody>\n",
       "    <tr>\n",
       "      <th>0</th>\n",
       "      <td>\"A\"</td>\n",
       "      <td>24373121</td>\n",
       "      <td>8.1</td>\n",
       "    </tr>\n",
       "    <tr>\n",
       "      <th>1</th>\n",
       "      <td>\"B\"</td>\n",
       "      <td>4762938</td>\n",
       "      <td>1.6</td>\n",
       "    </tr>\n",
       "    <tr>\n",
       "      <th>2</th>\n",
       "      <td>\"C\"</td>\n",
       "      <td>8982417</td>\n",
       "      <td>3.0</td>\n",
       "    </tr>\n",
       "    <tr>\n",
       "      <th>3</th>\n",
       "      <td>\"D\"</td>\n",
       "      <td>10805580</td>\n",
       "      <td>3.6</td>\n",
       "    </tr>\n",
       "    <tr>\n",
       "      <th>4</th>\n",
       "      <td>\"E\"</td>\n",
       "      <td>37907119</td>\n",
       "      <td>12.6</td>\n",
       "    </tr>\n",
       "    <tr>\n",
       "      <th>5</th>\n",
       "      <td>\"F\"</td>\n",
       "      <td>7486889</td>\n",
       "      <td>2.5</td>\n",
       "    </tr>\n",
       "    <tr>\n",
       "      <th>6</th>\n",
       "      <td>\"G\"</td>\n",
       "      <td>5143059</td>\n",
       "      <td>1.7</td>\n",
       "    </tr>\n",
       "    <tr>\n",
       "      <th>7</th>\n",
       "      <td>\"H\"</td>\n",
       "      <td>18058207</td>\n",
       "      <td>6.0</td>\n",
       "    </tr>\n",
       "    <tr>\n",
       "      <th>8</th>\n",
       "      <td>\"I\"</td>\n",
       "      <td>21820970</td>\n",
       "      <td>7.3</td>\n",
       "    </tr>\n",
       "    <tr>\n",
       "      <th>9</th>\n",
       "      <td>\"J\"</td>\n",
       "      <td>474021</td>\n",
       "      <td>0.2</td>\n",
       "    </tr>\n",
       "    <tr>\n",
       "      <th>10</th>\n",
       "      <td>\"K\"</td>\n",
       "      <td>1720909</td>\n",
       "      <td>0.6</td>\n",
       "    </tr>\n",
       "    <tr>\n",
       "      <th>11</th>\n",
       "      <td>\"L\"</td>\n",
       "      <td>11730498</td>\n",
       "      <td>3.9</td>\n",
       "    </tr>\n",
       "    <tr>\n",
       "      <th>12</th>\n",
       "      <td>\"M\"</td>\n",
       "      <td>7391366</td>\n",
       "      <td>2.5</td>\n",
       "    </tr>\n",
       "    <tr>\n",
       "      <th>13</th>\n",
       "      <td>\"N\"</td>\n",
       "      <td>21402466</td>\n",
       "      <td>7.1</td>\n",
       "    </tr>\n",
       "    <tr>\n",
       "      <th>14</th>\n",
       "      <td>\"O\"</td>\n",
       "      <td>23215532</td>\n",
       "      <td>7.7</td>\n",
       "    </tr>\n",
       "    <tr>\n",
       "      <th>15</th>\n",
       "      <td>\"P\"</td>\n",
       "      <td>5719422</td>\n",
       "      <td>1.9</td>\n",
       "    </tr>\n",
       "    <tr>\n",
       "      <th>16</th>\n",
       "      <td>\"Q\"</td>\n",
       "      <td>297237</td>\n",
       "      <td>0.1</td>\n",
       "    </tr>\n",
       "    <tr>\n",
       "      <th>17</th>\n",
       "      <td>\"R\"</td>\n",
       "      <td>17897352</td>\n",
       "      <td>5.9</td>\n",
       "    </tr>\n",
       "    <tr>\n",
       "      <th>18</th>\n",
       "      <td>\"S\"</td>\n",
       "      <td>19059775</td>\n",
       "      <td>6.3</td>\n",
       "    </tr>\n",
       "    <tr>\n",
       "      <th>19</th>\n",
       "      <td>\"T\"</td>\n",
       "      <td>28691274</td>\n",
       "      <td>9.5</td>\n",
       "    </tr>\n",
       "    <tr>\n",
       "      <th>20</th>\n",
       "      <td>\"U\"</td>\n",
       "      <td>8022379</td>\n",
       "      <td>2.7</td>\n",
       "    </tr>\n",
       "    <tr>\n",
       "      <th>21</th>\n",
       "      <td>\"V\"</td>\n",
       "      <td>2835696</td>\n",
       "      <td>0.9</td>\n",
       "    </tr>\n",
       "    <tr>\n",
       "      <th>22</th>\n",
       "      <td>\"W\"</td>\n",
       "      <td>6505294</td>\n",
       "      <td>2.2</td>\n",
       "    </tr>\n",
       "    <tr>\n",
       "      <th>23</th>\n",
       "      <td>\"X\"</td>\n",
       "      <td>562732</td>\n",
       "      <td>0.2</td>\n",
       "    </tr>\n",
       "    <tr>\n",
       "      <th>24</th>\n",
       "      <td>\"Y\"</td>\n",
       "      <td>5910495</td>\n",
       "      <td>2.0</td>\n",
       "    </tr>\n",
       "    <tr>\n",
       "      <th>25</th>\n",
       "      <td>\"Z\"</td>\n",
       "      <td>93172</td>\n",
       "      <td>0.0</td>\n",
       "    </tr>\n",
       "  </tbody>\n",
       "</table>\n",
       "</div>"
      ],
      "text/plain": [
       "      Letra  Frecuencia  Porcentaje\n",
       "0       \"A\"    24373121         8.1\n",
       "1       \"B\"     4762938         1.6\n",
       "2       \"C\"     8982417         3.0\n",
       "3       \"D\"    10805580         3.6\n",
       "4       \"E\"    37907119        12.6\n",
       "5       \"F\"     7486889         2.5\n",
       "6       \"G\"     5143059         1.7\n",
       "7       \"H\"    18058207         6.0\n",
       "8       \"I\"    21820970         7.3\n",
       "9       \"J\"      474021         0.2\n",
       "10      \"K\"     1720909         0.6\n",
       "11      \"L\"    11730498         3.9\n",
       "12      \"M\"     7391366         2.5\n",
       "13      \"N\"    21402466         7.1\n",
       "14      \"O\"    23215532         7.7\n",
       "15      \"P\"     5719422         1.9\n",
       "16      \"Q\"      297237         0.1\n",
       "17      \"R\"    17897352         5.9\n",
       "18      \"S\"    19059775         6.3\n",
       "19      \"T\"    28691274         9.5\n",
       "20      \"U\"     8022379         2.7\n",
       "21      \"V\"     2835696         0.9\n",
       "22      \"W\"     6505294         2.2\n",
       "23      \"X\"      562732         0.2\n",
       "24      \"Y\"     5910495         2.0\n",
       "25      \"Z\"       93172         0.0"
      ]
     },
     "execution_count": 52,
     "metadata": {
      "tags": []
     },
     "output_type": "execute_result"
    }
   ],
   "source": [
    "letters_freq_df = pd.read_csv(\"https://people.sc.fsu.edu/~jburkardt/data/csv/letter_frequency.csv\")\n",
    "# debemos asegurarnos de que el archivo no esta incrustado en una pagina web, si viene de github debemos hacer click en RAW para leerlo correctamente\n",
    "letters_freq_df.columns = [\"Letra\", \"Frecuencia\", \"Porcentaje\"] \n",
    "letters_freq_df"
   ]
  },
  {
   "cell_type": "markdown",
   "metadata": {
    "id": "bGG2HI9rfC1m"
   },
   "source": [
    "## Dataframes a partir de archivos JSON\n",
    "\n",
    "Podemos guardar la información de un archivo json en un dataframe usando el método `.read_json()`.\n",
    "\n",
    "El archivo puede\n",
    "\n",
    "- estar guardado en nuestro directorio de trabajo\n",
    "- proceder de una url"
   ]
  },
  {
   "cell_type": "markdown",
   "metadata": {
    "id": "_fr_ELGcfd-f"
   },
   "source": [
    "### Desde directorio de trabajo (con Google Drive)\n",
    "\n",
    "Vamos a cargar el archivo llamado `json_index_example.json` que tenemos guardado en la carpeta datasets de Google Drive.\n",
    "\n",
    "Para ello, lo primero que tenemos que hacer es conectar este notebook de Colab con Google Drive.\n",
    "\n",
    "A continuación, navegamos por nuestro Google Drive hasta encontrar el archivo json en cuestión. De sus opciones, seleccionamos copiar ruta. Esa ruta será la que pasemos por parámetro al método `.read_json()`"
   ]
  },
  {
   "cell_type": "code",
   "execution_count": null,
   "metadata": {
    "colab": {
     "base_uri": "https://localhost:8080/",
     "height": 204
    },
    "executionInfo": {
     "elapsed": 1221,
     "status": "ok",
     "timestamp": 1613330333948,
     "user": {
      "displayName": "Juan Gabriel Gomila Salas",
      "photoUrl": "https://lh3.googleusercontent.com/a-/AOh14GjdBM44CAiZlDiF-IkE0NJQH-LHKt1b0A22wmma_w=s64",
      "userId": "03106941341701838274"
     },
     "user_tz": -60
    },
    "id": "sv57DNxfgS2D",
    "outputId": "20ef0eb7-fcb1-4e27-82bf-89cae68f9fd8"
   },
   "outputs": [
    {
     "data": {
      "text/html": [
       "<div>\n",
       "<style scoped>\n",
       "    .dataframe tbody tr th:only-of-type {\n",
       "        vertical-align: middle;\n",
       "    }\n",
       "\n",
       "    .dataframe tbody tr th {\n",
       "        vertical-align: top;\n",
       "    }\n",
       "\n",
       "    .dataframe thead th {\n",
       "        text-align: right;\n",
       "    }\n",
       "</style>\n",
       "<table border=\"1\" class=\"dataframe\">\n",
       "  <thead>\n",
       "    <tr style=\"text-align: right;\">\n",
       "      <th></th>\n",
       "      <th>Producto</th>\n",
       "      <th>Precio</th>\n",
       "      <th>Cantidad</th>\n",
       "    </tr>\n",
       "  </thead>\n",
       "  <tbody>\n",
       "    <tr>\n",
       "      <th>0</th>\n",
       "      <td>Bolígrafo</td>\n",
       "      <td>1.80</td>\n",
       "      <td>3</td>\n",
       "    </tr>\n",
       "    <tr>\n",
       "      <th>1</th>\n",
       "      <td>Lápiz</td>\n",
       "      <td>0.30</td>\n",
       "      <td>2</td>\n",
       "    </tr>\n",
       "    <tr>\n",
       "      <th>2</th>\n",
       "      <td>Libreta</td>\n",
       "      <td>5.20</td>\n",
       "      <td>1</td>\n",
       "    </tr>\n",
       "    <tr>\n",
       "      <th>3</th>\n",
       "      <td>Agenda</td>\n",
       "      <td>9.99</td>\n",
       "      <td>1</td>\n",
       "    </tr>\n",
       "    <tr>\n",
       "      <th>4</th>\n",
       "      <td>Rotulador</td>\n",
       "      <td>1.15</td>\n",
       "      <td>5</td>\n",
       "    </tr>\n",
       "  </tbody>\n",
       "</table>\n",
       "</div>"
      ],
      "text/plain": [
       "    Producto  Precio  Cantidad\n",
       "0  Bolígrafo    1.80         3\n",
       "1      Lápiz    0.30         2\n",
       "2    Libreta    5.20         1\n",
       "3     Agenda    9.99         1\n",
       "4  Rotulador    1.15         5"
      ]
     },
     "execution_count": 2,
     "metadata": {
      "tags": []
     },
     "output_type": "execute_result"
    }
   ],
   "source": [
    "import pandas as pd\n",
    "quiz_index = pd.read_json(\"/content/drive/MyDrive/python-basico/datasets/json_index_example.json\", \n",
    "                          orient = \"index\")\n",
    "# index por que los valores estan diseñados por indice(fila), es decir, es un json con muchos registros\n",
    "# {0:{\"nombre\":\"\",\"apellido\":\"\"},1:{\"nombre\":\"\",\"apellido\":\"\"},2:{\"nombre\":\"\",\"apellido\":\"\"}}\n",
    "quiz_index.head()"
   ]
  },
  {
   "cell_type": "markdown",
   "metadata": {
    "id": "Hn4uKmlxlfP5"
   },
   "source": [
    "#### El parámetro `orient`\n",
    "\n",
    "En el caso de archivos json, podría darse que no tuvieran la misma configuración que nuestro ejemplo, `json_index_example.json` cuya orientación se corresponde con `index`.\n",
    "\n",
    "El parámetro `orient` del método `.read_json()` admite otras opciones como `columns` o `values`.\n",
    "\n",
    "Veamos ambos casos con los ficheros `json_columns_example.json` y `json_values_example.json`, respectivamente."
   ]
  },
  {
   "cell_type": "code",
   "execution_count": null,
   "metadata": {
    "colab": {
     "base_uri": "https://localhost:8080/",
     "height": 204
    },
    "executionInfo": {
     "elapsed": 518,
     "status": "ok",
     "timestamp": 1613330562867,
     "user": {
      "displayName": "Juan Gabriel Gomila Salas",
      "photoUrl": "https://lh3.googleusercontent.com/a-/AOh14GjdBM44CAiZlDiF-IkE0NJQH-LHKt1b0A22wmma_w=s64",
      "userId": "03106941341701838274"
     },
     "user_tz": -60
    },
    "id": "7Z2_LMYOmtPg",
    "outputId": "e3474e4d-336c-452e-d0e1-0913a1f1f202"
   },
   "outputs": [
    {
     "data": {
      "text/html": [
       "<div>\n",
       "<style scoped>\n",
       "    .dataframe tbody tr th:only-of-type {\n",
       "        vertical-align: middle;\n",
       "    }\n",
       "\n",
       "    .dataframe tbody tr th {\n",
       "        vertical-align: top;\n",
       "    }\n",
       "\n",
       "    .dataframe thead th {\n",
       "        text-align: right;\n",
       "    }\n",
       "</style>\n",
       "<table border=\"1\" class=\"dataframe\">\n",
       "  <thead>\n",
       "    <tr style=\"text-align: right;\">\n",
       "      <th></th>\n",
       "      <th>Producto</th>\n",
       "      <th>Precio</th>\n",
       "      <th>Cantidad</th>\n",
       "    </tr>\n",
       "  </thead>\n",
       "  <tbody>\n",
       "    <tr>\n",
       "      <th>0</th>\n",
       "      <td>Bolígrafo</td>\n",
       "      <td>1.80</td>\n",
       "      <td>3</td>\n",
       "    </tr>\n",
       "    <tr>\n",
       "      <th>1</th>\n",
       "      <td>Lápiz</td>\n",
       "      <td>0.30</td>\n",
       "      <td>2</td>\n",
       "    </tr>\n",
       "    <tr>\n",
       "      <th>2</th>\n",
       "      <td>Libreta</td>\n",
       "      <td>5.20</td>\n",
       "      <td>1</td>\n",
       "    </tr>\n",
       "    <tr>\n",
       "      <th>3</th>\n",
       "      <td>Agenda</td>\n",
       "      <td>9.99</td>\n",
       "      <td>1</td>\n",
       "    </tr>\n",
       "    <tr>\n",
       "      <th>4</th>\n",
       "      <td>Rotulador</td>\n",
       "      <td>1.15</td>\n",
       "      <td>5</td>\n",
       "    </tr>\n",
       "  </tbody>\n",
       "</table>\n",
       "</div>"
      ],
      "text/plain": [
       "    Producto  Precio  Cantidad\n",
       "0  Bolígrafo    1.80         3\n",
       "1      Lápiz    0.30         2\n",
       "2    Libreta    5.20         1\n",
       "3     Agenda    9.99         1\n",
       "4  Rotulador    1.15         5"
      ]
     },
     "execution_count": 5,
     "metadata": {
      "tags": []
     },
     "output_type": "execute_result"
    }
   ],
   "source": [
    "# Orientación con index\n",
    "quiz_columns = pd.read_json(\"/content/drive/MyDrive/python-basico/datasets/json_columns_example.json\", \n",
    "                    orient = \"columns\")\n",
    "# el json esta orientado a columnas\n",
    "# {\"producto\":{\"0\":\"\",\"1\":\"\",\"2\":\"\"},\"precio\":{\"0\":\"\",\"1\":\"\",\"2\":\"\"},\"cantidad\":{\"0\":\"\",\"1\":\"\",\"2\":\"\"}}\n",
    "quiz_columns.head()"
   ]
  },
  {
   "cell_type": "code",
   "execution_count": null,
   "metadata": {
    "colab": {
     "base_uri": "https://localhost:8080/",
     "height": 204
    },
    "executionInfo": {
     "elapsed": 551,
     "status": "ok",
     "timestamp": 1613330716172,
     "user": {
      "displayName": "Juan Gabriel Gomila Salas",
      "photoUrl": "https://lh3.googleusercontent.com/a-/AOh14GjdBM44CAiZlDiF-IkE0NJQH-LHKt1b0A22wmma_w=s64",
      "userId": "03106941341701838274"
     },
     "user_tz": -60
    },
    "id": "8zWeorrCmtfz",
    "outputId": "46d78019-6bf3-4b4a-ce11-c5cf1ee59909"
   },
   "outputs": [
    {
     "data": {
      "text/html": [
       "<div>\n",
       "<style scoped>\n",
       "    .dataframe tbody tr th:only-of-type {\n",
       "        vertical-align: middle;\n",
       "    }\n",
       "\n",
       "    .dataframe tbody tr th {\n",
       "        vertical-align: top;\n",
       "    }\n",
       "\n",
       "    .dataframe thead th {\n",
       "        text-align: right;\n",
       "    }\n",
       "</style>\n",
       "<table border=\"1\" class=\"dataframe\">\n",
       "  <thead>\n",
       "    <tr style=\"text-align: right;\">\n",
       "      <th></th>\n",
       "      <th>0</th>\n",
       "      <th>1</th>\n",
       "      <th>2</th>\n",
       "    </tr>\n",
       "  </thead>\n",
       "  <tbody>\n",
       "    <tr>\n",
       "      <th>0</th>\n",
       "      <td>Bolígrafo</td>\n",
       "      <td>1.80</td>\n",
       "      <td>3</td>\n",
       "    </tr>\n",
       "    <tr>\n",
       "      <th>1</th>\n",
       "      <td>Lápiz</td>\n",
       "      <td>0.30</td>\n",
       "      <td>2</td>\n",
       "    </tr>\n",
       "    <tr>\n",
       "      <th>2</th>\n",
       "      <td>Libreta</td>\n",
       "      <td>5.20</td>\n",
       "      <td>1</td>\n",
       "    </tr>\n",
       "    <tr>\n",
       "      <th>3</th>\n",
       "      <td>Agenda</td>\n",
       "      <td>9.99</td>\n",
       "      <td>1</td>\n",
       "    </tr>\n",
       "    <tr>\n",
       "      <th>4</th>\n",
       "      <td>Rotulador</td>\n",
       "      <td>1.15</td>\n",
       "      <td>5</td>\n",
       "    </tr>\n",
       "  </tbody>\n",
       "</table>\n",
       "</div>"
      ],
      "text/plain": [
       "           0     1  2\n",
       "0  Bolígrafo  1.80  3\n",
       "1      Lápiz  0.30  2\n",
       "2    Libreta  5.20  1\n",
       "3     Agenda  9.99  1\n",
       "4  Rotulador  1.15  5"
      ]
     },
     "execution_count": 9,
     "metadata": {
      "tags": []
     },
     "output_type": "execute_result"
    }
   ],
   "source": [
    "# Orientación con values\n",
    "quiz_values = pd.read_json(\"/content/drive/MyDrive/python-basico/datasets/json_values_example.json\",\n",
    "                           orient = \"values\")\n",
    "# el json viene en un arreglo y cada elemento es un arreglo, las filas y columnas no tendrán nombres\n",
    "# [[\"Bolígrafo\",\"1.80\",\"3\"],[\"Lápiz\",\"1.80\",\"3\"],[\"Libreta\",\"1.80\",\"3\"]]\n",
    "# aunque este formato puede funcionar con orient = \"columns\", porque no necesitamos definir nombres para las columnas\n",
    "\n",
    "quiz_values.head()"
   ]
  },
  {
   "cell_type": "markdown",
   "metadata": {
    "id": "t_5yFZLnsu5k"
   },
   "source": [
    "### Desde url\n",
    "\n",
    "Vamos a cargar el archivo json que procede de la siguiente [url](https://api.exchangerate-api.com/v4/latest/USD)"
   ]
  },
  {
   "cell_type": "code",
   "execution_count": null,
   "metadata": {
    "colab": {
     "base_uri": "https://localhost:8080/",
     "height": 204
    },
    "executionInfo": {
     "elapsed": 1075,
     "status": "ok",
     "timestamp": 1613330967477,
     "user": {
      "displayName": "Juan Gabriel Gomila Salas",
      "photoUrl": "https://lh3.googleusercontent.com/a-/AOh14GjdBM44CAiZlDiF-IkE0NJQH-LHKt1b0A22wmma_w=s64",
      "userId": "03106941341701838274"
     },
     "user_tz": -60
    },
    "id": "QtlgdkjiswOu",
    "outputId": "ba0b48e8-953a-4540-f8f7-9f9f19d6ebe1"
   },
   "outputs": [
    {
     "data": {
      "text/html": [
       "<div>\n",
       "<style scoped>\n",
       "    .dataframe tbody tr th:only-of-type {\n",
       "        vertical-align: middle;\n",
       "    }\n",
       "\n",
       "    .dataframe tbody tr th {\n",
       "        vertical-align: top;\n",
       "    }\n",
       "\n",
       "    .dataframe thead th {\n",
       "        text-align: right;\n",
       "    }\n",
       "</style>\n",
       "<table border=\"1\" class=\"dataframe\">\n",
       "  <thead>\n",
       "    <tr style=\"text-align: right;\">\n",
       "      <th></th>\n",
       "      <th>base</th>\n",
       "      <th>date</th>\n",
       "      <th>time_last_updated</th>\n",
       "      <th>rates</th>\n",
       "    </tr>\n",
       "  </thead>\n",
       "  <tbody>\n",
       "    <tr>\n",
       "      <th>AED</th>\n",
       "      <td>USD</td>\n",
       "      <td>2021-02-14</td>\n",
       "      <td>1613260801</td>\n",
       "      <td>3.672500</td>\n",
       "    </tr>\n",
       "    <tr>\n",
       "      <th>ARS</th>\n",
       "      <td>USD</td>\n",
       "      <td>2021-02-14</td>\n",
       "      <td>1613260801</td>\n",
       "      <td>88.385195</td>\n",
       "    </tr>\n",
       "    <tr>\n",
       "      <th>AUD</th>\n",
       "      <td>USD</td>\n",
       "      <td>2021-02-14</td>\n",
       "      <td>1613260801</td>\n",
       "      <td>1.290432</td>\n",
       "    </tr>\n",
       "    <tr>\n",
       "      <th>BGN</th>\n",
       "      <td>USD</td>\n",
       "      <td>2021-02-14</td>\n",
       "      <td>1613260801</td>\n",
       "      <td>1.613399</td>\n",
       "    </tr>\n",
       "    <tr>\n",
       "      <th>BRL</th>\n",
       "      <td>USD</td>\n",
       "      <td>2021-02-14</td>\n",
       "      <td>1613260801</td>\n",
       "      <td>5.382740</td>\n",
       "    </tr>\n",
       "  </tbody>\n",
       "</table>\n",
       "</div>"
      ],
      "text/plain": [
       "    base       date  time_last_updated      rates\n",
       "AED  USD 2021-02-14         1613260801   3.672500\n",
       "ARS  USD 2021-02-14         1613260801  88.385195\n",
       "AUD  USD 2021-02-14         1613260801   1.290432\n",
       "BGN  USD 2021-02-14         1613260801   1.613399\n",
       "BRL  USD 2021-02-14         1613260801   5.382740"
      ]
     },
     "execution_count": 10,
     "metadata": {
      "tags": []
     },
     "output_type": "execute_result"
    }
   ],
   "source": [
    "# esta es una api, retorna el valor del dolar(USD, que podemos cambiar por otra moneda) con su conversión en otras monedas\n",
    "# por defecto es orient = \"index\"\n",
    "from_url = pd.read_json(\"https://api.exchangerate-api.com/v4/latest/USD\")\n",
    "from_url.head()\n",
    "# rate es el valor de la moneda para un dolar"
   ]
  },
  {
   "cell_type": "markdown",
   "metadata": {
    "id": "ynzYveXLiJII"
   },
   "source": [
    "## Tratamiento de datos faltantes\n",
    "\n"
   ]
  },
  {
   "cell_type": "markdown",
   "metadata": {
    "id": "JVYik9vyiUJR"
   },
   "source": [
    "Los datos faltantes, o en inglés, Missing Data, se dan cuando no hay información para uno o más elementos.\n",
    "\n",
    "Éste es un problema muy común en la vida real.\n",
    "\n",
    "En la librería `pandas`, identificamos los missing data con valores `NA` (Not Available)(no disponible) o `NaN` (Not a Number)(valor no númerico).\n",
    "\n",
    "Para identificar valores fanltantes en un dataframe de `pandas` , podemos usar los métodos `.isnull()` o `.notnull()`"
   ]
  },
  {
   "cell_type": "code",
   "execution_count": null,
   "metadata": {
    "colab": {
     "base_uri": "https://localhost:8080/",
     "height": 204
    },
    "executionInfo": {
     "elapsed": 879,
     "status": "ok",
     "timestamp": 1607938955877,
     "user": {
      "displayName": "María Santos Fernandez",
      "photoUrl": "",
      "userId": "05118399518218051952"
     },
     "user_tz": -60
    },
    "id": "rhsnXoxAJW3t",
    "outputId": "89e12285-b822-454f-8407-9ab71053af22"
   },
   "outputs": [
    {
     "data": {
      "text/html": [
       "<div>\n",
       "<style scoped>\n",
       "    .dataframe tbody tr th:only-of-type {\n",
       "        vertical-align: middle;\n",
       "    }\n",
       "\n",
       "    .dataframe tbody tr th {\n",
       "        vertical-align: top;\n",
       "    }\n",
       "\n",
       "    .dataframe thead th {\n",
       "        text-align: right;\n",
       "    }\n",
       "</style>\n",
       "<table border=\"1\" class=\"dataframe\">\n",
       "  <thead>\n",
       "    <tr style=\"text-align: right;\">\n",
       "      <th></th>\n",
       "      <th>id</th>\n",
       "      <th>name</th>\n",
       "      <th>normalized_name</th>\n",
       "      <th>gender</th>\n",
       "    </tr>\n",
       "  </thead>\n",
       "  <tbody>\n",
       "    <tr>\n",
       "      <th>0</th>\n",
       "      <td>False</td>\n",
       "      <td>False</td>\n",
       "      <td>False</td>\n",
       "      <td>True</td>\n",
       "    </tr>\n",
       "    <tr>\n",
       "      <th>1</th>\n",
       "      <td>False</td>\n",
       "      <td>False</td>\n",
       "      <td>False</td>\n",
       "      <td>True</td>\n",
       "    </tr>\n",
       "    <tr>\n",
       "      <th>2</th>\n",
       "      <td>False</td>\n",
       "      <td>False</td>\n",
       "      <td>False</td>\n",
       "      <td>True</td>\n",
       "    </tr>\n",
       "    <tr>\n",
       "      <th>3</th>\n",
       "      <td>False</td>\n",
       "      <td>False</td>\n",
       "      <td>False</td>\n",
       "      <td>True</td>\n",
       "    </tr>\n",
       "    <tr>\n",
       "      <th>4</th>\n",
       "      <td>False</td>\n",
       "      <td>False</td>\n",
       "      <td>False</td>\n",
       "      <td>True</td>\n",
       "    </tr>\n",
       "  </tbody>\n",
       "</table>\n",
       "</div>"
      ],
      "text/plain": [
       "      id   name  normalized_name  gender\n",
       "0  False  False            False    True\n",
       "1  False  False            False    True\n",
       "2  False  False            False    True\n",
       "3  False  False            False    True\n",
       "4  False  False            False    True"
      ]
     },
     "execution_count": 16,
     "metadata": {
      "tags": []
     },
     "output_type": "execute_result"
    }
   ],
   "source": [
    "# Nos devuelve True allí donde hay un dato faltante\n",
    "simpsons_df.isnull().head()"
   ]
  },
  {
   "cell_type": "code",
   "execution_count": null,
   "metadata": {
    "colab": {
     "base_uri": "https://localhost:8080/",
     "height": 204
    },
    "executionInfo": {
     "elapsed": 1101,
     "status": "ok",
     "timestamp": 1607938950466,
     "user": {
      "displayName": "María Santos Fernandez",
      "photoUrl": "",
      "userId": "05118399518218051952"
     },
     "user_tz": -60
    },
    "id": "mZEAaSPToCbm",
    "outputId": "494e25af-71de-45c5-82ad-e4aaa537dc7b"
   },
   "outputs": [
    {
     "data": {
      "text/html": [
       "<div>\n",
       "<style scoped>\n",
       "    .dataframe tbody tr th:only-of-type {\n",
       "        vertical-align: middle;\n",
       "    }\n",
       "\n",
       "    .dataframe tbody tr th {\n",
       "        vertical-align: top;\n",
       "    }\n",
       "\n",
       "    .dataframe thead th {\n",
       "        text-align: right;\n",
       "    }\n",
       "</style>\n",
       "<table border=\"1\" class=\"dataframe\">\n",
       "  <thead>\n",
       "    <tr style=\"text-align: right;\">\n",
       "      <th></th>\n",
       "      <th>id</th>\n",
       "      <th>name</th>\n",
       "      <th>normalized_name</th>\n",
       "      <th>gender</th>\n",
       "    </tr>\n",
       "  </thead>\n",
       "  <tbody>\n",
       "    <tr>\n",
       "      <th>0</th>\n",
       "      <td>True</td>\n",
       "      <td>True</td>\n",
       "      <td>True</td>\n",
       "      <td>False</td>\n",
       "    </tr>\n",
       "    <tr>\n",
       "      <th>1</th>\n",
       "      <td>True</td>\n",
       "      <td>True</td>\n",
       "      <td>True</td>\n",
       "      <td>False</td>\n",
       "    </tr>\n",
       "    <tr>\n",
       "      <th>2</th>\n",
       "      <td>True</td>\n",
       "      <td>True</td>\n",
       "      <td>True</td>\n",
       "      <td>False</td>\n",
       "    </tr>\n",
       "    <tr>\n",
       "      <th>3</th>\n",
       "      <td>True</td>\n",
       "      <td>True</td>\n",
       "      <td>True</td>\n",
       "      <td>False</td>\n",
       "    </tr>\n",
       "    <tr>\n",
       "      <th>4</th>\n",
       "      <td>True</td>\n",
       "      <td>True</td>\n",
       "      <td>True</td>\n",
       "      <td>False</td>\n",
       "    </tr>\n",
       "  </tbody>\n",
       "</table>\n",
       "</div>"
      ],
      "text/plain": [
       "     id  name  normalized_name  gender\n",
       "0  True  True             True   False\n",
       "1  True  True             True   False\n",
       "2  True  True             True   False\n",
       "3  True  True             True   False\n",
       "4  True  True             True   False"
      ]
     },
     "execution_count": 15,
     "metadata": {
      "tags": []
     },
     "output_type": "execute_result"
    }
   ],
   "source": [
    "# Nos devuelve False allí donde hay un dato faltante\n",
    "simpsons_df.notnull().head()"
   ]
  },
  {
   "cell_type": "markdown",
   "metadata": {
    "id": "DxkM3VPnoY8j"
   },
   "source": [
    "Existen muchas técnicas para tratar con valores faltantes: se sustituyen por la media, por la mediana, se elimina la observación, se interpolan... nosotros no entraremos en detalle en ese aspecto. Simplemente veremos los métodos de `Python` que podemos utilizar para tratar con valores faltantes:\n",
    "\n",
    "- `.fillna()`\n",
    "- `.replace()`\n",
    "- `.interpolate()`\n",
    "- `.dropna()`"
   ]
  },
  {
   "cell_type": "markdown",
   "metadata": {
    "id": "OrxcVXROo1No"
   },
   "source": [
    "El método `.fillna()` sustituye los valores faltantes por el valor que indiquemos por parámetro"
   ]
  },
  {
   "cell_type": "code",
   "execution_count": 53,
   "metadata": {
    "id": "qXHDJfnwp72S"
   },
   "outputs": [],
   "source": [
    "# Necesitamos la librería numpy para crear un dataframe con valores NaN\n",
    "import numpy as np"
   ]
  },
  {
   "cell_type": "code",
   "execution_count": 54,
   "metadata": {
    "colab": {
     "base_uri": "https://localhost:8080/",
     "height": 204
    },
    "executionInfo": {
     "elapsed": 740,
     "status": "ok",
     "timestamp": 1611918560351,
     "user": {
      "displayName": "Juan Gabriel Gomila Salas",
      "photoUrl": "https://lh3.googleusercontent.com/a-/AOh14GjdBM44CAiZlDiF-IkE0NJQH-LHKt1b0A22wmma_w=s64",
      "userId": "03106941341701838274"
     },
     "user_tz": -60
    },
    "id": "JFzRDnZzpKS0",
    "outputId": "0b8e265f-40bd-4808-a720-00d94038f215"
   },
   "outputs": [
    {
     "data": {
      "text/html": [
       "<div>\n",
       "<style scoped>\n",
       "    .dataframe tbody tr th:only-of-type {\n",
       "        vertical-align: middle;\n",
       "    }\n",
       "\n",
       "    .dataframe tbody tr th {\n",
       "        vertical-align: top;\n",
       "    }\n",
       "\n",
       "    .dataframe thead th {\n",
       "        text-align: right;\n",
       "    }\n",
       "</style>\n",
       "<table border=\"1\" class=\"dataframe\">\n",
       "  <thead>\n",
       "    <tr style=\"text-align: right;\">\n",
       "      <th></th>\n",
       "      <th>Primer lanzamiento</th>\n",
       "      <th>Segundo lanzamiento</th>\n",
       "      <th>Tercer lanzamiento</th>\n",
       "    </tr>\n",
       "  </thead>\n",
       "  <tbody>\n",
       "    <tr>\n",
       "      <th>Jugador 1</th>\n",
       "      <td>100.0</td>\n",
       "      <td>80.0</td>\n",
       "      <td>93.0</td>\n",
       "    </tr>\n",
       "    <tr>\n",
       "      <th>Jugador 2</th>\n",
       "      <td>86.0</td>\n",
       "      <td>NaN</td>\n",
       "      <td>89.0</td>\n",
       "    </tr>\n",
       "    <tr>\n",
       "      <th>Jugador 3</th>\n",
       "      <td>NaN</td>\n",
       "      <td>63.0</td>\n",
       "      <td>92.0</td>\n",
       "    </tr>\n",
       "    <tr>\n",
       "      <th>Jugador 4</th>\n",
       "      <td>75.0</td>\n",
       "      <td>81.0</td>\n",
       "      <td>97.0</td>\n",
       "    </tr>\n",
       "    <tr>\n",
       "      <th>Jugador 5</th>\n",
       "      <td>97.0</td>\n",
       "      <td>88.0</td>\n",
       "      <td>NaN</td>\n",
       "    </tr>\n",
       "  </tbody>\n",
       "</table>\n",
       "</div>"
      ],
      "text/plain": [
       "           Primer lanzamiento  Segundo lanzamiento  Tercer lanzamiento\n",
       "Jugador 1               100.0                 80.0                93.0\n",
       "Jugador 2                86.0                  NaN                89.0\n",
       "Jugador 3                 NaN                 63.0                92.0\n",
       "Jugador 4                75.0                 81.0                97.0\n",
       "Jugador 5                97.0                 88.0                 NaN"
      ]
     },
     "execution_count": 54,
     "metadata": {},
     "output_type": "execute_result"
    }
   ],
   "source": [
    "# np.nan es un valor NaN\n",
    "data = {\"Primer lanzamiento\": [100, 86, np.nan, 75, 97],\n",
    "        \"Segundo lanzamiento\": [80, np.nan, 63, 81, 88],\n",
    "        \"Tercer lanzamiento\": [93, 89, 92, 97, np.nan]\n",
    "        }\n",
    "\n",
    "points_df = pd.DataFrame(data, index = [\"Jugador 1\", \"Jugador 2\", \"Jugador 3\", \"Jugador 4\", \"Jugador 5\"])\n",
    "points_df"
   ]
  },
  {
   "cell_type": "code",
   "execution_count": 55,
   "metadata": {
    "colab": {
     "base_uri": "https://localhost:8080/",
     "height": 204
    },
    "executionInfo": {
     "elapsed": 761,
     "status": "ok",
     "timestamp": 1611918595124,
     "user": {
      "displayName": "Juan Gabriel Gomila Salas",
      "photoUrl": "https://lh3.googleusercontent.com/a-/AOh14GjdBM44CAiZlDiF-IkE0NJQH-LHKt1b0A22wmma_w=s64",
      "userId": "03106941341701838274"
     },
     "user_tz": -60
    },
    "id": "RGxMr3P4qCSj",
    "outputId": "0c72253e-3c52-493b-b780-efb6526f7edc"
   },
   "outputs": [
    {
     "data": {
      "text/html": [
       "<div>\n",
       "<style scoped>\n",
       "    .dataframe tbody tr th:only-of-type {\n",
       "        vertical-align: middle;\n",
       "    }\n",
       "\n",
       "    .dataframe tbody tr th {\n",
       "        vertical-align: top;\n",
       "    }\n",
       "\n",
       "    .dataframe thead th {\n",
       "        text-align: right;\n",
       "    }\n",
       "</style>\n",
       "<table border=\"1\" class=\"dataframe\">\n",
       "  <thead>\n",
       "    <tr style=\"text-align: right;\">\n",
       "      <th></th>\n",
       "      <th>Primer lanzamiento</th>\n",
       "      <th>Segundo lanzamiento</th>\n",
       "      <th>Tercer lanzamiento</th>\n",
       "    </tr>\n",
       "  </thead>\n",
       "  <tbody>\n",
       "    <tr>\n",
       "      <th>Jugador 1</th>\n",
       "      <td>100.0</td>\n",
       "      <td>80.0</td>\n",
       "      <td>93.0</td>\n",
       "    </tr>\n",
       "    <tr>\n",
       "      <th>Jugador 2</th>\n",
       "      <td>86.0</td>\n",
       "      <td>0.0</td>\n",
       "      <td>89.0</td>\n",
       "    </tr>\n",
       "    <tr>\n",
       "      <th>Jugador 3</th>\n",
       "      <td>0.0</td>\n",
       "      <td>63.0</td>\n",
       "      <td>92.0</td>\n",
       "    </tr>\n",
       "    <tr>\n",
       "      <th>Jugador 4</th>\n",
       "      <td>75.0</td>\n",
       "      <td>81.0</td>\n",
       "      <td>97.0</td>\n",
       "    </tr>\n",
       "    <tr>\n",
       "      <th>Jugador 5</th>\n",
       "      <td>97.0</td>\n",
       "      <td>88.0</td>\n",
       "      <td>0.0</td>\n",
       "    </tr>\n",
       "  </tbody>\n",
       "</table>\n",
       "</div>"
      ],
      "text/plain": [
       "           Primer lanzamiento  Segundo lanzamiento  Tercer lanzamiento\n",
       "Jugador 1               100.0                 80.0                93.0\n",
       "Jugador 2                86.0                  0.0                89.0\n",
       "Jugador 3                 0.0                 63.0                92.0\n",
       "Jugador 4                75.0                 81.0                97.0\n",
       "Jugador 5                97.0                 88.0                 0.0"
      ]
     },
     "execution_count": 55,
     "metadata": {},
     "output_type": "execute_result"
    }
   ],
   "source": [
    "# Sustituimos todos los NaN por 0 puntos\n",
    "points_df.fillna(0)"
   ]
  },
  {
   "cell_type": "markdown",
   "metadata": {
    "id": "t6L04m84pJdu"
   },
   "source": [
    "Para sustituir valores faltantes con el método `.replace()` lo hacemos del siguiente modo: primero pasamos por parámetro el valor que queremos sustituir y luego, el valor por el cual queremos sustituirlo. "
   ]
  },
  {
   "cell_type": "code",
   "execution_count": 56,
   "metadata": {
    "colab": {
     "base_uri": "https://localhost:8080/",
     "height": 204
    },
    "executionInfo": {
     "elapsed": 930,
     "status": "ok",
     "timestamp": 1611918643644,
     "user": {
      "displayName": "Juan Gabriel Gomila Salas",
      "photoUrl": "https://lh3.googleusercontent.com/a-/AOh14GjdBM44CAiZlDiF-IkE0NJQH-LHKt1b0A22wmma_w=s64",
      "userId": "03106941341701838274"
     },
     "user_tz": -60
    },
    "id": "Km-0cCpYqzgY",
    "outputId": "93d6b227-2df1-41fc-c32c-2fda93f504b3"
   },
   "outputs": [
    {
     "data": {
      "text/html": [
       "<div>\n",
       "<style scoped>\n",
       "    .dataframe tbody tr th:only-of-type {\n",
       "        vertical-align: middle;\n",
       "    }\n",
       "\n",
       "    .dataframe tbody tr th {\n",
       "        vertical-align: top;\n",
       "    }\n",
       "\n",
       "    .dataframe thead th {\n",
       "        text-align: right;\n",
       "    }\n",
       "</style>\n",
       "<table border=\"1\" class=\"dataframe\">\n",
       "  <thead>\n",
       "    <tr style=\"text-align: right;\">\n",
       "      <th></th>\n",
       "      <th>Primer lanzamiento</th>\n",
       "      <th>Segundo lanzamiento</th>\n",
       "      <th>Tercer lanzamiento</th>\n",
       "    </tr>\n",
       "  </thead>\n",
       "  <tbody>\n",
       "    <tr>\n",
       "      <th>Jugador 1</th>\n",
       "      <td>100.0</td>\n",
       "      <td>80.0</td>\n",
       "      <td>93.0</td>\n",
       "    </tr>\n",
       "    <tr>\n",
       "      <th>Jugador 2</th>\n",
       "      <td>86.0</td>\n",
       "      <td>0.0</td>\n",
       "      <td>89.0</td>\n",
       "    </tr>\n",
       "    <tr>\n",
       "      <th>Jugador 3</th>\n",
       "      <td>0.0</td>\n",
       "      <td>63.0</td>\n",
       "      <td>92.0</td>\n",
       "    </tr>\n",
       "    <tr>\n",
       "      <th>Jugador 4</th>\n",
       "      <td>75.0</td>\n",
       "      <td>81.0</td>\n",
       "      <td>97.0</td>\n",
       "    </tr>\n",
       "    <tr>\n",
       "      <th>Jugador 5</th>\n",
       "      <td>97.0</td>\n",
       "      <td>88.0</td>\n",
       "      <td>0.0</td>\n",
       "    </tr>\n",
       "  </tbody>\n",
       "</table>\n",
       "</div>"
      ],
      "text/plain": [
       "           Primer lanzamiento  Segundo lanzamiento  Tercer lanzamiento\n",
       "Jugador 1               100.0                 80.0                93.0\n",
       "Jugador 2                86.0                  0.0                89.0\n",
       "Jugador 3                 0.0                 63.0                92.0\n",
       "Jugador 4                75.0                 81.0                97.0\n",
       "Jugador 5                97.0                 88.0                 0.0"
      ]
     },
     "execution_count": 56,
     "metadata": {},
     "output_type": "execute_result"
    }
   ],
   "source": [
    "points_df = pd.DataFrame(data, index = [\"Jugador 1\", \"Jugador 2\", \"Jugador 3\", \"Jugador 4\", \"Jugador 5\"])\n",
    "points_df.replace(np.nan, 0) # queremos que reemplace los NaN por 0"
   ]
  },
  {
   "cell_type": "markdown",
   "metadata": {
    "id": "KTEBCUTNrX-M"
   },
   "source": [
    "Si usamos el método `.interpolate()`, sustituiremos los valores `NaN` por valores interpolados. Este método consta de muchos parámetros para elegir el método (que por defecto es `linear`) por el cual llevar a cabo la interpolación."
   ]
  },
  {
   "cell_type": "code",
   "execution_count": null,
   "metadata": {
    "colab": {
     "base_uri": "https://localhost:8080/",
     "height": 204
    },
    "executionInfo": {
     "elapsed": 1061,
     "status": "ok",
     "timestamp": 1607940111583,
     "user": {
      "displayName": "María Santos Fernandez",
      "photoUrl": "",
      "userId": "05118399518218051952"
     },
     "user_tz": -60
    },
    "id": "34Ty0WYZr6EH",
    "outputId": "1f43b3e1-a091-4d96-b89e-c02f3d498e7b"
   },
   "outputs": [
    {
     "data": {
      "text/html": [
       "<div>\n",
       "<style scoped>\n",
       "    .dataframe tbody tr th:only-of-type {\n",
       "        vertical-align: middle;\n",
       "    }\n",
       "\n",
       "    .dataframe tbody tr th {\n",
       "        vertical-align: top;\n",
       "    }\n",
       "\n",
       "    .dataframe thead th {\n",
       "        text-align: right;\n",
       "    }\n",
       "</style>\n",
       "<table border=\"1\" class=\"dataframe\">\n",
       "  <thead>\n",
       "    <tr style=\"text-align: right;\">\n",
       "      <th></th>\n",
       "      <th>Primer lanzamiento</th>\n",
       "      <th>Segundo lanzamiento</th>\n",
       "      <th>Tercer lanzamiento</th>\n",
       "    </tr>\n",
       "  </thead>\n",
       "  <tbody>\n",
       "    <tr>\n",
       "      <th>Jugador 1</th>\n",
       "      <td>100.0</td>\n",
       "      <td>80.0</td>\n",
       "      <td>93.0</td>\n",
       "    </tr>\n",
       "    <tr>\n",
       "      <th>Jugador 2</th>\n",
       "      <td>86.0</td>\n",
       "      <td>71.5</td>\n",
       "      <td>89.0</td>\n",
       "    </tr>\n",
       "    <tr>\n",
       "      <th>Jugador 3</th>\n",
       "      <td>80.5</td>\n",
       "      <td>63.0</td>\n",
       "      <td>92.0</td>\n",
       "    </tr>\n",
       "    <tr>\n",
       "      <th>Jugador 4</th>\n",
       "      <td>75.0</td>\n",
       "      <td>81.0</td>\n",
       "      <td>97.0</td>\n",
       "    </tr>\n",
       "    <tr>\n",
       "      <th>Jugador 5</th>\n",
       "      <td>97.0</td>\n",
       "      <td>88.0</td>\n",
       "      <td>97.0</td>\n",
       "    </tr>\n",
       "  </tbody>\n",
       "</table>\n",
       "</div>"
      ],
      "text/plain": [
       "           Primer lanzamiento  Segundo lanzamiento  Tercer lanzamiento\n",
       "Jugador 1               100.0                 80.0                93.0\n",
       "Jugador 2                86.0                 71.5                89.0\n",
       "Jugador 3                80.5                 63.0                92.0\n",
       "Jugador 4                75.0                 81.0                97.0\n",
       "Jugador 5                97.0                 88.0                97.0"
      ]
     },
     "execution_count": 30,
     "metadata": {
      "tags": []
     },
     "output_type": "execute_result"
    }
   ],
   "source": [
    "points_df = pd.DataFrame(data, index = [\"Jugador 1\", \"Jugador 2\", \"Jugador 3\", \"Jugador 4\", \"Jugador 5\"])\n",
    "points_df.interpolate()\n",
    "# la interpolación lineal consiste en coger el valor anterior y posterior an registro NaN, promediar los valores y reemplazarlo por NaN\n",
    "# el 1er lanzamiento del juagador 3 es el promedio de 86.0 y 75.0 del jugador 2 y 4 en su 1er lanzamiento\n",
    "# esto talvez no sea tan conveniente, puede que los valores antes y despues no tengan relación y no tengamos un dato bueno\n",
    "# lo mejor es evaluar el caso. En datos de tiempo quiza pueda servir"
   ]
  },
  {
   "cell_type": "markdown",
   "metadata": {
    "id": "k33Cy2Oms48o"
   },
   "source": [
    "El método `.dropna()` elimina las filas que contienen valores faltantes, solo tener una columna con un valor NaN hace que se elimina la fila."
   ]
  },
  {
   "cell_type": "code",
   "execution_count": null,
   "metadata": {
    "colab": {
     "base_uri": "https://localhost:8080/",
     "height": 111
    },
    "executionInfo": {
     "elapsed": 790,
     "status": "ok",
     "timestamp": 1611918816714,
     "user": {
      "displayName": "Juan Gabriel Gomila Salas",
      "photoUrl": "https://lh3.googleusercontent.com/a-/AOh14GjdBM44CAiZlDiF-IkE0NJQH-LHKt1b0A22wmma_w=s64",
      "userId": "03106941341701838274"
     },
     "user_tz": -60
    },
    "id": "FA2HzXD6s_AQ",
    "outputId": "b6f3422c-d2e0-4ecd-f532-4657bdec4d97"
   },
   "outputs": [
    {
     "data": {
      "text/html": [
       "<div>\n",
       "<style scoped>\n",
       "    .dataframe tbody tr th:only-of-type {\n",
       "        vertical-align: middle;\n",
       "    }\n",
       "\n",
       "    .dataframe tbody tr th {\n",
       "        vertical-align: top;\n",
       "    }\n",
       "\n",
       "    .dataframe thead th {\n",
       "        text-align: right;\n",
       "    }\n",
       "</style>\n",
       "<table border=\"1\" class=\"dataframe\">\n",
       "  <thead>\n",
       "    <tr style=\"text-align: right;\">\n",
       "      <th></th>\n",
       "      <th>Primer lanzamiento</th>\n",
       "      <th>Segundo lanzamiento</th>\n",
       "      <th>Tercer lanzamiento</th>\n",
       "    </tr>\n",
       "  </thead>\n",
       "  <tbody>\n",
       "    <tr>\n",
       "      <th>Jugador 1</th>\n",
       "      <td>100.0</td>\n",
       "      <td>80.0</td>\n",
       "      <td>93.0</td>\n",
       "    </tr>\n",
       "    <tr>\n",
       "      <th>Jugador 4</th>\n",
       "      <td>75.0</td>\n",
       "      <td>81.0</td>\n",
       "      <td>97.0</td>\n",
       "    </tr>\n",
       "  </tbody>\n",
       "</table>\n",
       "</div>"
      ],
      "text/plain": [
       "           Primer lanzamiento  Segundo lanzamiento  Tercer lanzamiento\n",
       "Jugador 1               100.0                 80.0                93.0\n",
       "Jugador 4                75.0                 81.0                97.0"
      ]
     },
     "execution_count": 57,
     "metadata": {
      "tags": []
     },
     "output_type": "execute_result"
    }
   ],
   "source": [
    "points_df = pd.DataFrame(data, index = [\"Jugador 1\", \"Jugador 2\", \"Jugador 3\", \"Jugador 4\", \"Jugador 5\"])\n",
    "points_df.dropna()"
   ]
  },
  {
   "cell_type": "markdown",
   "metadata": {
    "id": "mp5bUX4wiRun"
   },
   "source": [
    "## Filtrando dataframes\n",
    "\n",
    "Dado un dataframe, podemos filtrar sus filas comprobando cuáles satisfacen una condición"
   ]
  },
  {
   "cell_type": "code",
   "execution_count": null,
   "metadata": {
    "colab": {
     "base_uri": "https://localhost:8080/",
     "height": 328
    },
    "executionInfo": {
     "elapsed": 962,
     "status": "ok",
     "timestamp": 1611919275958,
     "user": {
      "displayName": "Juan Gabriel Gomila Salas",
      "photoUrl": "https://lh3.googleusercontent.com/a-/AOh14GjdBM44CAiZlDiF-IkE0NJQH-LHKt1b0A22wmma_w=s64",
      "userId": "03106941341701838274"
     },
     "user_tz": -60
    },
    "id": "ts-UG4fmhK71",
    "outputId": "ca75b870-95b2-4473-b743-52dd4380ab81"
   },
   "outputs": [
    {
     "data": {
      "text/html": [
       "<div>\n",
       "<style scoped>\n",
       "    .dataframe tbody tr th:only-of-type {\n",
       "        vertical-align: middle;\n",
       "    }\n",
       "\n",
       "    .dataframe tbody tr th {\n",
       "        vertical-align: top;\n",
       "    }\n",
       "\n",
       "    .dataframe thead th {\n",
       "        text-align: right;\n",
       "    }\n",
       "</style>\n",
       "<table border=\"1\" class=\"dataframe\">\n",
       "  <thead>\n",
       "    <tr style=\"text-align: right;\">\n",
       "      <th></th>\n",
       "      <th>Letra</th>\n",
       "      <th>Frecuencia</th>\n",
       "      <th>Porcentaje</th>\n",
       "    </tr>\n",
       "  </thead>\n",
       "  <tbody>\n",
       "    <tr>\n",
       "      <th>0</th>\n",
       "      <td>\"A\"</td>\n",
       "      <td>24373121</td>\n",
       "      <td>8.1</td>\n",
       "    </tr>\n",
       "    <tr>\n",
       "      <th>4</th>\n",
       "      <td>\"E\"</td>\n",
       "      <td>37907119</td>\n",
       "      <td>12.6</td>\n",
       "    </tr>\n",
       "    <tr>\n",
       "      <th>7</th>\n",
       "      <td>\"H\"</td>\n",
       "      <td>18058207</td>\n",
       "      <td>6.0</td>\n",
       "    </tr>\n",
       "    <tr>\n",
       "      <th>8</th>\n",
       "      <td>\"I\"</td>\n",
       "      <td>21820970</td>\n",
       "      <td>7.3</td>\n",
       "    </tr>\n",
       "    <tr>\n",
       "      <th>13</th>\n",
       "      <td>\"N\"</td>\n",
       "      <td>21402466</td>\n",
       "      <td>7.1</td>\n",
       "    </tr>\n",
       "    <tr>\n",
       "      <th>14</th>\n",
       "      <td>\"O\"</td>\n",
       "      <td>23215532</td>\n",
       "      <td>7.7</td>\n",
       "    </tr>\n",
       "    <tr>\n",
       "      <th>17</th>\n",
       "      <td>\"R\"</td>\n",
       "      <td>17897352</td>\n",
       "      <td>5.9</td>\n",
       "    </tr>\n",
       "    <tr>\n",
       "      <th>18</th>\n",
       "      <td>\"S\"</td>\n",
       "      <td>19059775</td>\n",
       "      <td>6.3</td>\n",
       "    </tr>\n",
       "    <tr>\n",
       "      <th>19</th>\n",
       "      <td>\"T\"</td>\n",
       "      <td>28691274</td>\n",
       "      <td>9.5</td>\n",
       "    </tr>\n",
       "  </tbody>\n",
       "</table>\n",
       "</div>"
      ],
      "text/plain": [
       "      Letra  Frecuencia  Porcentaje\n",
       "0       \"A\"    24373121         8.1\n",
       "4       \"E\"    37907119        12.6\n",
       "7       \"H\"    18058207         6.0\n",
       "8       \"I\"    21820970         7.3\n",
       "13      \"N\"    21402466         7.1\n",
       "14      \"O\"    23215532         7.7\n",
       "17      \"R\"    17897352         5.9\n",
       "18      \"S\"    19059775         6.3\n",
       "19      \"T\"    28691274         9.5"
      ]
     },
     "execution_count": 58,
     "metadata": {
      "tags": []
     },
     "output_type": "execute_result"
    }
   ],
   "source": [
    "# Mostramos las observaciones con porcentaje mayor a 5\n",
    "# solo retorna las filas tienen true en la condición\n",
    "letters_freq_df[letters_freq_df[\"Porcentaje\"] > 5]"
   ]
  },
  {
   "cell_type": "code",
   "execution_count": null,
   "metadata": {
    "colab": {
     "base_uri": "https://localhost:8080/",
     "height": 669
    },
    "executionInfo": {
     "elapsed": 747,
     "status": "ok",
     "timestamp": 1611919433411,
     "user": {
      "displayName": "Juan Gabriel Gomila Salas",
      "photoUrl": "https://lh3.googleusercontent.com/a-/AOh14GjdBM44CAiZlDiF-IkE0NJQH-LHKt1b0A22wmma_w=s64",
      "userId": "03106941341701838274"
     },
     "user_tz": -60
    },
    "id": "j0fYNIkVh4rv",
    "outputId": "15507fcd-3d13-4f00-b66f-80eac6600a38"
   },
   "outputs": [
    {
     "data": {
      "text/html": [
       "<div>\n",
       "<style scoped>\n",
       "    .dataframe tbody tr th:only-of-type {\n",
       "        vertical-align: middle;\n",
       "    }\n",
       "\n",
       "    .dataframe tbody tr th {\n",
       "        vertical-align: top;\n",
       "    }\n",
       "\n",
       "    .dataframe thead th {\n",
       "        text-align: right;\n",
       "    }\n",
       "</style>\n",
       "<table border=\"1\" class=\"dataframe\">\n",
       "  <thead>\n",
       "    <tr style=\"text-align: right;\">\n",
       "      <th></th>\n",
       "      <th>Letra</th>\n",
       "      <th>Frecuencia</th>\n",
       "      <th>Porcentaje</th>\n",
       "    </tr>\n",
       "  </thead>\n",
       "  <tbody>\n",
       "    <tr>\n",
       "      <th>1</th>\n",
       "      <td>\"B\"</td>\n",
       "      <td>4762938</td>\n",
       "      <td>1.6</td>\n",
       "    </tr>\n",
       "    <tr>\n",
       "      <th>2</th>\n",
       "      <td>\"C\"</td>\n",
       "      <td>8982417</td>\n",
       "      <td>3.0</td>\n",
       "    </tr>\n",
       "    <tr>\n",
       "      <th>3</th>\n",
       "      <td>\"D\"</td>\n",
       "      <td>10805580</td>\n",
       "      <td>3.6</td>\n",
       "    </tr>\n",
       "    <tr>\n",
       "      <th>5</th>\n",
       "      <td>\"F\"</td>\n",
       "      <td>7486889</td>\n",
       "      <td>2.5</td>\n",
       "    </tr>\n",
       "    <tr>\n",
       "      <th>6</th>\n",
       "      <td>\"G\"</td>\n",
       "      <td>5143059</td>\n",
       "      <td>1.7</td>\n",
       "    </tr>\n",
       "    <tr>\n",
       "      <th>7</th>\n",
       "      <td>\"H\"</td>\n",
       "      <td>18058207</td>\n",
       "      <td>6.0</td>\n",
       "    </tr>\n",
       "    <tr>\n",
       "      <th>9</th>\n",
       "      <td>\"J\"</td>\n",
       "      <td>474021</td>\n",
       "      <td>0.2</td>\n",
       "    </tr>\n",
       "    <tr>\n",
       "      <th>10</th>\n",
       "      <td>\"K\"</td>\n",
       "      <td>1720909</td>\n",
       "      <td>0.6</td>\n",
       "    </tr>\n",
       "    <tr>\n",
       "      <th>11</th>\n",
       "      <td>\"L\"</td>\n",
       "      <td>11730498</td>\n",
       "      <td>3.9</td>\n",
       "    </tr>\n",
       "    <tr>\n",
       "      <th>12</th>\n",
       "      <td>\"M\"</td>\n",
       "      <td>7391366</td>\n",
       "      <td>2.5</td>\n",
       "    </tr>\n",
       "    <tr>\n",
       "      <th>15</th>\n",
       "      <td>\"P\"</td>\n",
       "      <td>5719422</td>\n",
       "      <td>1.9</td>\n",
       "    </tr>\n",
       "    <tr>\n",
       "      <th>16</th>\n",
       "      <td>\"Q\"</td>\n",
       "      <td>297237</td>\n",
       "      <td>0.1</td>\n",
       "    </tr>\n",
       "    <tr>\n",
       "      <th>17</th>\n",
       "      <td>\"R\"</td>\n",
       "      <td>17897352</td>\n",
       "      <td>5.9</td>\n",
       "    </tr>\n",
       "    <tr>\n",
       "      <th>18</th>\n",
       "      <td>\"S\"</td>\n",
       "      <td>19059775</td>\n",
       "      <td>6.3</td>\n",
       "    </tr>\n",
       "    <tr>\n",
       "      <th>20</th>\n",
       "      <td>\"U\"</td>\n",
       "      <td>8022379</td>\n",
       "      <td>2.7</td>\n",
       "    </tr>\n",
       "    <tr>\n",
       "      <th>21</th>\n",
       "      <td>\"V\"</td>\n",
       "      <td>2835696</td>\n",
       "      <td>0.9</td>\n",
       "    </tr>\n",
       "    <tr>\n",
       "      <th>22</th>\n",
       "      <td>\"W\"</td>\n",
       "      <td>6505294</td>\n",
       "      <td>2.2</td>\n",
       "    </tr>\n",
       "    <tr>\n",
       "      <th>23</th>\n",
       "      <td>\"X\"</td>\n",
       "      <td>562732</td>\n",
       "      <td>0.2</td>\n",
       "    </tr>\n",
       "    <tr>\n",
       "      <th>24</th>\n",
       "      <td>\"Y\"</td>\n",
       "      <td>5910495</td>\n",
       "      <td>2.0</td>\n",
       "    </tr>\n",
       "    <tr>\n",
       "      <th>25</th>\n",
       "      <td>\"Z\"</td>\n",
       "      <td>93172</td>\n",
       "      <td>0.0</td>\n",
       "    </tr>\n",
       "  </tbody>\n",
       "</table>\n",
       "</div>"
      ],
      "text/plain": [
       "      Letra  Frecuencia  Porcentaje\n",
       "1       \"B\"     4762938         1.6\n",
       "2       \"C\"     8982417         3.0\n",
       "3       \"D\"    10805580         3.6\n",
       "5       \"F\"     7486889         2.5\n",
       "6       \"G\"     5143059         1.7\n",
       "7       \"H\"    18058207         6.0\n",
       "9       \"J\"      474021         0.2\n",
       "10      \"K\"     1720909         0.6\n",
       "11      \"L\"    11730498         3.9\n",
       "12      \"M\"     7391366         2.5\n",
       "15      \"P\"     5719422         1.9\n",
       "16      \"Q\"      297237         0.1\n",
       "17      \"R\"    17897352         5.9\n",
       "18      \"S\"    19059775         6.3\n",
       "20      \"U\"     8022379         2.7\n",
       "21      \"V\"     2835696         0.9\n",
       "22      \"W\"     6505294         2.2\n",
       "23      \"X\"      562732         0.2\n",
       "24      \"Y\"     5910495         2.0\n",
       "25      \"Z\"       93172         0.0"
      ]
     },
     "execution_count": 59,
     "metadata": {
      "tags": []
     },
     "output_type": "execute_result"
    }
   ],
   "source": [
    "# Mostramos las observaciones con frecuencia menor o igual a la de la letra S\n",
    "# en la fila 18 se encuentra la letra S y obtenmos el valor de la columan frecuencia\n",
    "freq_S = letters_freq_df.loc[18, \"Frecuencia\"]\n",
    "# valores menores e iguales que la frecuencia S\n",
    "letters_freq_df[letters_freq_df[\"Frecuencia\"] <= freq_S]"
   ]
  },
  {
   "cell_type": "markdown",
   "metadata": {
    "id": "fpCV2UG2g9LL"
   },
   "source": [
    "El método `.query()` nos puede ser útil para este cometido, pero funciona únicamente cuando los valores de la columna no contienen espacios en blanco."
   ]
  },
  {
   "cell_type": "code",
   "execution_count": null,
   "metadata": {
    "colab": {
     "base_uri": "https://localhost:8080/",
     "height": 328
    },
    "executionInfo": {
     "elapsed": 639,
     "status": "ok",
     "timestamp": 1607705156643,
     "user": {
      "displayName": "María Santos Fernandez",
      "photoUrl": "",
      "userId": "05118399518218051952"
     },
     "user_tz": -60
    },
    "id": "nGJAoIcoiTPz",
    "outputId": "a4538bb7-7f77-4ded-eadf-e0ae06b26323"
   },
   "outputs": [
    {
     "data": {
      "text/html": [
       "<div>\n",
       "<style scoped>\n",
       "    .dataframe tbody tr th:only-of-type {\n",
       "        vertical-align: middle;\n",
       "    }\n",
       "\n",
       "    .dataframe tbody tr th {\n",
       "        vertical-align: top;\n",
       "    }\n",
       "\n",
       "    .dataframe thead th {\n",
       "        text-align: right;\n",
       "    }\n",
       "</style>\n",
       "<table border=\"1\" class=\"dataframe\">\n",
       "  <thead>\n",
       "    <tr style=\"text-align: right;\">\n",
       "      <th></th>\n",
       "      <th>Letra</th>\n",
       "      <th>Frecuencia</th>\n",
       "      <th>Porcentaje</th>\n",
       "    </tr>\n",
       "  </thead>\n",
       "  <tbody>\n",
       "    <tr>\n",
       "      <th>0</th>\n",
       "      <td>\"A\"</td>\n",
       "      <td>24373121</td>\n",
       "      <td>8.1</td>\n",
       "    </tr>\n",
       "    <tr>\n",
       "      <th>4</th>\n",
       "      <td>\"E\"</td>\n",
       "      <td>37907119</td>\n",
       "      <td>12.6</td>\n",
       "    </tr>\n",
       "    <tr>\n",
       "      <th>7</th>\n",
       "      <td>\"H\"</td>\n",
       "      <td>18058207</td>\n",
       "      <td>6.0</td>\n",
       "    </tr>\n",
       "    <tr>\n",
       "      <th>8</th>\n",
       "      <td>\"I\"</td>\n",
       "      <td>21820970</td>\n",
       "      <td>7.3</td>\n",
       "    </tr>\n",
       "    <tr>\n",
       "      <th>13</th>\n",
       "      <td>\"N\"</td>\n",
       "      <td>21402466</td>\n",
       "      <td>7.1</td>\n",
       "    </tr>\n",
       "    <tr>\n",
       "      <th>14</th>\n",
       "      <td>\"O\"</td>\n",
       "      <td>23215532</td>\n",
       "      <td>7.7</td>\n",
       "    </tr>\n",
       "    <tr>\n",
       "      <th>17</th>\n",
       "      <td>\"R\"</td>\n",
       "      <td>17897352</td>\n",
       "      <td>5.9</td>\n",
       "    </tr>\n",
       "    <tr>\n",
       "      <th>18</th>\n",
       "      <td>\"S\"</td>\n",
       "      <td>19059775</td>\n",
       "      <td>6.3</td>\n",
       "    </tr>\n",
       "    <tr>\n",
       "      <th>19</th>\n",
       "      <td>\"T\"</td>\n",
       "      <td>28691274</td>\n",
       "      <td>9.5</td>\n",
       "    </tr>\n",
       "  </tbody>\n",
       "</table>\n",
       "</div>"
      ],
      "text/plain": [
       "      Letra  Frecuencia  Porcentaje\n",
       "0       \"A\"    24373121         8.1\n",
       "4       \"E\"    37907119        12.6\n",
       "7       \"H\"    18058207         6.0\n",
       "8       \"I\"    21820970         7.3\n",
       "13      \"N\"    21402466         7.1\n",
       "14      \"O\"    23215532         7.7\n",
       "17      \"R\"    17897352         5.9\n",
       "18      \"S\"    19059775         6.3\n",
       "19      \"T\"    28691274         9.5"
      ]
     },
     "execution_count": 104,
     "metadata": {
      "tags": []
     },
     "output_type": "execute_result"
    }
   ],
   "source": [
    "# Mostramos aquellas observaciones cuyo porcentaje es mayor a 5\n",
    "# la columna debe ser una sola palabra o unido por guiones o todas las palabras juntas\n",
    "# esto es un poco más facil de leer que lo anterior como con SQL, Aunque hacen lo mismo.\n",
    "letters_freq_df.query('Porcentaje > 5')"
   ]
  },
  {
   "cell_type": "code",
   "execution_count": null,
   "metadata": {
    "colab": {
     "base_uri": "https://localhost:8080/",
     "height": 235
    },
    "executionInfo": {
     "elapsed": 802,
     "status": "ok",
     "timestamp": 1611919593480,
     "user": {
      "displayName": "Juan Gabriel Gomila Salas",
      "photoUrl": "https://lh3.googleusercontent.com/a-/AOh14GjdBM44CAiZlDiF-IkE0NJQH-LHKt1b0A22wmma_w=s64",
      "userId": "03106941341701838274"
     },
     "user_tz": -60
    },
    "id": "wEHq75rcsByc",
    "outputId": "ecdfdf98-79af-4185-f1c9-eb960d13218e"
   },
   "outputs": [
    {
     "data": {
      "text/html": [
       "<div>\n",
       "<style scoped>\n",
       "    .dataframe tbody tr th:only-of-type {\n",
       "        vertical-align: middle;\n",
       "    }\n",
       "\n",
       "    .dataframe tbody tr th {\n",
       "        vertical-align: top;\n",
       "    }\n",
       "\n",
       "    .dataframe thead th {\n",
       "        text-align: right;\n",
       "    }\n",
       "</style>\n",
       "<table border=\"1\" class=\"dataframe\">\n",
       "  <thead>\n",
       "    <tr style=\"text-align: right;\">\n",
       "      <th></th>\n",
       "      <th>Letra</th>\n",
       "      <th>Frecuencia</th>\n",
       "      <th>Porcentaje</th>\n",
       "    </tr>\n",
       "  </thead>\n",
       "  <tbody>\n",
       "    <tr>\n",
       "      <th>7</th>\n",
       "      <td>\"H\"</td>\n",
       "      <td>18058207</td>\n",
       "      <td>6.0</td>\n",
       "    </tr>\n",
       "    <tr>\n",
       "      <th>8</th>\n",
       "      <td>\"I\"</td>\n",
       "      <td>21820970</td>\n",
       "      <td>7.3</td>\n",
       "    </tr>\n",
       "    <tr>\n",
       "      <th>13</th>\n",
       "      <td>\"N\"</td>\n",
       "      <td>21402466</td>\n",
       "      <td>7.1</td>\n",
       "    </tr>\n",
       "    <tr>\n",
       "      <th>14</th>\n",
       "      <td>\"O\"</td>\n",
       "      <td>23215532</td>\n",
       "      <td>7.7</td>\n",
       "    </tr>\n",
       "    <tr>\n",
       "      <th>17</th>\n",
       "      <td>\"R\"</td>\n",
       "      <td>17897352</td>\n",
       "      <td>5.9</td>\n",
       "    </tr>\n",
       "    <tr>\n",
       "      <th>18</th>\n",
       "      <td>\"S\"</td>\n",
       "      <td>19059775</td>\n",
       "      <td>6.3</td>\n",
       "    </tr>\n",
       "  </tbody>\n",
       "</table>\n",
       "</div>"
      ],
      "text/plain": [
       "      Letra  Frecuencia  Porcentaje\n",
       "7       \"H\"    18058207         6.0\n",
       "8       \"I\"    21820970         7.3\n",
       "13      \"N\"    21402466         7.1\n",
       "14      \"O\"    23215532         7.7\n",
       "17      \"R\"    17897352         5.9\n",
       "18      \"S\"    19059775         6.3"
      ]
     },
     "execution_count": 60,
     "metadata": {
      "tags": []
     },
     "output_type": "execute_result"
    }
   ],
   "source": [
    "# Mostramos aquellas observaciones cuyo porcentaje es mayor a 5 y menor o igual a 8\n",
    "# podemos añadir operadores logicos a las condiciones\n",
    "letters_freq_df.query(\"Porcentaje > 5 and Porcentaje <= 8\")"
   ]
  },
  {
   "cell_type": "markdown",
   "metadata": {
    "id": "gmnqeDZDuBn8"
   },
   "source": [
    "## Series de `pandas`\n",
    "\n",
    "**Serie.** Una Serie de `pandas` es como una columna de un dataframe.\n",
    "\n",
    "Podemos construir Series de `pandas` a partir de una lista unidimensional"
   ]
  },
  {
   "cell_type": "code",
   "execution_count": null,
   "metadata": {
    "colab": {
     "base_uri": "https://localhost:8080/"
    },
    "executionInfo": {
     "elapsed": 544,
     "status": "ok",
     "timestamp": 1613331260826,
     "user": {
      "displayName": "Juan Gabriel Gomila Salas",
      "photoUrl": "https://lh3.googleusercontent.com/a-/AOh14GjdBM44CAiZlDiF-IkE0NJQH-LHKt1b0A22wmma_w=s64",
      "userId": "03106941341701838274"
     },
     "user_tz": -60
    },
    "id": "hyGIB_WauU4G",
    "outputId": "4665f07f-76c5-4d46-e6c4-73bfef9ed1f1"
   },
   "outputs": [
    {
     "name": "stdout",
     "output_type": "stream",
     "text": [
      "0    1\n",
      "1    2\n",
      "2    3\n",
      "3    4\n",
      "4    5\n",
      "dtype: int64\n"
     ]
    }
   ],
   "source": [
    "# series es un tipo de dato en pandas, se le pueden aplicar algunos los métodos de las listas en python\n",
    "# parecidos a las listas o arreglos de numpy pero son tipos distintos\n",
    "# se puede construir a partir de una lista como lo hacemos ahora\n",
    "a = [1, 2, 3, 4, 5]\n",
    "my_series = pd.Series(a) # le pasamos la lista\n",
    "print(my_series) # vemos que se convierte en columna y tiene un indice por fila\n",
    "# además nos muestra el tipo de datos de la columna que es int64, escoge el tipo de dato más pequeño que englobe a los datos"
   ]
  },
  {
   "cell_type": "markdown",
   "metadata": {
    "id": "-SqENzSMugZ5"
   },
   "source": [
    "**Observación.** Si no especificamos nada, por defecto las etiquetas de las entradas de la Serie se corresponden con el índice que ocupan. Recordemos que en `Python` lo índices empiezan por 0.\n",
    "\n",
    "Estas etiquetas pueden ser usadas para acceder a un valor específico"
   ]
  },
  {
   "cell_type": "code",
   "execution_count": null,
   "metadata": {
    "colab": {
     "base_uri": "https://localhost:8080/"
    },
    "executionInfo": {
     "elapsed": 561,
     "status": "ok",
     "timestamp": 1613331318392,
     "user": {
      "displayName": "Juan Gabriel Gomila Salas",
      "photoUrl": "https://lh3.googleusercontent.com/a-/AOh14GjdBM44CAiZlDiF-IkE0NJQH-LHKt1b0A22wmma_w=s64",
      "userId": "03106941341701838274"
     },
     "user_tz": -60
    },
    "id": "RwxSpJCwuZGO",
    "outputId": "0e1e2c8d-6ca4-44cc-e837-f2f4f385ea59"
   },
   "outputs": [
    {
     "name": "stdout",
     "output_type": "stream",
     "text": [
      "2\n"
     ]
    }
   ],
   "source": [
    "print(my_series[1]) # los valores tienen un indice y podemos acceder a ellas por ese indice."
   ]
  },
  {
   "cell_type": "markdown",
   "metadata": {
    "id": "z8iLz8wAu4DB"
   },
   "source": [
    "Cuando creamos una Serie, podemos modificar sus etiquetas con el parámetro `index`:"
   ]
  },
  {
   "cell_type": "code",
   "execution_count": null,
   "metadata": {
    "colab": {
     "base_uri": "https://localhost:8080/"
    },
    "executionInfo": {
     "elapsed": 525,
     "status": "ok",
     "timestamp": 1613331481737,
     "user": {
      "displayName": "Juan Gabriel Gomila Salas",
      "photoUrl": "https://lh3.googleusercontent.com/a-/AOh14GjdBM44CAiZlDiF-IkE0NJQH-LHKt1b0A22wmma_w=s64",
      "userId": "03106941341701838274"
     },
     "user_tz": -60
    },
    "id": "zy05jUoqu9Dl",
    "outputId": "0f74a517-3e40-4b49-fea4-850e56e12b6d"
   },
   "outputs": [
    {
     "name": "stdout",
     "output_type": "stream",
     "text": [
      "a    1\n",
      "b    2\n",
      "c    3\n",
      "d    4\n",
      "e    5\n",
      "dtype: int64\n"
     ]
    }
   ],
   "source": [
    "my_series = pd.Series(a, index = [\"a\", \"b\", \"c\", \"d\", \"e\"]) # podemos agregar valores al indice\n",
    "print(my_series)\n",
    "# podemos colocar indices iguales, nos lo acepta, pero es mala práctica pudiendo llevar a problemas más adelante si queremos"
   ]
  },
  {
   "cell_type": "markdown",
   "metadata": {
    "id": "xv7-Ii_8vFSy"
   },
   "source": [
    "Ahora, para acceder a una entrada en particular, lo haremos con las nuevas etiquetas:"
   ]
  },
  {
   "cell_type": "code",
   "execution_count": null,
   "metadata": {
    "colab": {
     "base_uri": "https://localhost:8080/"
    },
    "executionInfo": {
     "elapsed": 650,
     "status": "ok",
     "timestamp": 1613331484362,
     "user": {
      "displayName": "Juan Gabriel Gomila Salas",
      "photoUrl": "https://lh3.googleusercontent.com/a-/AOh14GjdBM44CAiZlDiF-IkE0NJQH-LHKt1b0A22wmma_w=s64",
      "userId": "03106941341701838274"
     },
     "user_tz": -60
    },
    "id": "N24A18qXu2B0",
    "outputId": "d994e37d-f613-4c68-a178-00dac75e65c5"
   },
   "outputs": [
    {
     "name": "stdout",
     "output_type": "stream",
     "text": [
      "3\n"
     ]
    }
   ],
   "source": [
    "print(my_series[\"c\"]) # accedemos de igual forma por medio del indice\n",
    "# si tuvieramos dos valores con indice \"c\", nos devuelve esos dos valores"
   ]
  },
  {
   "cell_type": "markdown",
   "metadata": {
    "id": "fRuEW2mUv_4W"
   },
   "source": [
    "Su uso común son en series temporales donde el índice seria una fecha en especifico y almacenaran un valor como °T, tipo de cambio ese día, etc.\n",
    "\n",
    "También podemos crear Series a partir de diccionarios. En este caso, las claves se corresponderán con las etiquetas de las series, y los valores del diccionario con los valores que toman las entradas de la Serie."
   ]
  },
  {
   "cell_type": "code",
   "execution_count": 57,
   "metadata": {
    "colab": {
     "base_uri": "https://localhost:8080/"
    },
    "executionInfo": {
     "elapsed": 577,
     "status": "ok",
     "timestamp": 1613331554965,
     "user": {
      "displayName": "Juan Gabriel Gomila Salas",
      "photoUrl": "https://lh3.googleusercontent.com/a-/AOh14GjdBM44CAiZlDiF-IkE0NJQH-LHKt1b0A22wmma_w=s64",
      "userId": "03106941341701838274"
     },
     "user_tz": -60
    },
    "id": "E-hMnOLbvLxA",
    "outputId": "e339fafd-5167-425e-e70b-db6c026058b7"
   },
   "outputs": [
    {
     "name": "stdout",
     "output_type": "stream",
     "text": [
      "day1    5\n",
      "day2    9\n",
      "day3    7\n",
      "day4    6\n",
      "day5    8\n",
      "dtype: int64\n"
     ]
    }
   ],
   "source": [
    "# las claves serán el indice de la serie y los valores son los valores de la serie\n",
    "videos = {\"day1\": 5, \"day2\": 9, \"day3\": 7, \"day4\": 6, \"day5\": 8}\n",
    "my_series = pd.Series(videos)\n",
    "print(my_series)"
   ]
  },
  {
   "cell_type": "code",
   "execution_count": 58,
   "metadata": {
    "id": "Yh-pdXR4yW21"
   },
   "outputs": [
    {
     "name": "stdout",
     "output_type": "stream",
     "text": [
      "5\n"
     ]
    }
   ],
   "source": [
    "print(my_series[\"day1\"])"
   ]
  },
  {
   "cell_type": "markdown",
   "metadata": {},
   "source": [
    "Es mejor manejar los datos en Data Frames que en Series, porque no deja de ser muy similar a una columna de data frame y si tienemos varias Series lo ideal es juntarlas en un solo dataframe. En la mayoria de algoritmos de Machine Learning se usan dataframe y pasar una Serie causa errores."
   ]
  }
 ],
 "metadata": {
  "colab": {
   "collapsed_sections": [
    "QamdL4IdbiKe",
    "3xiB1bfy7D9S"
   ],
   "provenance": [
    {
     "file_id": "1Km-BvM9hs1jKHzeKw5e8PCvjqQ0QqImO",
     "timestamp": 1681758610403
    }
   ],
   "toc_visible": true
  },
  "kernelspec": {
   "display_name": "Python 3 (ipykernel)",
   "language": "python",
   "name": "python3"
  },
  "language_info": {
   "codemirror_mode": {
    "name": "ipython",
    "version": 3
   },
   "file_extension": ".py",
   "mimetype": "text/x-python",
   "name": "python",
   "nbconvert_exporter": "python",
   "pygments_lexer": "ipython3",
   "version": "3.10.9"
  }
 },
 "nbformat": 4,
 "nbformat_minor": 1
}
