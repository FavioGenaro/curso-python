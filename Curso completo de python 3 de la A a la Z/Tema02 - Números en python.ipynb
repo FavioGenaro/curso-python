{
 "cells": [
  {
   "cell_type": "markdown",
   "metadata": {
    "id": "b646bCQCSJBh"
   },
   "source": [
    "# Números en `Python`"
   ]
  },
  {
   "cell_type": "markdown",
   "metadata": {
    "id": "cw3g5xzu2yuL"
   },
   "source": [
    "## Tipos de números\n",
    "Existen estos dos tipos básicos aunque existen otroa más:\n",
    "- `int`: número entero, ocupa menos memoria.\n",
    "- `float`: número en coma flotante.\n",
    "\n",
    "Para saber el tipo de dato de un número podemos utilizar la función `type()`"
   ]
  },
  {
   "cell_type": "code",
   "execution_count": 9,
   "metadata": {
    "colab": {
     "base_uri": "https://localhost:8080/"
    },
    "executionInfo": {
     "elapsed": 768,
     "status": "ok",
     "timestamp": 1609165384011,
     "user": {
      "displayName": "Juan Gabriel Gomila Salas",
      "photoUrl": "https://lh3.googleusercontent.com/a-/AOh14GjdBM44CAiZlDiF-IkE0NJQH-LHKt1b0A22wmma_w=s64",
      "userId": "03106941341701838274"
     },
     "user_tz": -60
    },
    "id": "zQqqcJGoSIaf",
    "outputId": "010521d8-b538-44b6-9b5f-ce2a123c3360"
   },
   "outputs": [
    {
     "data": {
      "text/plain": [
       "int"
      ]
     },
     "execution_count": 9,
     "metadata": {},
     "output_type": "execute_result"
    }
   ],
   "source": [
    "# vemos el tipo de dato\n",
    "type(5)"
   ]
  },
  {
   "cell_type": "code",
   "execution_count": 10,
   "metadata": {
    "colab": {
     "base_uri": "https://localhost:8080/"
    },
    "executionInfo": {
     "elapsed": 667,
     "status": "ok",
     "timestamp": 1609165385964,
     "user": {
      "displayName": "Juan Gabriel Gomila Salas",
      "photoUrl": "https://lh3.googleusercontent.com/a-/AOh14GjdBM44CAiZlDiF-IkE0NJQH-LHKt1b0A22wmma_w=s64",
      "userId": "03106941341701838274"
     },
     "user_tz": -60
    },
    "id": "OJKbBjVmSwnW",
    "outputId": "2400dcff-0315-4f23-d565-42574ab5a7f1"
   },
   "outputs": [
    {
     "data": {
      "text/plain": [
       "float"
      ]
     },
     "execution_count": 10,
     "metadata": {},
     "output_type": "execute_result"
    }
   ],
   "source": [
    "type(5.0)"
   ]
  },
  {
   "cell_type": "markdown",
   "metadata": {
    "id": "m1trN--lS4GF"
   },
   "source": [
    "**Observación.** En `Python`, para referirnos a números de tipo `float` con todo 0's en la parte decimal como `3.0`, basta que indiquemos `3.`. Es decir, `Python` entiende que los números `3.0` y `3.` son el mismo, incluyendo que son del mismo tipo: `float`."
   ]
  },
  {
   "cell_type": "code",
   "execution_count": 11,
   "metadata": {
    "colab": {
     "base_uri": "https://localhost:8080/",
     "height": 34
    },
    "executionInfo": {
     "elapsed": 656,
     "status": "ok",
     "timestamp": 1599477686858,
     "user": {
      "displayName": "María Santos Fernandez",
      "photoUrl": "",
      "userId": "05118399518218051952"
     },
     "user_tz": -120
    },
    "id": "ffZAuMNoSxjh",
    "outputId": "96b91365-88f7-4b93-d398-ffd6bbc216a2"
   },
   "outputs": [
    {
     "data": {
      "text/plain": [
       "float"
      ]
     },
     "execution_count": 11,
     "metadata": {},
     "output_type": "execute_result"
    }
   ],
   "source": [
    "type(3.0)"
   ]
  },
  {
   "cell_type": "code",
   "execution_count": 12,
   "metadata": {
    "colab": {
     "base_uri": "https://localhost:8080/",
     "height": 34
    },
    "executionInfo": {
     "elapsed": 772,
     "status": "ok",
     "timestamp": 1599477690958,
     "user": {
      "displayName": "María Santos Fernandez",
      "photoUrl": "",
      "userId": "05118399518218051952"
     },
     "user_tz": -120
    },
    "id": "DowHXrxZTJ9g",
    "outputId": "b18588ba-8235-40e3-838e-c8fb0ab8bd14"
   },
   "outputs": [
    {
     "data": {
      "text/plain": [
       "float"
      ]
     },
     "execution_count": 12,
     "metadata": {},
     "output_type": "execute_result"
    }
   ],
   "source": [
    "# con solo el punto decimal, python lo interpreta como float\n",
    "type(3.)"
   ]
  },
  {
   "cell_type": "markdown",
   "metadata": {
    "id": "ElLWlwxBTRe0"
   },
   "source": [
    "Podemos indicar el tipo de número que deseamos utilizar con las funciones `int()` y `float()`."
   ]
  },
  {
   "cell_type": "code",
   "execution_count": null,
   "metadata": {
    "colab": {
     "base_uri": "https://localhost:8080/"
    },
    "executionInfo": {
     "elapsed": 719,
     "status": "ok",
     "timestamp": 1609165501107,
     "user": {
      "displayName": "Juan Gabriel Gomila Salas",
      "photoUrl": "https://lh3.googleusercontent.com/a-/AOh14GjdBM44CAiZlDiF-IkE0NJQH-LHKt1b0A22wmma_w=s64",
      "userId": "03106941341701838274"
     },
     "user_tz": -60
    },
    "id": "DkTL4yy1TK0u",
    "outputId": "d16efaaf-6a58-4529-bd72-d74cd52b7b5d"
   },
   "outputs": [
    {
     "data": {
      "text/plain": [
       "int"
      ]
     },
     "execution_count": 13,
     "metadata": {},
     "output_type": "execute_result"
    }
   ],
   "source": [
    "# catear: convertir un tipo de dato a otro\n",
    "type(int(7.0))"
   ]
  },
  {
   "cell_type": "code",
   "execution_count": 14,
   "metadata": {
    "colab": {
     "base_uri": "https://localhost:8080/",
     "height": 34
    },
    "executionInfo": {
     "elapsed": 623,
     "status": "ok",
     "timestamp": 1599477760245,
     "user": {
      "displayName": "María Santos Fernandez",
      "photoUrl": "",
      "userId": "05118399518218051952"
     },
     "user_tz": -120
    },
    "id": "s3XqJt9TTazP",
    "outputId": "48de7afd-32cf-4c0d-ffdf-9346f6c9fb48"
   },
   "outputs": [
    {
     "data": {
      "text/plain": [
       "int"
      ]
     },
     "execution_count": 14,
     "metadata": {},
     "output_type": "execute_result"
    }
   ],
   "source": [
    "type(int(9.))"
   ]
  },
  {
   "cell_type": "code",
   "execution_count": 15,
   "metadata": {
    "colab": {
     "base_uri": "https://localhost:8080/",
     "height": 34
    },
    "executionInfo": {
     "elapsed": 559,
     "status": "ok",
     "timestamp": 1599477747505,
     "user": {
      "displayName": "María Santos Fernandez",
      "photoUrl": "",
      "userId": "05118399518218051952"
     },
     "user_tz": -120
    },
    "id": "aOn0gnD5TXu6",
    "outputId": "02326f62-5a91-4bd9-c459-c0c480a7eb83"
   },
   "outputs": [
    {
     "data": {
      "text/plain": [
       "float"
      ]
     },
     "execution_count": 15,
     "metadata": {},
     "output_type": "execute_result"
    }
   ],
   "source": [
    "type(float(3))"
   ]
  },
  {
   "cell_type": "markdown",
   "metadata": {
    "id": "ZnzC3eaWTod8"
   },
   "source": [
    "**¡Cuidado!** Es sencillo pasar de enteros a números en coma flotante, ya que siempre es posible, pero no siempre podemos pasar de números en coma flotante a números enteros, pues se pierde la parte decimal."
   ]
  },
  {
   "cell_type": "code",
   "execution_count": null,
   "metadata": {
    "colab": {
     "base_uri": "https://localhost:8080/"
    },
    "executionInfo": {
     "elapsed": 656,
     "status": "ok",
     "timestamp": 1609165584656,
     "user": {
      "displayName": "Juan Gabriel Gomila Salas",
      "photoUrl": "https://lh3.googleusercontent.com/a-/AOh14GjdBM44CAiZlDiF-IkE0NJQH-LHKt1b0A22wmma_w=s64",
      "userId": "03106941341701838274"
     },
     "user_tz": -60
    },
    "id": "WBSZHBjtTYzT",
    "outputId": "896b9b82-45fa-48b2-ef65-c892bb392013"
   },
   "outputs": [
    {
     "data": {
      "text/plain": [
       "3"
      ]
     },
     "execution_count": 16,
     "metadata": {},
     "output_type": "execute_result"
    }
   ],
   "source": [
    "# convertir float a int, redondea hacia abajo o solo extrae la parte entera\n",
    "int(3.5)"
   ]
  },
  {
   "cell_type": "markdown",
   "metadata": {
    "id": "wB4seOhPT8A1"
   },
   "source": [
    "## Operaciones aritméticas"
   ]
  },
  {
   "cell_type": "markdown",
   "metadata": {
    "id": "6HYWiK_hqQ2k"
   },
   "source": [
    "### Suma\n",
    "\n",
    "Para sumar dos números, utilizamos la función `+`"
   ]
  },
  {
   "cell_type": "code",
   "execution_count": null,
   "metadata": {
    "colab": {
     "base_uri": "https://localhost:8080/",
     "height": 34
    },
    "executionInfo": {
     "elapsed": 570,
     "status": "ok",
     "timestamp": 1599478021526,
     "user": {
      "displayName": "María Santos Fernandez",
      "photoUrl": "",
      "userId": "05118399518218051952"
     },
     "user_tz": -120
    },
    "id": "lpkSr0OyT4DH",
    "outputId": "07bd9e2e-49b2-4379-f3b9-35c9255ee59d"
   },
   "outputs": [
    {
     "data": {
      "text/plain": [
       "3"
      ]
     },
     "execution_count": 16,
     "metadata": {
      "tags": []
     },
     "output_type": "execute_result"
    }
   ],
   "source": [
    "2 + 1"
   ]
  },
  {
   "cell_type": "code",
   "execution_count": null,
   "metadata": {
    "colab": {
     "base_uri": "https://localhost:8080/",
     "height": 34
    },
    "executionInfo": {
     "elapsed": 600,
     "status": "ok",
     "timestamp": 1599478020499,
     "user": {
      "displayName": "María Santos Fernandez",
      "photoUrl": "",
      "userId": "05118399518218051952"
     },
     "user_tz": -120
    },
    "id": "NMGfttFkUEdf",
    "outputId": "6b45ee2e-0f24-4490-d20b-c4c607ab2bed"
   },
   "outputs": [
    {
     "data": {
      "text/plain": [
       "3.0"
      ]
     },
     "execution_count": 15,
     "metadata": {
      "tags": []
     },
     "output_type": "execute_result"
    }
   ],
   "source": [
    "2.0 + 1."
   ]
  },
  {
   "cell_type": "code",
   "execution_count": null,
   "metadata": {
    "colab": {
     "base_uri": "https://localhost:8080/",
     "height": 34
    },
    "executionInfo": {
     "elapsed": 672,
     "status": "ok",
     "timestamp": 1599478019069,
     "user": {
      "displayName": "María Santos Fernandez",
      "photoUrl": "",
      "userId": "05118399518218051952"
     },
     "user_tz": -120
    },
    "id": "1JahgnC-UFja",
    "outputId": "fca59dad-90f7-4984-901f-e8f377536841"
   },
   "outputs": [
    {
     "data": {
      "text/plain": [
       "3.0"
      ]
     },
     "execution_count": 14,
     "metadata": {
      "tags": []
     },
     "output_type": "execute_result"
    }
   ],
   "source": [
    "# sumar un entero con un float, el resultado es float\n",
    "2 + 1.0"
   ]
  },
  {
   "cell_type": "markdown",
   "metadata": {
    "id": "X_F3oJh4UJXf"
   },
   "source": [
    "**Observación.** Fijémonos que al combinar un número entero (int) y un número en coma flotante (float), el resutado es un número float. Esto ocurre para todas las operaciones aritméticas en `Python`. Con la presencia de un solo número float resultará en un número float.\n",
    "\n"
   ]
  },
  {
   "cell_type": "markdown",
   "metadata": {
    "id": "sADWMHcGBvu2"
   },
   "source": [
    "### Resta\n",
    "\n",
    "Para restar dos números, utilizamos la función `-`"
   ]
  },
  {
   "cell_type": "code",
   "execution_count": null,
   "metadata": {
    "colab": {
     "base_uri": "https://localhost:8080/",
     "height": 34
    },
    "executionInfo": {
     "elapsed": 593,
     "status": "ok",
     "timestamp": 1599478028259,
     "user": {
      "displayName": "María Santos Fernandez",
      "photoUrl": "",
      "userId": "05118399518218051952"
     },
     "user_tz": -120
    },
    "id": "ezk6U1OXUIKk",
    "outputId": "be3a94cb-db4d-45af-95ac-3ed01bf7d33a"
   },
   "outputs": [
    {
     "data": {
      "text/plain": [
       "4"
      ]
     },
     "execution_count": 17,
     "metadata": {
      "tags": []
     },
     "output_type": "execute_result"
    }
   ],
   "source": [
    "7 - 3"
   ]
  },
  {
   "cell_type": "code",
   "execution_count": null,
   "metadata": {
    "colab": {
     "base_uri": "https://localhost:8080/",
     "height": 34
    },
    "executionInfo": {
     "elapsed": 611,
     "status": "ok",
     "timestamp": 1599478035907,
     "user": {
      "displayName": "María Santos Fernandez",
      "photoUrl": "",
      "userId": "05118399518218051952"
     },
     "user_tz": -120
    },
    "id": "BH6O20_PUdQB",
    "outputId": "5f5f3760-fe01-4d45-93b1-c1c20dda4f09"
   },
   "outputs": [
    {
     "data": {
      "text/plain": [
       "4.0"
      ]
     },
     "execution_count": 18,
     "metadata": {
      "tags": []
     },
     "output_type": "execute_result"
    }
   ],
   "source": [
    "7.0 - 3."
   ]
  },
  {
   "cell_type": "code",
   "execution_count": null,
   "metadata": {
    "colab": {
     "base_uri": "https://localhost:8080/",
     "height": 34
    },
    "executionInfo": {
     "elapsed": 525,
     "status": "ok",
     "timestamp": 1599478040313,
     "user": {
      "displayName": "María Santos Fernandez",
      "photoUrl": "",
      "userId": "05118399518218051952"
     },
     "user_tz": -120
    },
    "id": "8dwxYzaZUfH0",
    "outputId": "88c3dc20-c3a9-47bc-f401-c0a5b27fb073"
   },
   "outputs": [
    {
     "data": {
      "text/plain": [
       "4.0"
      ]
     },
     "execution_count": 19,
     "metadata": {
      "tags": []
     },
     "output_type": "execute_result"
    }
   ],
   "source": [
    "7 - 3.0"
   ]
  },
  {
   "cell_type": "markdown",
   "metadata": {
    "id": "RGb47kNzUidM"
   },
   "source": [
    "### Producto\n",
    "\n",
    "Para multiplicar dos números, utilizamos la función `*`"
   ]
  },
  {
   "cell_type": "code",
   "execution_count": null,
   "metadata": {
    "colab": {
     "base_uri": "https://localhost:8080/",
     "height": 34
    },
    "executionInfo": {
     "elapsed": 741,
     "status": "ok",
     "timestamp": 1599478078197,
     "user": {
      "displayName": "María Santos Fernandez",
      "photoUrl": "",
      "userId": "05118399518218051952"
     },
     "user_tz": -120
    },
    "id": "dfXOHZNiUgS2",
    "outputId": "cca2b7d3-8aae-4e69-b6b2-9d9e94056d8c"
   },
   "outputs": [
    {
     "data": {
      "text/plain": [
       "48"
      ]
     },
     "execution_count": 20,
     "metadata": {
      "tags": []
     },
     "output_type": "execute_result"
    }
   ],
   "source": [
    "8 * 6"
   ]
  },
  {
   "cell_type": "code",
   "execution_count": null,
   "metadata": {
    "colab": {
     "base_uri": "https://localhost:8080/",
     "height": 34
    },
    "executionInfo": {
     "elapsed": 569,
     "status": "ok",
     "timestamp": 1599478084627,
     "user": {
      "displayName": "María Santos Fernandez",
      "photoUrl": "",
      "userId": "05118399518218051952"
     },
     "user_tz": -120
    },
    "id": "bFZPzM5rUpfP",
    "outputId": "ea5febcc-6388-4af7-a645-9a5c219b9b8d"
   },
   "outputs": [
    {
     "data": {
      "text/plain": [
       "48.0"
      ]
     },
     "execution_count": 21,
     "metadata": {
      "tags": []
     },
     "output_type": "execute_result"
    }
   ],
   "source": [
    "8. * 6."
   ]
  },
  {
   "cell_type": "code",
   "execution_count": null,
   "metadata": {
    "colab": {
     "base_uri": "https://localhost:8080/",
     "height": 34
    },
    "executionInfo": {
     "elapsed": 502,
     "status": "ok",
     "timestamp": 1599478091435,
     "user": {
      "displayName": "María Santos Fernandez",
      "photoUrl": "",
      "userId": "05118399518218051952"
     },
     "user_tz": -120
    },
    "id": "qzleGK7UUrF8",
    "outputId": "3fa41489-3abc-4d2c-8c4f-94ff691ca14f"
   },
   "outputs": [
    {
     "data": {
      "text/plain": [
       "48.0"
      ]
     },
     "execution_count": 22,
     "metadata": {
      "tags": []
     },
     "output_type": "execute_result"
    }
   ],
   "source": [
    "8.0 * 6"
   ]
  },
  {
   "cell_type": "markdown",
   "metadata": {
    "id": "9nXOuvCGUt2W"
   },
   "source": [
    "### División\n",
    "\n",
    "Para dividir dos números, utilizamos la función `/`"
   ]
  },
  {
   "cell_type": "code",
   "execution_count": null,
   "metadata": {
    "colab": {
     "base_uri": "https://localhost:8080/",
     "height": 34
    },
    "executionInfo": {
     "elapsed": 559,
     "status": "ok",
     "timestamp": 1599478139075,
     "user": {
      "displayName": "María Santos Fernandez",
      "photoUrl": "",
      "userId": "05118399518218051952"
     },
     "user_tz": -120
    },
    "id": "J4GRM9fcUsx6",
    "outputId": "9febbbc5-ce9b-4d42-de46-86ba00389e41"
   },
   "outputs": [
    {
     "data": {
      "text/plain": [
       "1.2"
      ]
     },
     "execution_count": 23,
     "metadata": {
      "tags": []
     },
     "output_type": "execute_result"
    }
   ],
   "source": [
    "# a pesar de que todos los numero son enteros, el resultado es float\n",
    "6 / 5"
   ]
  },
  {
   "cell_type": "code",
   "execution_count": null,
   "metadata": {
    "colab": {
     "base_uri": "https://localhost:8080/",
     "height": 34
    },
    "executionInfo": {
     "elapsed": 533,
     "status": "ok",
     "timestamp": 1599478147097,
     "user": {
      "displayName": "María Santos Fernandez",
      "photoUrl": "",
      "userId": "05118399518218051952"
     },
     "user_tz": -120
    },
    "id": "wrVwRtynU4ZM",
    "outputId": "e28391a0-ad27-4296-ed1d-fecc1be94681"
   },
   "outputs": [
    {
     "data": {
      "text/plain": [
       "1.2"
      ]
     },
     "execution_count": 24,
     "metadata": {
      "tags": []
     },
     "output_type": "execute_result"
    }
   ],
   "source": [
    "6. / 5.0"
   ]
  },
  {
   "cell_type": "code",
   "execution_count": 17,
   "metadata": {
    "colab": {
     "base_uri": "https://localhost:8080/",
     "height": 34
    },
    "executionInfo": {
     "elapsed": 517,
     "status": "ok",
     "timestamp": 1599478151861,
     "user": {
      "displayName": "María Santos Fernandez",
      "photoUrl": "",
      "userId": "05118399518218051952"
     },
     "user_tz": -120
    },
    "id": "JeDoEiuEU6W7",
    "outputId": "2548e63f-00f2-4381-cc64-9e9120fda9d7"
   },
   "outputs": [
    {
     "data": {
      "text/plain": [
       "1.2"
      ]
     },
     "execution_count": 17,
     "metadata": {},
     "output_type": "execute_result"
    }
   ],
   "source": [
    "6 / 5.0"
   ]
  },
  {
   "cell_type": "code",
   "execution_count": 46,
   "metadata": {},
   "outputs": [
    {
     "data": {
      "text/plain": [
       "0.3333333333333333"
      ]
     },
     "execution_count": 46,
     "metadata": {},
     "output_type": "execute_result"
    }
   ],
   "source": [
    "1/3"
   ]
  },
  {
   "cell_type": "markdown",
   "metadata": {
    "id": "q4M_PC4JU8TV"
   },
   "source": [
    "**¡Cuidado!** Hay que tener en cuenta el tipo de número (int o float) cuando vayamos a dividir en `Python`, porque en algunas versiones, si dividimos dos números enteros, se lleva a cabo la división entera automáticamente.\n",
    "\n"
   ]
  },
  {
   "cell_type": "markdown",
   "metadata": {
    "id": "zeXGfu_aB1kg"
   },
   "source": [
    "### División entera o Euclídea\n",
    "\n",
    "Dados dos números naturales $a$ y $b$, con $b \\ne 0$, la división Euclídea de $a$ entre $b$ asocia un cociente $q$ y un resto $r$, ambos números naturales, que satisfacen \n",
    "\n",
    "- $a = b \\cdot q + r$\n",
    "- $r < b$\n",
    "\n",
    "a/b"
   ]
  },
  {
   "cell_type": "markdown",
   "metadata": {
    "id": "MoLVXYp2DIUI"
   },
   "source": [
    "---\n",
    "\n",
    "#### Ejemplo 1\n",
    "\n",
    "Si queremos la división entera de $a = 7$ entre $b = 5$, tendremos que el cociente es $q = 1$ y el resto es $r = 2$, ya que\n",
    "\n",
    "$$7 = 5\\cdot 1 + 2$$\n",
    "\n",
    "y el resto $r$ es menor al divisor $b$. Es decir, $2 < 5$.\n",
    "\n",
    "---\n",
    "\n",
    "Para obtener el cociente (q) de la división entera, utilizamos la función `//`"
   ]
  },
  {
   "cell_type": "code",
   "execution_count": null,
   "metadata": {
    "colab": {
     "base_uri": "https://localhost:8080/",
     "height": 34
    },
    "executionInfo": {
     "elapsed": 576,
     "status": "ok",
     "timestamp": 1599478578950,
     "user": {
      "displayName": "María Santos Fernandez",
      "photoUrl": "",
      "userId": "05118399518218051952"
     },
     "user_tz": -120
    },
    "id": "win8schFU7hk",
    "outputId": "2a0e94ee-06cb-4c72-dae3-aa1223fc8df4"
   },
   "outputs": [
    {
     "data": {
      "text/plain": [
       "3"
      ]
     },
     "execution_count": 18,
     "metadata": {},
     "output_type": "execute_result"
    }
   ],
   "source": [
    "# esta división siempre da un número entero\n",
    "10 // 3"
   ]
  },
  {
   "cell_type": "markdown",
   "metadata": {
    "id": "VKOLoGr9WmFv"
   },
   "source": [
    "Para obtener el resto (r) de la división entera, utilizamos la función `%`"
   ]
  },
  {
   "cell_type": "code",
   "execution_count": null,
   "metadata": {
    "colab": {
     "base_uri": "https://localhost:8080/",
     "height": 34
    },
    "executionInfo": {
     "elapsed": 612,
     "status": "ok",
     "timestamp": 1599478599656,
     "user": {
      "displayName": "María Santos Fernandez",
      "photoUrl": "",
      "userId": "05118399518218051952"
     },
     "user_tz": -120
    },
    "id": "JcxeNMeaWjyE",
    "outputId": "816df653-7fc3-4ff8-a0ec-f6df3260bafc"
   },
   "outputs": [
    {
     "data": {
      "text/plain": [
       "1"
      ]
     },
     "execution_count": 19,
     "metadata": {},
     "output_type": "execute_result"
    }
   ],
   "source": [
    "# obtenemos el resto de la división, conocido como módulo\n",
    "10 % 3"
   ]
  },
  {
   "cell_type": "code",
   "execution_count": 47,
   "metadata": {},
   "outputs": [
    {
     "data": {
      "text/plain": [
       "1"
      ]
     },
     "execution_count": 47,
     "metadata": {},
     "output_type": "execute_result"
    }
   ],
   "source": [
    "6 % 5"
   ]
  },
  {
   "cell_type": "markdown",
   "metadata": {
    "id": "OV-lRxhtWses"
   },
   "source": [
    "### Potencia\n",
    "\n",
    "Para calcular la potencia $n$-ésima de un número, usamos la función `**`"
   ]
  },
  {
   "cell_type": "code",
   "execution_count": 20,
   "metadata": {
    "colab": {
     "base_uri": "https://localhost:8080/",
     "height": 34
    },
    "executionInfo": {
     "elapsed": 699,
     "status": "ok",
     "timestamp": 1599478650082,
     "user": {
      "displayName": "María Santos Fernandez",
      "photoUrl": "",
      "userId": "05118399518218051952"
     },
     "user_tz": -120
    },
    "id": "Gpkix_PqWoss",
    "outputId": "01549f3f-7cb8-4b59-eaac-be8f666aff15"
   },
   "outputs": [
    {
     "data": {
      "text/plain": [
       "125"
      ]
     },
     "execution_count": 20,
     "metadata": {},
     "output_type": "execute_result"
    }
   ],
   "source": [
    "5 ** 3"
   ]
  },
  {
   "cell_type": "code",
   "execution_count": 21,
   "metadata": {
    "colab": {
     "base_uri": "https://localhost:8080/",
     "height": 34
    },
    "executionInfo": {
     "elapsed": 814,
     "status": "ok",
     "timestamp": 1599478655576,
     "user": {
      "displayName": "María Santos Fernandez",
      "photoUrl": "",
      "userId": "05118399518218051952"
     },
     "user_tz": -120
    },
    "id": "qeu9iuKQW1GL",
    "outputId": "3ad5e637-4b95-4d35-c079-cca1df99637c"
   },
   "outputs": [
    {
     "data": {
      "text/plain": [
       "125.0"
      ]
     },
     "execution_count": 21,
     "metadata": {},
     "output_type": "execute_result"
    }
   ],
   "source": [
    "5.0 ** 3.0"
   ]
  },
  {
   "cell_type": "code",
   "execution_count": 22,
   "metadata": {
    "colab": {
     "base_uri": "https://localhost:8080/",
     "height": 34
    },
    "executionInfo": {
     "elapsed": 537,
     "status": "ok",
     "timestamp": 1599478659029,
     "user": {
      "displayName": "María Santos Fernandez",
      "photoUrl": "",
      "userId": "05118399518218051952"
     },
     "user_tz": -120
    },
    "id": "61_rCh_WW2bu",
    "outputId": "04d9635a-3c7f-44db-f265-f39e0ef86834"
   },
   "outputs": [
    {
     "data": {
      "text/plain": [
       "125.0"
      ]
     },
     "execution_count": 22,
     "metadata": {},
     "output_type": "execute_result"
    }
   ],
   "source": [
    "5.0 ** 3"
   ]
  },
  {
   "cell_type": "markdown",
   "metadata": {
    "id": "4FV5ZaBHW6XR"
   },
   "source": [
    "Para calcular la potencia $n$-ésima de un número, también podemos usar la función `pow()`"
   ]
  },
  {
   "cell_type": "code",
   "execution_count": null,
   "metadata": {
    "colab": {
     "base_uri": "https://localhost:8080/",
     "height": 34
    },
    "executionInfo": {
     "elapsed": 529,
     "status": "ok",
     "timestamp": 1599478690492,
     "user": {
      "displayName": "María Santos Fernandez",
      "photoUrl": "",
      "userId": "05118399518218051952"
     },
     "user_tz": -120
    },
    "id": "FA-UxXngW3WG",
    "outputId": "8f970ae2-702d-43c4-c124-6e91f549599f"
   },
   "outputs": [
    {
     "data": {
      "text/plain": [
       "125"
      ]
     },
     "execution_count": 23,
     "metadata": {},
     "output_type": "execute_result"
    }
   ],
   "source": [
    "# con pow también se puede hacer potencias, pow(5, 3) es lo mismo que 5**3\n",
    "pow(5, 3)"
   ]
  },
  {
   "cell_type": "code",
   "execution_count": 24,
   "metadata": {
    "colab": {
     "base_uri": "https://localhost:8080/",
     "height": 34
    },
    "executionInfo": {
     "elapsed": 539,
     "status": "ok",
     "timestamp": 1599478695039,
     "user": {
      "displayName": "María Santos Fernandez",
      "photoUrl": "",
      "userId": "05118399518218051952"
     },
     "user_tz": -120
    },
    "id": "Y6qS6ytLW_Bq",
    "outputId": "e3e85fc6-7fa4-4637-d5f1-47d10bf0f97e"
   },
   "outputs": [
    {
     "data": {
      "text/plain": [
       "125.0"
      ]
     },
     "execution_count": 24,
     "metadata": {},
     "output_type": "execute_result"
    }
   ],
   "source": [
    "pow(5., 3.0)"
   ]
  },
  {
   "cell_type": "code",
   "execution_count": 25,
   "metadata": {
    "colab": {
     "base_uri": "https://localhost:8080/",
     "height": 34
    },
    "executionInfo": {
     "elapsed": 336,
     "status": "ok",
     "timestamp": 1599478700890,
     "user": {
      "displayName": "María Santos Fernandez",
      "photoUrl": "",
      "userId": "05118399518218051952"
     },
     "user_tz": -120
    },
    "id": "Qw2lNZ8dXAIp",
    "outputId": "f160f91d-279d-4317-a913-07dfd4d4db98"
   },
   "outputs": [
    {
     "data": {
      "text/plain": [
       "125.0"
      ]
     },
     "execution_count": 25,
     "metadata": {},
     "output_type": "execute_result"
    }
   ],
   "source": [
    "pow(5, 3.)"
   ]
  },
  {
   "cell_type": "markdown",
   "metadata": {
    "id": "CJJ_bjj5XRX1"
   },
   "source": [
    "## Orden de las operaciones aritméticas\n",
    "\n",
    "El orden en que se llevan a cabo las operaciones aritméticas en `Python` es el siguiente:\n",
    "\n",
    "- Primero se calcula lo que se halla entre paréntesis.\n",
    "- A continuación, las potencias.\n",
    "- Después, productos y divisiones. En caso de haber varias, el orden que se sigue es de izquierda a derecha.\n",
    "- Finalmente, sumas y restas. En caso de haber varias, el orden que se sigue es de izquierda a derecha."
   ]
  },
  {
   "cell_type": "code",
   "execution_count": 26,
   "metadata": {
    "colab": {
     "base_uri": "https://localhost:8080/"
    },
    "executionInfo": {
     "elapsed": 605,
     "status": "ok",
     "timestamp": 1609238636446,
     "user": {
      "displayName": "Juan Gabriel Gomila Salas",
      "photoUrl": "https://lh3.googleusercontent.com/a-/AOh14GjdBM44CAiZlDiF-IkE0NJQH-LHKt1b0A22wmma_w=s64",
      "userId": "03106941341701838274"
     },
     "user_tz": -60
    },
    "id": "DoO70cwKXBlb",
    "outputId": "413f5a1e-1b71-4ebe-fca7-da80767857c4"
   },
   "outputs": [
    {
     "data": {
      "text/plain": [
       "2.0"
      ]
     },
     "execution_count": 26,
     "metadata": {},
     "output_type": "execute_result"
    }
   ],
   "source": [
    "6 + 2 * 8 / 4 - 2 ** 3"
   ]
  },
  {
   "cell_type": "code",
   "execution_count": 27,
   "metadata": {
    "colab": {
     "base_uri": "https://localhost:8080/"
    },
    "executionInfo": {
     "elapsed": 672,
     "status": "ok",
     "timestamp": 1609169322619,
     "user": {
      "displayName": "Juan Gabriel Gomila Salas",
      "photoUrl": "https://lh3.googleusercontent.com/a-/AOh14GjdBM44CAiZlDiF-IkE0NJQH-LHKt1b0A22wmma_w=s64",
      "userId": "03106941341701838274"
     },
     "user_tz": -60
    },
    "id": "FISOdzAwXg5p",
    "outputId": "0764b2c4-8953-4e9c-b657-ac13979b7448"
   },
   "outputs": [
    {
     "data": {
      "text/plain": [
       "512.0"
      ]
     },
     "execution_count": 27,
     "metadata": {},
     "output_type": "execute_result"
    }
   ],
   "source": [
    "(6 + 2) * (8 / (4 - 2)) ** 3"
   ]
  },
  {
   "cell_type": "code",
   "execution_count": 28,
   "metadata": {
    "colab": {
     "base_uri": "https://localhost:8080/"
    },
    "executionInfo": {
     "elapsed": 681,
     "status": "ok",
     "timestamp": 1609169350921,
     "user": {
      "displayName": "Juan Gabriel Gomila Salas",
      "photoUrl": "https://lh3.googleusercontent.com/a-/AOh14GjdBM44CAiZlDiF-IkE0NJQH-LHKt1b0A22wmma_w=s64",
      "userId": "03106941341701838274"
     },
     "user_tz": -60
    },
    "id": "MCN3TGOkXiwi",
    "outputId": "ffef0ba0-84ea-4c19-8376-7e09a1b83927"
   },
   "outputs": [
    {
     "data": {
      "text/plain": [
       "8.0"
      ]
     },
     "execution_count": 28,
     "metadata": {},
     "output_type": "execute_result"
    }
   ],
   "source": [
    "(6 + 2) * 8 / (4 - 2) ** 3"
   ]
  },
  {
   "cell_type": "markdown",
   "metadata": {
    "id": "ALpWUP2KXncK"
   },
   "source": [
    "**Observación.** El uso de los paréntesis puede cambiar completamente el resultado. No conviene abusar de ellos, aunque es mejor que sobren, ya que ayudan a entender el orden en que se van a llevar a cabo las operaciones."
   ]
  },
  {
   "cell_type": "markdown",
   "metadata": {
    "id": "hnIAaPgbXuoU"
   },
   "source": [
    "## Números complejos\n",
    "\n",
    "\n",
    "\n",
    "\n"
   ]
  },
  {
   "cell_type": "markdown",
   "metadata": {
    "id": "CyFbhpyECDnl"
   },
   "source": [
    "### Definiciones\n",
    "\n",
    "a es la parte real y b la parte imaginaria\n",
    "\n",
    "- **Número complejo.** Es un par ordenado de números reales $z = (a, b)$, con $a,b\\in\\mathbb{R}$.\n",
    "- **Parte real.** Es el primer elemento del par ordenado, $\\text{Re}(z) = a$.\n",
    "- **Parte imaginaria.** Es el segundo elemento del par ordenado, $\\text{Im}(z) = b$.\n",
    "- **Complejo real.** $z = (a, 0)$. solo tiene parte real\n",
    "- **Imaginario puro.** $z = (0, b)$. solo tiene parte imaginaria\n",
    "- **Unidad imaginaria.** $i = (0, 1)$.\n",
    "- **Conjunto de números complejos.** $\\mathbb{C} = \\{z = (a,b)\\ :\\ a,b\\in\\mathbb{R}\\}$.\n",
    "\n"
   ]
  },
  {
   "cell_type": "markdown",
   "metadata": {
    "id": "-1cj7iqWCFGU"
   },
   "source": [
    "### Operaciones\n",
    "\n",
    "- Suma: $(a, b) + (c, d) = (a + c, b + d)$\n",
    "- Resta: $(a, b) - (c, d) = (a - c, b - d)$\n",
    "- Producto: $(a, b) \\cdot (c, d) = (a \\cdot c - b \\cdot d, a\\cdot d + b\\cdot c)$\n",
    "- División: $(a, b) \\div (c, d) = \\frac{(a \\cdot c + b \\cdot d, b \\cdot c - a \\cdot d)}{c^2 + d^2} = \\left(\\frac{a \\cdot c + b \\cdot d}{c^2 + d^2},\\frac{b \\cdot c - a \\cdot d}{c^2 + d^2}\\right)$\n",
    "\n"
   ]
  },
  {
   "cell_type": "markdown",
   "metadata": {
    "id": "lEz__b2GCGoZ"
   },
   "source": [
    "### Conjugado, Módulo y Argumento\n",
    "\n",
    "La parte imaginaria es el eje Y y la parte entere el eje X.\n",
    "\n",
    "Dado un complejo $z = (a,b)$,\n",
    "\n",
    "- **Conjugado.** $\\bar{z} = (a, -b)$.\n",
    "- **Módulo.** $\\text{Mod}(z) = |z| = \\sqrt{\\text{Re}(z)^2 + \\text{Im}(z)^2} = \\sqrt{a^2 + b^2}$.\n",
    "- **Argumento.** $\\text{Arg}(z) = \\arctan\\left(\\frac{\\text{Im}(z)}{\\text{Re}(z)}\\right) = \\arctan\\left(\\frac{b}{a}\\right)$\n",
    "\n",
    "<img alt=\"OpenWebDocs Logo: Carle el ratón de biblioteca\" src=\"https://www.problemasyecuaciones.com/complejos/img1/G1.png\" />"
   ]
  },
  {
   "cell_type": "markdown",
   "metadata": {
    "id": "wcrZgFPRCH5X"
   },
   "source": [
    "### Unidad imaginaria\n",
    "\n",
    "$i = (0, 1)$ satisface\n",
    "\n",
    "$$i^2 = (0, 1)^2 = (0, 1)\\cdot (0, 1) = (-1, 0)$$\n",
    "\n",
    "De aquí obtenemos la igualdad $i = \\sqrt{-1}$, que es otra de las definiciones que se le da a la unidad imaginaria.\n",
    "\n"
   ]
  },
  {
   "cell_type": "markdown",
   "metadata": {
    "id": "9muVLk51CJEc"
   },
   "source": [
    "### Otras representaciones\n",
    "\n",
    "Representación binómica: $z = a + bi$\n",
    "\n",
    "- $a = \\text{Re}(z)$\n",
    "- $b = \\text{Im}(z)$\n",
    "\n",
    "Representación polar: $z = re^{i\\phi}$\n",
    "\n",
    "- $r = \\text{Mod}(z)$\n",
    "- $\\phi = \\text{Arg}(z)$"
   ]
  },
  {
   "cell_type": "markdown",
   "metadata": {
    "id": "3t2_gS8rB_S3"
   },
   "source": [
    "\n",
    "### Números complejos en `Python`\n",
    "\n",
    "**Observación.** En `Python`, los números complejos se definen en forma **binómica** y en vez de utilizar una `i`, se utiliza la letra `j` para representar la unidad imaginaria.\n",
    "\n"
   ]
  },
  {
   "cell_type": "code",
   "execution_count": null,
   "metadata": {
    "colab": {
     "base_uri": "https://localhost:8080/"
    },
    "executionInfo": {
     "elapsed": 636,
     "status": "ok",
     "timestamp": 1609238718624,
     "user": {
      "displayName": "Juan Gabriel Gomila Salas",
      "photoUrl": "https://lh3.googleusercontent.com/a-/AOh14GjdBM44CAiZlDiF-IkE0NJQH-LHKt1b0A22wmma_w=s64",
      "userId": "03106941341701838274"
     },
     "user_tz": -60
    },
    "id": "gi1AkKvcXkeE",
    "outputId": "0ada6b2f-e904-4862-f76b-2bd8e038dac9"
   },
   "outputs": [
    {
     "data": {
      "text/plain": [
       "(2+5j)"
      ]
     },
     "execution_count": 29,
     "metadata": {},
     "output_type": "execute_result"
    }
   ],
   "source": [
    "# 2 es la parte real y 5j es la parte imaginaria\n",
    "# j es la unidad imaginaria en python\n",
    "# en matemáticas se usa i, pero en ingeniería eléctrica se usa j\n",
    "z = 2 + 5j\n",
    "z"
   ]
  },
  {
   "cell_type": "code",
   "execution_count": 30,
   "metadata": {
    "colab": {
     "base_uri": "https://localhost:8080/"
    },
    "executionInfo": {
     "elapsed": 635,
     "status": "ok",
     "timestamp": 1609238725473,
     "user": {
      "displayName": "Juan Gabriel Gomila Salas",
      "photoUrl": "https://lh3.googleusercontent.com/a-/AOh14GjdBM44CAiZlDiF-IkE0NJQH-LHKt1b0A22wmma_w=s64",
      "userId": "03106941341701838274"
     },
     "user_tz": -60
    },
    "id": "I4A7wfd6dzY0",
    "outputId": "780cd5fa-8cd9-479b-b74b-1b74d16db3d7"
   },
   "outputs": [
    {
     "data": {
      "text/plain": [
       "complex"
      ]
     },
     "execution_count": 30,
     "metadata": {},
     "output_type": "execute_result"
    }
   ],
   "source": [
    "type(z)"
   ]
  },
  {
   "cell_type": "markdown",
   "metadata": {
    "id": "STMrzIARd5xX"
   },
   "source": [
    "También podemos definir números complejos en `Python` con la función `complex()`"
   ]
  },
  {
   "cell_type": "code",
   "execution_count": 31,
   "metadata": {
    "colab": {
     "base_uri": "https://localhost:8080/"
    },
    "executionInfo": {
     "elapsed": 648,
     "status": "ok",
     "timestamp": 1609238853420,
     "user": {
      "displayName": "Juan Gabriel Gomila Salas",
      "photoUrl": "https://lh3.googleusercontent.com/a-/AOh14GjdBM44CAiZlDiF-IkE0NJQH-LHKt1b0A22wmma_w=s64",
      "userId": "03106941341701838274"
     },
     "user_tz": -60
    },
    "id": "fCwnmAp2d2_m",
    "outputId": "08553398-2356-498e-ff15-5e38e6691e27"
   },
   "outputs": [
    {
     "data": {
      "text/plain": [
       "(1-7j)"
      ]
     },
     "execution_count": 31,
     "metadata": {},
     "output_type": "execute_result"
    }
   ],
   "source": [
    "z = complex(1, -7)\n",
    "z"
   ]
  },
  {
   "cell_type": "code",
   "execution_count": 32,
   "metadata": {
    "colab": {
     "base_uri": "https://localhost:8080/"
    },
    "executionInfo": {
     "elapsed": 731,
     "status": "ok",
     "timestamp": 1609238875773,
     "user": {
      "displayName": "Juan Gabriel Gomila Salas",
      "photoUrl": "https://lh3.googleusercontent.com/a-/AOh14GjdBM44CAiZlDiF-IkE0NJQH-LHKt1b0A22wmma_w=s64",
      "userId": "03106941341701838274"
     },
     "user_tz": -60
    },
    "id": "RjklDHWWd-aq",
    "outputId": "49a687bc-a707-4335-ba07-c6df3d93623b"
   },
   "outputs": [
    {
     "data": {
      "text/plain": [
       "complex"
      ]
     },
     "execution_count": 32,
     "metadata": {},
     "output_type": "execute_result"
    }
   ],
   "source": [
    "type(z)"
   ]
  },
  {
   "cell_type": "markdown",
   "metadata": {
    "id": "07A6HHDl_S06"
   },
   "source": [
    "Para obtener la parte real, utilizamos el método `.real`"
   ]
  },
  {
   "cell_type": "code",
   "execution_count": 33,
   "metadata": {
    "colab": {
     "base_uri": "https://localhost:8080/"
    },
    "executionInfo": {
     "elapsed": 625,
     "status": "ok",
     "timestamp": 1609238892269,
     "user": {
      "displayName": "Juan Gabriel Gomila Salas",
      "photoUrl": "https://lh3.googleusercontent.com/a-/AOh14GjdBM44CAiZlDiF-IkE0NJQH-LHKt1b0A22wmma_w=s64",
      "userId": "03106941341701838274"
     },
     "user_tz": -60
    },
    "id": "3-W1icz_d_HT",
    "outputId": "65731b44-d968-4bb4-d0f8-e8b098d59190"
   },
   "outputs": [
    {
     "data": {
      "text/plain": [
       "1.0"
      ]
     },
     "execution_count": 33,
     "metadata": {},
     "output_type": "execute_result"
    }
   ],
   "source": [
    "z.real"
   ]
  },
  {
   "cell_type": "markdown",
   "metadata": {
    "id": "TUes0F0c_WsI"
   },
   "source": [
    "Para obtener la parte imaginaria, utilizamos el método `.imag`"
   ]
  },
  {
   "cell_type": "code",
   "execution_count": 34,
   "metadata": {
    "colab": {
     "base_uri": "https://localhost:8080/"
    },
    "executionInfo": {
     "elapsed": 709,
     "status": "ok",
     "timestamp": 1609238904187,
     "user": {
      "displayName": "Juan Gabriel Gomila Salas",
      "photoUrl": "https://lh3.googleusercontent.com/a-/AOh14GjdBM44CAiZlDiF-IkE0NJQH-LHKt1b0A22wmma_w=s64",
      "userId": "03106941341701838274"
     },
     "user_tz": -60
    },
    "id": "ifODsy08_Vsq",
    "outputId": "c85ae8bf-e9e0-487e-ab29-c2a2acf2f4e2"
   },
   "outputs": [
    {
     "data": {
      "text/plain": [
       "-7.0"
      ]
     },
     "execution_count": 34,
     "metadata": {},
     "output_type": "execute_result"
    }
   ],
   "source": [
    "z.imag"
   ]
  },
  {
   "cell_type": "markdown",
   "metadata": {
    "id": "6T4K84e-_ex7"
   },
   "source": [
    "Para sumar números complejos, utilizamos la función `+`"
   ]
  },
  {
   "cell_type": "code",
   "execution_count": 35,
   "metadata": {
    "colab": {
     "base_uri": "https://localhost:8080/"
    },
    "executionInfo": {
     "elapsed": 718,
     "status": "ok",
     "timestamp": 1609238956583,
     "user": {
      "displayName": "Juan Gabriel Gomila Salas",
      "photoUrl": "https://lh3.googleusercontent.com/a-/AOh14GjdBM44CAiZlDiF-IkE0NJQH-LHKt1b0A22wmma_w=s64",
      "userId": "03106941341701838274"
     },
     "user_tz": -60
    },
    "id": "UjST8q0j_Z9c",
    "outputId": "85d51744-47bf-45d3-a595-f143b4393998"
   },
   "outputs": [
    {
     "data": {
      "text/plain": [
       "(7-2j)"
      ]
     },
     "execution_count": 35,
     "metadata": {},
     "output_type": "execute_result"
    }
   ],
   "source": [
    "z1 = 2-6j\n",
    "z2 = 5+4j\n",
    "\n",
    "z1 + z2"
   ]
  },
  {
   "cell_type": "markdown",
   "metadata": {
    "id": "ZSnIb7gK_i2S"
   },
   "source": [
    "Para restar números complejos, utilizamos la función `-`"
   ]
  },
  {
   "cell_type": "code",
   "execution_count": 36,
   "metadata": {
    "colab": {
     "base_uri": "https://localhost:8080/"
    },
    "executionInfo": {
     "elapsed": 762,
     "status": "ok",
     "timestamp": 1609238966753,
     "user": {
      "displayName": "Juan Gabriel Gomila Salas",
      "photoUrl": "https://lh3.googleusercontent.com/a-/AOh14GjdBM44CAiZlDiF-IkE0NJQH-LHKt1b0A22wmma_w=s64",
      "userId": "03106941341701838274"
     },
     "user_tz": -60
    },
    "id": "Dnj8COfl_csJ",
    "outputId": "b01861aa-6a4c-42b6-ae85-01b03688cbc5"
   },
   "outputs": [
    {
     "data": {
      "text/plain": [
       "(-3-10j)"
      ]
     },
     "execution_count": 36,
     "metadata": {},
     "output_type": "execute_result"
    }
   ],
   "source": [
    "z1 - z2"
   ]
  },
  {
   "cell_type": "markdown",
   "metadata": {
    "id": "ukK7dawe_lz9"
   },
   "source": [
    "Para multiplicar una constante por un número complejo, o bien multiplicar dos números complejos, utilizamos la función `*`"
   ]
  },
  {
   "cell_type": "code",
   "execution_count": null,
   "metadata": {
    "colab": {
     "base_uri": "https://localhost:8080/",
     "height": 34
    },
    "executionInfo": {
     "elapsed": 663,
     "status": "ok",
     "timestamp": 1599489355028,
     "user": {
      "displayName": "María Santos Fernandez",
      "photoUrl": "",
      "userId": "05118399518218051952"
     },
     "user_tz": -120
    },
    "id": "gjQ0sBz1_k7s",
    "outputId": "4b642850-6f77-4c64-d3ad-c45e7f9c4f1d"
   },
   "outputs": [
    {
     "data": {
      "text/plain": [
       "(-2+6j)"
      ]
     },
     "execution_count": 37,
     "metadata": {},
     "output_type": "execute_result"
    }
   ],
   "source": [
    "# podemos multiplicar entero con complejos\n",
    "-1 * z1"
   ]
  },
  {
   "cell_type": "code",
   "execution_count": 38,
   "metadata": {
    "colab": {
     "base_uri": "https://localhost:8080/",
     "height": 34
    },
    "executionInfo": {
     "elapsed": 754,
     "status": "ok",
     "timestamp": 1599489359474,
     "user": {
      "displayName": "María Santos Fernandez",
      "photoUrl": "",
      "userId": "05118399518218051952"
     },
     "user_tz": -120
    },
    "id": "8nIF9I8n_qo6",
    "outputId": "e832a453-f825-42ff-b188-f89074a9de1c"
   },
   "outputs": [
    {
     "data": {
      "text/plain": [
       "(34-22j)"
      ]
     },
     "execution_count": 38,
     "metadata": {},
     "output_type": "execute_result"
    }
   ],
   "source": [
    "z1 * z2"
   ]
  },
  {
   "cell_type": "markdown",
   "metadata": {
    "id": "66NOmMzQ_sfh"
   },
   "source": [
    "Para dividir números complejos, utilizamos la función `/`"
   ]
  },
  {
   "cell_type": "code",
   "execution_count": null,
   "metadata": {
    "colab": {
     "base_uri": "https://localhost:8080/"
    },
    "executionInfo": {
     "elapsed": 624,
     "status": "ok",
     "timestamp": 1609239072746,
     "user": {
      "displayName": "Juan Gabriel Gomila Salas",
      "photoUrl": "https://lh3.googleusercontent.com/a-/AOh14GjdBM44CAiZlDiF-IkE0NJQH-LHKt1b0A22wmma_w=s64",
      "userId": "03106941341701838274"
     },
     "user_tz": -60
    },
    "id": "-xHQhzzn_rs-",
    "outputId": "bcc853f2-210c-4017-fc31-fdc1df94705e"
   },
   "outputs": [
    {
     "data": {
      "text/plain": [
       "-1j"
      ]
     },
     "execution_count": 39,
     "metadata": {},
     "output_type": "execute_result"
    }
   ],
   "source": [
    "z1 = -1 - 1j\n",
    "z2 = 1 - 1j\n",
    "\n",
    "z1 / z2\n",
    "# debemos colocar 1j, no puede existir solo el j ya que python lo interpreta como una variable no definida"
   ]
  },
  {
   "cell_type": "markdown",
   "metadata": {
    "id": "P43dIsZO_x8X"
   },
   "source": [
    "**Observación.** Si queremos indicar que la parte imaginaria es 1 o -1, no basta con poner `j` o `-j`, sino que hay que escribir `1j` o `-1j`, siempre que definamos el número complejo en su forma binómica.\n",
    "\n",
    "Para calcular el conjugado de un número complejo, utilizamos el método `.conjugate()`"
   ]
  },
  {
   "cell_type": "code",
   "execution_count": null,
   "metadata": {
    "colab": {
     "base_uri": "https://localhost:8080/"
    },
    "executionInfo": {
     "elapsed": 631,
     "status": "ok",
     "timestamp": 1609239130503,
     "user": {
      "displayName": "Juan Gabriel Gomila Salas",
      "photoUrl": "https://lh3.googleusercontent.com/a-/AOh14GjdBM44CAiZlDiF-IkE0NJQH-LHKt1b0A22wmma_w=s64",
      "userId": "03106941341701838274"
     },
     "user_tz": -60
    },
    "id": "wcgbkdEj_wmp",
    "outputId": "4e905cc2-c3f4-4680-ade9-1fe4a5881b60"
   },
   "outputs": [
    {
     "data": {
      "text/plain": [
       "(-2-1j)"
      ]
     },
     "execution_count": 40,
     "metadata": {},
     "output_type": "execute_result"
    }
   ],
   "source": [
    "z = -2 + 1j\n",
    "z.conjugate() # cambia el signo de la parte imaginaria"
   ]
  },
  {
   "cell_type": "markdown",
   "metadata": {
    "id": "-FeczLvPAJAh"
   },
   "source": [
    "Para calcular el módulo de un número complejo, utilizamos la función `abs()`"
   ]
  },
  {
   "cell_type": "code",
   "execution_count": 41,
   "metadata": {
    "colab": {
     "base_uri": "https://localhost:8080/"
    },
    "executionInfo": {
     "elapsed": 621,
     "status": "ok",
     "timestamp": 1609239153656,
     "user": {
      "displayName": "Juan Gabriel Gomila Salas",
      "photoUrl": "https://lh3.googleusercontent.com/a-/AOh14GjdBM44CAiZlDiF-IkE0NJQH-LHKt1b0A22wmma_w=s64",
      "userId": "03106941341701838274"
     },
     "user_tz": -60
    },
    "id": "KTc0OOHKAGcl",
    "outputId": "05ad4cc8-ea70-4876-8169-db7df7153304"
   },
   "outputs": [
    {
     "data": {
      "text/plain": [
       "2.0"
      ]
     },
     "execution_count": 41,
     "metadata": {},
     "output_type": "execute_result"
    }
   ],
   "source": [
    "z = -2j\n",
    "abs(z)"
   ]
  },
  {
   "cell_type": "markdown",
   "metadata": {
    "id": "A8wRA_JsAMt8"
   },
   "source": [
    "Para calcular el argumento de un número complejo, utilizamos la función `phase()` del paquete `cmath`."
   ]
  },
  {
   "cell_type": "code",
   "execution_count": null,
   "metadata": {
    "colab": {
     "base_uri": "https://localhost:8080/"
    },
    "executionInfo": {
     "elapsed": 644,
     "status": "ok",
     "timestamp": 1609239261842,
     "user": {
      "displayName": "Juan Gabriel Gomila Salas",
      "photoUrl": "https://lh3.googleusercontent.com/a-/AOh14GjdBM44CAiZlDiF-IkE0NJQH-LHKt1b0A22wmma_w=s64",
      "userId": "03106941341701838274"
     },
     "user_tz": -60
    },
    "id": "Ck8u6atKALvV",
    "outputId": "61163913-8003-426b-dda1-0177c33fb065"
   },
   "outputs": [
    {
     "data": {
      "text/plain": [
       "-1.5707963267948966"
      ]
     },
     "execution_count": 42,
     "metadata": {},
     "output_type": "execute_result"
    }
   ],
   "source": [
    "import cmath\n",
    "# la función phase nos da el ángulo en radianes que forma el número complejo con el eje real\n",
    "cmath.phase(z)"
   ]
  },
  {
   "cell_type": "markdown",
   "metadata": {
    "id": "BwcTwZmZAgWe"
   },
   "source": [
    "Para pasar de forma binómica a forma polar, usamos la función `polar()` del paquete `cmath`."
   ]
  },
  {
   "cell_type": "code",
   "execution_count": 43,
   "metadata": {
    "colab": {
     "base_uri": "https://localhost:8080/",
     "height": 34
    },
    "executionInfo": {
     "elapsed": 642,
     "status": "ok",
     "timestamp": 1599489693066,
     "user": {
      "displayName": "María Santos Fernandez",
      "photoUrl": "",
      "userId": "05118399518218051952"
     },
     "user_tz": -120
    },
    "id": "xPOAqf2rA8gC",
    "outputId": "bcc827e4-6a75-4d3a-83a0-28a6ad34d195"
   },
   "outputs": [
    {
     "data": {
      "text/plain": [
       "(-0-2j)"
      ]
     },
     "execution_count": 43,
     "metadata": {},
     "output_type": "execute_result"
    }
   ],
   "source": [
    "z"
   ]
  },
  {
   "cell_type": "code",
   "execution_count": null,
   "metadata": {
    "colab": {
     "base_uri": "https://localhost:8080/"
    },
    "executionInfo": {
     "elapsed": 618,
     "status": "ok",
     "timestamp": 1609239301485,
     "user": {
      "displayName": "Juan Gabriel Gomila Salas",
      "photoUrl": "https://lh3.googleusercontent.com/a-/AOh14GjdBM44CAiZlDiF-IkE0NJQH-LHKt1b0A22wmma_w=s64",
      "userId": "03106941341701838274"
     },
     "user_tz": -60
    },
    "id": "_tiVpgPqAdu0",
    "outputId": "ac4baa82-a606-419b-8140-0b716099dac1"
   },
   "outputs": [
    {
     "data": {
      "text/plain": [
       "(2.0, -1.5707963267948966)"
      ]
     },
     "execution_count": 44,
     "metadata": {},
     "output_type": "execute_result"
    }
   ],
   "source": [
    "# la función polar nos da la representación polar del número complejo\n",
    "cmath.polar(z)"
   ]
  },
  {
   "cell_type": "markdown",
   "metadata": {
    "id": "A6cLaSYOAyiq"
   },
   "source": [
    "Para pasar de forma polar a forma binómica, usamos la función `rect()` del paquete `cmath`."
   ]
  },
  {
   "cell_type": "code",
   "execution_count": null,
   "metadata": {
    "colab": {
     "base_uri": "https://localhost:8080/",
     "height": 34
    },
    "executionInfo": {
     "elapsed": 556,
     "status": "ok",
     "timestamp": 1599489670660,
     "user": {
      "displayName": "María Santos Fernandez",
      "photoUrl": "",
      "userId": "05118399518218051952"
     },
     "user_tz": -120
    },
    "id": "PzY6qrX4Al2m",
    "outputId": "ecc4a7c7-f353-43e6-ab1c-3736a9dfc909"
   },
   "outputs": [
    {
     "data": {
      "text/plain": [
       "(1.2246467991473532e-16-2j)"
      ]
     },
     "execution_count": 45,
     "metadata": {},
     "output_type": "execute_result"
    }
   ],
   "source": [
    "# la función rect nos da la representación rectangular del número complejo a partir de su módulo y ángulo\n",
    "# abs retorna el módulo del número complejo (el valor absoluto)\n",
    "cmath.rect(abs(z), cmath.phase(z))\n",
    "\n",
    "# e elevado a la -16, esto es un número muy pequeño cercano a cero"
   ]
  }
 ],
 "metadata": {
  "colab": {
   "provenance": [
    {
     "file_id": "11OvjLBBCuAQgDLI-Rw7BMP0D_wiU2UCr",
     "timestamp": 1681155987850
    }
   ]
  },
  "kernelspec": {
   "display_name": "Python 3",
   "language": "python",
   "name": "python3"
  },
  "language_info": {
   "codemirror_mode": {
    "name": "ipython",
    "version": 3
   },
   "file_extension": ".py",
   "mimetype": "text/x-python",
   "name": "python",
   "nbconvert_exporter": "python",
   "pygments_lexer": "ipython3",
   "version": "3.13.3"
  }
 },
 "nbformat": 4,
 "nbformat_minor": 1
}
