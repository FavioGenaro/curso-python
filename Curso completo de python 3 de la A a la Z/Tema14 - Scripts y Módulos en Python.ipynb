{
  "cells": [
    {
      "cell_type": "markdown",
      "metadata": {
        "id": "dT2x6kcV3g8S"
      },
      "source": [
        "# Scripts y Módulos en `Python`"
      ]
    },
    {
      "cell_type": "markdown",
      "metadata": {
        "id": "TMugytgS5V8q"
      },
      "source": [
        "## Scripts\n",
        "\n",
        "**Script.** Es un archivo que contiene líneas de código. En nuestro caso, dichas líneas estarán escritas con el lenguaje de programación `Python`\n",
        "\n",
        "Un script de `Python` tiene la extensión `.py`.\n",
        "\n",
        "Para ejecutar un script de `Python` necesitamos un intérprete como bien puede ser `Spyder`, `Jupyter`, `Google Colab`, ... pero para crearlo nos basta un editor de texto como por ejemplo Text Editor.\n",
        "\n"
      ]
    },
    {
      "cell_type": "markdown",
      "metadata": {
        "id": "fOIMuYWKGYO6"
      },
      "source": [
        "### Creando un script de `Python`\n",
        "\n",
        "En primer lugar, para trabajar con scripts desde Google Drive necesitaremos la aplicación gratuita Text Editor que se consigue en este [link](https://chrome.google.com/webstore/detail/text-editor/gpgjomejfimnbmobcocilppikhncegaj) de la Chrome Web Store.\n",
        "\n",
        "Una vez descargado, podemos crear un nuevo documento de Text Editor. Lo llamaremos `my_first_script.py` y escribiremos la siguiente línea de código:"
      ]
    },
    {
      "cell_type": "code",
      "execution_count": null,
      "metadata": {
        "colab": {
          "base_uri": "https://localhost:8080/"
        },
        "id": "Tn2M8klpRlsQ",
        "outputId": "07a628a0-34b3-4283-e68b-3e0aae935196"
      },
      "outputs": [
        {
          "name": "stdout",
          "output_type": "stream",
          "text": [
            "Mi primer script dice ¡HOLA!\n"
          ]
        }
      ],
      "source": [
        "print(\"Mi primer script dice ¡HOLA!\")"
      ]
    },
    {
      "cell_type": "markdown",
      "metadata": {
        "id": "oVxtevRBRyH5"
      },
      "source": [
        "### Importando un script de `Python`\n",
        "\n",
        "Una vez creado el script, lo guardamos. Una vez guardado, lo podemos importar a este notebook para ejecutarlo.\n",
        "\n",
        "Para ello, lo primero que haremos será darle al notebook acceso a nuestro drive, pues allí es donde tenemos guardado nuestro script llamado `my_first_script.py`\n",
        "\n",
        "Al ejecutar la celda, nos saldrá un link que nos llevará a una página de inicio de sesión de nuestra cuenta de Google Drive. Al proporcionar tanto correo como contraseña, se nos proporcionará un código de acceso que tendremos que introducir en la casilla correspondiente. Una vez completado este último paso, ya tendremos configurado Google Drive en nuestro notebook."
      ]
    },
    {
      "cell_type": "code",
      "execution_count": null,
      "metadata": {
        "colab": {
          "base_uri": "https://localhost:8080/"
        },
        "id": "3FkV1SDNTItG",
        "outputId": "c36f65b3-be01-46b7-aa7d-008e4cb217fe"
      },
      "outputs": [
        {
          "name": "stdout",
          "output_type": "stream",
          "text": [
            "Drive already mounted at /content/drive; to attempt to forcibly remount, call drive.mount(\"/content/drive\", force_remount=True).\n"
          ]
        }
      ],
      "source": [
        "# importamos el archivo al google drive\n",
        "from google.colab import drive\n",
        "drive.mount('/content/drive')"
      ]
    },
    {
      "cell_type": "markdown",
      "metadata": {
        "id": "G6hf_mHQUlAv"
      },
      "source": [
        "A continuación, para poder acceder a nuestro script, necesitamos que la carpeta donde éste esté guardado sea nuestro directorio de trabajo.\n",
        "\n",
        "Para obtener dicha ruta fácilmente, podemos irnos a Archivos, que se encuentra en el menú lateral izquierdo. Allí podemos ver la carpeta drive, que contiene todos nuestros documentos almacenados en Google Drive. Entonces, navegamos hasta la carpeta en cuestión, en nuestro caso, la carpeta scripts. Hacemos click derecho sobre dicha carpeta y seleccionamos Copiar ruta.\n",
        "\n",
        "Entonces, para cambiar el directorio de trabajo, ejecutamos la siguiente línea de código, indicando como path el que acabos de copiar."
      ]
    },
    {
      "cell_type": "code",
      "execution_count": null,
      "metadata": {
        "colab": {
          "base_uri": "https://localhost:8080/"
        },
        "id": "FbBwH_bPZQjl",
        "outputId": "c9981108-03cd-401f-d3a5-f21d89fe19b4"
      },
      "outputs": [
        {
          "name": "stdout",
          "output_type": "stream",
          "text": [
            "/content/drive/.shortcut-targets-by-id/1fzUi9z3DVf4g3auSHypriI3sXmShzLpa/python-basico/scripts\n"
          ]
        }
      ],
      "source": [
        "%cd /content/drive/MyDrive/python-basico/scripts"
      ]
    },
    {
      "cell_type": "markdown",
      "metadata": {
        "id": "NtBeCEB6W3oF"
      },
      "source": [
        "Ya lo tenemos todo listo para importar nuestro primer script:"
      ]
    },
    {
      "cell_type": "code",
      "execution_count": null,
      "metadata": {},
      "outputs": [],
      "source": [
        "# el nombre no debe tener espacios\n",
        "import Tema14_my_first_script"
      ]
    },
    {
      "cell_type": "markdown",
      "metadata": {
        "id": "Ep0n-Fe1ZvVT"
      },
      "source": [
        "**¡Cuidado!** Si realizamos algún cambio en el script, no bastará con guardarlo y volver a importar el script. Habrá que reinciar el Kernel y volver a ejecutar todas las líneas de código anteriores: desde la vinculación de Google Drive a nuestro notebook hasta la importación del script."
      ]
    },
    {
      "cell_type": "markdown",
      "metadata": {
        "id": "reK0N9Dj4N9J"
      },
      "source": [
        "## Módulos\n",
        "\n",
        "**Módulo.** Es una librería de código. Es un script que contiene un conjunto de funciones.\n",
        "\n",
        "Un módulo de `Python`, al ser un script, tiene la extensión `.py`.\n",
        "\n",
        "Para ejecutar un módulo de `Python` necesitaremos seguir los mismos pasos que cuando trabajábamos con scripts\n"
      ]
    },
    {
      "cell_type": "markdown",
      "metadata": {
        "id": "Q7RdFpCW7CvY"
      },
      "source": [
        "### Creando un módulo\n",
        "\n",
        "Hemos dicho que un módulo es un script que contiene funciones. Por tanto, lo primero que hacemos es crear un nuevo documento con Text Editor, al que llamaremos `my_first_module.py`.\n",
        "\n",
        "En él declararemos las siguientes funciones:"
      ]
    },
    {
      "cell_type": "code",
      "execution_count": null,
      "metadata": {
        "id": "jnrJPN7wjPci"
      },
      "outputs": [],
      "source": [
        "def sum(*numbers):\n",
        "    \"\"\"\n",
        "    Función que suma los elementos que introduzcamos por parámetro\n",
        "    \"\"\"\n",
        "    result = 0\n",
        "    for n in numbers:\n",
        "        result += n\n",
        "\n",
        "    return result\n",
        "\n",
        "def prod(*numbers):\n",
        "    \"\"\"\n",
        "    Función que multiplica los elementos que introduzcamos por parámetro\n",
        "    \"\"\"\n",
        "    result = 1\n",
        "    for n in numbers:\n",
        "        result *= n\n",
        "\n",
        "    return result\n",
        "\n",
        "def description():\n",
        "    print(\"Este módulo tiene 3 funciones: \")\n",
        "    print(\"\\t- la que muestra la descripción del módulo\")\n",
        "    print(\"\\t- la que suma los números que introduzcamos por parámetro\")\n",
        "    print(\"\\t- la que multiplica los números que introduzcamos por parámetro\")"
      ]
    },
    {
      "cell_type": "markdown",
      "metadata": {
        "id": "o8qwBpcw7LLw"
      },
      "source": [
        "### Importando un módulo de `Python`\n",
        "\n"
      ]
    },
    {
      "cell_type": "markdown",
      "metadata": {
        "id": "aoGojeleksOA"
      },
      "source": [
        "Una vez creado el módulo, lo guardamos. Una vez guardado, lo podemos importar a este notebook para ejecutarlo.\n",
        "\n",
        "Para ello, lo primero que haremos será darle al notebook acceso a nuestro drive.\n"
      ]
    },
    {
      "cell_type": "code",
      "execution_count": null,
      "metadata": {
        "colab": {
          "base_uri": "https://localhost:8080/"
        },
        "id": "fSjXNTw3kzKa",
        "outputId": "69000229-f6ff-4750-9fa4-87282e792ef2"
      },
      "outputs": [
        {
          "name": "stdout",
          "output_type": "stream",
          "text": [
            "Mounted at /content/drive\n"
          ]
        }
      ],
      "source": [
        "from google.colab import drive\n",
        "drive.mount('/content/drive')"
      ]
    },
    {
      "cell_type": "markdown",
      "metadata": {
        "id": "OWbuBUGVk348"
      },
      "source": [
        "A continuación, nos aseguramos de que el directorio de trabajo es la carpeta donde tenemos guardado el módulo"
      ]
    },
    {
      "cell_type": "code",
      "execution_count": null,
      "metadata": {
        "colab": {
          "base_uri": "https://localhost:8080/"
        },
        "id": "AH9t_rgSk-Jd",
        "outputId": "f35b7307-401c-4379-f4e5-61e837a7ecf6"
      },
      "outputs": [
        {
          "name": "stdout",
          "output_type": "stream",
          "text": [
            "/content/drive/.shortcut-targets-by-id/1fzUi9z3DVf4g3auSHypriI3sXmShzLpa/python-basico/scripts\n"
          ]
        }
      ],
      "source": [
        "%cd /content/drive/MyDrive/python-basico/scripts"
      ]
    },
    {
      "cell_type": "markdown",
      "metadata": {
        "id": "0hqsA_9JlD3X"
      },
      "source": [
        "Finalmente, importamos el módulo y accedemos a su función con la siguiente sintaxis"
      ]
    },
    {
      "cell_type": "code",
      "execution_count": null,
      "metadata": {
        "colab": {
          "base_uri": "https://localhost:8080/"
        },
        "id": "71zfa0OSlDHt",
        "outputId": "dca01818-7f40-471d-95c1-6f3a5f8ada73"
      },
      "outputs": [
        {
          "name": "stdout",
          "output_type": "stream",
          "text": [
            "Este módulo tiene 3 funciones: \n",
            "\t- la que muestra la descripción del módulo\n",
            "\t- la que suma los números que introduzcamos por parámetro\n",
            "\t- la que multiplica los números que introduzcamos por parámetro\n",
            "\n",
            "El resultado de la suma ha sido 55 y el del producto, 3628800\n"
          ]
        }
      ],
      "source": [
        "# importamos\n",
        "import Tema14_my_first_module\n",
        "\n",
        "# podemos usar los métodos\n",
        "Tema14_my_first_module.my_description()\n",
        "total_sum = Tema14_my_first_module.my_sum(1, 2, 3, 4, 5, 6, 7, 8, 9, 10)\n",
        "total_prod = Tema14_my_first_module.my_prod(1, 2, 3, 4, 5, 6, 7, 8, 9, 10)\n",
        "\n",
        "print(\"\\nEl resultado de la suma ha sido {} y el del producto, {}\".format(total_sum, total_prod))"
      ]
    },
    {
      "cell_type": "markdown",
      "metadata": {
        "id": "YocwP3O77mSw"
      },
      "source": [
        "#### Renombrando un módulo"
      ]
    },
    {
      "cell_type": "markdown",
      "metadata": {
        "id": "SKawaE_bltOV"
      },
      "source": [
        "Como recordaréis, cuando vimos por primera vez la palabra reservada `import`, si lo combinábamos con la palabra reservada `as`, conseguíamos renombrar el objeto que importábamos.\n",
        "\n",
        "En este caso, `my_first_module` es un nombre muy largo. Podemos renombrarlo a `mfm` con la siguiente línea de código, de modo que a partir de ahora cuando queramos invocar alguna función de nuestro módulo, en vez de preceder a cada función por `my_first_module`, lo haremos por `mfm`"
      ]
    },
    {
      "cell_type": "code",
      "execution_count": null,
      "metadata": {
        "colab": {
          "base_uri": "https://localhost:8080/"
        },
        "id": "Nu0SeK1OmL5A",
        "outputId": "56d3a4c5-f12f-4821-b1ed-a9cd449fc400"
      },
      "outputs": [
        {
          "name": "stdout",
          "output_type": "stream",
          "text": [
            "Este módulo tiene 3 funciones: \n",
            "\t- la que muestra la descripción del módulo\n",
            "\t- la que suma los números que introduzcamos por parámetro\n",
            "\t- la que multiplica los números que introduzcamos por parámetro\n",
            "\n",
            "El resultado de la suma ha sido 55 y el del producto, 3628800\n"
          ]
        }
      ],
      "source": [
        "# podemos usar 'as' para renombrar el modulo\n",
        "import Tema14_my_first_module as mfm\n",
        "\n",
        "mfm.my_description()\n",
        "total_sum = mfm.my_sum(1, 2, 3, 4, 5, 6, 7, 8, 9, 10)\n",
        "total_prod = mfm.my_prod(1, 2, 3, 4, 5, 6, 7, 8, 9, 10)\n",
        "\n",
        "print(\"\\nEl resultado de la suma ha sido {} y el del producto, {}\".format(total_sum, total_prod))"
      ]
    },
    {
      "cell_type": "markdown",
      "metadata": {
        "id": "-WKMBwrQ7peQ"
      },
      "source": [
        "#### Variables en un módulo"
      ]
    },
    {
      "cell_type": "markdown",
      "metadata": {
        "id": "otIuy90wmadn"
      },
      "source": [
        "Hasta ahora solo hemos visto como acceder a funciones de un módulo, pero los módulos también pueden contener variables. Añadamos a nuestro módulo las dos siguientes líneas de código:"
      ]
    },
    {
      "cell_type": "code",
      "execution_count": 11,
      "metadata": {
        "id": "U86IXur6mjZX"
      },
      "outputs": [
        {
          "ename": "NameError",
          "evalue": "name 'my_sum' is not defined",
          "output_type": "error",
          "traceback": [
            "\u001b[31m---------------------------------------------------------------------------\u001b[39m",
            "\u001b[31mNameError\u001b[39m                                 Traceback (most recent call last)",
            "\u001b[36mCell\u001b[39m\u001b[36m \u001b[39m\u001b[32mIn[11]\u001b[39m\u001b[32m, line 1\u001b[39m\n\u001b[32m----> \u001b[39m\u001b[32m1\u001b[39m sum1to10 = \u001b[43mmy_sum\u001b[49m(\u001b[32m1\u001b[39m, \u001b[32m2\u001b[39m, \u001b[32m3\u001b[39m, \u001b[32m4\u001b[39m, \u001b[32m5\u001b[39m, \u001b[32m6\u001b[39m, \u001b[32m7\u001b[39m, \u001b[32m8\u001b[39m, \u001b[32m9\u001b[39m, \u001b[32m10\u001b[39m)\n\u001b[32m      2\u001b[39m prod1to10 = my_prod(\u001b[32m1\u001b[39m, \u001b[32m2\u001b[39m, \u001b[32m3\u001b[39m, \u001b[32m4\u001b[39m, \u001b[32m5\u001b[39m, \u001b[32m6\u001b[39m, \u001b[32m7\u001b[39m, \u001b[32m8\u001b[39m, \u001b[32m9\u001b[39m, \u001b[32m10\u001b[39m)\n",
            "\u001b[31mNameError\u001b[39m: name 'my_sum' is not defined"
          ]
        }
      ],
      "source": [
        "sum1to10 = my_sum(1, 2, 3, 4, 5, 6, 7, 8, 9, 10)\n",
        "prod1to10 = my_prod(1, 2, 3, 4, 5, 6, 7, 8, 9, 10)"
      ]
    },
    {
      "cell_type": "markdown",
      "metadata": {
        "id": "0gZw-MRJmvfT"
      },
      "source": [
        "**¡Cuidado!** Recordad que si realizamos algún cambio en el script, no bastará con guardarlo y volver a importar el script. Habrá que reinciar el Kernel y volver a ejecutar todas las líneas de código anteriores: desde la vinculación de Google Drive a nuestro notebook hasta la importación del módulo."
      ]
    },
    {
      "cell_type": "markdown",
      "metadata": {
        "id": "rkI9oGj2nIhZ"
      },
      "source": [
        "Volvemos a importar el módulo, pues hemos reinciado el kernel. Esta vez, solamente vamos a acceder a esas dos nuevas variables: `sum1to10` y `prod1to10`. Y lo hacemos del siguiente modo"
      ]
    },
    {
      "cell_type": "code",
      "execution_count": null,
      "metadata": {
        "colab": {
          "base_uri": "https://localhost:8080/"
        },
        "id": "cZEvwJT4nXAX",
        "outputId": "c9b72be7-3202-4e93-e84e-d8fc71928902"
      },
      "outputs": [
        {
          "name": "stdout",
          "output_type": "stream",
          "text": [
            "\n",
            "El resultado de la suma de los 10 primeros números enteros es 55 y su producto, 3628800\n"
          ]
        }
      ],
      "source": [
        "import Tema14_my_first_module as mfm\n",
        "\n",
        "# usamos las variables del modulo\n",
        "print(\"\\nEl resultado de la suma de los 10 primeros números enteros es {} y su producto, {}\".\n",
        "      format(mfm.sum1to10, mfm.prod1to10))"
      ]
    },
    {
      "cell_type": "markdown",
      "metadata": {
        "id": "2iWwjJqdnusY"
      },
      "source": [
        "Si recordáis, cuando vimos la función `import`, observamos que no era necesario importar todo el módulo, sino que podíamos importar funciones o incluso variables concretas del módulo con la sintaxis siguiente, y así evitar tener que indicar el nombre del módulo previo al nombre de la función o la variable en cuestión"
      ]
    },
    {
      "cell_type": "code",
      "execution_count": null,
      "metadata": {
        "id": "5_6slXBOn9l0"
      },
      "outputs": [],
      "source": [
        "# solo importamos las variables\n",
        "from Tema14_my_first_module import sum1to10, prod1to10"
      ]
    },
    {
      "cell_type": "markdown",
      "metadata": {
        "id": "WZerIbbxoXSD"
      },
      "source": [
        "De modo que el `print` anterior queda modificado del siguiente modo"
      ]
    },
    {
      "cell_type": "code",
      "execution_count": null,
      "metadata": {
        "colab": {
          "base_uri": "https://localhost:8080/"
        },
        "id": "jdY-kueuobBu",
        "outputId": "1e38617d-5dae-4442-aed8-404671f2f9cd"
      },
      "outputs": [
        {
          "name": "stdout",
          "output_type": "stream",
          "text": [
            "\n",
            "El resultado de la suma de los 10 primeros números enteros es 55 y su producto, 3628800\n"
          ]
        }
      ],
      "source": [
        "# usamos las variables directamente\n",
        "print(\"\\nEl resultado de la suma de los 10 primeros números enteros es {} y su producto, {}\".\n",
        "      format(sum1to10, prod1to10))"
      ]
    },
    {
      "cell_type": "markdown",
      "metadata": {
        "id": "WjHyYJv3ohhY"
      },
      "source": [
        "Finalmente, así como podemos modificar el nombre de los módulos, también podemos modificar el nombre tanto de las funciones como de las variables del módulo:"
      ]
    },
    {
      "cell_type": "code",
      "execution_count": null,
      "metadata": {
        "colab": {
          "base_uri": "https://localhost:8080/"
        },
        "id": "GhE_XFFLoo1p",
        "outputId": "7afb7e0e-67c5-4c20-cdab-1b145102be94"
      },
      "outputs": [
        {
          "name": "stdout",
          "output_type": "stream",
          "text": [
            "Este módulo tiene 3 funciones: \n",
            "\t- la que muestra la descripción del módulo\n",
            "\t- la que suma los números que introduzcamos por parámetro\n",
            "\t- la que multiplica los números que introduzcamos por parámetro\n"
          ]
        }
      ],
      "source": [
        "from Tema14_my_first_module import my_description as mfm_desc\n",
        "mfm_desc()"
      ]
    },
    {
      "cell_type": "markdown",
      "metadata": {
        "id": "KC19WSnW7bBI"
      },
      "source": [
        "### Módulos de `Python`\n",
        "\n",
        "`Python` es un software libre que de por sí ya tiene muchos módulos creados que nos son de mucha utilidad:\n",
        "\n",
        "- `pandas` para trabajar con dataframes\n",
        "- `math` para trabajar con funciones y variables matemáticas\n",
        "- `numpy` para trabajar con elementos numérico\n",
        "- `matplotlib` para hacer representaciones gráficas\n",
        "\n",
        "¡Y muchos más!\n",
        "\n",
        "En secciones futuras veremos en detalle algunos de estos módulos para saber aprovecharlos al máximo."
      ]
    },
    {
      "cell_type": "markdown",
      "metadata": {
        "id": "wftq4uww7gRi"
      },
      "source": [
        "### La función `dir()`"
      ]
    },
    {
      "cell_type": "markdown",
      "metadata": {
        "id": "F6q54bF-pczl"
      },
      "source": [
        "La función `dir()` aplicada a un script nos devuelve los métodos y las variables que contiene.\n",
        "\n",
        "Si la aplicamos a nuestro módulo, al que recordad habíamos renombrado como `mfm`, lo que obtenemos es la siguiente lista de métodos y variables."
      ]
    },
    {
      "cell_type": "code",
      "execution_count": null,
      "metadata": {
        "colab": {
          "base_uri": "https://localhost:8080/"
        },
        "id": "jR0axygB7Kd4",
        "outputId": "97c0fb0d-576e-4bb1-b0de-1f3d7850dda2"
      },
      "outputs": [
        {
          "data": {
            "text/plain": [
              "['__builtins__',\n",
              " '__cached__',\n",
              " '__doc__',\n",
              " '__file__',\n",
              " '__loader__',\n",
              " '__name__',\n",
              " '__package__',\n",
              " '__spec__',\n",
              " 'my_description',\n",
              " 'my_prod',\n",
              " 'my_sum',\n",
              " 'prod1to10',\n",
              " 'sum1to10']"
            ]
          },
          "execution_count": 16,
          "metadata": {},
          "output_type": "execute_result"
        }
      ],
      "source": [
        "# métodos y variables que podemos usar\n",
        "dir(mfm)"
      ]
    },
    {
      "cell_type": "markdown",
      "metadata": {
        "id": "dkTKW3ANps5X"
      },
      "source": [
        "**Observación.** Como resultado no solamente hemos obtenido los métodos y las variables creados por nosotros, sino que se muestran algunos atributos extras como `.__file__`, que guarda el path donde está guardado el módulo, que son los que se han creado por defecto y a los cuales también podemos acceder:"
      ]
    },
    {
      "cell_type": "code",
      "execution_count": 17,
      "metadata": {
        "colab": {
          "base_uri": "https://localhost:8080/",
          "height": 37
        },
        "id": "0vPLbNMep7lh",
        "outputId": "3d7c92cf-543a-4b8c-eb72-a75a75b5c632"
      },
      "outputs": [
        {
          "data": {
            "text/plain": [
              "'c:\\\\Users\\\\favio\\\\OneDrive\\\\Desktop\\\\Cursos\\\\curso-python\\\\Tema14_my_first_module.py'"
            ]
          },
          "execution_count": 17,
          "metadata": {},
          "output_type": "execute_result"
        }
      ],
      "source": [
        "mfm.__file__"
      ]
    },
    {
      "cell_type": "markdown",
      "metadata": {},
      "source": [
        "# Ejercicio\n",
        "\n",
        "Vamos a crear un script llamado `geometry.py` y en él vamos a crear la clase `RegularPolygon`. \n",
        "\n",
        "* El constructor tomará 2 parámetros: \n",
        "    - `base`: longitud de la base\n",
        "    - `n`: número de lados\n",
        "* El método `.__str__()` mostrará \"Soy un polígono de {} lados de longitud {}\".\n",
        "* El método de instancia `.apothem()` calculará el apotema. Lo convertiremos en una propiedad.\n",
        "* El método de instancia `.area()` calculará el área del polígono. Lo convertiremos en una propiedad.\n",
        "* El método de instancia `.perimeter()` calculará el perímetro del polígono. Lo convertiremos en una propiedad."
      ]
    },
    {
      "cell_type": "code",
      "execution_count": null,
      "metadata": {},
      "outputs": [],
      "source": [
        "import math\n",
        "\n",
        "class RegularPolygon():\n",
        "    \n",
        "    def __init__(self, base, n = 3):\n",
        "        self.base = base\n",
        "        self.n = n\n",
        "        \n",
        "    def __str__(self):\n",
        "        return \"Soy un polígono regular de {} lados de longitud {}\".format(self.n, self.base)\n",
        "    \n",
        "    @property        \n",
        "    def apothem(self):\n",
        "        return self.base / (2 * round(math.tan(math.pi / self.n), 3))\n",
        "        \n",
        "    @property\n",
        "    def perimeter(self):\n",
        "        return self.n * self.base\n",
        "        \n",
        "    @property\n",
        "    def area(self):\n",
        "        return self.apothem * self.perimeter / 2"
      ]
    },
    {
      "cell_type": "markdown",
      "metadata": {},
      "source": [
        "# Ejercicio\n",
        "\n",
        "Vamos a crear las clases `Triangle`, `Square` y `Pentagon`, que hereden de la clase `RegularPolygon`. Solamente cambiaremos el constructor."
      ]
    },
    {
      "cell_type": "code",
      "execution_count": null,
      "metadata": {},
      "outputs": [],
      "source": [
        "# debemos usar la clase del ejercicio anterior\n",
        "class Triangle(RegularPolygon):\n",
        "    def __init__(self, base):\n",
        "        super().__init__(base, 3)\n",
        "    \n",
        "    \n",
        "class Square(RegularPolygon):\n",
        "    def __init__(self, base):\n",
        "        super().__init__(base, 4)\n",
        "    \n",
        "    \n",
        "class Pentagon(RegularPolygon):\n",
        "    def __init__(self, base):\n",
        "        super().__init__(base, 5)"
      ]
    },
    {
      "cell_type": "markdown",
      "metadata": {},
      "source": [
        "# Ejercicio\n",
        "\n",
        "Vamos a crear las clases `Tetrahedron` y `Cube`. La primera hereda de la clase `Triangle` y la segunda, de la clase `Square`. A ambas clases les vamos a añadir el método `.volume()`, que convertiremos en ambos casos a propiedad. También tendremos que modificar ligeramente la propiedad `.area` y el método `.__str__()`."
      ]
    },
    {
      "cell_type": "code",
      "execution_count": null,
      "metadata": {},
      "outputs": [],
      "source": [
        "class Tetrahedron(Triangle):\n",
        "    def __str__(self):\n",
        "        return \"Soy un tetraedro con lados de longitud {}\".format(self.base)\n",
        "        \n",
        "    @property    \n",
        "    def area(self):\n",
        "        return 4 * super().area\n",
        "        \n",
        "    @property\n",
        "    def volume(self):\n",
        "        return math.sqrt(2) / 12 * (self.base ** 3)\n",
        "        \n",
        "\n",
        "class Cube(Square):\n",
        "    def __str__(self):\n",
        "        return \"Soy un cubo con lados de longitud {}\".format(self.base)\n",
        "        \n",
        "    @property\n",
        "    def area(self):\n",
        "        return 6 * super().area\n",
        "        \n",
        "    @property\n",
        "    def volume(self): \n",
        "        return super().area * self.base"
      ]
    },
    {
      "cell_type": "markdown",
      "metadata": {},
      "source": [
        "# Ejercicio\n",
        "\n",
        "Vamos a crear la clase `Circle` que por parámetro tome el radio `r` y tenga 4 métodos: el constructor y las propiedad `.diameter()`, `.perimeter()` y `.area()`.\n",
        "\n",
        "Finalmente vamos a crear la clase `Cylinder` que herede de `Circle` y `Square`. Vamos a modificar la propiedad `.area()` y crear la propiedad `.volume()`."
      ]
    },
    {
      "cell_type": "code",
      "execution_count": null,
      "metadata": {},
      "outputs": [],
      "source": [
        "from google.colab import drive\n",
        "drive.mount('/content/drive')\n",
        "%cd /content/drive/MyDrive/python-basico/ejercicios/scripts/"
      ]
    },
    {
      "cell_type": "code",
      "execution_count": null,
      "metadata": {},
      "outputs": [],
      "source": [
        "# creamos el archivo geometry.py e importamos\n",
        "from geometry import * # importamos todas sus clases, variables y métodos"
      ]
    },
    {
      "cell_type": "code",
      "execution_count": null,
      "metadata": {},
      "outputs": [],
      "source": [
        "s = RegularPolygon(2, 4)\n",
        "print(s)"
      ]
    },
    {
      "cell_type": "code",
      "execution_count": null,
      "metadata": {},
      "outputs": [],
      "source": [
        "square = Square(2)\n",
        "print(square)"
      ]
    },
    {
      "cell_type": "code",
      "execution_count": null,
      "metadata": {},
      "outputs": [],
      "source": [
        "print(s.perimeter)\n",
        "print(square.perimeter)\n",
        "\n",
        "print(s.area)\n",
        "print(square.area)\n",
        "\n",
        "cube = Cube(2)\n",
        "print(cube)\n",
        "\n",
        "print(cube.area)\n",
        "\n",
        "print(cube.volume)\n",
        "\n",
        "c = Cylinder(1)\n",
        "\n",
        "print(c.diameter)\n",
        "\n",
        "print(c.area)"
      ]
    }
  ],
  "metadata": {
    "colab": {
      "provenance": []
    },
    "kernelspec": {
      "display_name": "Python 3",
      "name": "python3"
    },
    "language_info": {
      "codemirror_mode": {
        "name": "ipython",
        "version": 3
      },
      "file_extension": ".py",
      "mimetype": "text/x-python",
      "name": "python",
      "nbconvert_exporter": "python",
      "pygments_lexer": "ipython3",
      "version": "3.13.3"
    }
  },
  "nbformat": 4,
  "nbformat_minor": 0
}
