{
 "cells": [
  {
   "cell_type": "markdown",
   "id": "81185167",
   "metadata": {},
   "source": [
    "# 1. ¿Qué es `datetime`?\n",
    "\n",
    "`datetime` es el módulo estándar de Python para representar y manipular fechas y horas. Contiene varias clases principales:\n",
    "\n",
    "* `date` — fecha (año, mes, día).\n",
    "* `time` — hora del día (hora, minuto, segundo, microsegundo).\n",
    "* `datetime` — combinación fecha + hora (la más usada).\n",
    "* `timedelta` — diferencia entre dos fechas/horas (duración).\n",
    "* `timezone` / `tzinfo` — soporte básico para zonas horarias.\n",
    "* `zoneinfo.ZoneInfo` — zona horaria basada en IANA (Python 3.9+).\n"
   ]
  },
  {
   "cell_type": "markdown",
   "id": "20597bc9",
   "metadata": {},
   "source": [
    "# 2. Import y creación básica"
   ]
  },
  {
   "cell_type": "code",
   "execution_count": 2,
   "id": "d2155923",
   "metadata": {},
   "outputs": [],
   "source": [
    "import datetime\n",
    "from datetime import date, time, datetime, timedelta, timezone\n",
    "from zoneinfo import ZoneInfo  # Python 3.9+"
   ]
  },
  {
   "cell_type": "code",
   "execution_count": 3,
   "id": "0531220d",
   "metadata": {},
   "outputs": [
    {
     "data": {
      "text/plain": [
       "['__add__',\n",
       " '__class__',\n",
       " '__delattr__',\n",
       " '__dir__',\n",
       " '__doc__',\n",
       " '__eq__',\n",
       " '__format__',\n",
       " '__ge__',\n",
       " '__getattribute__',\n",
       " '__getstate__',\n",
       " '__gt__',\n",
       " '__hash__',\n",
       " '__init__',\n",
       " '__init_subclass__',\n",
       " '__le__',\n",
       " '__lt__',\n",
       " '__ne__',\n",
       " '__new__',\n",
       " '__radd__',\n",
       " '__reduce__',\n",
       " '__reduce_ex__',\n",
       " '__replace__',\n",
       " '__repr__',\n",
       " '__rsub__',\n",
       " '__setattr__',\n",
       " '__sizeof__',\n",
       " '__str__',\n",
       " '__sub__',\n",
       " '__subclasshook__',\n",
       " 'astimezone',\n",
       " 'combine',\n",
       " 'ctime',\n",
       " 'date',\n",
       " 'day',\n",
       " 'dst',\n",
       " 'fold',\n",
       " 'fromisocalendar',\n",
       " 'fromisoformat',\n",
       " 'fromordinal',\n",
       " 'fromtimestamp',\n",
       " 'hour',\n",
       " 'isocalendar',\n",
       " 'isoformat',\n",
       " 'isoweekday',\n",
       " 'max',\n",
       " 'microsecond',\n",
       " 'min',\n",
       " 'minute',\n",
       " 'month',\n",
       " 'now',\n",
       " 'replace',\n",
       " 'resolution',\n",
       " 'second',\n",
       " 'strftime',\n",
       " 'strptime',\n",
       " 'time',\n",
       " 'timestamp',\n",
       " 'timetuple',\n",
       " 'timetz',\n",
       " 'today',\n",
       " 'toordinal',\n",
       " 'tzinfo',\n",
       " 'tzname',\n",
       " 'utcfromtimestamp',\n",
       " 'utcnow',\n",
       " 'utcoffset',\n",
       " 'utctimetuple',\n",
       " 'weekday',\n",
       " 'year']"
      ]
     },
     "execution_count": 3,
     "metadata": {},
     "output_type": "execute_result"
    }
   ],
   "source": [
    "dir(datetime)"
   ]
  },
  {
   "cell_type": "markdown",
   "id": "3a860103",
   "metadata": {},
   "source": [
    "Crear objetos:"
   ]
  },
  {
   "cell_type": "code",
   "execution_count": 4,
   "id": "23c87074",
   "metadata": {},
   "outputs": [
    {
     "name": "stdout",
     "output_type": "stream",
     "text": [
      "2025-09-13 21:11:50.428820+00:00\n"
     ]
    }
   ],
   "source": [
    "# Fecha\n",
    "d = date(2023, 3, 14)\n",
    "\n",
    "# Hora\n",
    "t = time(15, 30, 45, 123456)\n",
    "\n",
    "# Fecha y hora (naive: sin tzinfo)\n",
    "dt = datetime(2023, 3, 14, 15, 30, 45)\n",
    "\n",
    "# Ahora (naive, local del sistema)\n",
    "now_naive = datetime.now()\n",
    "\n",
    "# Ahora en UTC (aware)\n",
    "now_utc = datetime.now(timezone.utc)\n",
    "print(now_utc)\n",
    "\n",
    "# Ahora en una zona (ej. America/Lima)\n",
    "# now_lima = datetime.now(ZoneInfo(\"\"))"
   ]
  },
  {
   "cell_type": "code",
   "execution_count": 6,
   "id": "abf32bdb",
   "metadata": {},
   "outputs": [
    {
     "name": "stdout",
     "output_type": "stream",
     "text": [
      "14\n",
      "30\n",
      "3\n",
      "2023\n"
     ]
    }
   ],
   "source": [
    "print(dt.day)\n",
    "print(dt.minute)\n",
    "print(dt.month)\n",
    "print(dt.year)"
   ]
  },
  {
   "cell_type": "code",
   "execution_count": 6,
   "id": "fec9bbb6",
   "metadata": {},
   "outputs": [
    {
     "name": "stdout",
     "output_type": "stream",
     "text": [
      "2023-03-14\n",
      "15:30:45\n"
     ]
    }
   ],
   "source": [
    "print(dt.date())\n",
    "print(dt.time())"
   ]
  },
  {
   "cell_type": "code",
   "execution_count": 8,
   "id": "fe0eb3fc",
   "metadata": {},
   "outputs": [
    {
     "data": {
      "text/plain": [
       "datetime.datetime(2024, 1, 14, 15, 30, 45)"
      ]
     },
     "execution_count": 8,
     "metadata": {},
     "output_type": "execute_result"
    }
   ],
   "source": [
    "dt = dt.replace(year=2024, month=1)\n",
    "dt"
   ]
  },
  {
   "cell_type": "markdown",
   "id": "dfa29d0e",
   "metadata": {},
   "source": [
    "Diferencia de Fechas"
   ]
  },
  {
   "cell_type": "code",
   "execution_count": null,
   "id": "c3cbacc8",
   "metadata": {},
   "outputs": [
    {
     "name": "stdout",
     "output_type": "stream",
     "text": [
      "607\n",
      "52473607.670684\n",
      "28807\n",
      "607 days, 8:00:07.670684\n"
     ]
    }
   ],
   "source": [
    "tiempo = datetime.now() - dt\n",
    "print(tiempo.days)\n",
    "print(tiempo.total_seconds()) # esto incluye los segundos de los dias, es decir, si son 2 dias y 3 horas, incluye los segundos de los 2 dias mas los 3 horas\n",
    "print(tiempo.seconds) # esto solo los segundos del dia actual, es decir, si son 2 dias y 3 horas, solo incluye los segundos de las 3 horas\n",
    "print(tiempo)"
   ]
  },
  {
   "cell_type": "markdown",
   "id": "a68bac30",
   "metadata": {},
   "source": [
    "## Timedelta\n",
    "\n",
    "En Python, timedelta es un objeto del módulo datetime que representa una duración de tiempo o la diferencia entre dos puntos de tiempo (fechas u horas). Se utiliza para realizar operaciones aritméticas con fechas y horas, permitiendo sumar o restar duraciones como días, horas o segundos. "
   ]
  },
  {
   "cell_type": "code",
   "execution_count": null,
   "id": "2cb018ca",
   "metadata": {},
   "outputs": [],
   "source": [
    "from datetime import timedelta\n",
    "\n",
    "# Un delta de 5 días\n",
    "delta_dias = timedelta(days=5)\n",
    "print(delta_dias) # Salida: 5 days, 0:00:00\n",
    "\n",
    "# Un delta de 3 horas y 30 minutos\n",
    "delta_tiempo = timedelta(hours=3, minutes=30)\n",
    "print(delta_tiempo) # Salida: 3:30:00"
   ]
  },
  {
   "cell_type": "markdown",
   "id": "0723a93b",
   "metadata": {},
   "source": [
    "Realiza operaciones con datetime: Puedes sumar o restar timedelta de objetos datetime. "
   ]
  },
  {
   "cell_type": "code",
   "execution_count": null,
   "id": "e62de418",
   "metadata": {},
   "outputs": [],
   "source": [
    "ahora = datetime.now()\n",
    "futuro = ahora + timedelta(days=10)\n",
    "print(f\"La fecha y hora actuales: {ahora}\")\n",
    "print(f\"Será en 10 días: {futuro}\")"
   ]
  },
  {
   "cell_type": "markdown",
   "id": "ffcde117",
   "metadata": {},
   "source": [
    "Operaciones aritméticas: Los objetos timedelta pueden ser positivos o negativos y admiten operaciones como suma, resta, multiplicación y división con otros timedelta o con números. "
   ]
  },
  {
   "cell_type": "code",
   "execution_count": null,
   "id": "5ca4507f",
   "metadata": {},
   "outputs": [],
   "source": [
    "delta1 = timedelta(days=2, hours=1)\n",
    "delta2 = timedelta(days=1)\n",
    "print(delta1 + delta2) # Salida: 3 days, 1:00:00\n",
    "print(delta1 - delta2) # Salida: 1 day, 1:00:00"
   ]
  },
  {
   "cell_type": "markdown",
   "id": "e8ff1ea8",
   "metadata": {},
   "source": [
    "## now y today\n",
    "Now le podemos pasar una zona horaria, pero a today no."
   ]
  },
  {
   "cell_type": "code",
   "execution_count": null,
   "id": "c8042ef3",
   "metadata": {},
   "outputs": [
    {
     "name": "stdout",
     "output_type": "stream",
     "text": [
      "2025-09-13 16:15:01.579373\n",
      "2025-09-13 16:15:01.579390\n"
     ]
    }
   ],
   "source": [
    "now = datetime.now(); # naive, local del sistema, puede recibir timezone\n",
    "today = datetime.today();\n",
    "print(now)\n",
    "print(today)"
   ]
  },
  {
   "cell_type": "code",
   "execution_count": null,
   "id": "1f847517",
   "metadata": {},
   "outputs": [
    {
     "name": "stdout",
     "output_type": "stream",
     "text": [
      "2025-09-13 00:00:00\n"
     ]
    }
   ],
   "source": [
    "time(0,0) # con esto creamos una hora a las 00:00, se establece la hora en 0, los minutos en 0 y los segundos en 0\n",
    "fecha_hoy = datetime.combine(datetime.today(), time())\n",
    "print(fecha_hoy)"
   ]
  },
  {
   "cell_type": "markdown",
   "id": "24513f6b",
   "metadata": {},
   "source": [
    "# 3. Naive vs Aware (importante)\n",
    "\n",
    "* **Naive**: no llevan información de zona (`tzinfo=None`).\n",
    "* **Aware**: incluyen `tzinfo` y representan un instante absoluto.\n",
    "\n",
    "**Regla útil:** para aplicaciones reales (logs, APIs, bases de datos) trabaja en **UTC aware** internamente y convierte a zonas locales solo para mostrar.\n",
    "\n",
    "Evita mezclar naive y aware en operaciones (generará `TypeError`)."
   ]
  },
  {
   "cell_type": "markdown",
   "id": "4fbb380e",
   "metadata": {},
   "source": [
    "# 4. Formateo y parseo (`strftime` / `strptime` / ISO)\n",
    "\n",
    "### Formatear (datetime → string)"
   ]
  },
  {
   "cell_type": "code",
   "execution_count": 14,
   "id": "94854175",
   "metadata": {},
   "outputs": [
    {
     "name": "stdout",
     "output_type": "stream",
     "text": [
      "March 14, 2023\n"
     ]
    }
   ],
   "source": [
    "dt = datetime(2023, 3, 14, 15, 9, 26)\n",
    "# strftime formateamos como se mostrará la fecha\n",
    "s = dt.strftime(\"%Y-%m-%d %H:%M:%S\")  # '2023-03-14 15:09:26'\n",
    "s = dt.strftime(\"%B %d, %Y\")  # '14/03/2023 03:09 PM'\n",
    "print(s)"
   ]
  },
  {
   "cell_type": "markdown",
   "id": "6d3a099f",
   "metadata": {},
   "source": [
    "Algunos tokens comunes:\n",
    "\n",
    "* `%Y` año 4 dígitos, `%m` mes, `%d` día\n",
    "* `%H` hora (00-23), `%M` minutos, `%S` segundos\n",
    "* `%f` microsegundos, `%z` offset +HHMM, `%Z` zona\n",
    "\n",
    "Documentación completa: https://strftime.org/"
   ]
  },
  {
   "cell_type": "markdown",
   "id": "85613637",
   "metadata": {},
   "source": [
    "### Parsear (string → datetime)"
   ]
  },
  {
   "cell_type": "code",
   "execution_count": null,
   "id": "0b3fadb4",
   "metadata": {},
   "outputs": [
    {
     "name": "stdout",
     "output_type": "stream",
     "text": [
      "2023-03-14 15:09:26\n"
     ]
    }
   ],
   "source": [
    "# strptime parseamos una cadena a un objeto datetime\n",
    "s = \"2023-03-14 15:09:26\"\n",
    "dt = datetime.strptime(s, \"%Y-%m-%d %H:%M:%S\")\n",
    "print(dt)"
   ]
  },
  {
   "cell_type": "markdown",
   "id": "3d817250",
   "metadata": {},
   "source": [
    "### ISO 8601"
   ]
  },
  {
   "cell_type": "code",
   "execution_count": null,
   "id": "84693d23",
   "metadata": {},
   "outputs": [],
   "source": [
    "dt.isoformat()              # '2023-03-14T15:09:26'\n",
    "datetime.fromisoformat(\"2023-03-14T15:09:26\")\n",
    "# Nota: fromisoformat no acepta 'Z' (indicador UTC) directamente:\n",
    "iso_z = \"2023-03-14T15:09:26Z\"\n",
    "dt = datetime.fromisoformat(iso_z.replace(\"Z\", \"+00:00\"))"
   ]
  },
  {
   "cell_type": "markdown",
   "id": "c6ae81b5",
   "metadata": {},
   "source": [
    "Para parseos más flexibles usa `python-dateutil` (`dateutil.parser.parse`)."
   ]
  },
  {
   "cell_type": "markdown",
   "id": "ac6898d5",
   "metadata": {},
   "source": [
    "# 5. Aritmética con `timedelta`\n",
    "\n",
    "`timedelta` representa duraciones. Soporta días, segundos, microsegundos, milisegundos, minutes, hours, weeks."
   ]
  },
  {
   "cell_type": "code",
   "execution_count": null,
   "id": "7d5d1c77",
   "metadata": {},
   "outputs": [],
   "source": [
    "from datetime import timedelta\n",
    "\n",
    "dt = datetime(2023, 3, 14, 15, 0)\n",
    "dt_plus = dt + timedelta(days=5, hours=3)   # suma\n",
    "dt_minus = dt - timedelta(weeks=1)          # resta\n",
    "\n",
    "delta = dt_plus - dt\n",
    "delta.days           # número de días\n",
    "delta.total_seconds()  # total segundos"
   ]
  },
  {
   "cell_type": "markdown",
   "id": "f1480733",
   "metadata": {},
   "source": [
    "**Advertencia:** `timedelta` no tiene meses ni años (varían en longitud). Para sumar meses/años usa `dateutil.relativedelta.relativedelta`:"
   ]
  },
  {
   "cell_type": "code",
   "execution_count": null,
   "id": "056d6b60",
   "metadata": {},
   "outputs": [],
   "source": [
    "from dateutil.relativedelta import relativedelta\n",
    "dt_next_month = dt + relativedelta(months=1)"
   ]
  },
  {
   "cell_type": "markdown",
   "id": "dac99cb1",
   "metadata": {},
   "source": [
    "# 6. Zonas horarias con `zoneinfo` (Python 3.9+) — ejemplos prácticos"
   ]
  },
  {
   "cell_type": "code",
   "execution_count": null,
   "id": "daa44925",
   "metadata": {},
   "outputs": [
    {
     "data": {
      "text/plain": [
       "datetime.timezone(datetime.timedelta(days=-1, seconds=68400))"
      ]
     },
     "execution_count": 22,
     "metadata": {},
     "output_type": "execute_result"
    }
   ],
   "source": [
    "central_time = timezone(timedelta(hours=-5))\n",
    "central_time\n",
    "pacific_time = timezone(timedelta(hours=-8))"
   ]
  },
  {
   "cell_type": "code",
   "execution_count": 23,
   "id": "c3ec8fa9",
   "metadata": {},
   "outputs": [
    {
     "data": {
      "text/plain": [
       "datetime.datetime(2023, 3, 14, 12, 0, tzinfo=datetime.timezone(datetime.timedelta(days=-1, seconds=68400)))"
      ]
     },
     "execution_count": 23,
     "metadata": {},
     "output_type": "execute_result"
    }
   ],
   "source": [
    "dt_lima = datetime(2023, 3, 14, 12, 0, tzinfo=central_time)\n",
    "dt_lima"
   ]
  },
  {
   "cell_type": "code",
   "execution_count": 24,
   "id": "be512069",
   "metadata": {},
   "outputs": [
    {
     "name": "stdout",
     "output_type": "stream",
     "text": [
      "2023-03-14 12:00:00-05:00\n"
     ]
    }
   ],
   "source": [
    "print(dt_lima)"
   ]
  },
  {
   "cell_type": "code",
   "execution_count": 17,
   "id": "9c8400bb",
   "metadata": {},
   "outputs": [
    {
     "ename": "ZoneInfoNotFoundError",
     "evalue": "'No time zone found with key Buenos_Aires'",
     "output_type": "error",
     "traceback": [
      "\u001b[31m---------------------------------------------------------------------------\u001b[39m",
      "\u001b[31mModuleNotFoundError\u001b[39m                       Traceback (most recent call last)",
      "\u001b[36mFile \u001b[39m\u001b[32mc:\\Users\\favio\\AppData\\Local\\Programs\\Python\\Python313\\Lib\\zoneinfo\\_common.py:12\u001b[39m, in \u001b[36mload_tzdata\u001b[39m\u001b[34m(key)\u001b[39m\n\u001b[32m     11\u001b[39m \u001b[38;5;28;01mtry\u001b[39;00m:\n\u001b[32m---> \u001b[39m\u001b[32m12\u001b[39m     \u001b[38;5;28;01mreturn\u001b[39;00m \u001b[43mresources\u001b[49m\u001b[43m.\u001b[49m\u001b[43mfiles\u001b[49m\u001b[43m(\u001b[49m\u001b[43mpackage_name\u001b[49m\u001b[43m)\u001b[49m.joinpath(resource_name).open(\u001b[33m\"\u001b[39m\u001b[33mrb\u001b[39m\u001b[33m\"\u001b[39m)\n\u001b[32m     13\u001b[39m \u001b[38;5;28;01mexcept\u001b[39;00m (\u001b[38;5;167;01mImportError\u001b[39;00m, \u001b[38;5;167;01mFileNotFoundError\u001b[39;00m, \u001b[38;5;167;01mUnicodeEncodeError\u001b[39;00m):\n\u001b[32m     14\u001b[39m     \u001b[38;5;66;03m# There are three types of exception that can be raised that all amount\u001b[39;00m\n\u001b[32m     15\u001b[39m     \u001b[38;5;66;03m# to \"we cannot find this key\":\u001b[39;00m\n\u001b[32m   (...)\u001b[39m\u001b[32m     22\u001b[39m     \u001b[38;5;66;03m# UnicodeEncodeError: If package_name or resource_name are not UTF-8,\u001b[39;00m\n\u001b[32m     23\u001b[39m     \u001b[38;5;66;03m#   such as keys containing a surrogate character.\u001b[39;00m\n",
      "\u001b[36mFile \u001b[39m\u001b[32mc:\\Users\\favio\\AppData\\Local\\Programs\\Python\\Python313\\Lib\\importlib\\resources\\_common.py:46\u001b[39m, in \u001b[36mpackage_to_anchor.<locals>.wrapper\u001b[39m\u001b[34m(anchor, package)\u001b[39m\n\u001b[32m     45\u001b[39m     \u001b[38;5;28;01mreturn\u001b[39;00m func()\n\u001b[32m---> \u001b[39m\u001b[32m46\u001b[39m \u001b[38;5;28;01mreturn\u001b[39;00m \u001b[43mfunc\u001b[49m\u001b[43m(\u001b[49m\u001b[43manchor\u001b[49m\u001b[43m)\u001b[49m\n",
      "\u001b[36mFile \u001b[39m\u001b[32mc:\\Users\\favio\\AppData\\Local\\Programs\\Python\\Python313\\Lib\\importlib\\resources\\_common.py:56\u001b[39m, in \u001b[36mfiles\u001b[39m\u001b[34m(anchor)\u001b[39m\n\u001b[32m     53\u001b[39m \u001b[38;5;250m\u001b[39m\u001b[33;03m\"\"\"\u001b[39;00m\n\u001b[32m     54\u001b[39m \u001b[33;03mGet a Traversable resource for an anchor.\u001b[39;00m\n\u001b[32m     55\u001b[39m \u001b[33;03m\"\"\"\u001b[39;00m\n\u001b[32m---> \u001b[39m\u001b[32m56\u001b[39m \u001b[38;5;28;01mreturn\u001b[39;00m from_package(\u001b[43mresolve\u001b[49m\u001b[43m(\u001b[49m\u001b[43manchor\u001b[49m\u001b[43m)\u001b[49m)\n",
      "\u001b[36mFile \u001b[39m\u001b[32mc:\\Users\\favio\\AppData\\Local\\Programs\\Python\\Python313\\Lib\\functools.py:934\u001b[39m, in \u001b[36msingledispatch.<locals>.wrapper\u001b[39m\u001b[34m(*args, **kw)\u001b[39m\n\u001b[32m    932\u001b[39m     \u001b[38;5;28;01mraise\u001b[39;00m \u001b[38;5;167;01mTypeError\u001b[39;00m(\u001b[33mf\u001b[39m\u001b[33m'\u001b[39m\u001b[38;5;132;01m{\u001b[39;00mfuncname\u001b[38;5;132;01m}\u001b[39;00m\u001b[33m requires at least \u001b[39m\u001b[33m'\u001b[39m\n\u001b[32m    933\u001b[39m                     \u001b[33m'\u001b[39m\u001b[33m1 positional argument\u001b[39m\u001b[33m'\u001b[39m)\n\u001b[32m--> \u001b[39m\u001b[32m934\u001b[39m \u001b[38;5;28;01mreturn\u001b[39;00m \u001b[43mdispatch\u001b[49m\u001b[43m(\u001b[49m\u001b[43margs\u001b[49m\u001b[43m[\u001b[49m\u001b[32;43m0\u001b[39;49m\u001b[43m]\u001b[49m\u001b[43m.\u001b[49m\u001b[34;43m__class__\u001b[39;49m\u001b[43m)\u001b[49m\u001b[43m(\u001b[49m\u001b[43m*\u001b[49m\u001b[43margs\u001b[49m\u001b[43m,\u001b[49m\u001b[43m \u001b[49m\u001b[43m*\u001b[49m\u001b[43m*\u001b[49m\u001b[43mkw\u001b[49m\u001b[43m)\u001b[49m\n",
      "\u001b[36mFile \u001b[39m\u001b[32mc:\\Users\\favio\\AppData\\Local\\Programs\\Python\\Python313\\Lib\\importlib\\resources\\_common.py:82\u001b[39m, in \u001b[36m_\u001b[39m\u001b[34m(cand)\u001b[39m\n\u001b[32m     80\u001b[39m \u001b[38;5;129m@resolve\u001b[39m.register\n\u001b[32m     81\u001b[39m \u001b[38;5;28;01mdef\u001b[39;00m\u001b[38;5;250m \u001b[39m\u001b[34m_\u001b[39m(cand: \u001b[38;5;28mstr\u001b[39m) -> types.ModuleType:\n\u001b[32m---> \u001b[39m\u001b[32m82\u001b[39m     \u001b[38;5;28;01mreturn\u001b[39;00m \u001b[43mimportlib\u001b[49m\u001b[43m.\u001b[49m\u001b[43mimport_module\u001b[49m\u001b[43m(\u001b[49m\u001b[43mcand\u001b[49m\u001b[43m)\u001b[49m\n",
      "\u001b[36mFile \u001b[39m\u001b[32mc:\\Users\\favio\\AppData\\Local\\Programs\\Python\\Python313\\Lib\\importlib\\__init__.py:88\u001b[39m, in \u001b[36mimport_module\u001b[39m\u001b[34m(name, package)\u001b[39m\n\u001b[32m     87\u001b[39m         level += \u001b[32m1\u001b[39m\n\u001b[32m---> \u001b[39m\u001b[32m88\u001b[39m \u001b[38;5;28;01mreturn\u001b[39;00m \u001b[43m_bootstrap\u001b[49m\u001b[43m.\u001b[49m\u001b[43m_gcd_import\u001b[49m\u001b[43m(\u001b[49m\u001b[43mname\u001b[49m\u001b[43m[\u001b[49m\u001b[43mlevel\u001b[49m\u001b[43m:\u001b[49m\u001b[43m]\u001b[49m\u001b[43m,\u001b[49m\u001b[43m \u001b[49m\u001b[43mpackage\u001b[49m\u001b[43m,\u001b[49m\u001b[43m \u001b[49m\u001b[43mlevel\u001b[49m\u001b[43m)\u001b[49m\n",
      "\u001b[36mFile \u001b[39m\u001b[32m<frozen importlib._bootstrap>:1387\u001b[39m, in \u001b[36m_gcd_import\u001b[39m\u001b[34m(name, package, level)\u001b[39m\n",
      "\u001b[36mFile \u001b[39m\u001b[32m<frozen importlib._bootstrap>:1360\u001b[39m, in \u001b[36m_find_and_load\u001b[39m\u001b[34m(name, import_)\u001b[39m\n",
      "\u001b[36mFile \u001b[39m\u001b[32m<frozen importlib._bootstrap>:1310\u001b[39m, in \u001b[36m_find_and_load_unlocked\u001b[39m\u001b[34m(name, import_)\u001b[39m\n",
      "\u001b[36mFile \u001b[39m\u001b[32m<frozen importlib._bootstrap>:488\u001b[39m, in \u001b[36m_call_with_frames_removed\u001b[39m\u001b[34m(f, *args, **kwds)\u001b[39m\n",
      "\u001b[36mFile \u001b[39m\u001b[32m<frozen importlib._bootstrap>:1387\u001b[39m, in \u001b[36m_gcd_import\u001b[39m\u001b[34m(name, package, level)\u001b[39m\n",
      "\u001b[36mFile \u001b[39m\u001b[32m<frozen importlib._bootstrap>:1360\u001b[39m, in \u001b[36m_find_and_load\u001b[39m\u001b[34m(name, import_)\u001b[39m\n",
      "\u001b[36mFile \u001b[39m\u001b[32m<frozen importlib._bootstrap>:1324\u001b[39m, in \u001b[36m_find_and_load_unlocked\u001b[39m\u001b[34m(name, import_)\u001b[39m\n",
      "\u001b[31mModuleNotFoundError\u001b[39m: No module named 'tzdata'",
      "\nDuring handling of the above exception, another exception occurred:\n",
      "\u001b[31mZoneInfoNotFoundError\u001b[39m                     Traceback (most recent call last)",
      "\u001b[36mCell\u001b[39m\u001b[36m \u001b[39m\u001b[32mIn[17]\u001b[39m\u001b[32m, line 5\u001b[39m\n\u001b[32m      2\u001b[39m \u001b[38;5;28;01mfrom\u001b[39;00m\u001b[38;5;250m \u001b[39m\u001b[34;01mdatetime\u001b[39;00m\u001b[38;5;250m \u001b[39m\u001b[38;5;28;01mimport\u001b[39;00m datetime, timezone\n\u001b[32m      4\u001b[39m \u001b[38;5;66;03m# Crear aware datetime en zona específica\u001b[39;00m\n\u001b[32m----> \u001b[39m\u001b[32m5\u001b[39m dt_lima = datetime(\u001b[32m2023\u001b[39m, \u001b[32m3\u001b[39m, \u001b[32m14\u001b[39m, \u001b[32m12\u001b[39m, \u001b[32m0\u001b[39m, tzinfo=\u001b[43mZoneInfo\u001b[49m\u001b[43m(\u001b[49m\u001b[33;43m\"\u001b[39;49m\u001b[33;43mBuenos_Aires\u001b[39;49m\u001b[33;43m\"\u001b[39;49m\u001b[43m)\u001b[49m)\n\u001b[32m      7\u001b[39m \u001b[38;5;66;03m# Obtener UTC y convertir\u001b[39;00m\n\u001b[32m      8\u001b[39m dt_utc = datetime.now(timezone.utc)\n",
      "\u001b[36mFile \u001b[39m\u001b[32mc:\\Users\\favio\\AppData\\Local\\Programs\\Python\\Python313\\Lib\\zoneinfo\\_common.py:24\u001b[39m, in \u001b[36mload_tzdata\u001b[39m\u001b[34m(key)\u001b[39m\n\u001b[32m     12\u001b[39m     \u001b[38;5;28;01mreturn\u001b[39;00m resources.files(package_name).joinpath(resource_name).open(\u001b[33m\"\u001b[39m\u001b[33mrb\u001b[39m\u001b[33m\"\u001b[39m)\n\u001b[32m     13\u001b[39m \u001b[38;5;28;01mexcept\u001b[39;00m (\u001b[38;5;167;01mImportError\u001b[39;00m, \u001b[38;5;167;01mFileNotFoundError\u001b[39;00m, \u001b[38;5;167;01mUnicodeEncodeError\u001b[39;00m):\n\u001b[32m     14\u001b[39m     \u001b[38;5;66;03m# There are three types of exception that can be raised that all amount\u001b[39;00m\n\u001b[32m     15\u001b[39m     \u001b[38;5;66;03m# to \"we cannot find this key\":\u001b[39;00m\n\u001b[32m   (...)\u001b[39m\u001b[32m     22\u001b[39m     \u001b[38;5;66;03m# UnicodeEncodeError: If package_name or resource_name are not UTF-8,\u001b[39;00m\n\u001b[32m     23\u001b[39m     \u001b[38;5;66;03m#   such as keys containing a surrogate character.\u001b[39;00m\n\u001b[32m---> \u001b[39m\u001b[32m24\u001b[39m     \u001b[38;5;28;01mraise\u001b[39;00m ZoneInfoNotFoundError(\u001b[33mf\u001b[39m\u001b[33m\"\u001b[39m\u001b[33mNo time zone found with key \u001b[39m\u001b[38;5;132;01m{\u001b[39;00mkey\u001b[38;5;132;01m}\u001b[39;00m\u001b[33m\"\u001b[39m)\n",
      "\u001b[31mZoneInfoNotFoundError\u001b[39m: 'No time zone found with key Buenos_Aires'"
     ]
    }
   ],
   "source": [
    "from zoneinfo import ZoneInfo\n",
    "from datetime import datetime, timezone\n",
    "\n",
    "# Crear aware datetime en zona específica\n",
    "dt_lima = datetime(2023, 3, 14, 12, 0, tzinfo=ZoneInfo(\"Buenos_Aires\"))\n",
    "\n",
    "# Obtener UTC y convertir\n",
    "dt_utc = datetime.now(timezone.utc)\n",
    "dt_from_utc_to_lima = dt_utc.astimezone(ZoneInfo(\"America/Lima\"))\n",
    "\n",
    "# Convertir un naive que sabemos que representa hora local 'America/Lima'\n",
    "naive = datetime(2023, 3, 14, 12, 0)\n",
    "# Mejor \"localizar\" explícitamente (si sabemos que la hora es de Lima):\n",
    "aware = naive.replace(tzinfo=ZoneInfo(\"America/Lima\"))  # OK si estamos seguros\n",
    "# Pero si naive viene en UTC, reemplazar será incorrecto — preferir construir directamente o usar astimezone correctamente."
   ]
  },
  {
   "cell_type": "markdown",
   "id": "a72a3632",
   "metadata": {},
   "source": [
    "**PITFALL común:** `replace(tzinfo=...)` *no cambia* la hora, solo le pega una etiqueta; usar `astimezone()` para convertir correctamente entre zonas cuando el datetime ya es aware.\n",
    "\n",
    "Para Python <3.9 se solía usar `pytz` (hoy `zoneinfo` es preferible).\n"
   ]
  },
  {
   "cell_type": "markdown",
   "id": "bbf0b985",
   "metadata": {},
   "source": [
    "# 7. Timestamps (epoch) y POSIX"
   ]
  },
  {
   "cell_type": "code",
   "execution_count": null,
   "id": "b80a2414",
   "metadata": {},
   "outputs": [],
   "source": [
    "import time\n",
    "from datetime import datetime, timezone\n",
    "\n",
    "# timestamp actual (segundos desde epoch UTC)\n",
    "ts = time.time()\n",
    "\n",
    "# de timestamp a datetime aware UTC\n",
    "dt = datetime.fromtimestamp(ts, tz=timezone.utc)\n",
    "\n",
    "# de datetime a timestamp\n",
    "ts2 = dt.timestamp()  # float segundos"
   ]
  },
  {
   "cell_type": "markdown",
   "id": "d66ac2a5",
   "metadata": {},
   "source": [
    "Recuerda: los timestamps son instantes absolutos (UTC)."
   ]
  },
  {
   "cell_type": "markdown",
   "id": "f546e220",
   "metadata": {},
   "source": [
    "# 8. Operaciones útiles y utilidades"
   ]
  },
  {
   "cell_type": "code",
   "execution_count": null,
   "id": "020fde63",
   "metadata": {},
   "outputs": [],
   "source": [
    "# Día de la semana\n",
    "d = date(2023, 3, 14)\n",
    "d.weekday()    # 0=Lunes, 6=Domingo\n",
    "d.isoweekday() # 1=Lunes, 7=Domingo\n",
    "\n",
    "# Combinar date + time -> datetime\n",
    "dt = datetime.combine(date(2023,3,14), time(9,30))\n",
    "\n",
    "# Reemplazar partes\n",
    "dt2 = dt.replace(year=2024, hour=10)\n",
    "\n",
    "# Comparaciones\n",
    "datetime(2023,1,1) < datetime(2023,2,1)  # True\n",
    "\n",
    "# Iterar fechas en rango\n",
    "start = date(2023,3,1)\n",
    "end = date(2023,3,5)\n",
    "days = [start + timedelta(days=i) for i in range((end - start).days + 1)]"
   ]
  },
  {
   "cell_type": "markdown",
   "id": "0ae1a802",
   "metadata": {},
   "source": [
    "# 9. Ejemplos prácticos completos\n",
    "\n",
    "### a) Calcular edad (años completos)"
   ]
  },
  {
   "cell_type": "code",
   "execution_count": null,
   "id": "f6786029",
   "metadata": {},
   "outputs": [],
   "source": [
    "from datetime import date\n",
    "\n",
    "def calcular_edad(fecha_nacimiento: date, hoy: date = None) -> int:\n",
    "    hoy = hoy or date.today()\n",
    "    edad = hoy.year - fecha_nacimiento.year - (\n",
    "        (hoy.month, hoy.day) < (fecha_nacimiento.month, fecha_nacimiento.day)\n",
    "    )\n",
    "    return edad\n",
    "\n",
    "# Uso:\n",
    "nac = date(1990, 5, 17)\n",
    "print(calcular_edad(nac))"
   ]
  },
  {
   "cell_type": "markdown",
   "id": "2df643da",
   "metadata": {},
   "source": [
    "### b) Próximo lunes (excluyendo hoy)"
   ]
  },
  {
   "cell_type": "code",
   "execution_count": null,
   "id": "42f7d8f7",
   "metadata": {},
   "outputs": [],
   "source": [
    "from datetime import date, timedelta\n",
    "\n",
    "def proximo_lunes(hoy: date = None) -> date:\n",
    "    hoy = hoy or date.today()\n",
    "    # weekday(): 0=Lunes\n",
    "    dias_a_adelantar = (0 - hoy.weekday()) % 7\n",
    "    if dias_a_adelantar == 0:\n",
    "        dias_a_adelantar = 7\n",
    "    return hoy + timedelta(days=dias_a_adelantar)"
   ]
  },
  {
   "cell_type": "markdown",
   "id": "c32ec523",
   "metadata": {},
   "source": [
    "### c) Diferencia en horas entre dos instantes aware"
   ]
  },
  {
   "cell_type": "code",
   "execution_count": null,
   "id": "e08550d3",
   "metadata": {},
   "outputs": [],
   "source": [
    "from datetime import datetime, timezone\n",
    "\n",
    "a = datetime(2023, 3, 14, 8, 0, tzinfo=timezone.utc)\n",
    "b = datetime(2023, 3, 14, 14, 30, tzinfo=timezone.utc)\n",
    "delta = b - a\n",
    "horas = delta.total_seconds() / 3600  # 6.5"
   ]
  },
  {
   "cell_type": "markdown",
   "id": "a52894e9",
   "metadata": {},
   "source": [
    "### d) Convertir ISO `...Z` a `datetime` aware"
   ]
  },
  {
   "cell_type": "code",
   "execution_count": null,
   "id": "15eef1d0",
   "metadata": {},
   "outputs": [],
   "source": [
    "from datetime import datetime, timezone\n",
    "\n",
    "iso_z = \"2023-03-14T12:00:00Z\"\n",
    "dt = datetime.fromisoformat(iso_z.replace(\"Z\", \"+00:00\"))\n",
    "# o con dateutil:\n",
    "# from dateutil import parser\n",
    "# dt = parser.isoparse(iso_z)"
   ]
  },
  {
   "cell_type": "markdown",
   "id": "8d94537b",
   "metadata": {},
   "source": [
    "# 10. Errores comunes y buenas prácticas\n",
    "\n",
    "* **No mezclar naive y aware** en operaciones.\n",
    "* **Trabaja en UTC internamente**, convierte a zona local solo para UI.\n",
    "* **Evita `replace(tzinfo=...)`** si no entiendes exactamente qué representa ese naive datetime.\n",
    "* **Usa `zoneinfo`** en Python moderno en lugar de `pytz`.\n",
    "* **Prefiere ISO 8601** para serializar (`.isoformat()`) y para APIs.\n",
    "* Para sumar meses/años usa **`relativedelta`** (dateutil).\n",
    "* Para parsing flexible (múltiples formatos) usa **`dateutil.parser.parse`**."
   ]
  },
  {
   "cell_type": "markdown",
   "id": "912d7e8b",
   "metadata": {},
   "source": [
    "\n",
    "# 11. Chuleta rápida (código frecuente)"
   ]
  },
  {
   "cell_type": "code",
   "execution_count": null,
   "id": "890109bf",
   "metadata": {},
   "outputs": [],
   "source": [
    "# Now UTC aware\n",
    "now = datetime.now(timezone.utc)\n",
    "\n",
    "# Parse ISO (con Z)\n",
    "dt = datetime.fromisoformat(\"2023-03-14T12:00:00+00:00\")\n",
    "\n",
    "# Format:\n",
    "s = now.strftime(\"%Y-%m-%dT%H:%M:%S%z\")\n",
    "\n",
    "# Timestamp -> datetime\n",
    "dt = datetime.fromtimestamp(1690000000, tz=timezone.utc)\n",
    "\n",
    "# datetime -> timestamp\n",
    "ts = dt.timestamp()"
   ]
  },
  {
   "cell_type": "markdown",
   "id": "e86cdf09",
   "metadata": {},
   "source": [
    "# 12. Herramientas adicionales útiles\n",
    "\n",
    "* `python-dateutil` (`dateutil`) — parsing flexible y `relativedelta`.\n",
    "* `pytz` — zonas históricas (antiguo, hoy `zoneinfo` es preferible).\n",
    "* `pendulum` — API amigable y manejo de zonas (opcional)."
   ]
  }
 ],
 "metadata": {
  "kernelspec": {
   "display_name": "Python 3",
   "language": "python",
   "name": "python3"
  },
  "language_info": {
   "codemirror_mode": {
    "name": "ipython",
    "version": 3
   },
   "file_extension": ".py",
   "mimetype": "text/x-python",
   "name": "python",
   "nbconvert_exporter": "python",
   "pygments_lexer": "ipython3",
   "version": "3.13.3"
  }
 },
 "nbformat": 4,
 "nbformat_minor": 5
}
