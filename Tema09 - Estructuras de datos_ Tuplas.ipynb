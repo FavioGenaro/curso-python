{
  "cells": [
    {
      "cell_type": "markdown",
      "metadata": {
        "id": "9SnH_Gggm6nf"
      },
      "source": [
        "# Estructuras de datos: Tuplas\n",
        "\n"
      ]
    },
    {
      "cell_type": "markdown",
      "metadata": {
        "id": "cWDNHdldE1mn"
      },
      "source": [
        "## Tupla\n",
        "\n",
        "La última estructura que veremos son las tuplas. Éstas son un conjunto de elementos, que pueden ser de distintos tipos, separados por comas y escritos entre paréntesis, `()`.\n",
        "\n",
        "Las tuplas son:\n",
        "- hetereogéneas: los elementos pueden ser de distinto tipo en una misma tupla\n",
        "- no mutables: los elementos no pueden ser modifcados una vez la tupla ha sido creado\n",
        "\n",
        "Un ejemplo de tupla sería"
      ]
    },
    {
      "cell_type": "code",
      "execution_count": null,
      "metadata": {
        "colab": {
          "base_uri": "https://localhost:8080/"
        },
        "id": "ZBKXsn2jm4lc",
        "outputId": "82cb9983-0248-4c77-c89b-f43acb8ce622"
      },
      "outputs": [
        {
          "name": "stdout",
          "output_type": "stream",
          "text": [
            "('Juan', 32, 'profesor', True)\n"
          ]
        }
      ],
      "source": [
        "# si conserva el orden en el que los elementos son colocados, pero se pueden modificar\n",
        "t = (\"Juan\", 32, \"profesor\", True)\n",
        "print(t)"
      ]
    },
    {
      "cell_type": "markdown",
      "metadata": {
        "id": "azkG1SyH1qFd"
      },
      "source": [
        "Podemos declarar una tupla sin necesidad indicar sus elementos entre paréntesis"
      ]
    },
    {
      "cell_type": "code",
      "execution_count": null,
      "metadata": {
        "colab": {
          "base_uri": "https://localhost:8080/"
        },
        "id": "EgV8V1qPoKHH",
        "outputId": "2c1f7ee5-7bcd-4177-aa73-4eb3a0384a60"
      },
      "outputs": [
        {
          "data": {
            "text/plain": [
              "tuple"
            ]
          },
          "execution_count": 2,
          "metadata": {
            "tags": []
          },
          "output_type": "execute_result"
        }
      ],
      "source": [
        "t = \"Juan\", 32, \"profesor\", True\n",
        "type(t)"
      ]
    },
    {
      "cell_type": "markdown",
      "metadata": {
        "id": "jHF7FBD45Mnj"
      },
      "source": [
        "Podemos declarar tuplas con la función `tuple()`"
      ]
    },
    {
      "cell_type": "code",
      "execution_count": null,
      "metadata": {
        "colab": {
          "base_uri": "https://localhost:8080/"
        },
        "id": "Ypkw8_2m5Qz8",
        "outputId": "118d0a21-58c0-4579-a424-83d0732578eb"
      },
      "outputs": [
        {
          "data": {
            "text/plain": [
              "tuple"
            ]
          },
          "execution_count": 3,
          "metadata": {
            "tags": []
          },
          "output_type": "execute_result"
        }
      ],
      "source": [
        "t = tuple((\"Juan\", 32, \"profesor\", True))\n",
        "type(t)"
      ]
    },
    {
      "cell_type": "code",
      "execution_count": null,
      "metadata": {
        "colab": {
          "base_uri": "https://localhost:8080/"
        },
        "id": "jVGmsMefQCnX",
        "outputId": "1d355411-1ed1-4655-de2e-c3704a7051ee"
      },
      "outputs": [
        {
          "data": {
            "text/plain": [
              "(1, 2, 3)"
            ]
          },
          "execution_count": 4,
          "metadata": {
            "tags": []
          },
          "output_type": "execute_result"
        }
      ],
      "source": [
        "# creamos una tupla en base a una lista\n",
        "tuple([1,2,3])"
      ]
    },
    {
      "cell_type": "markdown",
      "metadata": {},
      "source": [
        "# Ejercicio\n",
        "\n",
        "Vamos a pedirle al usuario el número de números enteros que va a introducir por teclado. Para cada uno de esos números, vamos a crear una tupla donde la primera entrada sea el número entero y, la segunda, la palabra \"positivo\", \"negativo\" o \"cero\" según el signo del número entero. Vamos a guardar todas las tuplas en una lista y las vamos a mostrar."
      ]
    },
    {
      "cell_type": "code",
      "execution_count": null,
      "metadata": {},
      "outputs": [
        {
          "name": "stdout",
          "output_type": "stream",
          "text": [
            "[(4, 'positivo'), (8, 'positivo')]\n"
          ]
        }
      ],
      "source": [
        "n = int(input(\"¿Cuántos números enteros vas a introducir? \"))\n",
        "nums = []\n",
        "\n",
        "for _ in range(n):\n",
        "  sign = \"\"\n",
        "  num = int(input())\n",
        "  if num > 0:\n",
        "    sign = \"positivo\"\n",
        "  elif num == 0:\n",
        "    sign = \"cero\"\n",
        "  else:\n",
        "    sign = \"negativo\"\n",
        "  # agregamos una tupla a la lista\n",
        "  nums.append((num, sign))\n",
        "\n",
        "print(nums)"
      ]
    },
    {
      "cell_type": "markdown",
      "metadata": {},
      "source": [
        "# Ejercicio\n",
        "\n",
        "Vamos a pedirle al usuario números enteros del 1 al 10 hasta que introduzca el 0. Para cada uno de esos números, vamos a crear una tupla donde la primera entrada sea el número entero y, la segunda, la palabra \"suspenso\", \"aprobado\", \"notable\" o \"excelente\" según el intervalo al que pertenezca el número entero. Vamos a mostrar la tupla recién creada al usuario.\n",
        "\n",
        "Las diferentes categorías son: \n",
        "* suspenso si la nota pertenece a [1, 5)\n",
        "* aprobado si la nota pertenece a [5, 7)\n",
        "* notable si la nota pertenece a [7, 9)\n",
        "* excelente si la nota pertenece a [9, 10]"
      ]
    },
    {
      "cell_type": "code",
      "execution_count": 2,
      "metadata": {},
      "outputs": [
        {
          "name": "stdout",
          "output_type": "stream",
          "text": [
            "(1, 'Suspenso')\n",
            "(5, 'Aprobado')\n",
            "(9, 'Excelente')\n",
            "(8, 'Notable')\n",
            "(2, 'Suspenso')\n"
          ]
        }
      ],
      "source": [
        "num = int(input(\"Introduce un número entero del 1 al 10 \"))\n",
        "\n",
        "while num != 0:\n",
        "  grade = \"\"\n",
        "  if num < 1:\n",
        "    print(\"Debes introducir un número entero entre 1 y 10\")\n",
        "  elif num < 5:\n",
        "    grade = \"Suspenso\"\n",
        "    print((num, grade))\n",
        "  elif num < 7:\n",
        "    grade = \"Aprobado\"\n",
        "    print((num, grade))\n",
        "  elif num < 9:\n",
        "    grade = \"Notable\"\n",
        "    print((num, grade))\n",
        "  elif num <= 10:\n",
        "    grade = \"Excelente\"\n",
        "    print((num, grade))\n",
        "  else:\n",
        "    print(\"Debes introducir un número entero entre 1 y 10\")\n",
        "\n",
        "  num = int(input(\"Introduce un número entero del 1 al 10 \"))"
      ]
    },
    {
      "cell_type": "markdown",
      "metadata": {},
      "source": [
        "# Ejercicio\n",
        "\n",
        "Dada una frase introducida por el usuario, vamos a crear una lista con 3 tuplas de 2 entradas. La primera tupla contendrá el número de vocales; la segunda, el número de consonantes; y la última, el número de espacios en blanco. Para cada tupla, la primera entrada será un string explicativo y, la segunda, el valor correspondiente."
      ]
    },
    {
      "cell_type": "code",
      "execution_count": 3,
      "metadata": {},
      "outputs": [
        {
          "name": "stdout",
          "output_type": "stream",
          "text": [
            "[('Vocales', 4), ('Consonantes', 5), ('Espacios', 1)]\n"
          ]
        }
      ],
      "source": [
        "s = input()\n",
        "s = s.lower()\n",
        "vowels = [\"a\", \"e\", \"i\", \"o\", \"u\"]\n",
        "\n",
        "vowels_count = 0\n",
        "consonants_count = 0\n",
        "blanks_count = 0\n",
        "\n",
        "# calculamos la cantidad de vocales, consonantes y espacios en blanco\n",
        "for c in s:\n",
        "  if c in vowels:\n",
        "    vowels_count += 1\n",
        "  elif c.isalpha(): # pertenence al alfabeto, ya sabiendo que no es una vocal por el if anterior\n",
        "    consonants_count += 1\n",
        "  elif c == \" \":\n",
        "    blanks_count += 1\n",
        "\n",
        "info = [(\"Vocales\", vowels_count), (\"Consonantes\", consonants_count), (\"Espacios\", blanks_count)]\n",
        "print(info)"
      ]
    },
    {
      "cell_type": "markdown",
      "metadata": {
        "id": "0jvzP1CX4EUV"
      },
      "source": [
        "### Elementos de una tupla\n",
        "\n",
        "Podemos acceder a los elementos de una tupla mediante el índice que ocupan con la sintaxis de claudator, `[]`"
      ]
    },
    {
      "cell_type": "code",
      "execution_count": null,
      "metadata": {
        "colab": {
          "base_uri": "https://localhost:8080/"
        },
        "id": "mkzAeYog4ekW",
        "outputId": "acdf8043-c818-4aab-9a15-859ba4abcb90"
      },
      "outputs": [
        {
          "name": "stdout",
          "output_type": "stream",
          "text": [
            "1\n",
            "i\n"
          ]
        }
      ],
      "source": [
        "t = 1, \"a\", 2, \"e\", 3, \"i\", 4, \"o\", 5, \"u\"\n",
        "# accedemos un elemento como una lista\n",
        "print(t[0])\n",
        "print(t[5])"
      ]
    },
    {
      "cell_type": "markdown",
      "metadata": {
        "id": "ggFp7EkM5gay"
      },
      "source": [
        "Al igual que con las listas, podemos acceder a los elementos de tuplas mediante el uso de índices negativos"
      ]
    },
    {
      "cell_type": "code",
      "execution_count": null,
      "metadata": {
        "colab": {
          "base_uri": "https://localhost:8080/"
        },
        "id": "AtJuXqs_5rYs",
        "outputId": "b77260cd-0876-4290-dfcf-7c4f0d1a5a03"
      },
      "outputs": [
        {
          "name": "stdout",
          "output_type": "stream",
          "text": [
            "u\n",
            "4\n"
          ]
        }
      ],
      "source": [
        "print(t[-1]) # ultimo elemento\n",
        "print(t[-4]) # 4to elemento contando desde el final"
      ]
    },
    {
      "cell_type": "markdown",
      "metadata": {
        "id": "7FYPM_Ql5mmF"
      },
      "source": [
        "Para acceder a múltiples entradas de una tupla a la vez, podemos utilizar la función `:` para indicar un intervalo de índices."
      ]
    },
    {
      "cell_type": "code",
      "execution_count": null,
      "metadata": {
        "colab": {
          "base_uri": "https://localhost:8080/"
        },
        "id": "lCEajhNu56Wj",
        "outputId": "c9ac55b9-746a-4d58-a766-7512b73b2436"
      },
      "outputs": [
        {
          "name": "stdout",
          "output_type": "stream",
          "text": [
            "(2, 'e', 3, 'i')\n",
            "(1, 'a', 2, 'e', 3)\n",
            "('i', 4, 'o', 5, 'u')\n"
          ]
        }
      ],
      "source": [
        "print(t[2:6]) # podemos acceder a un intervalo de la tupla\n",
        "print(t[:5]) # del 0 al 5 sin incluir al 5.\n",
        "print(t[5:])"
      ]
    },
    {
      "cell_type": "markdown",
      "metadata": {
        "id": "HOdamNux6CxX"
      },
      "source": [
        "**Observación.** Recordad que\n",
        "- el índice indicado tras los dos puntos, `:`, nunca es incluido.\n",
        "- si no se indica índice a la izquierda de `:`, se considera desde el índice 0 hasta el inmediatamente anterior al indicado a la derecha de `:`\n",
        "- si no se indica índice a la derecha de `:`, se considera desde el índice indicado a la izquierda de `:` hasta el último elemento\n",
        "\n",
        "También podemos usar índices negativos con la función `:`"
      ]
    },
    {
      "cell_type": "code",
      "execution_count": null,
      "metadata": {
        "colab": {
          "base_uri": "https://localhost:8080/"
        },
        "id": "tGJbYNaj6yXv",
        "outputId": "38336716-fe77-45d5-f5ab-22ffcc9b1685"
      },
      "outputs": [
        {
          "name": "stdout",
          "output_type": "stream",
          "text": [
            "('i', 4, 'o', 5)\n"
          ]
        }
      ],
      "source": [
        "# vamos desde el -5 al final de la tupla (-1)\n",
        "print(t[-5:-1])"
      ]
    },
    {
      "cell_type": "markdown",
      "metadata": {
        "id": "82ADCwpQ63OZ"
      },
      "source": [
        "Para saber si un elemento pertenece a una tupla, podemos usar la palabra clave `in`"
      ]
    },
    {
      "cell_type": "code",
      "execution_count": null,
      "metadata": {
        "colab": {
          "base_uri": "https://localhost:8080/"
        },
        "id": "s3aL1WAE6-Hb",
        "outputId": "d1de37e4-e106-4433-f1aa-c0d592be4cff"
      },
      "outputs": [
        {
          "name": "stdout",
          "output_type": "stream",
          "text": [
            "False\n",
            "True\n"
          ]
        }
      ],
      "source": [
        "# para saber si un elemento pertenece a la tupla\n",
        "print(6 in t)\n",
        "print(\"i\" in t)"
      ]
    },
    {
      "cell_type": "markdown",
      "metadata": {
        "id": "RHgvwsEo68Dn"
      },
      "source": [
        "Hemos dicho que las tuplas son inmutables. Esto es, una vez creada la tupla, sus elementos no pueden ser modificados"
      ]
    },
    {
      "cell_type": "code",
      "execution_count": null,
      "metadata": {
        "colab": {
          "base_uri": "https://localhost:8080/",
          "height": 191
        },
        "id": "ige9huaW7TGm",
        "outputId": "50cb937d-2fb1-4386-ac80-5c4efdef0c83"
      },
      "outputs": [
        {
          "ename": "TypeError",
          "evalue": "ignored",
          "output_type": "error",
          "traceback": [
            "\u001b[0;31m---------------------------------------------------------------------------\u001b[0m",
            "\u001b[0;31mTypeError\u001b[0m                                 Traceback (most recent call last)",
            "\u001b[0;32m<ipython-input-1-2447071d6b37>\u001b[0m in \u001b[0;36m<cell line: 2>\u001b[0;34m()\u001b[0m\n\u001b[1;32m      1\u001b[0m \u001b[0mt\u001b[0m \u001b[0;34m=\u001b[0m \u001b[0;34m\"Cereza\"\u001b[0m\u001b[0;34m,\u001b[0m \u001b[0;34m\"Manzana\"\u001b[0m\u001b[0;34m,\u001b[0m \u001b[0;34m\"Pera\"\u001b[0m\u001b[0;34m\u001b[0m\u001b[0;34m\u001b[0m\u001b[0m\n\u001b[0;32m----> 2\u001b[0;31m \u001b[0mt\u001b[0m\u001b[0;34m[\u001b[0m\u001b[0;36m1\u001b[0m\u001b[0;34m]\u001b[0m \u001b[0;34m=\u001b[0m \u001b[0;34m\"Kiwi\"\u001b[0m\u001b[0;34m\u001b[0m\u001b[0;34m\u001b[0m\u001b[0m\n\u001b[0m",
            "\u001b[0;31mTypeError\u001b[0m: 'tuple' object does not support item assignment"
          ]
        }
      ],
      "source": [
        "t = \"Cereza\", \"Manzana\", \"Pera\"\n",
        "# son inmutables\n",
        "t[1] = \"Kiwi\""
      ]
    },
    {
      "cell_type": "markdown",
      "metadata": {
        "id": "AsDSgoMX7jnB"
      },
      "source": [
        "Una alternativa sería convertir a lista, realizar la modificación y reconvertir a tupla"
      ]
    },
    {
      "cell_type": "code",
      "execution_count": null,
      "metadata": {
        "colab": {
          "base_uri": "https://localhost:8080/"
        },
        "id": "w-NmjgTQ7pul",
        "outputId": "a8bc89a0-380a-4922-b8f3-5cd47ee48a33"
      },
      "outputs": [
        {
          "name": "stdout",
          "output_type": "stream",
          "text": [
            "('Cereza', 'Kiwi', 'Pera')\n",
            "<class 'tuple'>\n"
          ]
        }
      ],
      "source": [
        "t = \"Cereza\", \"Manzana\", \"Pera\"\n",
        "# convertimos la lista en tupla\n",
        "t = list(t)\n",
        "# modicamos el valor\n",
        "t[1] = \"Kiwi\"\n",
        "# reconvertimos a tupla\n",
        "t = tuple(t)\n",
        "\n",
        "# no es muy conveniente hacer estas conversiones\n",
        "# una tupla usa menor espacio de memoria ya que no crece\n",
        "print(t)\n",
        "print(type(t))"
      ]
    },
    {
      "cell_type": "markdown",
      "metadata": {},
      "source": [
        "# Ejercicio\n",
        "\n",
        "Vamos a pedirle al usuario una asignatura (\"Mates\", \"Lengua\", \"Historia\", \"Informática\" o \"Música\") y la nota en dicha asignatura hasta que introduzca una asignatura diferente a las indicadas. El usuario puede repetir una asignatura tantas veces como quiera. La nota tendrá que ser del 1 al 10. Guardaremos la información (asignatura, nota) en una tupla. Las tuplas serán guardadas en una lista. Finalmente, para cada asignatura, vamos a mostrar la nota media."
      ]
    },
    {
      "cell_type": "code",
      "execution_count": null,
      "metadata": {},
      "outputs": [],
      "source": [
        "subjects = [\"Mates\", \"Lengua\", \"Historia\", \"Informática\", \"Música\"]\n",
        "grades = []\n",
        "\n",
        "print(subjects)\n",
        "s = input(\"Indica la asignatura: \")\n",
        "while s in subjects:\n",
        "  grade = int(input(\"Introduce la nota entre 1 y 10: \"))\n",
        "  grades.append((s, grade))\n",
        "  s = input(\"Indica la asignatura: \")\n",
        "\n",
        "# diccionario para guardar las notas\n",
        "means = {\"Mates\": [],\n",
        "          \"Lengua\": [],\n",
        "          \"Historia\": [],\n",
        "          \"Informática\": [],\n",
        "          \"Música\": []}\n",
        "\n",
        "# separamos las notas por asigantura\n",
        "for item in grades:\n",
        "  means[item[0]].append(item[1])\n",
        "\n",
        "# calculamos las medias\n",
        "print(\"\\n=== NOTAS MEDIAS ===\")\n",
        "for key, val in means.items():\n",
        "  print(\"La nota media de {} es {}\".format(key, \"desconocida\" if len(val) == 0 else sum(val) / len(val)))"
      ]
    },
    {
      "cell_type": "markdown",
      "metadata": {
        "id": "RvLRzO0k8FM4"
      },
      "source": [
        "## El método de unpacking\n",
        "\n",
        "Podemos extraer los valores de una tupla en variables. Este proceso es conocido como **unpacking**"
      ]
    },
    {
      "cell_type": "code",
      "execution_count": null,
      "metadata": {
        "colab": {
          "base_uri": "https://localhost:8080/"
        },
        "id": "hNUEnm4g8K-T",
        "outputId": "64a08118-aec0-447a-efa7-12c67a0bd119"
      },
      "outputs": [
        {
          "name": "stdout",
          "output_type": "stream",
          "text": [
            "<class 'tuple'>\n",
            "Cereza\n",
            "Kiwi\n",
            "Pera\n",
            "Naranja\n"
          ]
        }
      ],
      "source": [
        "fruits = \"Cereza\", \"Kiwi\", \"Pera\", \"Naranja\"\n",
        "print(type(fruits))\n",
        "# extraemos los valores de una tupla, como la destructuración en JS\n",
        "# Con paréntesis, auqneu es opcional\n",
        "(fruit1, fruit2, fruit3, fruit4) = fruits\n",
        "\n",
        "print(fruit1)\n",
        "print(fruit2)\n",
        "print(fruit3)\n",
        "print(fruit4)"
      ]
    },
    {
      "cell_type": "markdown",
      "metadata": {
        "id": "8mEHQ88_-lvP"
      },
      "source": [
        "Funciona igual si no declaramos las variables entre paréntesis."
      ]
    },
    {
      "cell_type": "code",
      "execution_count": null,
      "metadata": {
        "colab": {
          "base_uri": "https://localhost:8080/"
        },
        "id": "AfpWQF6e-fn3",
        "outputId": "d8e232fb-f04b-4d0d-c5cb-a020d8b4c2d6"
      },
      "outputs": [
        {
          "name": "stdout",
          "output_type": "stream",
          "text": [
            "<class 'tuple'>\n",
            "Cereza\n",
            "Kiwi\n",
            "Pera\n",
            "Naranja\n"
          ]
        }
      ],
      "source": [
        "fruits = \"Cereza\", \"Kiwi\", \"Pera\", \"Naranja\"\n",
        "print(type(fruits))\n",
        "\n",
        "# Sin paréntesis\n",
        "fruit1, fruit2, fruit3, fruit4 = fruits\n",
        "\n",
        "print(fruit1)\n",
        "print(fruit2)\n",
        "print(fruit3)\n",
        "print(fruit4)"
      ]
    },
    {
      "cell_type": "markdown",
      "metadata": {
        "id": "52_BTYnF8jMd"
      },
      "source": [
        "**¡Cuidado!** El número de variables debe coincidir con el número de elementos de la tupla. De lo contrario, debe usarse un asterisco para guardar los elementos restantes en una lista."
      ]
    },
    {
      "cell_type": "code",
      "execution_count": null,
      "metadata": {
        "colab": {
          "base_uri": "https://localhost:8080/"
        },
        "id": "VowWDVPC8ie9",
        "outputId": "1aff9d84-3309-40f8-dc29-303a5bf38bdd"
      },
      "outputs": [
        {
          "name": "stdout",
          "output_type": "stream",
          "text": [
            "Cereza\n",
            "Kiwi\n",
            "['Pera', 'Naranja']\n",
            "<class 'list'>\n"
          ]
        }
      ],
      "source": [
        "fruits = \"Cereza\", \"Kiwi\", \"Pera\", \"Naranja\"\n",
        "\n",
        "# el valor de *restFruits es el resto de valores de la tupla, pero como lista\n",
        "(fruit1, fruit2, *restFruits) = fruits\n",
        "\n",
        "print(fruit1)\n",
        "print(fruit2)\n",
        "print(restFruits)\n",
        "print(type(restFruits))"
      ]
    },
    {
      "cell_type": "markdown",
      "metadata": {
        "id": "ZuwLwYvD9HSO"
      },
      "source": [
        "**Observación.** Si el asterisco es añadido en alguna variable que no sea la última, `Python` almacenará tantos elementos en la lista como sea necesario para que el número de elementos restantes coincida con el número de variables restantes."
      ]
    },
    {
      "cell_type": "code",
      "execution_count": null,
      "metadata": {
        "colab": {
          "base_uri": "https://localhost:8080/"
        },
        "id": "Ne3NaA4t9U6f",
        "outputId": "bf483fd2-17c5-417c-a27b-c7ad6c1ebe48"
      },
      "outputs": [
        {
          "name": "stdout",
          "output_type": "stream",
          "text": [
            "Cereza\n",
            "['Kiwi', 'Pera', 'Naranja', 'Melocotón']\n",
            "Sandía\n",
            "Melón\n"
          ]
        }
      ],
      "source": [
        "fruits = \"Cereza\", \"Kiwi\", \"Pera\", \"Naranja\", \"Melocotón\", \"Sandía\", \"Melón\"\n",
        "\n",
        "# aqui *restFruits guarda los valores necesarios para cubrir los valores faltantes\n",
        "# extraemos el primer valor y los dos ultimos\n",
        "(fruit1, *restFruits, fruit2, fruit3) = fruits\n",
        "\n",
        "print(fruit1)\n",
        "print(restFruits)\n",
        "print(fruit2)\n",
        "print(fruit3)"
      ]
    },
    {
      "cell_type": "code",
      "execution_count": null,
      "metadata": {
        "colab": {
          "base_uri": "https://localhost:8080/"
        },
        "id": "KqRXtbsIUhXf",
        "outputId": "41e280d9-bc30-4319-e233-c9aad9ab474d"
      },
      "outputs": [
        {
          "name": "stdout",
          "output_type": "stream",
          "text": [
            "4\n"
          ]
        }
      ],
      "source": [
        "# _ indica que esa variable no será retornada, para no guardarla en memoria\n",
        "# en este ejemplo, solo necesitamos el primero y ultimo elemento\n",
        "punto = (1, 2, 3)\n",
        "x, _, z = punto\n",
        "print(x + z)"
      ]
    },
    {
      "cell_type": "code",
      "execution_count": null,
      "metadata": {
        "colab": {
          "base_uri": "https://localhost:8080/"
        },
        "id": "2lXnVnBrU_U_",
        "outputId": "f7269ba2-10aa-4c57-969f-42c885ec12f7"
      },
      "outputs": [
        {
          "name": "stdout",
          "output_type": "stream",
          "text": [
            "Cereza\n",
            "Sandía\n",
            "Melón\n"
          ]
        }
      ],
      "source": [
        "fruits = \"Cereza\", \"Kiwi\", \"Pera\", \"Naranja\", \"Melocotón\", \"Sandía\", \"Melón\"\n",
        "\n",
        "# tambien se puede usar con el *\n",
        "(fruit1, *_, fruit2, fruit3) = fruits\n",
        "\n",
        "print(fruit1)\n",
        "print(fruit2)\n",
        "print(fruit3)"
      ]
    },
    {
      "cell_type": "markdown",
      "metadata": {},
      "source": [
        "# Ejercicio\n",
        "\n",
        "Vamos a pedirle al usuario el número de puntos de un plano que quiere introducir. Para cada punto, vamos a solicitarle las coordenadas x e y. Guardaremos las coordenadas (x, y) en tuplas de tamaño 3, donde la última entrada se corresponde con el cuadrante al que pertenece dicho punto. Todas las tuplas de tamaño 3 serán guardadas en una lista. Finalmente, mostraremos todas las tuplas de tamaño 3 creadas, con el formato \"El punto ({x}, {y}) pertenece al cuadrante {cuadrante}\""
      ]
    },
    {
      "cell_type": "code",
      "execution_count": null,
      "metadata": {},
      "outputs": [],
      "source": [
        "n = int(input(\"¿Cuántos puntos vas a introducir? \"))\n",
        "points = []\n",
        "\n",
        "for i in range(n):\n",
        "  x = float(input(\"Indica la coordenada x = \"))\n",
        "  y = float(input(\"Indica la coordenada y = \"))\n",
        "\n",
        "  if x >= 0 and y >= 0:\n",
        "    quadrant = \"I\"\n",
        "  if x <= 0 and y >= 0:\n",
        "    quadrant = \"II\"\n",
        "  if x <= 0 and y <= 0:\n",
        "    quadrant = \"III\"\n",
        "  if x >= 0 and y <= 0:\n",
        "    quadrant = \"IV\"\n",
        "  if x == 0 and y == 0:\n",
        "    quadrant = \"center\"\n",
        "\n",
        "  points.append((x, y, quadrant))\n",
        "\n",
        "for point in points:\n",
        "  x, y, quadrant = point\n",
        "  print(\"El punto ({}, {}) pertenece al cuadrante {}\".format(x, y, quadrant))"
      ]
    },
    {
      "cell_type": "markdown",
      "metadata": {
        "id": "hOoD2y0A2AWJ"
      },
      "source": [
        "## Concatenación de tuplas\n",
        "\n",
        "Podemos concatenar tuplas con la función `+`, aunque el resultado será una nueva tupla, ya que recordemos éstas no pueden ser modificadas"
      ]
    },
    {
      "cell_type": "code",
      "execution_count": null,
      "metadata": {
        "colab": {
          "base_uri": "https://localhost:8080/"
        },
        "id": "eJ9czwEz2PEt",
        "outputId": "7064f313-c1bf-4b1b-832f-c73db806c354"
      },
      "outputs": [
        {
          "data": {
            "text/plain": [
              "(1, 3, 2, 4)"
            ]
          },
          "execution_count": 20,
          "metadata": {
            "tags": []
          },
          "output_type": "execute_result"
        }
      ],
      "source": [
        "t1 = 1, 3\n",
        "t2 = 2, 4\n",
        "\n",
        "# unimos tuplas, creamos una nueva tupla, no modificamos ninguna\n",
        "t1 + t2"
      ]
    },
    {
      "cell_type": "markdown",
      "metadata": {
        "id": "t5r86inx_QYN"
      },
      "source": [
        "## Repetición de tuplas\n",
        "\n",
        "Podemos repetir tuplas un número $n$ de veces con la función `*`"
      ]
    },
    {
      "cell_type": "code",
      "execution_count": null,
      "metadata": {
        "colab": {
          "base_uri": "https://localhost:8080/"
        },
        "id": "Zyxm0I7R_Vkm",
        "outputId": "f5998e44-74c2-4ef2-86e7-8e102df2b594"
      },
      "outputs": [
        {
          "data": {
            "text/plain": [
              "('a', 'b', 'c', 'a', 'b', 'c', 'a', 'b', 'c', 'a', 'b', 'c', 'a', 'b', 'c')"
            ]
          },
          "execution_count": 22,
          "metadata": {
            "tags": []
          },
          "output_type": "execute_result"
        }
      ],
      "source": [
        "t = (\"a\", \"b\", \"c\")\n",
        "t * 5 # generamos una nueva tupla"
      ]
    },
    {
      "cell_type": "markdown",
      "metadata": {
        "id": "8cVAvhtB12vG"
      },
      "source": [
        "## Tamaño de una tupla\n",
        "\n",
        "Podemos calcular el número de elementos de una tupla con la función `len()`"
      ]
    },
    {
      "cell_type": "code",
      "execution_count": null,
      "metadata": {
        "colab": {
          "base_uri": "https://localhost:8080/"
        },
        "id": "wfRHI-wP10Hi",
        "outputId": "07055568-8fc2-4f8e-fb83-adf3e1c5d8f9"
      },
      "outputs": [
        {
          "data": {
            "text/plain": [
              "4"
            ]
          },
          "execution_count": 23,
          "metadata": {
            "tags": []
          },
          "output_type": "execute_result"
        }
      ],
      "source": [
        "t = \"Juan\", 32, \"profesor\", True\n",
        "# cantidad de elementos de una tupla\n",
        "len(t)"
      ]
    },
    {
      "cell_type": "markdown",
      "metadata": {
        "id": "fGBWU-nY4x9s"
      },
      "source": [
        "**¡Cuidado!** Si quisiésemos crear una tupla de un solo elemento, tendríamos que hacer lo siguiente"
      ]
    },
    {
      "cell_type": "code",
      "execution_count": null,
      "metadata": {
        "colab": {
          "base_uri": "https://localhost:8080/"
        },
        "id": "6Qf9hv-V1-UQ",
        "outputId": "e1d0aa9d-3fd9-4789-9ca7-7163d85a6879"
      },
      "outputs": [
        {
          "name": "stdout",
          "output_type": "stream",
          "text": [
            "<class 'tuple'>\n",
            "<class 'str'>\n"
          ]
        }
      ],
      "source": [
        "# tupla de una solo elemento, siendo obligatoria colocar la ,\n",
        "t1 = (\"manzana\", )\n",
        "print(type(t1))\n",
        "\n",
        "# Lo siguiente no es una tupla\n",
        "# lo considera una string\n",
        "t2 = (\"manzana\")\n",
        "print(type(t2))"
      ]
    },
    {
      "cell_type": "markdown",
      "metadata": {
        "id": "Jgmm54cF9nfa"
      },
      "source": [
        "## Bucles y tuplas\n",
        "\n",
        "Podemos iterar una tupla utilizando un bucle `for`\n",
        "\n"
      ]
    },
    {
      "cell_type": "code",
      "execution_count": null,
      "metadata": {
        "colab": {
          "base_uri": "https://localhost:8080/"
        },
        "id": "bDuaGS9q5Fdn",
        "outputId": "4b2902bb-ca4d-4b6b-f01e-f3d5599c95d0"
      },
      "outputs": [
        {
          "name": "stdout",
          "output_type": "stream",
          "text": [
            "Cereza\n",
            "Kiwi\n",
            "Pera\n",
            "Naranja\n",
            "Melocotón\n",
            "Sandía\n",
            "Melón\n"
          ]
        }
      ],
      "source": [
        "fruits = \"Cereza\", \"Kiwi\", \"Pera\", \"Naranja\", \"Melocotón\", \"Sandía\", \"Melón\"\n",
        "\n",
        "# iteramos la tupla, este si mantiene el orden\n",
        "for fruit in fruits:\n",
        "  print(fruit)"
      ]
    },
    {
      "cell_type": "markdown",
      "metadata": {
        "id": "C7PDctpj-ARY"
      },
      "source": [
        "También podemos usar la técnica de unpacking en los bucles"
      ]
    },
    {
      "cell_type": "code",
      "execution_count": null,
      "metadata": {
        "colab": {
          "base_uri": "https://localhost:8080/"
        },
        "id": "T2om7z4W-EZe",
        "outputId": "84a3a44b-2f6a-413d-c3c9-c404e0eba892"
      },
      "outputs": [
        {
          "name": "stdout",
          "output_type": "stream",
          "text": [
            "La cereza es roja\n",
            "El color del kiwi es amarillo\n",
            "La pera es verde\n",
            "La naranja es naranja\n"
          ]
        }
      ],
      "source": [
        "t = (\"cereza\", \"roja\"), (\"kiwi\", \"amarillo\"), (\"pera\", \"verde\"), (\"naranja\", \"naranja\")\n",
        "\n",
        "# t es una tupla de tuplas, donde se puede destructurar los valores de las tuplas internas\n",
        "for fruit, color in t:\n",
        "  if fruit == \"kiwi\":\n",
        "    print(\"El color del\", fruit, \"es\", color)\n",
        "  else:\n",
        "    print(\"La {} es {}\".format(fruit, color))\n"
      ]
    },
    {
      "cell_type": "markdown",
      "metadata": {
        "id": "n07EGY5C_otr"
      },
      "source": [
        "## Tuplas y el resto de estructuras de datos\n",
        "\n",
        "Una tupla puede contener listas, diccionarios, conjuntos y tuplas"
      ]
    },
    {
      "cell_type": "code",
      "execution_count": null,
      "metadata": {
        "colab": {
          "base_uri": "https://localhost:8080/"
        },
        "id": "Bm2ldHvo_wXq",
        "outputId": "756f7071-ebd8-4ae1-d5c7-40456f65cac7"
      },
      "outputs": [
        {
          "data": {
            "text/plain": [
              "tuple"
            ]
          },
          "execution_count": 25,
          "metadata": {
            "tags": []
          },
          "output_type": "execute_result"
        }
      ],
      "source": [
        "t = [4, 5, 6], {\"vowels\": (\"a\", \"e\", \"i\", \"o\", \"u\")}, {1, 2, 3}, (\"x\", \"y\")\n",
        "type(t)"
      ]
    },
    {
      "cell_type": "markdown",
      "metadata": {
        "id": "c3H2B1mrACa8"
      },
      "source": [
        "Asimismo,\n",
        "\n",
        "- las listas pueden contener diccionarios, conjuntos, tuplas y otras listas\n",
        "- los diccionarios pueden contener listas, conjuntos, tuplas y otros diccionarios\n",
        "- los conjuntos no pueden contener ni listas, ni diccionarios, ni tuplas, ni siquiera otros conjuntos"
      ]
    },
    {
      "cell_type": "code",
      "execution_count": null,
      "metadata": {
        "colab": {
          "base_uri": "https://localhost:8080/"
        },
        "id": "-cUGb42k_8M6",
        "outputId": "cf787f6e-356f-4d4e-f77e-7ff1c11f139b"
      },
      "outputs": [
        {
          "data": {
            "text/plain": [
              "list"
            ]
          },
          "execution_count": 26,
          "metadata": {
            "tags": []
          },
          "output_type": "execute_result"
        }
      ],
      "source": [
        "l = [{\"vowels\": (\"a\", \"e\", \"i\", \"o\", \"u\")}, {1, 2, 3}, (\"x\", \"y\"), [4, 5, 6]]\n",
        "type(l)"
      ]
    },
    {
      "cell_type": "code",
      "execution_count": null,
      "metadata": {
        "colab": {
          "base_uri": "https://localhost:8080/"
        },
        "id": "IaG9qvw6AhLN",
        "outputId": "b6347018-49b6-496f-b99a-7453dae54b59"
      },
      "outputs": [
        {
          "data": {
            "text/plain": [
              "dict"
            ]
          },
          "execution_count": 27,
          "metadata": {
            "tags": []
          },
          "output_type": "execute_result"
        }
      ],
      "source": [
        "dicc = {\"list\": [4, 5, 6], \"set\": {1, 2, 3}, \"tuple\": (\"x\", \"y\"), \"dict\": {\"vowels\": (\"a\", \"e\", \"i\", \"o\", \"u\")}}\n",
        "type(dicc)"
      ]
    },
    {
      "cell_type": "code",
      "execution_count": null,
      "metadata": {
        "colab": {
          "base_uri": "https://localhost:8080/",
          "height": 164
        },
        "id": "jhFHtaK3ApJj",
        "outputId": "26028edd-1f30-473e-bb39-f6c0238da2c6"
      },
      "outputs": [
        {
          "ename": "TypeError",
          "evalue": "ignored",
          "output_type": "error",
          "traceback": [
            "\u001b[0;31m---------------------------------------------------------------------------\u001b[0m",
            "\u001b[0;31mTypeError\u001b[0m                                 Traceback (most recent call last)",
            "\u001b[0;32m<ipython-input-28-1f946b14eaa4>\u001b[0m in \u001b[0;36m<module>\u001b[0;34m()\u001b[0m\n\u001b[0;32m----> 1\u001b[0;31m \u001b[0mset1\u001b[0m \u001b[0;34m=\u001b[0m \u001b[0;34m{\u001b[0m\u001b[0;34m[\u001b[0m\u001b[0;36m4\u001b[0m\u001b[0;34m,\u001b[0m \u001b[0;36m5\u001b[0m\u001b[0;34m,\u001b[0m \u001b[0;36m6\u001b[0m\u001b[0;34m]\u001b[0m\u001b[0;34m,\u001b[0m \u001b[0;34m{\u001b[0m\u001b[0;34m\"vowels\"\u001b[0m\u001b[0;34m:\u001b[0m \u001b[0;34m(\u001b[0m\u001b[0;34m\"a\"\u001b[0m\u001b[0;34m,\u001b[0m \u001b[0;34m\"e\"\u001b[0m\u001b[0;34m,\u001b[0m \u001b[0;34m\"i\"\u001b[0m\u001b[0;34m,\u001b[0m \u001b[0;34m\"o\"\u001b[0m\u001b[0;34m,\u001b[0m \u001b[0;34m\"u\"\u001b[0m\u001b[0;34m)\u001b[0m\u001b[0;34m}\u001b[0m\u001b[0;34m,\u001b[0m \u001b[0;34m(\u001b[0m\u001b[0;34m\"x\"\u001b[0m\u001b[0;34m,\u001b[0m \u001b[0;34m\"y\"\u001b[0m\u001b[0;34m)\u001b[0m\u001b[0;34m,\u001b[0m \u001b[0;34m{\u001b[0m\u001b[0;36m1\u001b[0m\u001b[0;34m,\u001b[0m \u001b[0;36m2\u001b[0m\u001b[0;34m,\u001b[0m \u001b[0;36m3\u001b[0m\u001b[0;34m}\u001b[0m\u001b[0;34m}\u001b[0m\u001b[0;34m\u001b[0m\u001b[0;34m\u001b[0m\u001b[0m\n\u001b[0m",
            "\u001b[0;31mTypeError\u001b[0m: unhashable type: 'list'"
          ]
        }
      ],
      "source": [
        "# un conjunto no puede tener una lista, diccionario, tupla ni otros conjuntos\n",
        "set1 = {[4, 5, 6], {\"vowels\": (\"a\", \"e\", \"i\", \"o\", \"u\")}, (\"x\", \"y\"), {1, 2, 3}}"
      ]
    },
    {
      "cell_type": "markdown",
      "metadata": {
        "id": "-XbkR_4FCCxL"
      },
      "source": [
        "Dado cualquier objeto iterable en `Python`, lo podemos convertir a tupla con la función `tuple()`"
      ]
    },
    {
      "cell_type": "code",
      "execution_count": null,
      "metadata": {
        "colab": {
          "base_uri": "https://localhost:8080/"
        },
        "id": "f84wF6YvA-Bj",
        "outputId": "987ec295-9ec7-460c-f4cb-f07fae392c2f"
      },
      "outputs": [
        {
          "name": "stdout",
          "output_type": "stream",
          "text": [
            "({'vowels': ('a', 'e', 'i', 'o', 'u')}, {1, 2, 3}, ('x', 'y'), [4, 5, 6])\n",
            "<class 'tuple'>\n",
            "('list', 'set', 'tuple', 'dict')\n",
            "<class 'tuple'>\n",
            "(1, 2, 3, 4, 5)\n",
            "<class 'tuple'>\n"
          ]
        }
      ],
      "source": [
        "print(tuple(l)) # A partir de una lista\n",
        "print(type(tuple(l)))\n",
        "\n",
        "# convertimos un diccionario a tupla\n",
        "print(tuple(dicc)) # A partir de un diccionario solo se guardan las claves en la tupla\n",
        "print(type(tuple(dicc)))\n",
        "\n",
        "print(tuple({1, 2, 3, 4, 5})) # A partir de un conjunto\n",
        "print(type(tuple({1, 2, 3, 4, 5})))"
      ]
    },
    {
      "cell_type": "markdown",
      "metadata": {
        "id": "Eupw4D2REOzG"
      },
      "source": [
        "## La función `zip()`"
      ]
    },
    {
      "cell_type": "markdown",
      "metadata": {
        "id": "ImiToMNbumTy"
      },
      "source": [
        "La función `zip()` sirve para juntar listas en tuplas"
      ]
    },
    {
      "cell_type": "code",
      "execution_count": null,
      "metadata": {
        "colab": {
          "base_uri": "https://localhost:8080/"
        },
        "id": "yrnUv58XCMeM",
        "outputId": "7d08c007-5d2c-4aee-9f80-3a5c191a4791"
      },
      "outputs": [
        {
          "name": "stdout",
          "output_type": "stream",
          "text": [
            "<zip object at 0x000002BE2363B280>\n"
          ]
        }
      ],
      "source": [
        "objects = [\"libreta\", \"pluma\", \"portaminas\", \"pack_minas\"]\n",
        "price = [5.00, 3.30, 1.29, 0.50]\n",
        "items = zip(objects, price) # relaciona los elementos segun su posición, uniendolos en tuplas\n",
        "print(items) # retorna un zip object con la posición de memoria que ocupa la variable"
      ]
    },
    {
      "cell_type": "markdown",
      "metadata": {
        "id": "46jwnFIhu-Os"
      },
      "source": [
        "Podemos convertir el resultado de una función `zip()` a una lista"
      ]
    },
    {
      "cell_type": "code",
      "execution_count": null,
      "metadata": {
        "colab": {
          "base_uri": "https://localhost:8080/"
        },
        "id": "UIopJ6u3u6jn",
        "outputId": "a1c85855-00c6-4239-fe2a-d92aace0d0a1"
      },
      "outputs": [
        {
          "data": {
            "text/plain": [
              "[('libreta', 5.0), ('pluma', 3.3), ('portaminas', 1.29), ('pack_minas', 0.5)]"
            ]
          },
          "execution_count": 31,
          "metadata": {
            "tags": []
          },
          "output_type": "execute_result"
        }
      ],
      "source": [
        "items = zip(objects, price)\n",
        "# converimos a una lista, esta resulta ser una lista de tuplas\n",
        "list(items)"
      ]
    },
    {
      "cell_type": "markdown",
      "metadata": {
        "id": "RhFWwq51vG05"
      },
      "source": [
        "Podemos convertir el resultado de una función `zip()` a un diccionario"
      ]
    },
    {
      "cell_type": "code",
      "execution_count": null,
      "metadata": {
        "colab": {
          "base_uri": "https://localhost:8080/"
        },
        "id": "qFC9qlKAvEh2",
        "outputId": "405d6522-1ea6-4e20-cac0-c12ddeff7a49"
      },
      "outputs": [
        {
          "data": {
            "text/plain": [
              "{'libreta': 5.0, 'pack_minas': 0.5, 'pluma': 3.3, 'portaminas': 1.29}"
            ]
          },
          "execution_count": 32,
          "metadata": {
            "tags": []
          },
          "output_type": "execute_result"
        }
      ],
      "source": [
        "items = zip(objects, price)\n",
        "# tambien puede ser un diccionario\n",
        "dict(items)"
      ]
    },
    {
      "cell_type": "markdown",
      "metadata": {
        "id": "JNSkhZN5vOi6"
      },
      "source": [
        "**¡Cuidado!** Hay que crear de nuevo el objeto `zip()`, pues el resultado de esta función es un iterador y, una vez ha sido convertido a lista, diccionario o tupla, se considera una iteración completa y no será capaz de generar más valores.\n",
        "\n",
        "Podemos convertir el resultado de una función `zip()` a una tupla:"
      ]
    },
    {
      "cell_type": "code",
      "execution_count": null,
      "metadata": {
        "colab": {
          "base_uri": "https://localhost:8080/"
        },
        "id": "Kbfo9aebvjAp",
        "outputId": "10474222-1dc7-4bb5-a5bc-d7a5284ee42b"
      },
      "outputs": [
        {
          "data": {
            "text/plain": [
              "(('libreta', 5.0), ('pluma', 3.3), ('portaminas', 1.29), ('pack_minas', 0.5))"
            ]
          },
          "execution_count": 33,
          "metadata": {
            "tags": []
          },
          "output_type": "execute_result"
        }
      ],
      "source": [
        "items = zip(objects, price)\n",
        "# convertimos otra tupla\n",
        "tuple(items)"
      ]
    },
    {
      "cell_type": "code",
      "execution_count": null,
      "metadata": {
        "colab": {
          "base_uri": "https://localhost:8080/"
        },
        "id": "kMDeWQyV4xOK",
        "outputId": "5aa793ff-fc03-403d-848d-b90aae213d3c"
      },
      "outputs": [
        {
          "name": "stdout",
          "output_type": "stream",
          "text": [
            "El objeto libreta cuesta 5.0 €.\n",
            "El objeto pluma cuesta 3.3 €.\n",
            "El objeto portaminas cuesta 1.29 €.\n",
            "El objeto pack_minas cuesta 0.5 €.\n"
          ]
        }
      ],
      "source": [
        "# el objeto zip se puede iterar y destructurar porque los elementos son tuplas\n",
        "for obj, pr in zip(objects, price):\n",
        "    print(\"El objeto {} cuesta {} €.\".format(obj, pr))"
      ]
    },
    {
      "cell_type": "markdown",
      "metadata": {},
      "source": [
        "# Ejercicio\n",
        "\n",
        "Dada una lista de palabras, vamos a crear otra lista del mismo tamaño que guarde la primera letra de cada palabra en la posición correspondiente. Por último, con la función `zip()` crearemos una tupla de tuplas con la palabra en la primera entrada y la letra con la que empieza, en la segunda."
      ]
    },
    {
      "cell_type": "code",
      "execution_count": null,
      "metadata": {
        "id": "ExfDL_Wp43Gw"
      },
      "outputs": [
        {
          "name": "stdout",
          "output_type": "stream",
          "text": [
            "(('ola', 'o'), ('caracola', 'c'), ('piña', 'p'), ('playa', 'p'), ('barbacoa', 'b'), ('ventana', 'v'), ('mosca', 'm'))\n"
          ]
        }
      ],
      "source": [
        "words = [\"ola\", \"caracola\", \"piña\", \"playa\", \"barbacoa\", \"ventana\", \"mosca\"]\n",
        "first_letters = []\n",
        "\n",
        "for w in words:\n",
        "  # optenemos la primera letra de cada palabra\n",
        "  first_letters.append(w[0])\n",
        "\n",
        "print(tuple(zip(words, first_letters)))"
      ]
    }
  ],
  "metadata": {
    "colab": {
      "provenance": []
    },
    "kernelspec": {
      "display_name": "Python 3",
      "name": "python3"
    },
    "language_info": {
      "codemirror_mode": {
        "name": "ipython",
        "version": 3
      },
      "file_extension": ".py",
      "mimetype": "text/x-python",
      "name": "python",
      "nbconvert_exporter": "python",
      "pygments_lexer": "ipython3",
      "version": "3.13.3"
    }
  },
  "nbformat": 4,
  "nbformat_minor": 0
}
